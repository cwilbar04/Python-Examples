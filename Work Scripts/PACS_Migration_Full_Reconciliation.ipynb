{
 "cells": [
  {
   "cell_type": "code",
   "execution_count": null,
   "metadata": {
    "scrolled": true
   },
   "outputs": [],
   "source": [
    "import sqlite3 as sq\n",
    "import pandas as pd\n",
    "import numpy as np\n",
    "cnx = sq.connect('test.db')\n",
    "cur = cnx.cursor()"
   ]
  },
  {
   "cell_type": "markdown",
   "metadata": {},
   "source": [
    "## START HERE AFTER INITIAL SETUP (SEE END)"
   ]
  },
  {
   "cell_type": "code",
   "execution_count": null,
   "metadata": {
    "scrolled": true
   },
   "outputs": [],
   "source": [
    "#Merged Data\n",
    "df = tempmerge"
   ]
  },
  {
   "cell_type": "code",
   "execution_count": null,
   "metadata": {
    "scrolled": true
   },
   "outputs": [],
   "source": [
    "#  PACS1 v.3\n",
    "df = pd.read_sql_query(\"\"\"SELECT * FROM xsvanalysis5;\"\"\", cnx)"
   ]
  },
  {
   "cell_type": "code",
   "execution_count": null,
   "metadata": {
    "scrolled": true
   },
   "outputs": [],
   "source": [
    "# site1 PACS1 v.1\n",
    "df = pd.read_sql_query(\"\"\"SELECT * FROM site1PACS12;\"\"\", cnx)"
   ]
  },
  {
   "cell_type": "code",
   "execution_count": null,
   "metadata": {
    "scrolled": false
   },
   "outputs": [],
   "source": [
    "df.shape"
   ]
  },
  {
   "cell_type": "code",
   "execution_count": null,
   "metadata": {
    "scrolled": true
   },
   "outputs": [],
   "source": [
    "df.loc[:,'seriesuid'][df['suid']=='1.3.46.670589.28.11411431744520110603140406720513']"
   ]
  },
  {
   "cell_type": "code",
   "execution_count": null,
   "metadata": {
    "scrolled": true
   },
   "outputs": [],
   "source": [
    "df.head()"
   ]
  },
  {
   "cell_type": "code",
   "execution_count": null,
   "metadata": {
    "scrolled": true
   },
   "outputs": [],
   "source": [
    "df.columns"
   ]
  },
  {
   "cell_type": "code",
   "execution_count": null,
   "metadata": {
    "scrolled": true
   },
   "outputs": [],
   "source": [
    "df.dtypes"
   ]
  },
  {
   "cell_type": "code",
   "execution_count": null,
   "metadata": {
    "scrolled": true
   },
   "outputs": [],
   "source": [
    "df['ALL_MATCH'].replace(np.NaN,'NO MATCH',inplace=True)\n",
    "df['PACS2_PACS1_MATCH'].replace(np.NaN,'NO MATCH',inplace=True)\n",
    "df['PACS1_VNA_MATCH'].replace(np.NaN,'NO MATCH',inplace=True)\n",
    "df['PACS2_VNA_MATCH'].replace(np.NaN,'NO MATCH',inplace=True)\n",
    "df.replace(np.NaN,'NONE',inplace=True)"
   ]
  },
  {
   "cell_type": "code",
   "execution_count": null,
   "metadata": {
    "scrolled": true
   },
   "outputs": [],
   "source": [
    "df.sort_values(['NUM_OBJECTS_STUDY_PACS2','ST_IMAGES_STUDY'], ascending=False, inplace=True)"
   ]
  },
  {
   "cell_type": "code",
   "execution_count": null,
   "metadata": {
    "scrolled": true
   },
   "outputs": [],
   "source": [
    "#Use for Deidentified Data\n",
    "dfdeidentified = df.drop(['PATIENT_ID_PACS2','patID','ST_PATIENT_ID','ACCESSION_NUMBER_PACS2','ST_ACCESSIONNUMBER','STUDY_DATE_PACS2', 'studydate', 'ST_DATE', 'STUDY_DESCRIPTION_PACS2', 'PATIENT_NAME_PACS2','PT_DICOMFAMILYNAMECOMPLEX'], axis=1)\n",
    "df1 = dfdeidentified.drop_duplicates(subset='suid',keep='first').copy()\n",
    "df1.shape"
   ]
  },
  {
   "cell_type": "code",
   "execution_count": null,
   "metadata": {
    "scrolled": true
   },
   "outputs": [],
   "source": [
    "#Use for Non-Deidentified Data\n",
    "df1 = df.drop_duplicates(subset='suid',keep='first').copy()\n",
    "df1.shape"
   ]
  },
  {
   "cell_type": "code",
   "execution_count": null,
   "metadata": {
    "scrolled": true
   },
   "outputs": [],
   "source": [
    "df1.suid.duplicated().any()"
   ]
  },
  {
   "cell_type": "code",
   "execution_count": null,
   "metadata": {
    "scrolled": true
   },
   "outputs": [],
   "source": [
    "dfmaster = df1.copy()\n",
    "dfmaster['Status'] = 'NEEDS_ATTENTION'\n",
    "dfmaster['Notes'] = 'None'\n",
    "dfmaster.dtypes"
   ]
  },
  {
   "cell_type": "code",
   "execution_count": null,
   "metadata": {
    "scrolled": true
   },
   "outputs": [],
   "source": [
    "df1[df1['num_objects_study']==0].count()"
   ]
  },
  {
   "cell_type": "code",
   "execution_count": null,
   "metadata": {
    "scrolled": true
   },
   "outputs": [],
   "source": [
    "dfnoimagesPACS1 = df1[df1['num_objects_study']==0]\n",
    "dfnoimagesPACS1.to_csv(\"C:\\\\Users\\\\username\\\\desktop\\\\dfnoimagesPACS1.csv\", index=False)\n",
    "dfnoimagesPACS1.shape"
   ]
  },
  {
   "cell_type": "code",
   "execution_count": null,
   "metadata": {
    "scrolled": true
   },
   "outputs": [],
   "source": [
    "dfmaster.loc[dfmaster['suid'].isin(dfnoimagesPACS1['suid']) , ['Status','Notes']] = 'OK', 'dfnoimagesPACS1'"
   ]
  },
  {
   "cell_type": "code",
   "execution_count": null,
   "metadata": {
    "scrolled": true
   },
   "outputs": [],
   "source": [
    "dfmaster.loc[:,'Status':'Notes'][dfmaster['suid'].isin(dfnoimagesPACS1['suid'])]"
   ]
  },
  {
   "cell_type": "code",
   "execution_count": null,
   "metadata": {
    "scrolled": true
   },
   "outputs": [],
   "source": [
    "df2 = df1[df1['num_objects_study']!=0]\n",
    "df2.shape"
   ]
  },
  {
   "cell_type": "code",
   "execution_count": null,
   "metadata": {
    "scrolled": true
   },
   "outputs": [],
   "source": [
    "df2['DB'].value_counts()"
   ]
  },
  {
   "cell_type": "code",
   "execution_count": null,
   "metadata": {
    "scrolled": true
   },
   "outputs": [],
   "source": [
    "df2[df2['DB']=='NONE'].NUM_OBJECTS_STUDY_PACS2.value_counts()"
   ]
  },
  {
   "cell_type": "code",
   "execution_count": null,
   "metadata": {
    "scrolled": true
   },
   "outputs": [],
   "source": [
    "dfNOTinPACS2NOTinVNA = df2[(df2['DB']=='NONE') & (df2['NUM_OBJECTS_STUDY_PACS2'] ==0) ]\n",
    "dfNOTinPACS2NOTinVNA.to_csv(\"C:\\\\Users\\\\username\\\\desktop\\\\dfNOTinPACS2NOTinVNA.csv\", index=False)\n",
    "dfNOTinPACS2NOTinVNA.shape"
   ]
  },
  {
   "cell_type": "code",
   "execution_count": null,
   "metadata": {
    "scrolled": true
   },
   "outputs": [],
   "source": [
    "dfmaster.loc[dfmaster['suid'].isin(dfNOTinPACS2NOTinVNA['suid']) , ['Status','Notes']] = 'Error_List', 'dfNOTinPACS2NOTinVNA'\n"
   ]
  },
  {
   "cell_type": "code",
   "execution_count": null,
   "metadata": {
    "scrolled": true
   },
   "outputs": [],
   "source": [
    "dfmaster.loc[:,'Status':'Notes'][dfmaster['suid'].isin(dfNOTinPACS2NOTinVNA['suid'])]"
   ]
  },
  {
   "cell_type": "code",
   "execution_count": null,
   "metadata": {
    "scrolled": true
   },
   "outputs": [],
   "source": [
    "dfinPACS2NOTinVNA = df2[(df2['DB']=='NONE') & (df2['NUM_OBJECTS_STUDY_PACS2'] != 0)]\n",
    "dfinPACS2NOTinVNA.to_csv(\"C:\\\\Users\\\\username\\\\desktop\\\\dfinPACS2NOTinVNA.csv\", index=False)\n",
    "dfinPACS2NOTinVNA.shape"
   ]
  },
  {
   "cell_type": "code",
   "execution_count": null,
   "metadata": {
    "scrolled": true
   },
   "outputs": [],
   "source": [
    "dfmaster.loc[dfmaster['suid'].isin(dfinPACS2NOTinVNA['suid']) , ['Status','Notes']] = 'Error_List', 'dfinPACS2NOTinVNA'"
   ]
  },
  {
   "cell_type": "code",
   "execution_count": null,
   "metadata": {
    "scrolled": true
   },
   "outputs": [],
   "source": [
    "dfmaster.loc[:,'Status':'Notes'][dfmaster['suid'].isin(dfinPACS2NOTinVNA['suid'])]"
   ]
  },
  {
   "cell_type": "code",
   "execution_count": null,
   "metadata": {
    "scrolled": true
   },
   "outputs": [],
   "source": [
    "df3 = df2[df2['DB']!='NONE']\n",
    "df3.shape"
   ]
  },
  {
   "cell_type": "code",
   "execution_count": null,
   "metadata": {
    "scrolled": true
   },
   "outputs": [],
   "source": [
    "df3.DB.value_counts()"
   ]
  },
  {
   "cell_type": "code",
   "execution_count": null,
   "metadata": {
    "scrolled": true
   },
   "outputs": [],
   "source": [
    "df3['DB'][df3['NUM_OBJECTS_STUDY_PACS2']==0].value_counts()"
   ]
  },
  {
   "cell_type": "code",
   "execution_count": null,
   "metadata": {
    "scrolled": true
   },
   "outputs": [],
   "source": [
    "dfNOTinPACS2invna = df3[df3['NUM_OBJECTS_STUDY_PACS2']==0]\n",
    "dfNOTinPACS2invna.to_csv(\"C:\\\\Users\\\\username\\\\desktop\\\\dfNOTinPACS2invna.csv\", index=False)\n",
    "dfNOTinPACS2invna.shape"
   ]
  },
  {
   "cell_type": "code",
   "execution_count": null,
   "metadata": {
    "scrolled": true
   },
   "outputs": [],
   "source": [
    "dfmaster.loc[dfmaster['suid'].isin(dfNOTinPACS2invna['suid']) , ['Status','Notes']] = 'Error_List', 'dfNOTinPACS2invna'"
   ]
  },
  {
   "cell_type": "code",
   "execution_count": null,
   "metadata": {
    "scrolled": true
   },
   "outputs": [],
   "source": [
    "dfmaster.loc[:,'Status':'Notes'][dfmaster['suid'].isin(dfNOTinPACS2invna['suid'])]"
   ]
  },
  {
   "cell_type": "code",
   "execution_count": null,
   "metadata": {
    "scrolled": true
   },
   "outputs": [],
   "source": [
    "df4 = df3[df3['NUM_OBJECTS_STUDY_PACS2']!=0]\n",
    "df4.shape"
   ]
  },
  {
   "cell_type": "code",
   "execution_count": null,
   "metadata": {
    "scrolled": true
   },
   "outputs": [],
   "source": [
    "df4['DB'][df4['Missing_PACS2_VNA']!=0].value_counts()"
   ]
  },
  {
   "cell_type": "code",
   "execution_count": null,
   "metadata": {
    "scrolled": true
   },
   "outputs": [],
   "source": [
    "dfinPACS2invnaMISMATCHIMAGECOUNT = df4[df4['Missing_PACS2_VNA']!=0]\n",
    "dfinPACS2invnaMISMATCHIMAGECOUNT.to_csv(\"C:\\\\Users\\\\username\\\\desktop\\\\dfinPACS2invnaMISMATCHIMAGECOUNT.csv\", index=False)\n",
    "dfinPACS2invnaMISMATCHIMAGECOUNT.shape"
   ]
  },
  {
   "cell_type": "code",
   "execution_count": null,
   "metadata": {
    "scrolled": true
   },
   "outputs": [],
   "source": [
    "dfmaster.loc[dfmaster['suid'].isin(dfinPACS2invnaMISMATCHIMAGECOUNT['suid']) , ['Status','Notes']] = 'Error_List', 'dfinPACS2invnaMISMATCHIMAGECOUNT'"
   ]
  },
  {
   "cell_type": "code",
   "execution_count": null,
   "metadata": {
    "scrolled": true
   },
   "outputs": [],
   "source": [
    "dfmaster.loc[:,'Status':'Notes'][dfmaster['suid'].isin(dfinPACS2invnaMISMATCHIMAGECOUNT['suid'])]"
   ]
  },
  {
   "cell_type": "code",
   "execution_count": null,
   "metadata": {
    "scrolled": true
   },
   "outputs": [],
   "source": [
    "df5 = df4[df4['Missing_PACS2_VNA']==0]\n",
    "df5.shape"
   ]
  },
  {
   "cell_type": "code",
   "execution_count": null,
   "metadata": {
    "scrolled": true
   },
   "outputs": [],
   "source": [
    "df5['DB'][df5['PACS2_VNA_MATCH'] == 'NO MATCH'].value_counts()"
   ]
  },
  {
   "cell_type": "code",
   "execution_count": null,
   "metadata": {
    "scrolled": true
   },
   "outputs": [],
   "source": [
    "dfinPACS2invnaMISMATCHSUID = df5[df5['PACS2_VNA_MATCH'] == 'NO MATCH']\n",
    "dfinPACS2invnaMISMATCHSUID.to_csv(\"C:\\\\Users\\\\username\\\\desktop\\\\dfinPACS2invnaMISMATCHSUID.csv\", index=False)\n",
    "dfinPACS2invnaMISMATCHSUID.shape"
   ]
  },
  {
   "cell_type": "code",
   "execution_count": null,
   "metadata": {
    "scrolled": true
   },
   "outputs": [],
   "source": [
    "dfmaster.loc[dfmaster['suid'].isin(dfinPACS2invnaMISMATCHSUID['suid']) , ['Status','Notes']] = 'Error_List', 'dfinPACS2invnaMISMATCHSUID'"
   ]
  },
  {
   "cell_type": "code",
   "execution_count": null,
   "metadata": {
    "scrolled": true
   },
   "outputs": [],
   "source": [
    "dfmaster.loc[:,'Status':'Notes'][dfmaster['suid'].isin(dfinPACS2invnaMISMATCHSUID['suid'])]"
   ]
  },
  {
   "cell_type": "code",
   "execution_count": null,
   "metadata": {
    "scrolled": true
   },
   "outputs": [],
   "source": [
    "df6 = df5[df5['PACS2_VNA_MATCH'] != 'NO MATCH']\n",
    "df6.shape"
   ]
  },
  {
   "cell_type": "code",
   "execution_count": null,
   "metadata": {
    "scrolled": true
   },
   "outputs": [],
   "source": [
    "df6.PACS2_VNA_MATCH.value_counts()"
   ]
  },
  {
   "cell_type": "code",
   "execution_count": null,
   "metadata": {
    "scrolled": true
   },
   "outputs": [],
   "source": [
    "df6.Missing_PACS2_VNA.value_counts()"
   ]
  },
  {
   "cell_type": "code",
   "execution_count": null,
   "metadata": {
    "scrolled": true
   },
   "outputs": [],
   "source": [
    "df6.loc[:,'suid'][df6['Missing_PACS1_PACS2']>0].to_csv(\"C:\\\\Users\\\\username\\\\Desktop\\\\lessimagesinPACS2thanPACS1.csv\", index=False)"
   ]
  },
  {
   "cell_type": "code",
   "execution_count": null,
   "metadata": {},
   "outputs": [],
   "source": [
    "df6.loc[:,'NUM_OBJECTS_STUDY_PACS2':'Missing_PACS2_VNA'][df6['Missing_PACS1_PACS2']==-69]"
   ]
  },
  {
   "cell_type": "code",
   "execution_count": null,
   "metadata": {},
   "outputs": [],
   "source": [
    "df6.Missing_PACS1_PACS2.value_counts()"
   ]
  },
  {
   "cell_type": "code",
   "execution_count": null,
   "metadata": {
    "scrolled": true
   },
   "outputs": [],
   "source": [
    "df6['DB'][df6['NUM_OBJECTS_STUDY_PACS2']==0].value_counts()"
   ]
  },
  {
   "cell_type": "code",
   "execution_count": null,
   "metadata": {},
   "outputs": [],
   "source": [
    "df6.loc[:,'NUM_OBJECTS_STUDY_PACS2':'Missing_PACS2_VNA'][df6['suid']=='suid']"
   ]
  },
  {
   "cell_type": "code",
   "execution_count": null,
   "metadata": {
    "scrolled": true
   },
   "outputs": [],
   "source": [
    "dfcorrectlymoved = df6\n",
    "dfcorrectlymoved.to_csv(\"C:\\\\Users\\\\username\\\\desktop\\\\dfcorrectlymoved.csv\", index=False)\n",
    "dfcorrectlymoved.shape"
   ]
  },
  {
   "cell_type": "code",
   "execution_count": null,
   "metadata": {
    "scrolled": true
   },
   "outputs": [],
   "source": [
    "dfmaster.loc[dfmaster['suid'].isin(dfcorrectlymoved['suid']) , ['Status','Notes']] = 'perfectmatch', 'dfcorrectlymoved'"
   ]
  },
  {
   "cell_type": "code",
   "execution_count": null,
   "metadata": {
    "scrolled": true
   },
   "outputs": [],
   "source": [
    "dfmaster.loc[:,'Status':'Notes'][dfmaster['suid'].isin(dfcorrectlymoved['suid'])]"
   ]
  },
  {
   "cell_type": "code",
   "execution_count": null,
   "metadata": {
    "scrolled": true
   },
   "outputs": [],
   "source": [
    "dfwrongdepartmentPACS2 = dfmaster[~dfmaster['INSTITUTIONAL_DEPARTMENT_NAME_PACS2'].isin(['_CATH','_EP'])]\n",
    "dfwrongdepartmentPACS2.to_csv(\"C:\\\\Users\\\\username\\\\desktop\\\\dfwrongdepartmentPACS2.csv\", index=False)\n",
    "dfwrongdepartmentPACS2.shape"
   ]
  },
  {
   "cell_type": "code",
   "execution_count": null,
   "metadata": {
    "scrolled": true
   },
   "outputs": [],
   "source": [
    "dfmaster['Status'].value_counts()"
   ]
  },
  {
   "cell_type": "code",
   "execution_count": null,
   "metadata": {
    "scrolled": true
   },
   "outputs": [],
   "source": [
    "dfmaster.shape"
   ]
  },
  {
   "cell_type": "code",
   "execution_count": null,
   "metadata": {
    "scrolled": true
   },
   "outputs": [],
   "source": [
    "dfmaster['Notes'][dfmaster['Status']=='Error_List'].value_counts()"
   ]
  },
  {
   "cell_type": "code",
   "execution_count": null,
   "metadata": {
    "scrolled": true
   },
   "outputs": [],
   "source": [
    "dfSeriesLevelErrorList = dfmaster[dfmaster['Status'] == 'Error_List']\n",
    "dfSeriesLevelErrorList.shape"
   ]
  },
  {
   "cell_type": "code",
   "execution_count": null,
   "metadata": {
    "scrolled": true
   },
   "outputs": [],
   "source": [
    "dfinPACS2invnaMISMATCHIMAGECOUNT['Missing_PACS1_PACS2'].value_counts()"
   ]
  },
  {
   "cell_type": "code",
   "execution_count": null,
   "metadata": {},
   "outputs": [],
   "source": [
    "secantlist = pd.read_excel(\"site1_migration_queue_20190422.xlsx\")\n",
    "secantlist.info()"
   ]
  },
  {
   "cell_type": "code",
   "execution_count": null,
   "metadata": {},
   "outputs": [],
   "source": [
    "dflistdelta = df1studylevel[~df1studylevel.suid.isin(secantlist.suid)]\n",
    "dflistdelta.to_csv(\"C:\\\\Users\\\\username\\\\desktop\\\\dflistdelta.csv\", index=False)\n",
    "dflistdelta.shape"
   ]
  },
  {
   "cell_type": "code",
   "execution_count": null,
   "metadata": {},
   "outputs": [],
   "source": [
    "secantlist[~secantlist['suid'].isin(df1studylevel['suid'])]"
   ]
  },
  {
   "cell_type": "markdown",
   "metadata": {},
   "source": [
    "## **site1 PACS1 STUDY LEVEL CHECK**"
   ]
  },
  {
   "cell_type": "code",
   "execution_count": null,
   "metadata": {},
   "outputs": [],
   "source": [
    "dfstudylevelcheck = pd.read_csv(\"site1studylevelcheck.csv\")\n",
    "dfstudylevelcheck.info()"
   ]
  },
  {
   "cell_type": "code",
   "execution_count": null,
   "metadata": {},
   "outputs": [],
   "source": [
    "dfstudylevelcheck.replace(np.NaN,'NONE',inplace=True)\n",
    "dfstudylevelcheck.sort_values('NUM_OBJECTS_STUDY_PACS2', ascending=False, inplace=True)\n",
    "df1studylevel = dfstudylevelcheck.drop_duplicates(subset='suid',keep='first').copy()\n",
    "df1studylevel.info()"
   ]
  },
  {
   "cell_type": "code",
   "execution_count": null,
   "metadata": {},
   "outputs": [],
   "source": [
    "## Use for deidentified data\n",
    "dfstudyleveldeidentified = df1studylevel.drop(\n",
    "    ['PATIENT_ID_PACS2','patID', 'ACCESSION_NUMBER_PACS2', 'STUDY_DATE_PACS2', 'studydate',\n",
    "     'STUDY_DESCRIPTION_PACS2', 'PATIENT_NAME_PACS2', 'patient_name'], axis=1)\n",
    "df1studylevel = dfstudyleveldeidentified"
   ]
  },
  {
   "cell_type": "code",
   "execution_count": null,
   "metadata": {},
   "outputs": [],
   "source": [
    "testpatient = [\n",
    "'list'\n",
    "]"
   ]
  },
  {
   "cell_type": "code",
   "execution_count": null,
   "metadata": {},
   "outputs": [],
   "source": [
    "manualintervention = [\n",
    "    'list'\n",
    "]"
   ]
  },
  {
   "cell_type": "code",
   "execution_count": null,
   "metadata": {},
   "outputs": [],
   "source": [
    "dfmaster.columns"
   ]
  },
  {
   "cell_type": "code",
   "execution_count": null,
   "metadata": {},
   "outputs": [],
   "source": [
    "dfmaster.loc[dfmaster['suid'].isin(testpatient), ['Status','Notes']] = 'OK','testpatientNOTmoved'\n",
    "dfmaster.loc[dfmaster['suid'].isin(manualintervention), ['Status','Notes']] = 'OK','manualinterventionMOVED'\n"
   ]
  },
  {
   "cell_type": "code",
   "execution_count": null,
   "metadata": {},
   "outputs": [],
   "source": [
    "df1studylevel.loc[df1studylevel['suid'].isin(testpatient),'STATION_NAME_PACS2'] = 'OK_TEST_PATIENT'\n"
   ]
  },
  {
   "cell_type": "code",
   "execution_count": null,
   "metadata": {},
   "outputs": [],
   "source": [
    "df1studylevel['STATION_NAME_PACS2'].value_counts()"
   ]
  },
  {
   "cell_type": "code",
   "execution_count": null,
   "metadata": {},
   "outputs": [],
   "source": [
    "dfstudylevelmoved = df1studylevel[df1studylevel['STATION_NAME_PACS2'] != 'OK_TEST_PATIENT']\n",
    "dfstudylevelmoved.to_csv(\"C:\\\\Users\\\\username\\\\desktop\\\\dfstudylevelmoved.csv\", index=False)\n",
    "dfstudylevelmoved.shape"
   ]
  },
  {
   "cell_type": "code",
   "execution_count": null,
   "metadata": {},
   "outputs": [],
   "source": [
    "dfserieslevelmoved = dfstudylevelcheck[~dfstudylevelcheck['suid'].isin(testpatient)]\n",
    "dfserieslevelmoved.to_csv(\"C:\\\\Users\\\\username\\\\desktop\\\\dfserieslevelmoved.csv\", index=False)\n",
    "dfserieslevelmoved.shape"
   ]
  },
  {
   "cell_type": "code",
   "execution_count": null,
   "metadata": {},
   "outputs": [],
   "source": [
    "df1studylevel['Missing_PACS1_PACS2'][df1studylevel['STATION_NAME_PACS2'] == 'SHC_MIG6'].value_counts()"
   ]
  },
  {
   "cell_type": "code",
   "execution_count": null,
   "metadata": {},
   "outputs": [],
   "source": [
    "dfINPACS2NOTALLIMAGES = df1studylevel[(df1studylevel['Missing_PACS1_PACS2'] > 0) & (df1studylevel['STATION_NAME_PACS2'] == 'SHC_MIG6')]\n",
    "dfINPACS2NOTALLIMAGES.to_csv(\"C:\\\\Users\\\\username\\\\desktop\\\\dfINPACS2NOTALLIMAGES.csv\", index=False)\n",
    "dfINPACS2NOTALLIMAGES.shape"
   ]
  },
  {
   "cell_type": "code",
   "execution_count": null,
   "metadata": {},
   "outputs": [],
   "source": [
    "dfstillmissing = df1studylevel[df1studylevel['STATION_NAME_PACS2']=='NONE']\n",
    "dfstillmissing.to_csv(\"C:\\\\Users\\\\username\\\\desktop\\\\dfstillmissing.csv\", index=False)\n",
    "dfstillmissing.shape"
   ]
  },
  {
   "cell_type": "code",
   "execution_count": null,
   "metadata": {},
   "outputs": [],
   "source": [
    "dfmergesite1 = df1studylevel.merge(secantlist, how = 'outer', on = ['suid'], suffixes = ('_STUDYLEVEL','_SERIESLEVEL'))\n",
    "dfmergesite1.info()"
   ]
  },
  {
   "cell_type": "code",
   "execution_count": null,
   "metadata": {},
   "outputs": [],
   "source": [
    "dfmergesite1[(dfmergesite1['sender_status'] == 'SUCCESS') & (dfmergesite1['Missing_PACS1_PACS2'] > 0)]"
   ]
  },
  {
   "cell_type": "code",
   "execution_count": null,
   "metadata": {},
   "outputs": [],
   "source": [
    "dfmerge = df2studylevel.merge(dfSeriesLevelErrorList, how = 'outer', on = ['suid'], suffixes = ('_STUDYLEVEL','_SERIESLEVEL'))"
   ]
  },
  {
   "cell_type": "code",
   "execution_count": null,
   "metadata": {},
   "outputs": [],
   "source": [
    "dfmergesite1['Missing_PACS1_PACS2'][dfmergesite1['sender_status'] == 'SUCCESS'].value_counts()"
   ]
  },
  {
   "cell_type": "code",
   "execution_count": null,
   "metadata": {},
   "outputs": [],
   "source": [
    "colnames = ['PATIENT_ID_PACS2',\n",
    " 'patID',\n",
    " 'ACCESSION_NUMBER_PACS2',\n",
    " 'STUDY_UID_PACS2',\n",
    " 'suid',\n",
    " 'SERIES_UID_PACS2',\n",
    " 'seriesuid',\n",
    " 'STUDY_DATE_PACS2',\n",
    " 'studydate',\n",
    " 'NUM_SERIES_PACS2',\n",
    " 'num_series',\n",
    " 'NUM_OBJECT_SERIES_PACS2',\n",
    " 'num_object_series',\n",
    " 'NUM_OBJECTS_STUDY_PACS2',\n",
    " 'num_objects_study',\n",
    " 'Missing_PACS1_PACS2',\n",
    " 'INSTITUTIONAL_DEPARTMENT_NAME_PACS2',\n",
    " 'SOURCE_CALLING_TITLE_PACS2',\n",
    " 'STATION_NAME_PACS2',\n",
    " 'STUDY_DESCRIPTION_PACS2',\n",
    " 'MODALITY_PACS2',\n",
    " 'modality',\n",
    " 'PATIENT_NAME_PACS2',\n",
    " 'patient_name',\n",
    " 'formatdbkey',\n",
    " 'storagelocdbkey',\n",
    " 'dicomstudyid',\n",
    "]"
   ]
  },
  {
   "cell_type": "markdown",
   "metadata": {},
   "source": [
    "## Reconciliation Building - site1"
   ]
  },
  {
   "cell_type": "code",
   "execution_count": null,
   "metadata": {},
   "outputs": [],
   "source": [
    "dfwithdatatypeseries = pd.read_csv(\"PACS2site1withdbstorageloc.csv\", \n",
    "                           #  header=True,\n",
    "                           #  names = colnames,\n",
    "                            index_col = False)"
   ]
  },
  {
   "cell_type": "code",
   "execution_count": null,
   "metadata": {},
   "outputs": [],
   "source": [
    "dfmaster.columns"
   ]
  },
  {
   "cell_type": "code",
   "execution_count": null,
   "metadata": {},
   "outputs": [],
   "source": [
    "dfwithdatatypeseries.info()"
   ]
  },
  {
   "cell_type": "code",
   "execution_count": null,
   "metadata": {},
   "outputs": [],
   "source": [
    "dfwithdatatypeseries.head()"
   ]
  },
  {
   "cell_type": "code",
   "execution_count": null,
   "metadata": {},
   "outputs": [],
   "source": [
    "dfwithdatatypeseries.storagelocdbkey.value_counts()"
   ]
  },
  {
   "cell_type": "code",
   "execution_count": null,
   "metadata": {},
   "outputs": [],
   "source": [
    "#storagelocdbkey = 3 -> ARCHIVEMO Server = bad\n",
    "#formatdbkey = 2 -> DSR = bad\n",
    "dfwithdatatypeseries.storagelocdbkey.replace(3,0,inplace=True)\n",
    "dfwithdatatypeseries.formatdbkey.replace(2,0,inplace=True)"
   ]
  },
  {
   "cell_type": "code",
   "execution_count": null,
   "metadata": {},
   "outputs": [],
   "source": [
    "dfwithdatatypeseries.sort_values(['formatdbkey','storagelocdbkey'], ascending=False, inplace=True)\n",
    "#Use for Non-Deidentified Data\n",
    "dfwithdatatype = dfwithdatatypeseries.drop_duplicates(subset='suid',keep='first')\n",
    "dfwithdatatype.shape"
   ]
  },
  {
   "cell_type": "code",
   "execution_count": null,
   "metadata": {},
   "outputs": [],
   "source": [
    "dfwithdatatype.columns"
   ]
  },
  {
   "cell_type": "code",
   "execution_count": null,
   "metadata": {},
   "outputs": [],
   "source": [
    "dfmastermerge = dfmaster.merge(dfwithdatatype[['suid','patient_name','formatdbkey','storagelocdbkey']], how = 'inner', on=['suid'])\n",
    "dfmastermerge.shape"
   ]
  },
  {
   "cell_type": "code",
   "execution_count": null,
   "metadata": {},
   "outputs": [],
   "source": [
    "dfmastermerge.storagelocdbkey.value_counts()"
   ]
  },
  {
   "cell_type": "code",
   "execution_count": null,
   "metadata": {},
   "outputs": [],
   "source": [
    "dfmastermerge.formatdbkey.value_counts()"
   ]
  },
  {
   "cell_type": "code",
   "execution_count": null,
   "metadata": {},
   "outputs": [],
   "source": [
    "dfmastermerge['Status'][dfmastermerge['formatdbkey']==0].value_counts()"
   ]
  },
  {
   "cell_type": "code",
   "execution_count": null,
   "metadata": {},
   "outputs": [],
   "source": [
    "dfmastermerge[(dfmastermerge['formatdbkey']==0) & (dfmastermerge['Status'] == 'OK')]"
   ]
  },
  {
   "cell_type": "code",
   "execution_count": null,
   "metadata": {},
   "outputs": [],
   "source": [
    "dfmastermerge['SOURCE_CALLING_TITLE_PACS2'][(dfmastermerge['formatdbkey']==0) & (dfmastermerge['Status'] == 'perfectmatch')].value_counts()"
   ]
  },
  {
   "cell_type": "code",
   "execution_count": null,
   "metadata": {},
   "outputs": [],
   "source": [
    "suidtest = dfmastermerge.loc[13008,'suid']"
   ]
  },
  {
   "cell_type": "code",
   "execution_count": null,
   "metadata": {},
   "outputs": [],
   "source": [
    "dfwithdatatypeseries[dfwithdatatypeseries['suid']==suidtest]"
   ]
  },
  {
   "cell_type": "code",
   "execution_count": null,
   "metadata": {},
   "outputs": [],
   "source": [
    "dfmaster[dfmaster['suid'] == suidtest]"
   ]
  },
  {
   "cell_type": "code",
   "execution_count": null,
   "metadata": {},
   "outputs": [],
   "source": [
    "dfmastermerge[dfmastermerge['suid'] == suidtest]"
   ]
  },
  {
   "cell_type": "code",
   "execution_count": null,
   "metadata": {},
   "outputs": [],
   "source": [
    "dfmastermerge.columns"
   ]
  },
  {
   "cell_type": "code",
   "execution_count": null,
   "metadata": {},
   "outputs": [],
   "source": [
    "dfdsrmovedtoPACS2 = dfmastermerge.loc[(dfmastermerge['formatdbkey']==0) & (dfmastermerge['Status'] == 'perfectmatch')]\n",
    "dfdsrmovedtoPACS2.to_csv(\"C:\\\\Users\\\\username\\\\Desktop\\\\dfdsrmovedtoPACS2.csv\")\n",
    "dfdsrmovedtoPACS2.shape"
   ]
  },
  {
   "cell_type": "code",
   "execution_count": null,
   "metadata": {},
   "outputs": [],
   "source": [
    "dfmastermerge.loc[dfmastermerge['suid'].isin(dfdsrmovedtoPACS2['suid']),['Status','Notes']] = 'OK', 'dfdsrmovedtoPACS2'\n",
    "dfmaster.loc[dfmaster['suid'].isin(dfdsrmovedtoPACS2['suid']),['Status','Notes']] = 'OK', 'dfdsrmovedtoPACS2'"
   ]
  },
  {
   "cell_type": "code",
   "execution_count": null,
   "metadata": {},
   "outputs": [],
   "source": [
    "dfmastermerge2 = dfmastermerge[~dfmastermerge['suid'].isin(dfdsrmovedtoPACS2['suid'])]\n",
    "dfmastermerge2.shape"
   ]
  },
  {
   "cell_type": "code",
   "execution_count": null,
   "metadata": {},
   "outputs": [],
   "source": [
    "dfmastermerge2['Status'][dfmastermerge2['formatdbkey']==0].value_counts()"
   ]
  },
  {
   "cell_type": "code",
   "execution_count": null,
   "metadata": {},
   "outputs": [],
   "source": [
    "dfmastermerge2['Notes'][dfmastermerge2['formatdbkey']==0].value_counts()"
   ]
  },
  {
   "cell_type": "code",
   "execution_count": null,
   "metadata": {},
   "outputs": [],
   "source": [
    "dfDSRnotmovedtoPACS2 = dfmastermerge2[(dfmastermerge2['formatdbkey']==0) & (dfmastermerge2['Status']=='Error_List')]\n",
    "dfDSRnotmovedtoPACS2.to_csv(\"C:\\\\Users\\\\username\\\\Desktop\\\\dfDSRnotmovedtoPACS2.csv\")\n",
    "dfDSRnotmovedtoPACS2.shape"
   ]
  },
  {
   "cell_type": "code",
   "execution_count": null,
   "metadata": {},
   "outputs": [],
   "source": [
    "dfmaster.loc[dfmaster['suid'].isin(dfDSRnotmovedtoPACS2['suid']),['Status','Notes']]"
   ]
  },
  {
   "cell_type": "code",
   "execution_count": null,
   "metadata": {},
   "outputs": [],
   "source": [
    "dfmastermerge2.loc[dfmastermerge2['suid'].isin(dfDSRnotmovedtoPACS2['suid']),['Status','Notes']] = 'OK', 'dfDSRnotmovedtoPACS2'\n",
    "dfmaster.loc[dfmaster['suid'].isin(dfDSRnotmovedtoPACS2['suid']),['Status','Notes']] = 'OK', 'dfDSRnotmovedtoPACS2'"
   ]
  },
  {
   "cell_type": "code",
   "execution_count": null,
   "metadata": {},
   "outputs": [],
   "source": [
    "dfmaster.Status.value_counts()"
   ]
  },
  {
   "cell_type": "code",
   "execution_count": null,
   "metadata": {},
   "outputs": [],
   "source": [
    "dfmastermerge2.Status.value_counts()"
   ]
  },
  {
   "cell_type": "code",
   "execution_count": null,
   "metadata": {},
   "outputs": [],
   "source": [
    "dfmaster['Notes'][dfmaster['Status']=='Error_List'].value_counts()"
   ]
  },
  {
   "cell_type": "code",
   "execution_count": null,
   "metadata": {},
   "outputs": [],
   "source": [
    "dfmastermerge3 = dfmastermerge2[~dfmastermerge2['suid'].isin(dfDSRnotmovedtoPACS2)]"
   ]
  },
  {
   "cell_type": "code",
   "execution_count": null,
   "metadata": {},
   "outputs": [],
   "source": [
    "dfmastermerge3.Status.value_counts()"
   ]
  },
  {
   "cell_type": "code",
   "execution_count": null,
   "metadata": {},
   "outputs": [],
   "source": [
    "dfmastermerge3['Notes'][dfmastermerge3['Status']=='Error_List'].value_counts()"
   ]
  },
  {
   "cell_type": "code",
   "execution_count": null,
   "metadata": {},
   "outputs": [],
   "source": [
    "dfmastermerge3['storagelocdbkey'][dfmastermerge3['Notes']=='dfNOTinPACS2NOTinVNA'].value_counts()"
   ]
  },
  {
   "cell_type": "code",
   "execution_count": null,
   "metadata": {},
   "outputs": [],
   "source": [
    "dfDICOMonxfsserverNOTmoved = dfmastermerge3[(dfmastermerge3['storagelocdbkey'] == 0) & (dfmastermerge3['Notes']=='dfNOTinPACS2NOTinVNA')]\n",
    "dfDICOMonxfsserverNOTmoved.to_csv(\"C:\\\\Users\\\\username\\\\Desktop\\\\dfDICOMonxfsserverNOTmoved.csv\")\n",
    "dfDICOMonxfsserverNOTmoved.shape"
   ]
  },
  {
   "cell_type": "code",
   "execution_count": null,
   "metadata": {},
   "outputs": [],
   "source": [
    "dfmastermerge3.loc[dfmastermerge3['suid'].isin(dfDICOMonxfsserverNOTmoved['suid']),['Status','Notes']] = 'OK', 'dfDICOMonxfsserverNOTmoved'\n",
    "dfmaster.loc[dfmaster['suid'].isin(dfDICOMonxfsserverNOTmoved['suid']),['Status','Notes']] = 'OK', 'dfDICOMonxfsserverNOTmoved'"
   ]
  },
  {
   "cell_type": "code",
   "execution_count": null,
   "metadata": {},
   "outputs": [],
   "source": [
    "dfmastermerge4 = dfmastermerge3[~dfmastermerge3['suid'].isin(dfDICOMonxfsserverNOTmoved['suid'])]\n",
    "dfmastermerge4.shape"
   ]
  },
  {
   "cell_type": "code",
   "execution_count": null,
   "metadata": {},
   "outputs": [],
   "source": [
    "dfmastermerge4.Status.value_counts()"
   ]
  },
  {
   "cell_type": "code",
   "execution_count": null,
   "metadata": {},
   "outputs": [],
   "source": [
    "dfmastermerge4['Notes'][dfmastermerge4['Status']=='Error_List'].value_counts()"
   ]
  },
  {
   "cell_type": "code",
   "execution_count": null,
   "metadata": {},
   "outputs": [],
   "source": [
    "dfmastermerge4.loc[27710,'suid']"
   ]
  },
  {
   "cell_type": "code",
   "execution_count": null,
   "metadata": {},
   "outputs": [],
   "source": [
    "dfmastermerge4['patID'][dfmastermerge4['Notes']=='dfNOTinPACS2NOTinVNA']"
   ]
  },
  {
   "cell_type": "code",
   "execution_count": null,
   "metadata": {},
   "outputs": [],
   "source": [
    "dfnopatientinfoPACS1NOTmoved = dfmastermerge4[dfmastermerge4['Notes']=='dfNOTinPACS2NOTinVNA']\n",
    "dfnopatientinfoPACS1NOTmoved.to_csv(\"C:\\\\Users\\\\username\\\\Desktop\\\\dfnopatientinfoPACS1NOTmoved.csv\")\n",
    "dfnopatientinfoPACS1NOTmoved.shape"
   ]
  },
  {
   "cell_type": "code",
   "execution_count": null,
   "metadata": {},
   "outputs": [],
   "source": [
    "dfmastermerge4.loc[dfmastermerge4['suid'].isin(dfnopatientinfoPACS1NOTmoved['suid']),['Status','Notes']] = 'OK', 'dfnopatientinfoPACS1NOTmoved'\n",
    "dfmaster.loc[dfmaster['suid'].isin(dfnopatientinfoPACS1NOTmoved['suid']),['Status','Notes']] = 'OK', 'dfnopatientinfoPACS1NOTmoved'"
   ]
  },
  {
   "cell_type": "code",
   "execution_count": null,
   "metadata": {},
   "outputs": [],
   "source": [
    "dfmaster.Status.value_counts()"
   ]
  },
  {
   "cell_type": "code",
   "execution_count": null,
   "metadata": {},
   "outputs": [],
   "source": [
    "dfmastermerge4.loc[:,'NUM_OBJECTS_STUDY_PACS2':'Missing_PACS2_VNA'][dfmastermerge4['Notes'] == 'dfinPACS2invnaMISMATCHIMAGECOUNT']"
   ]
  },
  {
   "cell_type": "code",
   "execution_count": null,
   "metadata": {},
   "outputs": [],
   "source": [
    "dfmaster['Notes'][dfmaster['Status']=='Error_List'].value_counts()"
   ]
  },
  {
   "cell_type": "code",
   "execution_count": null,
   "metadata": {},
   "outputs": [],
   "source": [
    "dfmaster['Notes'][dfmaster['Status']=='OK'].value_counts()"
   ]
  },
  {
   "cell_type": "code",
   "execution_count": null,
   "metadata": {},
   "outputs": [],
   "source": [
    "dfmaster.to_csv(\"C:\\\\Users\\\\username\\\\Desktop\\\\RECONCILIATION.csv\")"
   ]
  },
  {
   "cell_type": "code",
   "execution_count": null,
   "metadata": {},
   "outputs": [],
   "source": [
    "dfwithdatatype.loc[224,'suid']"
   ]
  },
  {
   "cell_type": "code",
   "execution_count": null,
   "metadata": {},
   "outputs": [],
   "source": [
    "dfmaster.shape"
   ]
  },
  {
   "cell_type": "code",
   "execution_count": null,
   "metadata": {},
   "outputs": [],
   "source": [
    "dfwithdatatype.shape"
   ]
  },
  {
   "cell_type": "markdown",
   "metadata": {},
   "source": [
    "##  PACS1 STUDY LEVEL CHECK"
   ]
  },
  {
   "cell_type": "code",
   "execution_count": null,
   "metadata": {
    "scrolled": false
   },
   "outputs": [],
   "source": [
    "dfstudylevelcheck = pd.read_csv(\"dfstudylevelcheck.csv\")\n",
    "dfstudylevelcheck.shape"
   ]
  },
  {
   "cell_type": "code",
   "execution_count": null,
   "metadata": {
    "scrolled": true
   },
   "outputs": [],
   "source": [
    "dfstudylevelcheck.head()"
   ]
  },
  {
   "cell_type": "code",
   "execution_count": null,
   "metadata": {
    "scrolled": true
   },
   "outputs": [],
   "source": [
    "dfstudylevelcheck.replace(np.NaN,'NONE',inplace=True)\n",
    "dfstudylevelcheck.sort_values('NUM_OBJECTS_STUDY_PACS2', ascending=False, inplace=True)"
   ]
  },
  {
   "cell_type": "code",
   "execution_count": null,
   "metadata": {
    "scrolled": true
   },
   "outputs": [],
   "source": [
    "df1studylevel = dfstudylevelcheck.drop_duplicates(subset='suid',keep='first').copy()\n",
    "df1studylevel.shape"
   ]
  },
  {
   "cell_type": "code",
   "execution_count": null,
   "metadata": {
    "scrolled": true
   },
   "outputs": [],
   "source": [
    "df1studylevel.info()"
   ]
  },
  {
   "cell_type": "code",
   "execution_count": null,
   "metadata": {
    "scrolled": true
   },
   "outputs": [],
   "source": [
    "df1studylevel.suid.duplicated().any()"
   ]
  },
  {
   "cell_type": "code",
   "execution_count": null,
   "metadata": {
    "scrolled": true
   },
   "outputs": [],
   "source": [
    "df1studylevel.to_csv(\"C:\\\\Users\\\\username\\\\desktop\\\\dfstudylevelcheck.csv\", index=False)"
   ]
  },
  {
   "cell_type": "code",
   "execution_count": null,
   "metadata": {
    "scrolled": true
   },
   "outputs": [],
   "source": [
    "df2studylevel = df1studylevel[df1studylevel['suid'].isin(dfSeriesLevelErrorList['suid'])]\n",
    "df2studylevel.shape"
   ]
  },
  {
   "cell_type": "code",
   "execution_count": null,
   "metadata": {
    "scrolled": true
   },
   "outputs": [],
   "source": [
    "df2studylevel['SOURCE_CALLING_TITLE_PACS2'][df2studylevel['num_objects_study']==0].value_counts()"
   ]
  },
  {
   "cell_type": "code",
   "execution_count": null,
   "metadata": {
    "scrolled": true
   },
   "outputs": [],
   "source": [
    "dfmerge = df2studylevel.merge(dfSeriesLevelErrorList, how = 'outer', on = ['suid'], suffixes = ('_STUDYLEVEL','_SERIESLEVEL'))\n",
    "dfmerge.shape"
   ]
  },
  {
   "cell_type": "code",
   "execution_count": null,
   "metadata": {
    "scrolled": true
   },
   "outputs": [],
   "source": [
    "dfmerge.dtypes"
   ]
  },
  {
   "cell_type": "code",
   "execution_count": null,
   "metadata": {
    "scrolled": true
   },
   "outputs": [],
   "source": [
    "dfmerge['DB'][dfmerge['STUDY_UID_PACS2_STUDYLEVEL'] == 'NONE'].value_counts()"
   ]
  },
  {
   "cell_type": "code",
   "execution_count": null,
   "metadata": {
    "scrolled": true
   },
   "outputs": [],
   "source": [
    "dfnostudylevelmatch = dfmerge[dfmerge['STUDY_UID_PACS2_STUDYLEVEL'] == 'NONE']\n",
    "dfnostudylevelmatch.shape"
   ]
  },
  {
   "cell_type": "code",
   "execution_count": null,
   "metadata": {
    "scrolled": true
   },
   "outputs": [],
   "source": [
    "dfmerge2 = dfmerge[dfmerge['STUDY_UID_PACS2_STUDYLEVEL'] != 'NONE']\n",
    "dfmerge2.shape"
   ]
  },
  {
   "cell_type": "code",
   "execution_count": null,
   "metadata": {
    "scrolled": true
   },
   "outputs": [],
   "source": [
    "dfmerge2['DB'][dfmerge2['NUM_OBJECTS_STUDY_PACS2_STUDYLEVEL'] == dfmerge2['NUM_OBJECTS_STUDY_PACS2_SERIESLEVEL']].value_counts()"
   ]
  },
  {
   "cell_type": "code",
   "execution_count": null,
   "metadata": {
    "scrolled": true
   },
   "outputs": [],
   "source": [
    "dfmergesamecount = dfmerge2[dfmerge2['NUM_OBJECTS_STUDY_PACS2_STUDYLEVEL'] == dfmerge2['NUM_OBJECTS_STUDY_PACS2_SERIESLEVEL']]\n",
    "dfmergesamecount.shape"
   ]
  },
  {
   "cell_type": "code",
   "execution_count": null,
   "metadata": {
    "scrolled": true
   },
   "outputs": [],
   "source": [
    "dfmergesamecount.to_csv(\"C:\\\\Users\\\\username\\\\desktop\\\\dfmergesamecount.csv\", index=False)"
   ]
  },
  {
   "cell_type": "code",
   "execution_count": null,
   "metadata": {
    "scrolled": true
   },
   "outputs": [],
   "source": [
    "dfmergesamecountmismatchuid = dfmergesamecount[dfmergesamecount['STUDY_UID_PACS2_STUDYLEVEL'] != dfmergesamecount['STUDY_UID_PACS2_SERIESLEVEL']]\n",
    "dfmergesamecountmismatchuid.shape"
   ]
  },
  {
   "cell_type": "code",
   "execution_count": null,
   "metadata": {
    "scrolled": true
   },
   "outputs": [],
   "source": [
    "dfmaster.loc[dfmaster['suid'].isin(dfmergesamecountmismatchuid['suid']) , ['Status','Notes']] = 'OK', 'manualintervention'"
   ]
  },
  {
   "cell_type": "code",
   "execution_count": null,
   "metadata": {
    "scrolled": true
   },
   "outputs": [],
   "source": [
    "dfmaster.loc[:,'Status':'Notes'][dfmaster['suid'].isin(dfmergesamecountmismatchuid['suid'])]"
   ]
  },
  {
   "cell_type": "code",
   "execution_count": null,
   "metadata": {
    "scrolled": true
   },
   "outputs": [],
   "source": [
    "dfmerge2['DB'][dfmerge2['NUM_OBJECTS_STUDY_PACS2_STUDYLEVEL'] != dfmerge2['NUM_OBJECTS_STUDY_PACS2_SERIESLEVEL']].value_counts()"
   ]
  },
  {
   "cell_type": "code",
   "execution_count": null,
   "metadata": {
    "scrolled": true
   },
   "outputs": [],
   "source": [
    "dfdifferentcount = dfmerge2[dfmerge2['NUM_OBJECTS_STUDY_PACS2_STUDYLEVEL'] != dfmerge2['NUM_OBJECTS_STUDY_PACS2_SERIESLEVEL']]\n",
    "dfdifferentcount.shape"
   ]
  },
  {
   "cell_type": "code",
   "execution_count": null,
   "metadata": {
    "scrolled": true
   },
   "outputs": [],
   "source": [
    "dfdifferentcount.to_csv(\"C:\\\\Users\\\\username\\\\desktop\\\\dfdifferentcount.csv\", index=False)"
   ]
  },
  {
   "cell_type": "code",
   "execution_count": null,
   "metadata": {
    "scrolled": true
   },
   "outputs": [],
   "source": [
    "dfstudylevelcorrectserror = dfdifferentcount[dfdifferentcount['NUM_OBJECTS_STUDY_PACS2_STUDYLEVEL']>=dfdifferentcount['num_objects_study_STUDYLEVEL']]\n",
    "dfstudylevelcorrectserror.shape"
   ]
  },
  {
   "cell_type": "code",
   "execution_count": null,
   "metadata": {
    "scrolled": true
   },
   "outputs": [],
   "source": [
    "dfmaster.loc[dfmaster['suid'].isin(dfstudylevelcorrectserror['suid']) , ['Status','Notes']] = 'OK', 'dfstudylevelcorrectserror'"
   ]
  },
  {
   "cell_type": "code",
   "execution_count": null,
   "metadata": {
    "scrolled": true
   },
   "outputs": [],
   "source": [
    "nopatientinfoPACS1studies = [\n",
    "'test'\n",
    "]\n",
    "\n",
    "dfmaster[dfmaster['suid'].isin(nopatientinfoPACS1studies)]\n"
   ]
  },
  {
   "cell_type": "code",
   "execution_count": null,
   "metadata": {
    "scrolled": true
   },
   "outputs": [],
   "source": [
    "dfmaster.loc[dfmaster['suid'].isin(nopatientinfoPACS1studies) , ['Status','Notes']] = 'OK', 'nopatientinfoPACS1'"
   ]
  },
  {
   "cell_type": "code",
   "execution_count": null,
   "metadata": {
    "scrolled": true
   },
   "outputs": [],
   "source": [
    "manualinterventionstudies = [\n",
    "'list'\n",
    "]"
   ]
  },
  {
   "cell_type": "code",
   "execution_count": null,
   "metadata": {
    "scrolled": true
   },
   "outputs": [],
   "source": [
    "dfmaster.loc[dfmaster['suid'].isin(manualinterventionstudies) , ['Status','Notes']] = 'OK', 'manualinterventionstudies'"
   ]
  },
  {
   "cell_type": "code",
   "execution_count": null,
   "metadata": {},
   "outputs": [],
   "source": [
    "testpatientslist = [\n",
    "    'list'\n",
    "\n",
    "]"
   ]
  },
  {
   "cell_type": "code",
   "execution_count": null,
   "metadata": {},
   "outputs": [],
   "source": [
    "dfmaster.loc[dfmaster['suid'].isin(testpatientslist) , ['Status','Notes']] = 'OK', 'testpatient'"
   ]
  },
  {
   "cell_type": "code",
   "execution_count": null,
   "metadata": {},
   "outputs": [],
   "source": [
    "vnacleanupqc = [\n",
    "  'list'\n",
    "]"
   ]
  },
  {
   "cell_type": "code",
   "execution_count": null,
   "metadata": {},
   "outputs": [],
   "source": [
    "dfmaster.loc[dfmaster['suid'].isin(vnacleanupqc) , ['Status','Notes']] = 'OK', 'vnacleanupqc'"
   ]
  },
  {
   "cell_type": "code",
   "execution_count": null,
   "metadata": {
    "scrolled": true
   },
   "outputs": [],
   "source": [
    "dfmaster['Status'].value_counts()"
   ]
  },
  {
   "cell_type": "code",
   "execution_count": null,
   "metadata": {
    "scrolled": false
   },
   "outputs": [],
   "source": [
    "dfmaster['Notes'][dfmaster['Status']=='Error_List'].value_counts()"
   ]
  },
  {
   "cell_type": "code",
   "execution_count": null,
   "metadata": {},
   "outputs": [],
   "source": [
    "dfmaster['Notes'][dfmaster['Status']=='OK'].value_counts()"
   ]
  },
  {
   "cell_type": "code",
   "execution_count": null,
   "metadata": {},
   "outputs": [],
   "source": [
    "dfmaster['Missing_PACS2_VNA'][dfmaster['Notes'] == 'dfinPACS2invnaMISMATCHIMAGECOUNT'].value_counts()"
   ]
  },
  {
   "cell_type": "code",
   "execution_count": null,
   "metadata": {},
   "outputs": [],
   "source": [
    "dfmaster['Missing_PACS1_PACS2'][dfmaster['Notes'] == 'dfinPACS2invnaMISMATCHIMAGECOUNT'].value_counts()"
   ]
  },
  {
   "cell_type": "code",
   "execution_count": null,
   "metadata": {
    "scrolled": true
   },
   "outputs": [],
   "source": [
    "dffinalerrorlist = dfmaster[dfmaster['Status'] == 'Error_List']"
   ]
  },
  {
   "cell_type": "code",
   "execution_count": null,
   "metadata": {
    "scrolled": true
   },
   "outputs": [],
   "source": [
    "dffinalerrorlist.to_csv(\"C:\\\\Users\\\\username\\\\desktop\\\\dffinalerrorlist.csv\", index=False)"
   ]
  },
  {
   "cell_type": "code",
   "execution_count": null,
   "metadata": {
    "scrolled": true
   },
   "outputs": [],
   "source": [
    "dfmaster.to_csv(\"C:\\\\Users\\\\username\\\\desktop\\\\dfPACS1finallist.csv\", index=False)"
   ]
  },
  {
   "cell_type": "code",
   "execution_count": null,
   "metadata": {},
   "outputs": [],
   "source": [
    "deltalist = [\n",
    "    'list'\n",
    "]"
   ]
  },
  {
   "cell_type": "code",
   "execution_count": null,
   "metadata": {},
   "outputs": [],
   "source": [
    "dfmaster['SOURCE_CALLING_TITLE_PACS2'][dfmaster['suid'].isin(deltalist)].value_counts()"
   ]
  },
  {
   "cell_type": "code",
   "execution_count": null,
   "metadata": {},
   "outputs": [],
   "source": [
    "dfmaster['STATION_NAME_PACS2'][dfmaster['suid'].isin(deltalist)].value_counts()"
   ]
  },
  {
   "cell_type": "code",
   "execution_count": null,
   "metadata": {},
   "outputs": [],
   "source": [
    "dfmaster['Notes'][(dfmaster['suid'].isin(deltalist)) & (dfmaster['SOURCE_CALLING_TITLE_PACS2']=='MISSING')].value_counts()"
   ]
  },
  {
   "cell_type": "code",
   "execution_count": null,
   "metadata": {},
   "outputs": [],
   "source": [
    "dfmaster[(dfmaster['suid'].isin(deltalist)) & (dfmaster['SOURCE_CALLING_TITLE_PACS2']=='SHC_MIG2')]"
   ]
  },
  {
   "cell_type": "code",
   "execution_count": null,
   "metadata": {},
   "outputs": [],
   "source": [
    "dfmaster.loc[70331,'suid']"
   ]
  },
  {
   "cell_type": "markdown",
   "metadata": {},
   "source": [
    "## Intial Setup and Testing"
   ]
  },
  {
   "cell_type": "code",
   "execution_count": null,
   "metadata": {
    "scrolled": true
   },
   "outputs": [],
   "source": [
    "cur.execute('''CREATE TABLE xsvanalysis4 (\n",
    "    DB TEXT \n",
    "    ,PATIENT_ID_PACS2 varchar(64) \n",
    "    ,patID  varchar(64) \n",
    "    ,ST_PATIENT_ID varchar(64) \n",
    "    ,ACCESSION_NUMBER_PACS2 varchar(64) \n",
    "    ,ST_ACCESSIONNUMBER varchar(64)\n",
    "    ,STUDY_UID_PACS2 varchar(64)\n",
    "    ,suid varchar(64)\n",
    "    ,ST_DICOM_UID varchar(64)\n",
    "    ,ALL_MATCH varchar(64)\n",
    "    ,PACS2_PACS1_MATCH varchar(64)\n",
    "    ,PACS1_VNA_MATCH varchar(64)\n",
    "    ,PACS2_VNA_MATCH varchar(64)\n",
    "    ,SERIES_UID_PACS2 varchar(64)\n",
    "    ,seriesuid varchar(64)\n",
    "    ,SE_DICOM_UID varchar(64)\n",
    "    ,STUDY_DATE_PACS2 varchar(64)\n",
    "    ,studydate varchar(14)\n",
    "    ,ST_DATE varchar(14)\n",
    "    ,NUM_SERIES_PACS2 int\n",
    "    ,num_series int\n",
    "    ,ST_NUM_SERIES int\n",
    "    ,NUM_OBJECT_SERIES_PACS2 int\n",
    "    ,num_object_series int\n",
    "    ,SE_IMAGES_SERIES int\n",
    "    ,NUM_OBJECTS_STUDY_PACS2 int\n",
    "    ,num_objects_study int\n",
    "    ,ST_IMAGES_STUDY int\n",
    "    ,Missing_PACS1_PACS2 int\n",
    "    ,Missing_PACS2_VNA int\n",
    "    ,INSTITUTIONAL_DEPARTMENT_NAME_PACS2 varchar(64)\n",
    "    ,SOURCE_CALLING_TITLE_PACS2 varchar(64)\n",
    "    ,STATION_NAME_PACS2  varchar(64)\n",
    "    ,STUDY_DESCRIPTION_PACS2 varchar(64)\n",
    "    ,MODALITY_PACS2 varchar(64)\n",
    "    ,modality varchar(64)\n",
    "    ,ST_MODALITYINSTUDY varchar(64)\n",
    "    ,PATIENT_NAME_PACS2 varchar(64)\n",
    "    ,PT_DICOMFAMILYNAMECOMPLEX varchar(64))''')\n",
    "cnx.commit()"
   ]
  },
  {
   "cell_type": "code",
   "execution_count": null,
   "metadata": {
    "scrolled": true
   },
   "outputs": [],
   "source": [
    "tempdf = pd.read_csv(\".\\\\PACS1fullandPACS2\\\\SecondRevised.csv\",sep='\\,',lineterminator='\\n')"
   ]
  },
  {
   "cell_type": "code",
   "execution_count": null,
   "metadata": {
    "scrolled": true
   },
   "outputs": [],
   "source": [
    "tempdf.to_sql('xsvanalysis5', cnx, if_exists='replace', index=False)"
   ]
  },
  {
   "cell_type": "code",
   "execution_count": null,
   "metadata": {},
   "outputs": [],
   "source": [
    "cur.execute(\"\"\"UPDATE xsvanalysis4 SET suid = REPLACE(LTRIM(RTRIM(suid)), '  ', ' ') where suid like '% %'\"\"\")"
   ]
  },
  {
   "cell_type": "code",
   "execution_count": null,
   "metadata": {
    "scrolled": true
   },
   "outputs": [],
   "source": [
    "cur.execute(\"\"\"SELECT COUNT(*) FROM site1PACS12\"\"\")\n",
    "cur.fetchall()"
   ]
  },
  {
   "cell_type": "code",
   "execution_count": null,
   "metadata": {
    "scrolled": true
   },
   "outputs": [],
   "source": [
    "cur.execute(\"\"\"SELECT COUNT(*) FROM xsvanalysis5\"\"\")\n",
    "cur.fetchall()"
   ]
  },
  {
   "cell_type": "code",
   "execution_count": null,
   "metadata": {
    "scrolled": true
   },
   "outputs": [],
   "source": [
    "df.columns"
   ]
  },
  {
   "cell_type": "code",
   "execution_count": null,
   "metadata": {
    "scrolled": true
   },
   "outputs": [],
   "source": [
    "cur.execute(\"\"\"UPDATE site1PACS11 SET suid = REPLACE(LTRIM(RTRIM(suid)), '  ', ' ') where suid like '% %'\"\"\")"
   ]
  },
  {
   "cell_type": "code",
   "execution_count": null,
   "metadata": {
    "scrolled": true
   },
   "outputs": [],
   "source": [
    "update tableName\n",
    "set colName = REPLACE(LTRIM(RTRIM(colName)), '  ', ' ')\n",
    "where colName like '%  %'"
   ]
  },
  {
   "cell_type": "code",
   "execution_count": null,
   "metadata": {
    "scrolled": true
   },
   "outputs": [],
   "source": [
    "tempdf2 = pd.read_csv(\"serieslevelcheck.csv\")"
   ]
  },
  {
   "cell_type": "code",
   "execution_count": null,
   "metadata": {
    "scrolled": true
   },
   "outputs": [],
   "source": [
    "tempdf = pd.read_csv(\"PACS1_site1_04022019.csv\")"
   ]
  },
  {
   "cell_type": "code",
   "execution_count": null,
   "metadata": {
    "scrolled": true
   },
   "outputs": [],
   "source": [
    "tempdf.to_sql('site1PACS11', cnx, if_exists='replace', index=False)"
   ]
  },
  {
   "cell_type": "code",
   "execution_count": null,
   "metadata": {
    "scrolled": true
   },
   "outputs": [],
   "source": [
    "tempdfvna = pd.read_csv(\"PACS104022019.csv\")"
   ]
  },
  {
   "cell_type": "code",
   "execution_count": null,
   "metadata": {
    "scrolled": true
   },
   "outputs": [],
   "source": [
    "tempdfPACS2 = pd.read_csv(\"PACS2serieslevel.csv\")"
   ]
  },
  {
   "cell_type": "code",
   "execution_count": null,
   "metadata": {
    "scrolled": true
   },
   "outputs": [],
   "source": [
    "tempdfvna.shape"
   ]
  },
  {
   "cell_type": "code",
   "execution_count": null,
   "metadata": {
    "scrolled": true
   },
   "outputs": [],
   "source": [
    "tempdfPACS2.shape"
   ]
  },
  {
   "cell_type": "code",
   "execution_count": null,
   "metadata": {
    "scrolled": true
   },
   "outputs": [],
   "source": [
    "tempdfvna.head()"
   ]
  },
  {
   "cell_type": "code",
   "execution_count": null,
   "metadata": {
    "scrolled": true
   },
   "outputs": [],
   "source": [
    "tempdfvna.columns"
   ]
  },
  {
   "cell_type": "code",
   "execution_count": null,
   "metadata": {
    "scrolled": true
   },
   "outputs": [],
   "source": [
    "tempdfvna.sort_values('ST_IMAGES_STUDY', ascending=False, inplace=True)"
   ]
  },
  {
   "cell_type": "code",
   "execution_count": null,
   "metadata": {
    "scrolled": true
   },
   "outputs": [],
   "source": [
    "tempdfvna = tempdfvna.drop_duplicates(subset='seriesuid',keep='first').copy()"
   ]
  },
  {
   "cell_type": "code",
   "execution_count": null,
   "metadata": {
    "scrolled": true
   },
   "outputs": [],
   "source": [
    "tempdfvna.shape"
   ]
  },
  {
   "cell_type": "code",
   "execution_count": null,
   "metadata": {
    "scrolled": true
   },
   "outputs": [],
   "source": [
    "tempdfPACS2.shape"
   ]
  },
  {
   "cell_type": "code",
   "execution_count": null,
   "metadata": {
    "scrolled": true
   },
   "outputs": [],
   "source": [
    "tempdfvna.seriesuid.duplicated().any()"
   ]
  },
  {
   "cell_type": "code",
   "execution_count": null,
   "metadata": {
    "scrolled": true
   },
   "outputs": [],
   "source": [
    "tempdfPACS2.seriesuid.duplicated().any()"
   ]
  },
  {
   "cell_type": "code",
   "execution_count": null,
   "metadata": {
    "scrolled": true
   },
   "outputs": [],
   "source": [
    "tempdfPACS2 = tempdfPACS2.drop_duplicates(subset='seriesuid',keep='first').copy()"
   ]
  },
  {
   "cell_type": "code",
   "execution_count": null,
   "metadata": {
    "scrolled": true
   },
   "outputs": [],
   "source": [
    "tempdfPACS2[~tempdfPACS2.seriesuid.isin(tempdfvna['seriesuid'])]"
   ]
  },
  {
   "cell_type": "code",
   "execution_count": null,
   "metadata": {
    "scrolled": true
   },
   "outputs": [],
   "source": [
    "tempdfPACS2.columns"
   ]
  },
  {
   "cell_type": "code",
   "execution_count": null,
   "metadata": {
    "scrolled": true
   },
   "outputs": [],
   "source": [
    "tempdfPACS2.head()"
   ]
  },
  {
   "cell_type": "code",
   "execution_count": null,
   "metadata": {
    "scrolled": true
   },
   "outputs": [],
   "source": [
    "tempdfPACS2.shape"
   ]
  },
  {
   "cell_type": "code",
   "execution_count": null,
   "metadata": {
    "scrolled": true
   },
   "outputs": [],
   "source": [
    "tempdfPACS2.dtypes"
   ]
  },
  {
   "cell_type": "code",
   "execution_count": null,
   "metadata": {
    "scrolled": true
   },
   "outputs": [],
   "source": [
    "tempdfPACS2.rename({'modal':'modality'}, axis='columns', inplace=True)"
   ]
  },
  {
   "cell_type": "code",
   "execution_count": null,
   "metadata": {
    "scrolled": true
   },
   "outputs": [],
   "source": [
    "tempcolumns = ['PATIENT_ID_PACS2', 'patID', 'ACCESSION_NUMBER_PACS2', 'STUDY_UID_PACS2',\n",
    "       'suid', 'SERIES_UID_PACS2', 'STUDY_DATE_PACS2', 'studydate',\n",
    "       'NUM_SERIES_PACS2', 'num_series', 'NUM_OBJECT_SERIES_PACS2',\n",
    "       'num_object_series', 'NUM_OBJECTS_STUDY_PACS2', 'num_objects_study',\n",
    "       'Missing_PACS1_PACS2', 'INSTITUTIONAL_DEPARTMENT_NAME_PACS2',\n",
    "       'SOURCE_CALLING_TITLE_PACS2', 'STATION_NAME_PACS2', 'STUDY_DESCRIPTION_PACS2',\n",
    "       'MODALITY_PACS2', 'modality', 'PATIENT_NAME_PACS2']"
   ]
  },
  {
   "cell_type": "code",
   "execution_count": null,
   "metadata": {
    "scrolled": true
   },
   "outputs": [],
   "source": [
    "tempdfvnaonly = tempdfvna.drop(tempcolumns, axis=1)"
   ]
  },
  {
   "cell_type": "code",
   "execution_count": null,
   "metadata": {
    "scrolled": true
   },
   "outputs": [],
   "source": [
    "tempdfvnaonly.dtypes"
   ]
  },
  {
   "cell_type": "code",
   "execution_count": null,
   "metadata": {
    "scrolled": true
   },
   "outputs": [],
   "source": [
    "tempmerge = tempdfvnaonly.merge(tempdfPACS2, how = 'outer', on = ['seriesuid'])\n",
    "tempmerge.shape"
   ]
  },
  {
   "cell_type": "code",
   "execution_count": null,
   "metadata": {
    "scrolled": true
   },
   "outputs": [],
   "source": [
    "tempdf[(tempdf['seriesuid'].isin(tempdf3['seriesuid'])) & (tempdf['NUM_OBJECTS_STUDY_PACS2']==tempdf3['NUM_OBJECTS_STUDY_PACS2']) ]"
   ]
  },
  {
   "cell_type": "code",
   "execution_count": null,
   "metadata": {
    "scrolled": true
   },
   "outputs": [],
   "source": [
    "tempdf[tempdf['seriesuid'].isin(tempdf3['seriesuid'])]"
   ]
  },
  {
   "cell_type": "code",
   "execution_count": null,
   "metadata": {
    "scrolled": true
   },
   "outputs": [],
   "source": [
    "cur.execute(\"\"\"SELECT * FROM xsvanalysis3 LIMIT 5\"\"\")\n",
    "rows = cur.fetchall()\n",
    "xsvanalyis3top5 = pd.DataFrame(rows)\n",
    "xsvanalyis3top5"
   ]
  },
  {
   "cell_type": "code",
   "execution_count": null,
   "metadata": {
    "scrolled": true
   },
   "outputs": [],
   "source": [
    "tempdf2 = pd.read_csv(\"PACS1_Extract_03_18_2019.csv\")"
   ]
  },
  {
   "cell_type": "code",
   "execution_count": null,
   "metadata": {
    "scrolled": true
   },
   "outputs": [],
   "source": [
    "tempdf2.columns"
   ]
  },
  {
   "cell_type": "code",
   "execution_count": null,
   "metadata": {
    "scrolled": true
   },
   "outputs": [],
   "source": [
    "tempdf2 = tempdf2.iloc[tempdf2.suid.drop_duplicates().index,:]\n"
   ]
  },
  {
   "cell_type": "code",
   "execution_count": null,
   "metadata": {
    "scrolled": true
   },
   "outputs": [],
   "source": [
    "splitstudysuid = tempdf2.suid.str.strip()"
   ]
  },
  {
   "cell_type": "code",
   "execution_count": null,
   "metadata": {
    "scrolled": true
   },
   "outputs": [],
   "source": [
    "dfsplitstudysuid = dfdeidentified[dfdeidentified['suid'].isin(splitstudysuid)]\n",
    "dfsplitstudysuid.to_csv(\"C:\\\\Users\\\\username\\\\desktop\\\\dfsplitstudysuid.csv\", index=False)\n",
    "dfsplitstudysuid.shape"
   ]
  },
  {
   "cell_type": "code",
   "execution_count": null,
   "metadata": {
    "scrolled": true
   },
   "outputs": [],
   "source": [
    "dftesting['split_study'] = 'NO'"
   ]
  },
  {
   "cell_type": "code",
   "execution_count": null,
   "metadata": {
    "scrolled": true
   },
   "outputs": [],
   "source": [
    "dftesting['split_study'][df['suid'] == ]"
   ]
  },
  {
   "cell_type": "code",
   "execution_count": null,
   "metadata": {},
   "outputs": [],
   "source": [
    "missingimages = ['list','list2'\n",
    "]"
   ]
  },
  {
   "cell_type": "code",
   "execution_count": null,
   "metadata": {},
   "outputs": [],
   "source": [
    "dfmisisngimages = dfdeidentified[dfdeidentified['suid'].isin(missingimages)]\n",
    "dfmisisngimages.to_csv(\"C:\\\\Users\\\\username\\\\Desktop\\\\dfmissingstudies.csv\")"
   ]
  },
  {
   "cell_type": "code",
   "execution_count": null,
   "metadata": {
    "scrolled": true
   },
   "outputs": [],
   "source": [
    "studyuidfilter = 'suid'"
   ]
  },
  {
   "cell_type": "code",
   "execution_count": null,
   "metadata": {
    "scrolled": true
   },
   "outputs": [],
   "source": [
    "dfsinglestudy = df[df['suid']==studyuidfilter]\n",
    "dfsinglestudy.to_csv(\"C:\\\\Users\\\\username\\\\desktop\\\\dfsinglestudy.csv\", index=False)\n",
    "dfsinglestudy.shape"
   ]
  },
  {
   "cell_type": "code",
   "execution_count": null,
   "metadata": {
    "scrolled": true
   },
   "outputs": [],
   "source": [
    "df2row = df2[df2['suid']==studyuidfilter]\n",
    "df2row.to_csv(\"C:\\\\Users\\\\username\\\\desktop\\\\df2row.csv\", index=False)\n",
    "df2row.shape"
   ]
  },
  {
   "cell_type": "code",
   "execution_count": null,
   "metadata": {
    "scrolled": true
   },
   "outputs": [],
   "source": [
    "dfmergerow = dfmerge[dfmerge['suid']==studyuidfilter]\n",
    "dfmergerow.to_csv(\"C:\\\\Users\\\\username\\\\desktop\\\\dfmergerow.csv\", index=False)\n",
    "dfmergerow.shape"
   ]
  },
  {
   "cell_type": "code",
   "execution_count": null,
   "metadata": {
    "scrolled": true
   },
   "outputs": [],
   "source": [
    "patIDstring = '99'"
   ]
  },
  {
   "cell_type": "code",
   "execution_count": null,
   "metadata": {
    "scrolled": true
   },
   "outputs": [],
   "source": [
    "dfsinglepatient = df[(df['patID'].str.contains(patIDstring)) | (df['PATIENT_ID_PACS2'].str.contains(patIDstring)) |(df['ST_PATIENT_ID'].str.contains(patIDstring)) ]\n",
    "dfsinglepatient.to_csv(\"C:\\\\Users\\\\username\\\\desktop\\\\dfsinglepatient.csv\", index=False)\n",
    "dfsinglepatient.shape"
   ]
  },
  {
   "cell_type": "code",
   "execution_count": null,
   "metadata": {
    "scrolled": true
   },
   "outputs": [],
   "source": [
    "df2rowpatient = df2[(df2['patID'].str.contains(patIDstring)) | (df2['PATIENT_ID_PACS2'].str.contains(patIDstring)) |(df2['ST_PATIENT_ID'].str.contains(patIDstring))]\n",
    "df2rowpatient.to_csv(\"C:\\\\Users\\\\username\\\\desktop\\\\df2rowpatient.csv\", index=False)\n",
    "df2rowpatient.shape"
   ]
  },
  {
   "cell_type": "code",
   "execution_count": null,
   "metadata": {
    "scrolled": true
   },
   "outputs": [],
   "source": [
    "dfmergerowpatient = dfmerge[\n",
    "(dfmerge['patID_x'].str.contains(patIDstring)) | \n",
    "(dfmerge['PATIENT_ID_PACS2_x'].str.contains(patIDstring)) | \n",
    "(dfmerge['patID_y'].str.contains(patIDstring)) | \n",
    "(dfmerge['PATIENT_ID_PACS2_y'].str.contains(patIDstring)) |\n",
    "(dfmerge['ST_PATIENT_ID'].str.contains(patIDstring))]\n",
    "dfmergerowpatient.to_csv(\"C:\\\\Users\\\\username\\\\desktop\\\\dfmergerowpatient.csv\", index=False)\n",
    "dfmergerowpatient.shape"
   ]
  },
  {
   "cell_type": "code",
   "execution_count": null,
   "metadata": {
    "scrolled": true
   },
   "outputs": [],
   "source": [
    "dfinsygnonotinvna[dfinPACS2notinvna['STUDY_UID_PACS2']=='']"
   ]
  },
  {
   "cell_type": "code",
   "execution_count": null,
   "metadata": {
    "scrolled": true
   },
   "outputs": [],
   "source": [
    "df.drop_duplicates(subset='suid',keep='first').duplicated().any()"
   ]
  },
  {
   "cell_type": "code",
   "execution_count": null,
   "metadata": {
    "scrolled": true
   },
   "outputs": [],
   "source": [
    "df.dtypes"
   ]
  },
  {
   "cell_type": "code",
   "execution_count": null,
   "metadata": {
    "scrolled": true
   },
   "outputs": [],
   "source": [
    "df.suid.duplicated().any()"
   ]
  },
  {
   "cell_type": "code",
   "execution_count": null,
   "metadata": {
    "scrolled": true
   },
   "outputs": [],
   "source": [
    "tempdfsite1 = pd.read_csv(\"site1PACS1.csv\")"
   ]
  },
  {
   "cell_type": "code",
   "execution_count": null,
   "metadata": {
    "scrolled": true
   },
   "outputs": [],
   "source": [
    "tempdfsite1.columns"
   ]
  },
  {
   "cell_type": "code",
   "execution_count": null,
   "metadata": {
    "scrolled": true
   },
   "outputs": [],
   "source": [
    "dfmaster.columns"
   ]
  },
  {
   "cell_type": "code",
   "execution_count": null,
   "metadata": {
    "scrolled": true
   },
   "outputs": [],
   "source": [
    "dfmaster.Status.value_counts()"
   ]
  },
  {
   "cell_type": "code",
   "execution_count": null,
   "metadata": {
    "scrolled": true
   },
   "outputs": [],
   "source": [
    "dfmaster['suid'][dfmaster['Status']=='perfectmatch']"
   ]
  },
  {
   "cell_type": "code",
   "execution_count": null,
   "metadata": {
    "scrolled": true
   },
   "outputs": [],
   "source": [
    "tempdfsite1['StudyInstanceUID'] = tempdfsite1['StudyInstanceUID'].str.strip()"
   ]
  },
  {
   "cell_type": "code",
   "execution_count": null,
   "metadata": {
    "scrolled": true
   },
   "outputs": [],
   "source": [
    "tempdfsite1.shape"
   ]
  },
  {
   "cell_type": "code",
   "execution_count": null,
   "metadata": {
    "scrolled": true
   },
   "outputs": [],
   "source": [
    "tempdfsite1.columns"
   ]
  },
  {
   "cell_type": "code",
   "execution_count": null,
   "metadata": {
    "scrolled": true
   },
   "outputs": [],
   "source": [
    "tempdfsite1.loc[2131,'StudyInstanceUID']"
   ]
  },
  {
   "cell_type": "code",
   "execution_count": null,
   "metadata": {
    "scrolled": true
   },
   "outputs": [],
   "source": [
    "tempdfsite1[tempdfsite1['StudyInstanceUID'].duplicated()]"
   ]
  },
  {
   "cell_type": "code",
   "execution_count": null,
   "metadata": {
    "scrolled": true
   },
   "outputs": [],
   "source": [
    "tempdfsite1singlestudy = tempdfsite1[tempdfsite1['StudyInstanceUID']=='']\n",
    "tempdfsite1singlestudy.to_csv(\"C:\\\\Users\\\\username\\\\desktop\\\\tempdfsite1singlestudy.csv\", index=False)\n",
    "tempdfsite1singlestudy.shape"
   ]
  },
  {
   "cell_type": "code",
   "execution_count": null,
   "metadata": {
    "scrolled": true
   },
   "outputs": [],
   "source": [
    "tempdfsite1[tempdfsite1['StudyInstanceUID'].isin(dfmaster['suid'][dfmaster['Status']=='perfectmatch'])]"
   ]
  },
  {
   "cell_type": "code",
   "execution_count": null,
   "metadata": {},
   "outputs": [],
   "source": [
    "#Cleanup Database after finishing analysis\n",
    "cur.execute(\"SELECT name FROM sqlite_master WHERE type='table';\")\n",
    "cur.fetchall()    "
   ]
  },
  {
   "cell_type": "code",
   "execution_count": null,
   "metadata": {},
   "outputs": [],
   "source": [
    "cur.execute('''DROP TABLE xsvanalysis4''')\n"
   ]
  },
  {
   "cell_type": "code",
   "execution_count": null,
   "metadata": {},
   "outputs": [],
   "source": [
    "cur.execute('''DROP TABLE mostconcern''')\n",
    "cur.execute('''DROP TABLE xsvanalysis''')\n",
    "cur.execute('''DROP TABLE xsvanalysis2''')\n",
    "cur.execute('''DROP TABLE xsvanalysis3''')\n",
    "cur.execute('''DROP TABLE xsvanalysis5''')\n"
   ]
  },
  {
   "cell_type": "code",
   "execution_count": null,
   "metadata": {},
   "outputs": [],
   "source": [
    "cur.execute('VACUUM')"
   ]
  },
  {
   "cell_type": "markdown",
   "metadata": {},
   "source": [
    "## END HERE. Previous Build Below"
   ]
  },
  {
   "cell_type": "markdown",
   "metadata": {},
   "source": [
    "OLD JUNK"
   ]
  },
  {
   "cell_type": "code",
   "execution_count": null,
   "metadata": {},
   "outputs": [],
   "source": [
    "duplicatesdf = pd.read_csv('Duplicates04_10_2019.csv')"
   ]
  },
  {
   "cell_type": "code",
   "execution_count": null,
   "metadata": {},
   "outputs": [],
   "source": [
    "duplicatesdf.head()"
   ]
  },
  {
   "cell_type": "code",
   "execution_count": null,
   "metadata": {},
   "outputs": [],
   "source": [
    "dfmaster['Missing_PACS1_PACS2'][(dfmaster['Notes'] == 'dfinPACS2invnaMISMATCHIMAGECOUNT') & dfmaster['suid'].isin(duplicatesdf['suid'])].value_counts()"
   ]
  },
  {
   "cell_type": "code",
   "execution_count": null,
   "metadata": {},
   "outputs": [],
   "source": [
    "duplicatesdf.suid.duplicated().any()"
   ]
  },
  {
   "cell_type": "code",
   "execution_count": null,
   "metadata": {},
   "outputs": [],
   "source": [
    "duplicatesdf.drop_duplicates(subset='suid',keep='first',inplace=True)"
   ]
  },
  {
   "cell_type": "code",
   "execution_count": null,
   "metadata": {},
   "outputs": [],
   "source": [
    "duplicatesd\\"
   ]
  },
  {
   "cell_type": "code",
   "execution_count": null,
   "metadata": {
    "scrolled": true
   },
   "outputs": [],
   "source": [
    "dfmaster.suid.duplicated().any()"
   ]
  },
  {
   "cell_type": "code",
   "execution_count": null,
   "metadata": {
    "scrolled": true
   },
   "outputs": [],
   "source": [
    "dfmaster.columns"
   ]
  },
  {
   "cell_type": "code",
   "execution_count": null,
   "metadata": {
    "scrolled": true
   },
   "outputs": [],
   "source": [
    "print(dfmaster['suid'][dfmaster['Status'] == 'Error_List'][2])"
   ]
  },
  {
   "cell_type": "code",
   "execution_count": null,
   "metadata": {
    "scrolled": true
   },
   "outputs": [],
   "source": [
    "dfmaster.loc[1:5,'suid'][dfmaster['Status' == 'Error_List']]"
   ]
  },
  {
   "cell_type": "code",
   "execution_count": null,
   "metadata": {
    "scrolled": true
   },
   "outputs": [],
   "source": [
    "print(dfmaster.loc[1:5,'suid'][dfmaster['Status' == 'Error_List']])"
   ]
  },
  {
   "cell_type": "code",
   "execution_count": null,
   "metadata": {
    "scrolled": true
   },
   "outputs": [],
   "source": [
    "df2['ACCESSION_NUMBER_PACS2'][df2['suid']=='']"
   ]
  },
  {
   "cell_type": "code",
   "execution_count": null,
   "metadata": {
    "scrolled": true
   },
   "outputs": [],
   "source": [
    "df.to_sql('xsvanalysis', cnx, if_exists='replace', index=False)"
   ]
  },
  {
   "cell_type": "code",
   "execution_count": null,
   "metadata": {
    "scrolled": true
   },
   "outputs": [],
   "source": [
    "dfconcern.to_sql('mostconcern', cnx, if_exists='replace', index=False)"
   ]
  },
  {
   "cell_type": "code",
   "execution_count": null,
   "metadata": {
    "scrolled": true
   },
   "outputs": [],
   "source": [
    "cur.execute(\"\"\"SELECT PACS2_VNA_MATCH, Missing_PACS2_VNA, ST_IMAGES_STUDY FROM mostconcern GROUP BY CUBE(PACS2_VNA_MATCH,Missing_PACS2_VNA,ST_IMAGES_STUDY)\"\"\")\n",
    "cur.fetchall()"
   ]
  },
  {
   "cell_type": "code",
   "execution_count": null,
   "metadata": {
    "scrolled": true
   },
   "outputs": [],
   "source": [
    "df.shape"
   ]
  },
  {
   "cell_type": "code",
   "execution_count": null,
   "metadata": {
    "scrolled": false
   },
   "outputs": [],
   "source": [
    "dfconcern = df2[(df2['PACS2_VNA_MATCH'] != 'MATCH') | (df2['Missing_PACS2_VNA'] > 0) | ((df2['Missing_PACS2_VNA'] == 0) & (df2['ST_IMAGES_STUDY'] == 0))]"
   ]
  },
  {
   "cell_type": "code",
   "execution_count": null,
   "metadata": {
    "scrolled": true
   },
   "outputs": [],
   "source": [
    "dfconcern.shape"
   ]
  },
  {
   "cell_type": "code",
   "execution_count": null,
   "metadata": {
    "scrolled": false
   },
   "outputs": [],
   "source": [
    "dfconcern.suid.unique().shape[0]"
   ]
  },
  {
   "cell_type": "code",
   "execution_count": null,
   "metadata": {
    "scrolled": true
   },
   "outputs": [],
   "source": [
    "dfconcern['PACS2_VNA_MATCH'].value_counts()"
   ]
  },
  {
   "cell_type": "code",
   "execution_count": null,
   "metadata": {
    "scrolled": true
   },
   "outputs": [],
   "source": [
    "dfconcern['Missing_PACS2_VNA'].value_counts()"
   ]
  },
  {
   "cell_type": "code",
   "execution_count": null,
   "metadata": {
    "scrolled": true
   },
   "outputs": [],
   "source": [
    "dfconcern[(dfconcern['Missing_PACS2_VNA']==0)]"
   ]
  },
  {
   "cell_type": "code",
   "execution_count": null,
   "metadata": {
    "scrolled": true
   },
   "outputs": [],
   "source": [
    "dfconcern.loc[:,'suid'][dfconcern['Missing_PACS2_VNA'] > 0].unique().shape[0]"
   ]
  },
  {
   "cell_type": "code",
   "execution_count": null,
   "metadata": {
    "scrolled": true
   },
   "outputs": [],
   "source": [
    "dfmostconcern = dfconcern[(dfconcern['Missing_PACS2_VNA'] > 0) & (dfconcern['Missing_PACS1_PACS2']>=0)]"
   ]
  },
  {
   "cell_type": "code",
   "execution_count": null,
   "metadata": {
    "scrolled": true
   },
   "outputs": [],
   "source": [
    "dfmostconcern.loc[:,'studydate'].min()"
   ]
  },
  {
   "cell_type": "code",
   "execution_count": null,
   "metadata": {
    "scrolled": true
   },
   "outputs": [],
   "source": [
    "dfmostconcern.loc[:,'NUM_SERIES_PACS2':'Missing_PACS2_VNA'][dfmostconcern['Missing_PACS1_PACS2']>0]"
   ]
  },
  {
   "cell_type": "code",
   "execution_count": null,
   "metadata": {
    "scrolled": true
   },
   "outputs": [],
   "source": [
    "cur.execute(\"\"\"SELECT count(*) FROM xsvanalysis\"\"\")\n",
    "cur.fetchall()"
   ]
  },
  {
   "cell_type": "code",
   "execution_count": null,
   "metadata": {
    "scrolled": true
   },
   "outputs": [],
   "source": [
    "df.loc[:,'PACS2_VNA_MATCH':'Missing_PACS2_VNA'][dfconcern['Missing_PACS2_VNA'] >= 0]"
   ]
  },
  {
   "cell_type": "code",
   "execution_count": null,
   "metadata": {
    "scrolled": true
   },
   "outputs": [],
   "source": [
    "dfconcern['Missing_PACS2_VNA'][dfconcern['PACS2_VNA_MATCH']=='NO MATCH'].value_counts()"
   ]
  },
  {
   "cell_type": "code",
   "execution_count": null,
   "metadata": {
    "scrolled": true
   },
   "outputs": [],
   "source": [
    "cur.execute(\"\"\"SELECT count(*) FROM xsvanalysis\"\"\")\n",
    "cur.fetchall()"
   ]
  },
  {
   "cell_type": "code",
   "execution_count": null,
   "metadata": {
    "scrolled": true
   },
   "outputs": [],
   "source": [
    "cur.execute(\"\"\"SELECT count(*) FROM xsvanalysis \n",
    "            WHERE PACS2_VNA_MATCH= 'NO MATCH' OR Missing_PACS2_VNA != 0;\"\"\")\n",
    "cur.fetchall()\n"
   ]
  },
  {
   "cell_type": "code",
   "execution_count": null,
   "metadata": {
    "scrolled": true
   },
   "outputs": [],
   "source": [
    "columns = list(df.columns.values)"
   ]
  },
  {
   "cell_type": "code",
   "execution_count": null,
   "metadata": {
    "scrolled": false
   },
   "outputs": [],
   "source": [
    "cur.execute(\"\"\"SELECT * FROM xsvanalysis \n",
    "            WHERE PACS2_VNA_MATCH= 'NO MATCH' OR Missing_PACS2_VNA != 0;\"\"\")\n",
    "rows = cur.fetchall()\n",
    "df2 = pd.DataFrame(rows,columns)\n",
    "df2"
   ]
  },
  {
   "cell_type": "code",
   "execution_count": null,
   "metadata": {
    "scrolled": true
   },
   "outputs": [],
   "source": [
    "df3 = pd.read_sql_query(\"\"\"SELECT * FROM xsvanalysis \n",
    "            WHERE PACS2_VNA_MATCH= 'NO MATCH' OR Missing_PACS2_VNA != 0;\"\"\", cnx)"
   ]
  },
  {
   "cell_type": "code",
   "execution_count": null,
   "metadata": {
    "scrolled": true
   },
   "outputs": [],
   "source": [
    "df3.to_csv(\"C:\\\\temp\\\\problemstudies.csv\", index=False)"
   ]
  },
  {
   "cell_type": "code",
   "execution_count": null,
   "metadata": {
    "scrolled": true
   },
   "outputs": [],
   "source": [
    "cur.execute(\"\"\"SELECT * FORM xsvanalaysis WHERE PACS2_VNA_MATCH = 'NO MATCH' \"\"\")"
   ]
  },
  {
   "cell_type": "code",
   "execution_count": null,
   "metadata": {
    "scrolled": true
   },
   "outputs": [],
   "source": [
    "df3.head()"
   ]
  },
  {
   "cell_type": "code",
   "execution_count": null,
   "metadata": {
    "scrolled": true
   },
   "outputs": [],
   "source": [
    "cur.execute(\"\"\"SELECT ALL FROM xsvanalysis \n",
    "            WHERE PACS2_VNA_MATCH= 'NO MATCH' OR Missing_PACS2_VNA != 0;\"\"\")\n",
    "cur.fetchall()\n"
   ]
  },
  {
   "cell_type": "code",
   "execution_count": null,
   "metadata": {
    "scrolled": true
   },
   "outputs": [],
   "source": [
    "dfmostconcern.to_csv(\"C:\\\\Users\\\\username\\\\desktop\\\\mostproblemstudies.csv\", index=False)"
   ]
  }
 ],
 "metadata": {
  "kernelspec": {
   "display_name": "Python 3",
   "language": "python",
   "name": "python3"
  },
  "language_info": {
   "codemirror_mode": {
    "name": "ipython",
    "version": 3
   },
   "file_extension": ".py",
   "mimetype": "text/x-python",
   "name": "python",
   "nbconvert_exporter": "python",
   "pygments_lexer": "ipython3",
   "version": "3.7.0"
  }
 },
 "nbformat": 4,
 "nbformat_minor": 2
}
