{
 "cells": [
  {
   "cell_type": "code",
   "execution_count": null,
   "metadata": {},
   "outputs": [],
   "source": [
    "#Setup packages and sqlite connection\n",
    "import sqlite3 as sq\n",
    "import pandas as pd\n",
    "import numpy as np\n",
    "cnx = sq.connect('test.db')\n",
    "cur = cnx.cursor()"
   ]
  },
  {
   "cell_type": "code",
   "execution_count": null,
   "metadata": {},
   "outputs": [],
   "source": [
    "#Load Data from PACS1\n",
    "#Set PK from PACS1 (PAT_ID) as Index\n",
    "dfpatientextract = pd.read_csv('PACS1patientextract05012019.csv' \n",
    "                               ,header=0\n",
    "                               ,converters={'PACS1_MRN':str, 'PACS1_MRN_9_Digits':str, 'PACS1_MRN_12_Digits':str}\n",
    "                               ,index_col = 'PACS1_PAT_ID'\n",
    "                               ,parse_dates=['PACS1_DOB'], date_parser = lambda d: pd.to_datetime(d, format = '%Y%m%d', errors='coerce')\n",
    "                               )\n",
    "dfpatientextract.shape"
   ]
  },
  {
   "cell_type": "code",
   "execution_count": null,
   "metadata": {},
   "outputs": [],
   "source": [
    "dfpatientextract.head()"
   ]
  },
  {
   "cell_type": "code",
   "execution_count": null,
   "metadata": {},
   "outputs": [],
   "source": [
    "#Load Crosswalk data from EDW team, sheet by sheet\n",
    "dfcurrentmrnmatch = pd.read_excel('PACS1_Mapping.xlsx'\n",
    "                                  ,sheet_name = 'Current MRN mapping'\n",
    "                                  ,header=0\n",
    "                                  ,index_col = 'PAT_ID'\n",
    "                                  ,usecols = ['PAT_ID', 'Clarity_MRN','Clarity_PAT_NAME','Clarity_DOB','Clarity_SEX']\n",
    "                                #  ,names = ['Mapped_MRN','Clarity_PAT_NAME','Clarity_DOB','Mapped_Gender']\n",
    "                                  ,converters={'Clarity_MRN':str}\n",
    "                                # ,parse_dates=['Clarity_DOB'], date_parser = lambda d: pd.Series.dt.strftime(d, format=\"%Y%m%d\")\n",
    "                                 )\n",
    "\n",
    "dfcurrentmrnmatch.shape"
   ]
  },
  {
   "cell_type": "code",
   "execution_count": null,
   "metadata": {},
   "outputs": [],
   "source": [
    "dfhistoricalmrnmatch = pd.read_excel('PACS1_Mapping.xlsx'\n",
    "                                  ,sheet_name = 'Historical MRN Mapping'\n",
    "                                  ,header=0\n",
    "                                  ,index_col = 'PAT_ID'\n",
    "                                  ,usecols = ['PAT_ID', 'Clarity_New_MRN_2','Clarity_PAT_NAME','CLARITY_DOB','Clarity_SEX']\n",
    "                                 # ,names = ['PAT_ID','Mapped_MRN','Clarity_PAT_NAME','Clarity_DOB','Mapped_Gender']\n",
    "                                  ,converters={'Clarity_New_MRN_2':str}\n",
    "                                 ,parse_dates=['Clarity_DOB'], date_parser = lambda d: pd.Series.dt.strftime(d, format=\"%Y%m%d\")\n",
    "                                 )\n",
    "\n",
    "dfhistoricalmrnmatch.shape"
   ]
  },
  {
   "cell_type": "code",
   "execution_count": null,
   "metadata": {},
   "outputs": [],
   "source": [
    "dfnomrnmatch = pd.read_excel('RemainingToBeMapped.xlsx'\n",
    "                                  ,sheet_name = 'No Mapping'\n",
    "                                  ,header=0\n",
    "                                  ,index_col = 'PAT_ID'\n",
    "                                  ,usecols = ['PAT_ID', 'PACS1_MRN','NAME_L','NAME_F','DOB','GENDER']\n",
    "                                 # ,names = ['PAT_ID','Mapped_MRN','Clarity_PAT_NAME','Clarity_DOB','Mapped_Gender']\n",
    "                                  ,converters={'PACS1_MRN':str}\n",
    "                                 ,parse_dates=['Clarity_DOB'], date_parser = lambda d: pd.Series.dt.strftime(d, format=\"%Y%m%d\")\n",
    "                            )\n",
    "dfnomrnmatch.shape"
   ]
  },
  {
   "cell_type": "code",
   "execution_count": null,
   "metadata": {},
   "outputs": [],
   "source": [
    "dfnewmrnmatch = pd.read_excel('RemainingToBeMapped.xlsx'\n",
    "                                 ,sheet_name = '5.20.2019 Mapping'\n",
    "                                 ,header = 0\n",
    "                                 ,index_col = 'PAT_ID'\n",
    "                                 ,usecols = ['PAT_ID','Clarity_MRN','Clarity_new_MRN','Clarity_PAT_NAME','Clarity_DOB','Clarity_SEX']\n",
    "                                 ,converters = {'Clarity_MRN':str, 'Clarity_new_MRN':str}\n",
    "                             )\n",
    "dfnewmrnmatch.shape"
   ]
  },
  {
   "cell_type": "code",
   "execution_count": null,
   "metadata": {},
   "outputs": [],
   "source": [
    "# cur.execute('''CREATE TABLE currentmrnmatch (\n",
    "#                 PAT_ID varchar(10) NOT NULL PRIMARY KEY \n",
    "#                 ,Clarity_MRN varchar(12)\n",
    "#                 ,Clarity_PAT_NAME varchar(112)\n",
    "#                 ,Clarity_DOB datetime\n",
    "#                 ,Clarity_SEX varchar(2)\n",
    "#                 )\n",
    "#                 ''')\n",
    "\n",
    "# cur.execute('''CREATE TABLE historicalmrnmatch (\n",
    "#                 PAT_ID varchar(10) NOT NULL PRIMARY KEY \n",
    "#                 ,Clarity_New_MRN_2 varchar(12)\n",
    "#                 ,Clarity_PAT_NAME varchar(112)\n",
    "#                 ,CLARITY_DOB datetime\n",
    "#                 ,Clarity_SEX varchar(2)\n",
    "#                 )\n",
    "#                 ''')"
   ]
  },
  {
   "cell_type": "code",
   "execution_count": null,
   "metadata": {},
   "outputs": [],
   "source": [
    "# dfcurrentmrnmatch.to_sql(\"currentmrnmatch\", cnx, if_exists='replace', index='PAT_ID')\n",
    "# dfhistoricalmrnmatch.to_sql(\"historicalmrnmatch\", cnx, if_exists='replace', index='PAT_ID')\n",
    "# dfnomrnmatch.to_sql(\"nomrnmatch\", cnx, if_exists='replace', index='PAT_ID')\n",
    "# dfnewmrnmatch.to_sql(\"newmrnmatch\", cnx, if_exists='replace', index='PAT_ID')"
   ]
  },
  {
   "cell_type": "code",
   "execution_count": null,
   "metadata": {},
   "outputs": [],
   "source": [
    "dfcurrentmrnmatch =pd.read_sql_query(\"\"\"SELECT * FROM currentmrnmatch;\"\"\", cnx, index_col='PAT_ID')\n",
    "dfhistoricalmrnmatch =pd.read_sql_query(\"\"\"SELECT * FROM historicalmrnmatch;\"\"\", cnx, index_col='PAT_ID')\n",
    "dfnomrnmatch =pd.read_sql_query(\"\"\"SELECT * FROM nomrnmatch;\"\"\", cnx, index_col='PAT_ID')\n",
    "dfnewmrnmatch =pd.read_sql_query(\"\"\"SELECT * FROM newmrnmatch;\"\"\", cnx, index_col='PAT_ID')"
   ]
  },
  {
   "cell_type": "code",
   "execution_count": null,
   "metadata": {},
   "outputs": [],
   "source": [
    "dfpatientextract.info()"
   ]
  },
  {
   "cell_type": "code",
   "execution_count": null,
   "metadata": {},
   "outputs": [],
   "source": [
    "dfnewmrnmatch.loc[~dfnewmrnmatch['Clarity_MRN'].isnull(),'Mapped_MRN'] = dfnewmrnmatch['Clarity_MRN'][~dfnewmrnmatch['Clarity_MRN'].isnull()]\n",
    "dfnewmrnmatch.loc[dfnewmrnmatch['Clarity_MRN'].isnull(),'Mapped_MRN'] = dfnewmrnmatch['Clarity_new_MRN'][dfnewmrnmatch['Clarity_MRN'].isnull()]\n",
    "dfnewmrnmatch.drop(columns=['Clarity_MRN','Clarity_new_MRN'], inplace=True)"
   ]
  },
  {
   "cell_type": "code",
   "execution_count": null,
   "metadata": {},
   "outputs": [],
   "source": [
    "dfnomrnmatch.rename(columns = {'PACS1_MRN':'PACS1_MRN_12_Digits'}, inplace=True)\n",
    "dfcurrentmrnmatch.rename(columns={'Clarity_MRN':'Mapped_MRN','Clarity_DOB':'Mapped_DOB','Clarity_SEX':'Mapped_Gender'},inplace=True)\n",
    "dfhistoricalmrnmatch.rename(columns={'Clarity_New_MRN_2':'Mapped_MRN','CLARITY_DOB':'Mapped_DOB','Clarity_SEX':'Mapped_Gender'}, inplace=True)\n",
    "dfnewmrnmatch.rename(columns ={'Clarity_DOB':'Mapped_DOB','Clarity_SEX':'Mapped_Gender'}, inplace=True )\n",
    "dfpremapping = dfcurrentmrnmatch.append(dfhistoricalmrnmatch, sort=False)\n",
    "dfpremapping = dfpremapping.append(dfnewmrnmatch, sort=False)\n",
    "dfpremapping.info()"
   ]
  },
  {
   "cell_type": "code",
   "execution_count": null,
   "metadata": {},
   "outputs": [],
   "source": [
    "dfpremapping[['Mapped_Last_Name','Mapped_First_Names']] = dfpremapping.Clarity_PAT_NAME.str.split(\",\",expand=True)\n",
    "dfpremapping['Mapped_First_Name'] = dfpremapping.Mapped_First_Names.str.split(expand=True)[0]\n",
    "dfmapping = dfpatientextract.join(dfpremapping, how='left')\n",
    "dfmapping.shape"
   ]
  },
  {
   "cell_type": "code",
   "execution_count": null,
   "metadata": {},
   "outputs": [],
   "source": [
    "dfhasmapping = dfmapping[['PACS1_MRN', 'Mapped_MRN',\n",
    "                         'PACS1_Last_Name','Mapped_Last_Name',\n",
    "                         'PACS1_First_Name','Mapped_First_Name',\n",
    "                         'PACS1_Gender','Mapped_Gender',\n",
    "                         'PACS1_DOB','Mapped_DOB']][~dfmapping['Mapped_MRN'].isnull()].copy()\n",
    "dfhasmapping['Mapped_DOB'] = pd.to_datetime(dfhasmapping['Mapped_DOB'])\n",
    "dfhasmapping.shape"
   ]
  },
  {
   "cell_type": "code",
   "execution_count": null,
   "metadata": {},
   "outputs": [],
   "source": [
    "dfhasmapping['Conflicts'] = 0\n",
    "dfhasmapping['Conflict_Type'] = ''"
   ]
  },
  {
   "cell_type": "code",
   "execution_count": null,
   "metadata": {},
   "outputs": [],
   "source": [
    "dfhasmapping.columns"
   ]
  },
  {
   "cell_type": "code",
   "execution_count": null,
   "metadata": {},
   "outputs": [],
   "source": [
    "dfhasmapping.info()"
   ]
  },
  {
   "cell_type": "code",
   "execution_count": null,
   "metadata": {},
   "outputs": [],
   "source": [
    "#Set conflict count and conflict type type for each possible conflict type. Possibly could create a function or something that's\n",
    "#not so verbose\n",
    "\n",
    "dfhasmapping.loc[(dfhasmapping['PACS1_Last_Name'] == dfhasmapping['Mapped_Last_Name']) &\n",
    "                 (dfhasmapping['PACS1_First_Name'] == dfhasmapping['Mapped_First_Name']) &\n",
    "                 (dfhasmapping['PACS1_Gender'] == dfhasmapping['Mapped_Gender']) &\n",
    "                 (dfhasmapping['PACS1_DOB'] == dfhasmapping['Mapped_DOB']),['Conflicts','Conflict_Type']] = 0,'MATCH'\n",
    "\n",
    "dfhasmapping.loc[(dfhasmapping['PACS1_Last_Name'] != dfhasmapping['Mapped_Last_Name']) &\n",
    "                 (dfhasmapping['PACS1_First_Name'] == dfhasmapping['Mapped_First_Name']) &\n",
    "                 (dfhasmapping['PACS1_Gender'] == dfhasmapping['Mapped_Gender']) &\n",
    "                 (dfhasmapping['PACS1_DOB'] == dfhasmapping['Mapped_DOB']),['Conflicts','Conflict_Type']] = 1,'L'\n",
    "\n",
    "dfhasmapping.loc[(dfhasmapping['PACS1_Last_Name'] == dfhasmapping['Mapped_Last_Name']) &\n",
    "                 (dfhasmapping['PACS1_First_Name'] != dfhasmapping['Mapped_First_Name']) &\n",
    "                 (dfhasmapping['PACS1_Gender'] == dfhasmapping['Mapped_Gender']) &\n",
    "                 (dfhasmapping['PACS1_DOB'] == dfhasmapping['Mapped_DOB']),['Conflicts','Conflict_Type']] = 1,'F'\n",
    "\n",
    "dfhasmapping.loc[(dfhasmapping['PACS1_Last_Name'] == dfhasmapping['Mapped_Last_Name']) &\n",
    "                 (dfhasmapping['PACS1_First_Name'] == dfhasmapping['Mapped_First_Name']) &\n",
    "                 (dfhasmapping['PACS1_Gender'] != dfhasmapping['Mapped_Gender']) &\n",
    "                 (dfhasmapping['PACS1_DOB'] == dfhasmapping['Mapped_DOB']),['Conflicts','Conflict_Type']] = 1,'G'\n",
    "\n",
    "dfhasmapping.loc[(dfhasmapping['PACS1_Last_Name'] == dfhasmapping['Mapped_Last_Name']) &\n",
    "                 (dfhasmapping['PACS1_First_Name'] == dfhasmapping['Mapped_First_Name']) &\n",
    "                 (dfhasmapping['PACS1_Gender'] == dfhasmapping['Mapped_Gender']) &\n",
    "                 (dfhasmapping['PACS1_DOB'] != dfhasmapping['Mapped_DOB']),['Conflicts','Conflict_Type']] = 1,'D'\n",
    "\n",
    "dfhasmapping.loc[(dfhasmapping['PACS1_Last_Name'] != dfhasmapping['Mapped_Last_Name']) &\n",
    "                 (dfhasmapping['PACS1_First_Name'] != dfhasmapping['Mapped_First_Name']) &\n",
    "                 (dfhasmapping['PACS1_Gender'] == dfhasmapping['Mapped_Gender']) &\n",
    "                 (dfhasmapping['PACS1_DOB'] == dfhasmapping['Mapped_DOB']),['Conflicts','Conflict_Type']] = 2,'LF'\n",
    "\n",
    "dfhasmapping.loc[(dfhasmapping['PACS1_Last_Name'] != dfhasmapping['Mapped_Last_Name']) &\n",
    "                 (dfhasmapping['PACS1_First_Name'] == dfhasmapping['Mapped_First_Name']) &\n",
    "                 (dfhasmapping['PACS1_Gender'] != dfhasmapping['Mapped_Gender']) &\n",
    "                 (dfhasmapping['PACS1_DOB'] == dfhasmapping['Mapped_DOB']),['Conflicts','Conflict_Type']] = 2,'LG'\n",
    "\n",
    "dfhasmapping.loc[(dfhasmapping['PACS1_Last_Name'] != dfhasmapping['Mapped_Last_Name']) &\n",
    "                 (dfhasmapping['PACS1_First_Name'] == dfhasmapping['Mapped_First_Name']) &\n",
    "                 (dfhasmapping['PACS1_Gender'] == dfhasmapping['Mapped_Gender']) &\n",
    "                 (dfhasmapping['PACS1_DOB'] != dfhasmapping['Mapped_DOB']),['Conflicts','Conflict_Type']] = 2,'LD'\n",
    "\n",
    "dfhasmapping.loc[(dfhasmapping['PACS1_Last_Name'] == dfhasmapping['Mapped_Last_Name']) &\n",
    "                 (dfhasmapping['PACS1_First_Name'] != dfhasmapping['Mapped_First_Name']) &\n",
    "                 (dfhasmapping['PACS1_Gender'] != dfhasmapping['Mapped_Gender']) &\n",
    "                 (dfhasmapping['PACS1_DOB'] == dfhasmapping['Mapped_DOB']),['Conflicts','Conflict_Type']] = 2,'FG'\n",
    "\n",
    "dfhasmapping.loc[(dfhasmapping['PACS1_Last_Name'] == dfhasmapping['Mapped_Last_Name']) &\n",
    "                 (dfhasmapping['PACS1_First_Name'] != dfhasmapping['Mapped_First_Name']) &\n",
    "                 (dfhasmapping['PACS1_Gender'] == dfhasmapping['Mapped_Gender']) &\n",
    "                 (dfhasmapping['PACS1_DOB'] != dfhasmapping['Mapped_DOB']),['Conflicts','Conflict_Type']] = 2,'FD'\n",
    "\n",
    "dfhasmapping.loc[(dfhasmapping['PACS1_Last_Name'] == dfhasmapping['Mapped_Last_Name']) &\n",
    "                 (dfhasmapping['PACS1_First_Name'] == dfhasmapping['Mapped_First_Name']) &\n",
    "                 (dfhasmapping['PACS1_Gender'] != dfhasmapping['Mapped_Gender']) &\n",
    "                 (dfhasmapping['PACS1_DOB'] != dfhasmapping['Mapped_DOB']),['Conflicts','Conflict_Type']] = 2,'GD'\n",
    "\n",
    "dfhasmapping.loc[(dfhasmapping['PACS1_Last_Name'] != dfhasmapping['Mapped_Last_Name']) &\n",
    "                 (dfhasmapping['PACS1_First_Name'] != dfhasmapping['Mapped_First_Name']) &\n",
    "                 (dfhasmapping['PACS1_Gender'] != dfhasmapping['Mapped_Gender']) &\n",
    "                 (dfhasmapping['PACS1_DOB'] == dfhasmapping['Mapped_DOB']),['Conflicts','Conflict_Type']] = 3,'LFG'\n",
    "\n",
    "dfhasmapping.loc[(dfhasmapping['PACS1_Last_Name'] != dfhasmapping['Mapped_Last_Name']) &\n",
    "                 (dfhasmapping['PACS1_First_Name'] != dfhasmapping['Mapped_First_Name']) &\n",
    "                 (dfhasmapping['PACS1_Gender'] == dfhasmapping['Mapped_Gender']) &\n",
    "                 (dfhasmapping['PACS1_DOB'] != dfhasmapping['Mapped_DOB']),['Conflicts','Conflict_Type']] = 3,'LFD'\n",
    "\n",
    "dfhasmapping.loc[(dfhasmapping['PACS1_Last_Name'] != dfhasmapping['Mapped_Last_Name']) &\n",
    "                 (dfhasmapping['PACS1_First_Name'] == dfhasmapping['Mapped_First_Name']) &\n",
    "                 (dfhasmapping['PACS1_Gender'] != dfhasmapping['Mapped_Gender']) &\n",
    "                 (dfhasmapping['PACS1_DOB'] != dfhasmapping['Mapped_DOB']),['Conflicts','Conflict_Type']] = 3,'LGD'\n",
    "\n",
    "dfhasmapping.loc[(dfhasmapping['PACS1_Last_Name'] == dfhasmapping['Mapped_Last_Name']) &\n",
    "                 (dfhasmapping['PACS1_First_Name'] != dfhasmapping['Mapped_First_Name']) &\n",
    "                 (dfhasmapping['PACS1_Gender'] != dfhasmapping['Mapped_Gender']) &\n",
    "                 (dfhasmapping['PACS1_DOB'] != dfhasmapping['Mapped_DOB']),['Conflicts','Conflict_Type']] = 3,'FGD'\n",
    "\n",
    "dfhasmapping.loc[(dfhasmapping['PACS1_Last_Name'] != dfhasmapping['Mapped_Last_Name']) &\n",
    "                 (dfhasmapping['PACS1_First_Name'] != dfhasmapping['Mapped_First_Name']) &\n",
    "                 (dfhasmapping['PACS1_Gender'] != dfhasmapping['Mapped_Gender']) &\n",
    "                 (dfhasmapping['PACS1_DOB'] != dfhasmapping['Mapped_DOB']),['Conflicts','Conflict_Type']] = 4,'LFGD'\n",
    "\n"
   ]
  },
  {
   "cell_type": "code",
   "execution_count": null,
   "metadata": {},
   "outputs": [],
   "source": [
    "#We wan't to map correct value where missing, but want to call out where it is missing\n",
    "\n",
    "# dfhasmapping.loc[(dfhasmapping['Conflict_Type'].str.contains('G')) & \n",
    "#                                ((dfhasmapping['PACS1_Gender'].isnull()) | (dfhasmapping['PACS1_Gender'] == 'MISSING'))\n",
    "#                 , ['Conflicts']] += -1\n",
    "\n",
    "## We replace instances of G with '' where mismatch is due to missing PACS1 Gender\n",
    "dfhasmapping.loc[(dfhasmapping['Conflict_Type'].str.contains('G')) & \n",
    "                               ((dfhasmapping['PACS1_Gender'].isnull()) | (dfhasmapping['PACS1_Gender'] == 'MISSING'))\n",
    "                ,['Conflict_Type']] =\\\n",
    "    dfhasmapping['Conflict_Type'][(dfhasmapping['Conflict_Type'].str.contains('G')) & \n",
    "                               ((dfhasmapping['PACS1_Gender'].isnull()) | (dfhasmapping['PACS1_Gender'] == 'MISSING'))].str.\\\n",
    "                                replace(r'G',r'NG')\n",
    "    \n",
    "# ##Finally we set conflict type to Match if the only mismatch was due to no Gender in PACS1 \n",
    "# ##(i.e. Conflict Type is now '' and conflicts = 0 )\n",
    "# dfhasmapping.loc[(dfhasmapping['Conflicts'] == 0) & (dfhasmapping['Conflict_Type'] == ''), ['Conflict_Type']] = 'MATCH'\n",
    "\n",
    "#We DO treat missing DB as mismatch, but want to indicate when the mismatch is due to Missing DOB in PACS1. Replace D with ND\n",
    "dfhasmapping.loc[(dfhasmapping['Conflict_Type'].str.contains('D')) & \n",
    "                               ((dfhasmapping['PACS1_DOB'].isnull()) | (dfhasmapping['PACS1_DOB'] == 'MISSING'))\n",
    "                ,['Conflict_Type']] =\\\n",
    "    dfhasmapping['Conflict_Type'][(dfhasmapping['Conflict_Type'].str.contains('D')) & \n",
    "                               ((dfhasmapping['PACS1_DOB'].isnull()) | (dfhasmapping['PACS1_DOB'] == 'MISSING'))].str.\\\n",
    "                                    replace(r'D',r'ND')"
   ]
  },
  {
   "cell_type": "code",
   "execution_count": null,
   "metadata": {},
   "outputs": [],
   "source": [
    "print('Conflict Counts :\\n', dfhasmapping.Conflicts.value_counts(dropna=False))\n",
    "print('\\nConflict Counts by Type : \\n', dfhasmapping.Conflict_Type.value_counts(dropna=False))"
   ]
  },
  {
   "cell_type": "code",
   "execution_count": null,
   "metadata": {},
   "outputs": [],
   "source": [
    "#List of Perfect Matches\n",
    "perfectmatch = dfhasmapping[dfhasmapping['Conflicts']==0]\n",
    "perfectmatch.to_csv(\"C:\\\\Users\\\\username\\\\Desktop\\\\perfectmatchPACS1.csv\")\n",
    "perfectmatch.shape"
   ]
  },
  {
   "cell_type": "code",
   "execution_count": null,
   "metadata": {},
   "outputs": [],
   "source": [
    "#Separate conflicts out to work with a smaller dataframe moving forward\n",
    "dfconflictsmaster = dfhasmapping[dfhasmapping['Conflicts']!=0]\n",
    "dfconflictsmaster.shape"
   ]
  },
  {
   "cell_type": "code",
   "execution_count": null,
   "metadata": {},
   "outputs": [],
   "source": [
    "#Split out in to number of conflicts\n",
    "#We are going to count One Conflict as a Match and Ask Secant to Map the conflicting value to the correct one\n",
    "oneconflict = dfconflictsmaster[dfconflictsmaster['Conflicts']==1]\n",
    "oneconflict.to_csv(\"C:\\\\Users\\\\username\\\\Desktop\\\\oneconflict.csv\")\n",
    "print('One Conflict shape : ', oneconflict.shape)\n",
    "\n",
    "twoconflict = dfconflictsmaster[dfconflictsmaster['Conflicts']==2]\n",
    "twoconflict.to_csv(\"C:\\\\Users\\\\username\\\\Desktop\\\\twoconflict.csv\")\n",
    "print('\\nTwo Conflict shape : ',twoconflict.shape)\n",
    "\n",
    "threeconflict = dfconflictsmaster[dfconflictsmaster['Conflicts']==3]\n",
    "threeconflict.to_csv(\"C:\\\\Users\\\\username\\\\Desktop\\\\threeconflict.csv\")\n",
    "print('\\nThree Conflict shape : ',threeconflict.shape)\n",
    "\n",
    "fourconflict = dfconflictsmaster[dfconflictsmaster['Conflicts']==4]\n",
    "fourconflict.to_csv(\"C:\\\\Users\\\\username\\\\Desktop\\\\fourconflict.csv\")\n",
    "print('\\nFour Conflict shape : ',fourconflict.shape)"
   ]
  },
  {
   "cell_type": "code",
   "execution_count": null,
   "metadata": {},
   "outputs": [],
   "source": [
    "dfnomapping = dfnomrnmatch.join(dfpatientextract['PACS1_MRN'], how='left')\n",
    "dfnomapping.to_csv(\"C:\\\\Users\\\\username\\\\Desktop\\\\nomapping.csv\")"
   ]
  },
  {
   "cell_type": "code",
   "execution_count": null,
   "metadata": {},
   "outputs": [],
   "source": []
  }
 ],
 "metadata": {
  "kernelspec": {
   "display_name": "Python 3",
   "language": "python",
   "name": "python3"
  },
  "language_info": {
   "codemirror_mode": {
    "name": "ipython",
    "version": 3
   },
   "file_extension": ".py",
   "mimetype": "text/x-python",
   "name": "python",
   "nbconvert_exporter": "python",
   "pygments_lexer": "ipython3",
   "version": "3.7.0"
  }
 },
 "nbformat": 4,
 "nbformat_minor": 2
}
