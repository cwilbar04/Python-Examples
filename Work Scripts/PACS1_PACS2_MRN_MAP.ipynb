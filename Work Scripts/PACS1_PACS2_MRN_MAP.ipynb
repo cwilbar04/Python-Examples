{
 "cells": [
  {
   "cell_type": "code",
   "execution_count": 1,
   "metadata": {},
   "outputs": [],
   "source": [
    "import sqlite3 as sq\n",
    "import pandas as pd\n",
    "import numpy as np\n",
    "cnx = sq.connect('test.db')\n",
    "cur = cnx.cursor()"
   ]
  },
  {
   "cell_type": "code",
   "execution_count": null,
   "metadata": {},
   "outputs": [],
   "source": [
    "masterpatientlist = pd.read_csv('MRN_Patient_List.txt',\n",
    "                                sep='\\,',lineterminator='\\n',\n",
    "                                usecols=[0,1,2,3,4,5,6],\n",
    "                                converters={'current_mrn':str, 'new_mrn':str, 'legacy_mrn':str},\n",
    "                                engine = 'python'\n",
    ")\n"
   ]
  },
  {
   "cell_type": "code",
   "execution_count": null,
   "metadata": {},
   "outputs": [],
   "source": [
    "masterpatientlist.info()"
   ]
  },
  {
   "cell_type": "code",
   "execution_count": null,
   "metadata": {},
   "outputs": [],
   "source": [
    "masterpatientlist.head()"
   ]
  },
  {
   "cell_type": "markdown",
   "metadata": {},
   "source": [
    "##  PACS1 STUFF BELOW"
   ]
  },
  {
   "cell_type": "code",
   "execution_count": null,
   "metadata": {},
   "outputs": [],
   "source": [
    "patientextract = pd.read_excel('patientextract04152019.xlsx')\n",
    "patientextract.info()"
   ]
  },
  {
   "cell_type": "code",
   "execution_count": null,
   "metadata": {},
   "outputs": [],
   "source": [
    "patientextract.head()"
   ]
  },
  {
   "cell_type": "code",
   "execution_count": null,
   "metadata": {},
   "outputs": [],
   "source": [
    "patient = pd.read_csv('mapping.txt',sep='\\,',lineterminator='\\n',encoding='utf-16')"
   ]
  },
  {
   "cell_type": "code",
   "execution_count": null,
   "metadata": {},
   "outputs": [],
   "source": [
    "patient.head()"
   ]
  },
  {
   "cell_type": "code",
   "execution_count": null,
   "metadata": {},
   "outputs": [],
   "source": [
    "patient.info()"
   ]
  },
  {
   "cell_type": "code",
   "execution_count": null,
   "metadata": {},
   "outputs": [],
   "source": [
    "patient.drop_duplicates(subset='StudyInstanceUID', inplace=True)\n",
    "patient.drop_duplicates(subset='MedicalRecordNumber', inplace=True)"
   ]
  },
  {
   "cell_type": "code",
   "execution_count": null,
   "metadata": {},
   "outputs": [],
   "source": [
    "patient.info()"
   ]
  },
  {
   "cell_type": "code",
   "execution_count": null,
   "metadata": {},
   "outputs": [],
   "source": [
    "patientmaster = patient.copy()"
   ]
  },
  {
   "cell_type": "code",
   "execution_count": null,
   "metadata": {},
   "outputs": [],
   "source": [
    "patientmaster['mapping'] = 'NEEDS ATTENTION'\n",
    "patientmaster['status'] = 'NEEDS ATTENTION'"
   ]
  },
  {
   "cell_type": "code",
   "execution_count": null,
   "metadata": {},
   "outputs": [],
   "source": [
    "testpatient = [\n",
    "'list'\n",
    "]"
   ]
  },
  {
   "cell_type": "code",
   "execution_count": null,
   "metadata": {},
   "outputs": [],
   "source": [
    "testpatientmrn = patientmaster['MedicalRecordNumber'][patientmaster['StudyInstanceUID'].isin(testpatient)]"
   ]
  },
  {
   "cell_type": "code",
   "execution_count": null,
   "metadata": {},
   "outputs": [],
   "source": [
    "testpatientsuidcomplete = patient['StudyInstanceUID'][patient['MedicalRecordNumber'].isin(testpatientmrn)]"
   ]
  },
  {
   "cell_type": "code",
   "execution_count": null,
   "metadata": {},
   "outputs": [],
   "source": [
    "testpatientsuidcomplete.shape"
   ]
  },
  {
   "cell_type": "code",
   "execution_count": null,
   "metadata": {},
   "outputs": [],
   "source": [
    "testpatientsuidcomplete.to_csv(\"C:\\\\temp\\\\test.csv\")"
   ]
  },
  {
   "cell_type": "code",
   "execution_count": null,
   "metadata": {},
   "outputs": [],
   "source": [
    "patientmaster.loc[patientmaster['StudyInstanceUID'].isin(testpatient) , ['mapping','status']] = 'DELETE_FROM_LIST', 'DELETE_FROM_LIST'"
   ]
  },
  {
   "cell_type": "code",
   "execution_count": null,
   "metadata": {},
   "outputs": [],
   "source": [
    "patientmaster.status.value_counts()"
   ]
  },
  {
   "cell_type": "code",
   "execution_count": null,
   "metadata": {},
   "outputs": [],
   "source": [
    "patient1 = patient[~patient['StudyInstanceUID'].isin(testpatient)].copy()\n",
    "patient1.shape"
   ]
  },
  {
   "cell_type": "code",
   "execution_count": null,
   "metadata": {
    "scrolled": true
   },
   "outputs": [],
   "source": [
    "patient1['MappedMedicalRecordNumber'] = patient1['MedicalRecordNumber']\n",
    "patient1['MappedMedicalRecordNumber'].replace('-','',inplace=True,regex=True)\n",
    "patient1['MappedMedicalRecordNumber'] = patient1['MappedMedicalRecordNumber'].map('{:0>12}'.format) \n",
    "patient1.shape"
   ]
  },
  {
   "cell_type": "code",
   "execution_count": null,
   "metadata": {},
   "outputs": [],
   "source": [
    "patient1.head()"
   ]
  },
  {
   "cell_type": "code",
   "execution_count": null,
   "metadata": {},
   "outputs": [],
   "source": [
    "a = patient1.merge(masterpatientlist, how='inner', left_on = 'MappedMedicalRecordNumber', right_on = 'current_mrn')\n",
    "a.shape"
   ]
  },
  {
   "cell_type": "code",
   "execution_count": null,
   "metadata": {},
   "outputs": [],
   "source": [
    "adict = a.set_index('MedicalRecordNumber').to_dict()['current_mrn']"
   ]
  },
  {
   "cell_type": "code",
   "execution_count": null,
   "metadata": {},
   "outputs": [],
   "source": [
    "a[a['patient_name'].isnull()]"
   ]
  },
  {
   "cell_type": "code",
   "execution_count": null,
   "metadata": {},
   "outputs": [],
   "source": [
    "patientmaster['mapping'][patientmaster['StudyInstanceUID'].isin(a['StudyInstanceUID'])] = patientmaster['MedicalRecordNumber'].map(adict)\n",
    "patientmaster['status'][patientmaster['StudyInstanceUID'].isin(a['StudyInstanceUID'])] = 'CURRENT_MRN_MATCH'"
   ]
  },
  {
   "cell_type": "code",
   "execution_count": null,
   "metadata": {},
   "outputs": [],
   "source": [
    "patient2 = patient1[~patient1['StudyInstanceUID'].isin(a['StudyInstanceUID'])]\n",
    "patient2.shape"
   ]
  },
  {
   "cell_type": "code",
   "execution_count": null,
   "metadata": {},
   "outputs": [],
   "source": [
    "b = patient2.merge(masterpatientlist, how='inner', left_on = 'MappedMedicalRecordNumber', right_on = 'legacy_mrn')\n",
    "b.shape"
   ]
  },
  {
   "cell_type": "code",
   "execution_count": null,
   "metadata": {},
   "outputs": [],
   "source": [
    "neednamechange = b[b['patient_name'].isnull()]"
   ]
  },
  {
   "cell_type": "code",
   "execution_count": null,
   "metadata": {},
   "outputs": [],
   "source": [
    "bdict = b.set_index('MedicalRecordNumber').to_dict()['current_mrn']"
   ]
  },
  {
   "cell_type": "code",
   "execution_count": null,
   "metadata": {},
   "outputs": [],
   "source": [
    "patientmaster['mapping'][patientmaster['StudyInstanceUID'].isin(b['StudyInstanceUID'])] = patientmaster['MedicalRecordNumber'].map(bdict)\n",
    "patientmaster['status'][patientmaster['StudyInstanceUID'].isin(b['StudyInstanceUID'])] = 'LEGACY_MRN_MATCH'"
   ]
  },
  {
   "cell_type": "code",
   "execution_count": null,
   "metadata": {},
   "outputs": [],
   "source": [
    "patient3 = patient2[~patient2['StudyInstanceUID'].isin(b['StudyInstanceUID'])]\n",
    "patient3.shape"
   ]
  },
  {
   "cell_type": "code",
   "execution_count": null,
   "metadata": {},
   "outputs": [],
   "source": [
    "c = patient3.merge(patientextract, how='inner', left_on='MedicalRecordNumber',right_on='PACS1_Original_MRN')\n",
    "c.info()"
   ]
  },
  {
   "cell_type": "code",
   "execution_count": null,
   "metadata": {},
   "outputs": [],
   "source": [
    "masterpatientlist.info()"
   ]
  },
  {
   "cell_type": "code",
   "execution_count": null,
   "metadata": {},
   "outputs": [],
   "source": [
    "masterpatientlistclean = masterpatientlist.dropna(subset=['last_name','first_name','birth_date','gender']).copy()\n",
    "masterpatientlistclean.info()"
   ]
  },
  {
   "cell_type": "code",
   "execution_count": null,
   "metadata": {},
   "outputs": [],
   "source": [
    "masterpatientlistclean.head()"
   ]
  },
  {
   "cell_type": "code",
   "execution_count": null,
   "metadata": {},
   "outputs": [],
   "source": [
    "masterpatientlistclean['birth_date'] = pd.to_datetime(masterpatientlistclean['birth_date'], errors='coerce')\n",
    "masterpatientlistclean = masterpatientlistclean.dropna(subset=['last_name','first_name','birth_date','gender'])\n",
    "masterpatientlistclean['birth_date'] = masterpatientlistclean.birth_date.apply(lambda x: x.strftime('%Y%m%d')).astype(int)\n",
    "masterpatientlistclean['first_name'] = masterpatientlistclean['first_name'].str.upper()\n",
    "masterpatientlistclean['last_name'] = masterpatientlistclean['last_name'].str.upper()\n",
    "masterpatientlistclean.info()"
   ]
  },
  {
   "cell_type": "code",
   "execution_count": null,
   "metadata": {},
   "outputs": [],
   "source": [
    "masterpatientlistclean.head()"
   ]
  },
  {
   "cell_type": "code",
   "execution_count": null,
   "metadata": {},
   "outputs": [],
   "source": [
    "c.columns"
   ]
  },
  {
   "cell_type": "code",
   "execution_count": null,
   "metadata": {},
   "outputs": [],
   "source": [
    "cclean = c.dropna(subset=['LastName','FirstName','BirthDate','Gender']).copy()\n",
    "cclean['FirstName'] = cclean['FirstName'].str.upper()\n",
    "cclean['LastName'] = cclean['LastName'].str.upper()\n",
    "cclean.info()"
   ]
  },
  {
   "cell_type": "code",
   "execution_count": null,
   "metadata": {},
   "outputs": [],
   "source": [
    "cclean['BirthDate'] = cclean['BirthDate'].astype(int)\n",
    "cclean.info()"
   ]
  },
  {
   "cell_type": "code",
   "execution_count": null,
   "metadata": {},
   "outputs": [],
   "source": [
    "d = cclean.merge(masterpatientlistclean, how='inner', left_on = ['LastName','FirstName','BirthDate','Gender'], right_on = ['last_name','first_name','birth_date','gender'])\n",
    "d.info()"
   ]
  },
  {
   "cell_type": "code",
   "execution_count": null,
   "metadata": {},
   "outputs": [],
   "source": [
    "d[['LastName','FirstName','BirthDate','Gender','last_name','first_name','birth_date','gender','current_mrn']]"
   ]
  },
  {
   "cell_type": "code",
   "execution_count": null,
   "metadata": {},
   "outputs": [],
   "source": [
    "e = cclean.merge(masterpatientlistclean, how='inner', left_on = ['LastName','FirstName','BirthDate'], right_on = ['last_name','first_name','birth_date'])\n",
    "e.info()"
   ]
  },
  {
   "cell_type": "code",
   "execution_count": null,
   "metadata": {},
   "outputs": [],
   "source": [
    "e[['LastName','FirstName','BirthDate','Gender','last_name','first_name','birth_date','gender','current_mrn']]"
   ]
  },
  {
   "cell_type": "code",
   "execution_count": null,
   "metadata": {},
   "outputs": [],
   "source": [
    "lastbirthgender = cclean.merge(masterpatientlistclean, how='inner', left_on = ['LastName','BirthDate','Gender'], right_on = ['last_name','birth_date','gender'])\n",
    "lastbirthgender.info()"
   ]
  },
  {
   "cell_type": "code",
   "execution_count": null,
   "metadata": {},
   "outputs": [],
   "source": [
    "lastbirthgender[['patient_name','MedicalRecordNumber','MappedMedicalRecordNumber','LastName','FirstName','BirthDate','Gender','first_name','last_name','birth_date','gender','current_mrn']].to_csv(\"C:\\\\Users\\\\username\\\\desktop\\\\lastbirthgender.csv\", index=False)"
   ]
  },
  {
   "cell_type": "code",
   "execution_count": null,
   "metadata": {},
   "outputs": [],
   "source": [
    "lastbirthgendermanual = pd.read_excel('lastbirthgendermanual.xlsx', converters = {'current_mrn':str})\n",
    "lastbirthgendermanual.info()"
   ]
  },
  {
   "cell_type": "code",
   "execution_count": null,
   "metadata": {},
   "outputs": [],
   "source": [
    "lastbirthgendermanual.head()"
   ]
  },
  {
   "cell_type": "code",
   "execution_count": null,
   "metadata": {},
   "outputs": [],
   "source": [
    "lastbirthgendermanualdict =  lastbirthgendermanual.set_index('MedicalRecordNumber').to_dict()['current_mrn']"
   ]
  },
  {
   "cell_type": "code",
   "execution_count": null,
   "metadata": {},
   "outputs": [],
   "source": [
    "patientmaster['mapping'][patientmaster['MedicalRecordNumber'].isin(lastbirthgendermanual['MedicalRecordNumber'])] = patientmaster['MedicalRecordNumber'].map(lastbirthgendermanualdict)\n",
    "patientmaster['status'][patientmaster['MedicalRecordNumber'].isin(lastbirthgendermanual['MedicalRecordNumber'])] = 'LAST_BIRTHDATE_GENDER_MATCH'"
   ]
  },
  {
   "cell_type": "code",
   "execution_count": null,
   "metadata": {},
   "outputs": [],
   "source": [
    "firstbirthgender = cclean.merge(masterpatientlistclean, how='inner', left_on = ['FirstName','BirthDate','Gender'], right_on = ['first_name','birth_date','gender'])\n",
    "firstbirthgender = firstbirthgender[~firstbirthgender['StudyInstanceUID'].isin(lastbirthgender['StudyInstanceUID'])]\n",
    "firstbirthgender.info()"
   ]
  },
  {
   "cell_type": "code",
   "execution_count": null,
   "metadata": {},
   "outputs": [],
   "source": [
    "firstbirthgender[['patient_name','MedicalRecordNumber','MappedMedicalRecordNumber','LastName','FirstName','BirthDate','Gender','first_name','last_name','birth_date','gender','current_mrn']].to_csv(\"C:\\\\Users\\\\username\\\\desktop\\\\firstbirthgender.csv\", index=False)"
   ]
  },
  {
   "cell_type": "code",
   "execution_count": null,
   "metadata": {},
   "outputs": [],
   "source": [
    "firstbirthgendermanual = pd.read_excel('firstbirthgendermanual.xlsx', converters = {'current_mrn':str})\n",
    "firstbirthgendermanual.info()"
   ]
  },
  {
   "cell_type": "code",
   "execution_count": null,
   "metadata": {},
   "outputs": [],
   "source": [
    "firstbirthgendermanualdict =  firstbirthgendermanual.set_index('MedicalRecordNumber').to_dict()['current_mrn']\n",
    "firstbirthgendermanualstatusdict = firstbirthgendermanual.set_index('MedicalRecordNumber').to_dict()['STATUS']"
   ]
  },
  {
   "cell_type": "code",
   "execution_count": null,
   "metadata": {},
   "outputs": [],
   "source": [
    "patientmaster['mapping'][patientmaster['MedicalRecordNumber'].isin(firstbirthgendermanual['MedicalRecordNumber'])] = patientmaster['MedicalRecordNumber'].map(firstbirthgendermanualdict)\n",
    "patientmaster['status'][patientmaster['MedicalRecordNumber'].isin(firstbirthgendermanual['MedicalRecordNumber'])] = patientmaster['MedicalRecordNumber'].map(firstbirthgendermanualstatusdict)"
   ]
  },
  {
   "cell_type": "code",
   "execution_count": null,
   "metadata": {},
   "outputs": [],
   "source": [
    "remaining = patientmaster[patientmaster['status']=='NEEDS ATTENTION']\n",
    "remaining.to_csv(\"C:\\\\Users\\\\username\\\\desktop\\\\remaining.csv\", index=False)"
   ]
  },
  {
   "cell_type": "code",
   "execution_count": null,
   "metadata": {},
   "outputs": [],
   "source": [
    "patient4 = patient3[patient3['StudyInstanceUID'].isin(remaining['StudyInstanceUID'])]\n",
    "patient4.shape"
   ]
  },
  {
   "cell_type": "code",
   "execution_count": null,
   "metadata": {},
   "outputs": [],
   "source": [
    "patient4['MappedMedicalRecordNumber'] = patient4['MappedMedicalRecordNumber'] + ''"
   ]
  },
  {
   "cell_type": "code",
   "execution_count": null,
   "metadata": {},
   "outputs": [],
   "source": [
    "patient4dict = patient4.set_index('MedicalRecordNumber').to_dict()['MappedMedicalRecordNumber']"
   ]
  },
  {
   "cell_type": "code",
   "execution_count": null,
   "metadata": {},
   "outputs": [],
   "source": [
    "patientmaster['mapping'][patientmaster['MedicalRecordNumber'].isin(patient4['MedicalRecordNumber'])] = patientmaster['MedicalRecordNumber'].map(patient4dict)\n",
    "patientmaster['status'][patientmaster['MedicalRecordNumber'].isin(patient4['MedicalRecordNumber'])] = 'REVIEW_AFTER_PUSH'"
   ]
  },
  {
   "cell_type": "code",
   "execution_count": null,
   "metadata": {},
   "outputs": [],
   "source": [
    "patientmaster.status.value_counts()"
   ]
  },
  {
   "cell_type": "code",
   "execution_count": null,
   "metadata": {},
   "outputs": [],
   "source": [
    "patientmaster.to_csv(\"C:\\\\Users\\\\username\\\\desktop\\\\patientmaster.csv\", index=False)"
   ]
  },
  {
   "cell_type": "code",
   "execution_count": null,
   "metadata": {},
   "outputs": [],
   "source": [
    "neednamechange.to_csv(\"C:\\\\Users\\\\username\\\\desktop\\\\neednamechange.csv\", index=False)"
   ]
  },
  {
   "cell_type": "code",
   "execution_count": null,
   "metadata": {},
   "outputs": [],
   "source": [
    "updatedmapping = patientmaster[['patient_name','MedicalRecordNumber','mapping','status']][patientmaster['status'] != 'NEEDS ATTENTION']\n",
    "updatedmapping.to_csv(\"C:\\\\Users\\\\username\\\\desktop\\\\updatedmapping.csv\", index=False)\n",
    "updatedmapping.shape"
   ]
  }
 ],
 "metadata": {
  "kernelspec": {
   "display_name": "Python 3",
   "language": "python",
   "name": "python3"
  },
  "language_info": {
   "codemirror_mode": {
    "name": "ipython",
    "version": 3
   },
   "file_extension": ".py",
   "mimetype": "text/x-python",
   "name": "python",
   "nbconvert_exporter": "python",
   "pygments_lexer": "ipython3",
   "version": "3.7.0"
  }
 },
 "nbformat": 4,
 "nbformat_minor": 2
}
