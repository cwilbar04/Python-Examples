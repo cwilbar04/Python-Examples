{
 "cells": [
  {
   "cell_type": "markdown",
   "metadata": {},
   "source": [
    "# MUSE CONSOLIDATION TO SITE 1 WORK"
   ]
  },
  {
   "cell_type": "markdown",
   "metadata": {},
   "source": [
    "## Initiation"
   ]
  },
  {
   "cell_type": "code",
   "execution_count": null,
   "metadata": {},
   "outputs": [],
   "source": [
    "#Import necessary packages and create sqlite connection to database\n",
    "\n",
    "import sqlite3 as sq\n",
    "import pandas as pd\n",
    "import numpy as np\n",
    "import Levenshtein as lev\n",
    "#from phonetics import soundex\n",
    "\n",
    "cnx = sq.connect('test.db')\n",
    "cur = cnx.cursor()"
   ]
  },
  {
   "cell_type": "code",
   "execution_count": null,
   "metadata": {
    "scrolled": true
   },
   "outputs": [],
   "source": [
    "#Check the tables in the database\n",
    "# Check tables active in the DB\n",
    "cur.execute(\"SELECT name FROM sqlite_master WHERE type='table';\")\n",
    "cur.fetchall()       "
   ]
  },
  {
   "cell_type": "markdown",
   "metadata": {},
   "source": [
    "## Crosswalk Creation/Validation"
   ]
  },
  {
   "cell_type": "code",
   "execution_count": null,
   "metadata": {},
   "outputs": [],
   "source": [
    "#Load Patient Lists stored to local db\n",
    "epicpatientlistfull = pd.read_sql_query(\"\"\"SELECT * FROM masterpatientlist;\"\"\", cnx)\n",
    "musepatientlist = pd.read_sql_query(\"\"\"SELECT * FROM musenomapping;\"\"\", cnx)\n",
    "epicpatientlist = epicpatientlistfull.drop_duplicates(subset='new_mrn', keep='first')\n",
    "print(\"epicpatientlistfull.shape \", epicpatientlistfull.shape)\n",
    "print(\"epicpatientlist.shape \", epicpatientlist.shape)\n",
    "print(\"musepatientlist.shape \", musepatientlist.shape)"
   ]
  },
  {
   "cell_type": "code",
   "execution_count": null,
   "metadata": {},
   "outputs": [],
   "source": [
    "epicpatientlistfull.info()"
   ]
  },
  {
   "cell_type": "code",
   "execution_count": null,
   "metadata": {},
   "outputs": [],
   "source": [
    "epicpatientlist.info()"
   ]
  },
  {
   "cell_type": "code",
   "execution_count": null,
   "metadata": {},
   "outputs": [],
   "source": [
    "epicpatientlist['uid'][(epicpatientlist['uid'].duplicated()) & (epicpatientlist['uid']!='MISSING')]"
   ]
  },
  {
   "cell_type": "code",
   "execution_count": null,
   "metadata": {},
   "outputs": [],
   "source": [
    "musepatientlist.info()"
   ]
  },
  {
   "cell_type": "code",
   "execution_count": null,
   "metadata": {},
   "outputs": [],
   "source": [
    "epicpatientlist.head()"
   ]
  },
  {
   "cell_type": "code",
   "execution_count": null,
   "metadata": {},
   "outputs": [],
   "source": [
    "musepatientlist.head()"
   ]
  },
  {
   "cell_type": "code",
   "execution_count": null,
   "metadata": {},
   "outputs": [],
   "source": [
    "#Due to nature of matching, can only consider patients that don't have duplicates in Epic List on all 4 constraints\n",
    "epicpatientlist = epicpatientlist.drop_duplicates(subset=['last_name','first_name','birth_date','gender'], keep = False)\n",
    "epicpatientlist.shape"
   ]
  },
  {
   "cell_type": "code",
   "execution_count": null,
   "metadata": {},
   "outputs": [],
   "source": [
    "#Also need to drop just first/last name matches as well\n",
    "uniqueepicpatientlist = epicpatientlist.drop_duplicates('new_mrn',keep='first').drop_duplicates(subset=['last_name','first_name'],keep=False)\n",
    "uniqueepicpatientlist.shape"
   ]
  },
  {
   "cell_type": "code",
   "execution_count": null,
   "metadata": {},
   "outputs": [],
   "source": [
    "musepatientlist.loc[:,'DOB_year_1800_from_first_name'] = '18' + musepatientlist.loc[:,'FirstName_Split_2']"
   ]
  },
  {
   "cell_type": "code",
   "execution_count": null,
   "metadata": {},
   "outputs": [],
   "source": [
    "musepatientlist['PatientID_replace888'] = '000' + musepatientlist['PatientID'].str[3:]"
   ]
  },
  {
   "cell_type": "code",
   "execution_count": null,
   "metadata": {},
   "outputs": [],
   "source": [
    "currentmrnmatch = epicpatientlist.merge(musepatientlist, left_on='current_mrn', right_on='PatientID', sort=False)\n",
    "currentmrnmatch['list'] = 'currentmrnmatch'\n",
    "currentmrnmatch.to_csv(\"C:\\\\Users\\\\username\\\\Desktop\\\\currentmrnmatch.csv\")\n",
    "musepatientlist2 = musepatientlist[~musepatientlist['PatientID'].isin(currentmrnmatch['PatientID'])]\n",
    "print('currentmrnmatch shape = ', currentmrnmatch.shape)\n",
    "print('musepatientlist2 shape = ', musepatientlist2.shape)"
   ]
  },
  {
   "cell_type": "code",
   "execution_count": null,
   "metadata": {},
   "outputs": [],
   "source": [
    "legacymrnmatch = epicpatientlistfull.merge(musepatientlist2, left_on='legacy_mrn', right_on='PatientID', sort=False)\n",
    "legacymrnmatch['list'] = 'legacymrnmatch'\n",
    "legacymrnmatch.to_csv(\"C:\\\\Users\\\\username\\\\Desktop\\\\legacymrnmatch.csv\")\n",
    "musepatientlist3 = musepatientlist2[~musepatientlist2['PatientID'].isin(legacymrnmatch['PatientID'])]\n",
    "print('legacymrnmatch shape = ', legacymrnmatch.shape)\n",
    "print('musepatientlist3 shape = ', musepatientlist3.shape)"
   ]
  },
  {
   "cell_type": "code",
   "execution_count": null,
   "metadata": {},
   "outputs": [],
   "source": [
    "uidmatch = epicpatientlist.merge(musepatientlist3, left_on='uid',right_on='PatientID', sort=False)\n",
    "uidmatch['list'] = 'uidmatch'\n",
    "uidmatch.to_csv(\"C:\\\\Users\\\\username\\\\Desktop\\\\uidmatch.csv\")\n",
    "musepatientlist4 = musepatientlist3[~musepatientlist3['PatientID'].isin(uidmatch['PatientID'])]\n",
    "print('uidmatch shape = ', uidmatch.shape)\n",
    "print('musepatientlist4 shape = ', musepatientlist4.shape)"
   ]
  },
  {
   "cell_type": "code",
   "execution_count": null,
   "metadata": {},
   "outputs": [],
   "source": [
    "exact4match = epicpatientlist.merge(musepatientlist4, right_on=['FirstName_Split_1','LastName','dateofbirth_d','Gender'], \n",
    "                             left_on=['first_name','last_name','birth_date','gender'])\n",
    "exact4match['list'] = 'exact4match'\n",
    "exact4match.to_csv(\"C:\\\\Users\\\\username\\\\Desktop\\\\exact4match.csv\")\n",
    "musepatientlist5 = musepatientlist4[~musepatientlist4['PatientID'].isin(exact4match['PatientID'])]\n",
    "print('exact4match shape = ', exact4match.shape)\n",
    "print('musepatientlist5 shape = ', musepatientlist5.shape)"
   ]
  },
  {
   "cell_type": "code",
   "execution_count": null,
   "metadata": {},
   "outputs": [],
   "source": [
    "match4withsplitbirthyear = uniqueepicpatientlist.merge(musepatientlist5[musepatientlist5['FirstName_Split_2'].notnull()],\\\n",
    "                                            right_on=['FirstName_Split_1','LastName','Gender','DOB_year_from_first_name'], \n",
    "                                            left_on=['first_name','last_name','gender','birthyear'])\n",
    "match4withsplitbirthyear['list'] = 'match4withsplitbirthyear'\n",
    "match4withsplitbirthyear.to_csv(\"C:\\\\Users\\\\username\\\\Desktop\\\\match4withsplitbirthyear.csv\")\n",
    "musepatientlist6 = musepatientlist5[~musepatientlist5['PatientID'].isin(match4withsplitbirthyear['PatientID'])]\n",
    "print('match4withsplitbirthyear shape = ', match4withsplitbirthyear.shape)\n",
    "print('musepatientlist6 shape = ', musepatientlist6.shape)"
   ]
  },
  {
   "cell_type": "code",
   "execution_count": null,
   "metadata": {},
   "outputs": [],
   "source": [
    "match3missinggender = epicpatientlist.merge(musepatientlist6[musepatientlist6['Gender']==9],\\\n",
    "                             right_on=['FirstName_Split_1','LastName','dateofbirth_d'], \n",
    "                             left_on=['first_name','last_name','birth_date'])\n",
    "match3missinggender['list'] = 'match3missinggender'\n",
    "match3missinggender.to_csv(\"C:\\\\Users\\\\username\\\\Desktop\\\\match3missinggender.csv\")\n",
    "musepatientlist7 = musepatientlist6[~musepatientlist6['PatientID'].isin(match3missinggender['PatientID'])]\n",
    "print('match3missinggender shape = ', match3missinggender.shape)\n",
    "print('musepatientlist7 shape = ', musepatientlist7.shape)"
   ]
  },
  {
   "cell_type": "code",
   "execution_count": null,
   "metadata": {},
   "outputs": [],
   "source": [
    "match3missinggenderyearsplit = uniqueepicpatientlist.merge(musepatientlist7[musepatientlist7['Gender']==9],\\\n",
    "                                right_on=['FirstName_Split_1','LastName','DOB_year_from_first_name'], \n",
    "                                left_on=['first_name','last_name','birthyear'])\n",
    "match3missinggenderyearsplit['list'] = 'match3missinggenderyearsplit'\n",
    "match3missinggenderyearsplit.to_csv(\"C:\\\\Users\\\\username\\\\Desktop\\\\match3missinggenderyearsplit.csv\")\n",
    "musepatientlist8 = musepatientlist7[~musepatientlist7['PatientID'].isin(match3missinggenderyearsplit['PatientID'])]\n",
    "print('match3missinggenderyearsplit shape = ', match3missinggenderyearsplit.shape)\n",
    "print('musepatientlist8 shape = ', musepatientlist8.shape)"
   ]
  },
  {
   "cell_type": "code",
   "execution_count": null,
   "metadata": {},
   "outputs": [],
   "source": [
    "match3missingdobunique = uniqueepicpatientlist.merge(musepatientlist8[musepatientlist8['dateofbirth_d'] == '1700-01-01 00:00:00'],\\\n",
    "                             right_on=['FirstName_Split_1','LastName','Gender'], \n",
    "                             left_on=['first_name','last_name','gender'])\n",
    "match3missingdobunique['list'] = 'match3missingdobunique'\n",
    "match3missingdobunique.to_csv(\"C:\\\\Users\\\\username\\\\Desktop\\\\match3missingdobunique.csv\")\n",
    "musepatientlist9 = musepatientlist8[~musepatientlist8['PatientID'].isin(match3missingdobunique['PatientID'])]\n",
    "print('match3missingdobunique shape = ', match3missingdobunique.shape)\n",
    "print('musepatientlist9 shape = ', musepatientlist9.shape)"
   ]
  },
  {
   "cell_type": "code",
   "execution_count": null,
   "metadata": {},
   "outputs": [],
   "source": [
    "match4withsplitbirthyear1800 = uniqueepicpatientlist.merge(musepatientlist9,\\\n",
    "                                            right_on=['FirstName_Split_1','LastName','Gender','DOB_year_1800_from_first_name'], \n",
    "                                            left_on=['first_name','last_name','gender','birthyear'])\n",
    "match4withsplitbirthyear1800['list'] = 'match4withsplitbirthyear1800'\n",
    "match4withsplitbirthyear1800.to_csv(\"C:\\\\Users\\\\username\\\\Desktop\\\\match4withsplitbirthyear1800.csv\")\n",
    "musepatientlist10 = musepatientlist9[~musepatientlist9['PatientID'].isin(match4withsplitbirthyear1800['PatientID'])]\n",
    "print('match4withsplitbirthyear1800 shape = ', match4withsplitbirthyear1800.shape)\n",
    "print('musepatientlist10 shape = ', musepatientlist10.shape)"
   ]
  },
  {
   "cell_type": "code",
   "execution_count": null,
   "metadata": {},
   "outputs": [],
   "source": [
    "uidmatch_replace888 = epicpatientlist.merge(musepatientlist10, left_on='uid',right_on='PatientID_replace888', sort=False)\n",
    "uidmatch_replace888['list'] = 'uidmatch_replace888'\n",
    "uidmatch_replace888.to_csv(\"C:\\\\Users\\\\username\\\\Desktop\\\\uidmatch_replace888.csv\")\n",
    "musepatientlist11 = musepatientlist10[~musepatientlist10['PatientID'].isin(uidmatch_replace888['PatientID'])]\n",
    "print('uidmatch_replace888 shape = ', uidmatch_replace888.shape)\n",
    "print('musepatientlist11 shape = ', musepatientlist11.shape)"
   ]
  },
  {
   "cell_type": "code",
   "execution_count": null,
   "metadata": {},
   "outputs": [],
   "source": [
    "new_mappings = pd.concat([currentmrnmatch,\n",
    "legacymrnmatch,\n",
    "uidmatch,\n",
    "exact4match,\n",
    "match4withsplitbirthyear,\n",
    "match3missinggender,\n",
    "match3missinggenderyearsplit,\n",
    "match3missingdobunique,\n",
    "match4withsplitbirthyear1800,\n",
    "uidmatch_replace888\n",
    "])\n",
    "new_mappings = new_mappings.reset_index(drop=True)"
   ]
  },
  {
   "cell_type": "code",
   "execution_count": null,
   "metadata": {},
   "outputs": [],
   "source": [
    "new_mappings.shape"
   ]
  },
  {
   "cell_type": "code",
   "execution_count": null,
   "metadata": {},
   "outputs": [],
   "source": [
    "new_mappings['list'][new_mappings['PatientID'].duplicated()].value_counts()"
   ]
  },
  {
   "cell_type": "code",
   "execution_count": null,
   "metadata": {},
   "outputs": [],
   "source": [
    "new_mappings['PatientID'].duplicated().any()"
   ]
  },
  {
   "cell_type": "code",
   "execution_count": null,
   "metadata": {},
   "outputs": [],
   "source": [
    "new_mappings.head()"
   ]
  },
  {
   "cell_type": "code",
   "execution_count": null,
   "metadata": {},
   "outputs": [],
   "source": [
    "new_mappings.info()"
   ]
  },
  {
   "cell_type": "code",
   "execution_count": null,
   "metadata": {},
   "outputs": [],
   "source": [
    "new_mappings['legacy_pat_full_name'] = new_mappings['legacy_pat_last_name'] + ',' + new_mappings['legacy_pat_first_name']"
   ]
  },
  {
   "cell_type": "code",
   "execution_count": null,
   "metadata": {},
   "outputs": [],
   "source": [
    "updated_new_mappings = new_mappings[['PatientID','current_mrn','legacy_mrn','new_mrn','last_name','first_name',\n",
    "                                     'birth_date','gender','legacy_pat_first_name','legacy_pat_last_name', 'legacy_pat_full_name', \n",
    "                                     'PatientID','ExtraOrderData4','LastName','FirstName','dateofbirth_d','Gender','#_of_Tests',\n",
    "                                     'LastTestDate','PatientIDLength','Race','SiteName','list']]"
   ]
  },
  {
   "cell_type": "code",
   "execution_count": null,
   "metadata": {},
   "outputs": [],
   "source": [
    "updated_new_mappings.info()"
   ]
  },
  {
   "cell_type": "code",
   "execution_count": null,
   "metadata": {},
   "outputs": [],
   "source": [
    "updated_new_mappings.columns"
   ]
  },
  {
   "cell_type": "code",
   "execution_count": null,
   "metadata": {},
   "outputs": [],
   "source": [
    "standard_columns = ['InputPatientID','CurrentPatientID','legacy_mrn','NewPatientID','INPUTLastName',\n",
    "                    'INPUTFirstName','INPUTDOB','INPUTGender','legacy_pat_first_name','legacy_pat_full_name','legacy_pat_last_name',\n",
    "                    'MUSEPatientID','ExtraOrderData4','MUSELastName','MUSEFirstName','dateofbirth_d','Gender','#_of_Tests',\n",
    "                    'LastTestDate','PatientIDLength','Race','SiteName','List']\n",
    "updated_new_mappings.columns = standard_columns"
   ]
  },
  {
   "cell_type": "code",
   "execution_count": null,
   "metadata": {},
   "outputs": [],
   "source": [
    "updated_new_mappings.info()"
   ]
  },
  {
   "cell_type": "code",
   "execution_count": null,
   "metadata": {},
   "outputs": [],
   "source": [
    "#Found one study where there was a space. Manual adding mapping to updated mapping list\n",
    "record_to_copy = updated_new_mappings.loc[14485,:]\n",
    "new_record = record_to_copy.copy()\n",
    "new_record['InputPatientID'] = ' 99'\n",
    "new_record['MUSEPatientID'] = ' 99'\n",
    "new_record['MUSELastName'] = '99'\n",
    "new_record['LastTestDate'] = '99'\n",
    "new_record['PatientIDLength'] = 12\n",
    "new_record['List'] = 'manualintervention'\n",
    "updated_new_mappings = updated_new_mappings.append(new_record, ignore_index=True)"
   ]
  },
  {
   "cell_type": "code",
   "execution_count": null,
   "metadata": {},
   "outputs": [],
   "source": [
    "updated_new_mappings.to_csv('C:\\\\Users\\\\username\\\\Desktop\\\\updated_new_mappings.csv')\n",
    "print('New mapping shape: ',updated_new_mappings.shape)"
   ]
  },
  {
   "cell_type": "code",
   "execution_count": null,
   "metadata": {},
   "outputs": [],
   "source": [
    "updated_no_mappings = musepatientlist[~musepatientlist['PatientID'].isin(updated_new_mappings['MUSEPatientID'])]\n",
    "print('No mapping shape: ',updated_no_mappings.shape)\n",
    "updated_no_mappings.to_csv('C:\\\\Users\\\\username\\\\Desktop\\\\updated_no_mappings.csv')"
   ]
  },
  {
   "cell_type": "code",
   "execution_count": null,
   "metadata": {},
   "outputs": [],
   "source": [
    "print('Original rows: ', musepatientlist.shape[0])\n",
    "print('New combined rows: ', updated_new_mappings.shape[0] + updated_no_mappings.shape[0])\n",
    "print('New mappings: ', updated_new_mappings.shape[0])\n",
    "print('Still needs mapping: ', updated_no_mappings.shape[0])"
   ]
  },
  {
   "cell_type": "code",
   "execution_count": null,
   "metadata": {},
   "outputs": [],
   "source": [
    "updated_new_mappings.MUSEPatientID.duplicated().any()"
   ]
  },
  {
   "cell_type": "code",
   "execution_count": null,
   "metadata": {},
   "outputs": [],
   "source": [
    "updated_no_mappings.PatientID.duplicated().any()"
   ]
  },
  {
   "cell_type": "markdown",
   "metadata": {},
   "source": [
    "## Master Patient List Cleaning"
   ]
  },
  {
   "cell_type": "code",
   "execution_count": null,
   "metadata": {},
   "outputs": [],
   "source": [
    "masterpatientlist = pd.read_csv('MUSE_MRN_Patient_List.txt',\n",
    "                                sep='\\,',lineterminator='\\n',\n",
    "                                usecols=[0,1,2,3,4,5,6,7,8,9,10,11,12],\n",
    "                                converters={'current_mrn':str, 'new_mrn':str, 'legacy_mrn':str},\n",
    "                                engine = 'python'\n",
    ")\n"
   ]
  },
  {
   "cell_type": "code",
   "execution_count": null,
   "metadata": {},
   "outputs": [],
   "source": [
    "# #Use if need to modify masterpatientlist stored to SQLite DB\n",
    "# masterpatientlist = epicpatientlist"
   ]
  },
  {
   "cell_type": "code",
   "execution_count": null,
   "metadata": {},
   "outputs": [],
   "source": [
    "masterpatientlist.info()"
   ]
  },
  {
   "cell_type": "code",
   "execution_count": null,
   "metadata": {},
   "outputs": [],
   "source": [
    "masterpatientlist.head()"
   ]
  },
  {
   "cell_type": "code",
   "execution_count": null,
   "metadata": {},
   "outputs": [],
   "source": [
    "masterpatientlist['current_mrn'].str.isalpha().any()"
   ]
  },
  {
   "cell_type": "markdown",
   "metadata": {},
   "source": [
    "### Fix Patients with Commas in Current First/Last Name Field"
   ]
  },
  {
   "cell_type": "code",
   "execution_count": null,
   "metadata": {},
   "outputs": [],
   "source": [
    "masterpatientlist.columns"
   ]
  },
  {
   "cell_type": "code",
   "execution_count": null,
   "metadata": {},
   "outputs": [],
   "source": [
    "commonsuffix = ['Jr','Jr.','JR','JR.''Sr','Sr.','SR','SR.','RN','MD','M.D.','MD.']"
   ]
  },
  {
   "cell_type": "code",
   "execution_count": null,
   "metadata": {},
   "outputs": [],
   "source": [
    "##****Shifts Columns for patients that had a comma at end of their first name\n",
    "masterpatientlist.loc[(masterpatientlist['current_mrn'].str.isalpha()) & (masterpatientlist['last_name'].isnull()),'last_name':] =\\\n",
    "    masterpatientlist.loc[(masterpatientlist['current_mrn'].str.isalpha()) & (masterpatientlist['last_name'].isnull()),'last_name':].shift(-1, axis =1) \n",
    "\n",
    "##****Shifts Columns for patients that had a comma at beginning of their first name\n",
    "masterpatientlist.loc[(masterpatientlist['current_mrn'].str.isalpha()) & (masterpatientlist['first_name'].isnull()),'first_name':] =\\\n",
    "    masterpatientlist.loc[(masterpatientlist['current_mrn'].str.isalpha()) & (masterpatientlist['first_name'].isnull()),'first_name':].shift(-1, axis =1) \n",
    "\n",
    "##****Shifts Columns for patients that had a comma at end of their last name\n",
    "masterpatientlist.loc[(masterpatientlist['current_mrn'].str.isalpha()) & (masterpatientlist['birth_date'].isnull()), 'birth_date':] =\\\n",
    "    masterpatientlist.loc[(masterpatientlist['current_mrn'].str.isalpha()) & (masterpatientlist['birth_date'].isnull()), 'birth_date':].shift(-1, axis=1)\n",
    "\n",
    "##***Shifts Columns for patients that had a common suffix in their first name with a comma.\n",
    "##*** Removes the suffix as would be expected in downstream systems\n",
    "masterpatientlist.loc[(masterpatientlist['current_mrn'].str.isalpha()) & (masterpatientlist['last_name'].str.strip().isin(commonsuffix)),'last_name':] =\\\n",
    "    masterpatientlist.loc[(masterpatientlist['current_mrn'].str.isalpha()) & (masterpatientlist['last_name'].str.strip().isin(commonsuffix)),'last_name':].shift(-1,axis=1)\n",
    "\n",
    "##***Shifts Columns for patients that had a common suffix in their last name with a comma.\n",
    "##*** Removes the suffix as would beexpected in downstream systems\n",
    "masterpatientlist.loc[(masterpatientlist['current_mrn'].str.isalpha()) & (masterpatientlist['birth_date'].str.strip().isin(commonsuffix)),'birth_date':] =\\\n",
    "    masterpatientlist.loc[(masterpatientlist['current_mrn'].str.isalpha()) & (masterpatientlist['birth_date'].str.strip().isin(commonsuffix)),'birth_date':].shift(-1,axis=1)\n",
    "\n",
    "##***NEEDS TO BE DONE LAST. Shifts remaining patients that had comma in middle of first or last name\n",
    "##*** May lose some informatio but manual checks would catch what is occurring easily\n",
    "masterpatientlist.loc[masterpatientlist['current_mrn'].str.isalpha(),'birth_date':] =\\\n",
    "    masterpatientlist.loc[(masterpatientlist['current_mrn'].str.isalpha()),'birth_date':].shift(-1, axis = 1)"
   ]
  },
  {
   "cell_type": "code",
   "execution_count": null,
   "metadata": {},
   "outputs": [],
   "source": [
    "masterpatientlist['current_mrn'].str.isalpha().any()"
   ]
  },
  {
   "cell_type": "markdown",
   "metadata": {},
   "source": [
    "### Fix issue due to Comma in Legacy Pat Full Name Field"
   ]
  },
  {
   "cell_type": "code",
   "execution_count": null,
   "metadata": {},
   "outputs": [],
   "source": [
    "masterpatientlist.columns"
   ]
  },
  {
   "cell_type": "code",
   "execution_count": null,
   "metadata": {},
   "outputs": [],
   "source": [
    "#Full name got split in to full name and last name field: Last, First. Do not need last name field from import\n",
    "masterpatientlist.drop(columns='legacy_pat_last_name', inplace=True)"
   ]
  },
  {
   "cell_type": "code",
   "execution_count": null,
   "metadata": {},
   "outputs": [],
   "source": [
    "#Rename columns to relfect how values were actually imported\n",
    "masterpatientlist.rename(columns={'legacy_pat_full_name':'legacy_pat_last_name'}, inplace=True)"
   ]
  },
  {
   "cell_type": "code",
   "execution_count": null,
   "metadata": {},
   "outputs": [],
   "source": [
    "masterpatientlist.columns"
   ]
  },
  {
   "cell_type": "markdown",
   "metadata": {},
   "source": [
    "### Standardize Data to match MUSE Extract Data"
   ]
  },
  {
   "cell_type": "code",
   "execution_count": null,
   "metadata": {},
   "outputs": [],
   "source": [
    "#Drop Columns with missing NM MRN value as these are of no use/not valid\n",
    "masterpatientlist.dropna(subset=['new_mrn'],inplace=True)"
   ]
  },
  {
   "cell_type": "code",
   "execution_count": null,
   "metadata": {},
   "outputs": [],
   "source": [
    "#Fill in NA with Default Values\n",
    "masterpatientlist['first_name'].fillna('MISSING', inplace=True)\n",
    "masterpatientlist['last_name'].fillna('MISSING', inplace=True)\n",
    "masterpatientlist['birth_date'].fillna('1889-01-01 00:00:00.00', inplace=True)\n",
    "masterpatientlist['gender'].fillna('U', inplace=True)\n",
    "masterpatientlist['current_mrn'].fillna('99', inplace=True)\n",
    "masterpatientlist['new_mrn'].fillna('99', inplace=True)\n",
    "masterpatientlist['legacy_mrn'].fillna('NA', inplace=True)\n",
    "masterpatientlist['legacy_pat_last_name'].fillna('NA', inplace=True)\n",
    "masterpatientlist['legacy_pat_first_name'].fillna('NA', inplace=True)"
   ]
  },
  {
   "cell_type": "code",
   "execution_count": null,
   "metadata": {},
   "outputs": [],
   "source": [
    "#Change capitlization to UPPERCASE for all name fields\n",
    "masterpatientlist['first_name'] = masterpatientlist['first_name'].str.upper()\n",
    "masterpatientlist['last_name'] = masterpatientlist['last_name'].str.upper()\n",
    "masterpatientlist['legacy_pat_last_name'] = masterpatientlist['legacy_pat_last_name'].str.upper()\n",
    "masterpatientlist['legacy_pat_first_name'] = masterpatientlist['legacy_pat_first_name'].str.upper()"
   ]
  },
  {
   "cell_type": "code",
   "execution_count": null,
   "metadata": {},
   "outputs": [],
   "source": [
    "#Remove any extra whitespace in dataframe\n",
    "for col in list(masterpatientlist.columns):\n",
    "    masterpatientlist[col] = masterpatientlist[col].str.strip()"
   ]
  },
  {
   "cell_type": "code",
   "execution_count": null,
   "metadata": {},
   "outputs": [],
   "source": [
    "#Replace Gender with M=0, F=1, U = 99\n",
    "masterpatientlist['gender'].replace('M',0,inplace=True)\n",
    "masterpatientlist['gender'].replace('F',1,inplace=True)\n",
    "masterpatientlist['gender'].replace('U',99,inplace=True)"
   ]
  },
  {
   "cell_type": "code",
   "execution_count": null,
   "metadata": {},
   "outputs": [],
   "source": [
    "#Create Birth Year Column to match against Birth Year in Patient Name\n",
    "masterpatientlist['birthyear'] = masterpatientlist.loc[:,'birth_date'].str.partition('-')[0]"
   ]
  },
  {
   "cell_type": "code",
   "execution_count": null,
   "metadata": {},
   "outputs": [],
   "source": [
    "masterpatientlist.info()"
   ]
  },
  {
   "cell_type": "code",
   "execution_count": null,
   "metadata": {},
   "outputs": [],
   "source": [
    "masterpatientlist.head()"
   ]
  },
  {
   "cell_type": "code",
   "execution_count": null,
   "metadata": {},
   "outputs": [],
   "source": [
    "masterpatientlist.tail()"
   ]
  },
  {
   "cell_type": "code",
   "execution_count": null,
   "metadata": {},
   "outputs": [],
   "source": [
    "masterpatientlist = epicpatientlistfull"
   ]
  },
  {
   "cell_type": "code",
   "execution_count": null,
   "metadata": {},
   "outputs": [],
   "source": [
    "masterpatientlist2 = epicpatientlist"
   ]
  },
  {
   "cell_type": "code",
   "execution_count": null,
   "metadata": {},
   "outputs": [],
   "source": [
    "masterpatientlist['uid'][(masterpatientlist['uid'].duplicated()) & (masterpatientlist['uid']!='MISSING')].shape"
   ]
  },
  {
   "cell_type": "code",
   "execution_count": null,
   "metadata": {},
   "outputs": [],
   "source": [
    "masterpatientlist.loc[masterpatientlist['uid'].isin(\n",
    "        masterpatientlist2['uid'][(masterpatientlist2['uid'].duplicated()) & (masterpatientlist2['uid']!='MISSING')]),'uid'] = 'MISSING'"
   ]
  },
  {
   "cell_type": "code",
   "execution_count": null,
   "metadata": {},
   "outputs": [],
   "source": [
    "masterpatientlist['birth_date'] = pd.to_datetime(masterpatientlist['birth_date'])"
   ]
  },
  {
   "cell_type": "markdown",
   "metadata": {},
   "source": [
    "### Write Cleaned Patient List to DB for quick retrieval in future"
   ]
  },
  {
   "cell_type": "code",
   "execution_count": null,
   "metadata": {},
   "outputs": [],
   "source": [
    "masterpatientlist.to_sql(\"masterpatientlist\",cnx,if_exists=\"replace\", index=False)"
   ]
  },
  {
   "cell_type": "markdown",
   "metadata": {},
   "source": [
    "## MUSE Lists Cleaning"
   ]
  },
  {
   "cell_type": "code",
   "execution_count": null,
   "metadata": {},
   "outputs": [],
   "source": [
    "#Temporary Dataframes to Read Direct from Excel initially or if any changes to Excel Document\n",
    "nomapping = pd.read_excel (r'North_Centra_WestConsolidationTestResults_Feb_2019.xlsx', \n",
    "                           sheet_name='No Mapping',\n",
    "                           converters={'PatientID':str}\n",
    "                          )\n",
    "nomapping.shape"
   ]
  },
  {
   "cell_type": "code",
   "execution_count": null,
   "metadata": {},
   "outputs": [],
   "source": [
    "nomapping = musepatientlist.copy()\n",
    "nomapping.shape"
   ]
  },
  {
   "cell_type": "code",
   "execution_count": null,
   "metadata": {
    "scrolled": false
   },
   "outputs": [],
   "source": [
    "nomapping.info()"
   ]
  },
  {
   "cell_type": "code",
   "execution_count": null,
   "metadata": {},
   "outputs": [],
   "source": [
    "nomapping.columns"
   ]
  },
  {
   "cell_type": "code",
   "execution_count": null,
   "metadata": {},
   "outputs": [],
   "source": [
    "nomapping.head()"
   ]
  },
  {
   "cell_type": "markdown",
   "metadata": {},
   "source": [
    "### Standardize Data to match Master Patient List Data"
   ]
  },
  {
   "cell_type": "code",
   "execution_count": null,
   "metadata": {},
   "outputs": [],
   "source": [
    "#Remove any extra whitespace in dataframe\n",
    "for col in list(nomapping.columns):\n",
    "    if nomapping[col].dtype == 'O':\n",
    "        nomapping[col] = nomapping[col].str.strip()"
   ]
  },
  {
   "cell_type": "code",
   "execution_count": null,
   "metadata": {},
   "outputs": [],
   "source": [
    "#Changed Patient List instead to Reflect MUSE info Rename Gender to M and F M = 0, F = 1\n",
    "#nomapping.Gender.replace(0,'M',inplace=True)\n",
    "#nomapping.Gender.replace(1,'F',inplace=True)"
   ]
  },
  {
   "cell_type": "code",
   "execution_count": null,
   "metadata": {},
   "outputs": [],
   "source": [
    "nomapping['dateofbirth_d'].replace('1700-01-01 00:00:00.00','1700-01-01 00:00:00.000', inplace=True)"
   ]
  },
  {
   "cell_type": "code",
   "execution_count": null,
   "metadata": {},
   "outputs": [],
   "source": [
    "#Replace Default Values - Differ than Epic Default\n",
    "#Fill in NA with Default Values\n",
    "nomapping['FirstName'].fillna('NONE', inplace=True)\n",
    "nomapping['LastName'].fillna('NONE', inplace=True)\n",
    "nomapping['dateofbirth_d'].fillna('1700-01-01 00:00:00.000', inplace=True)\n",
    "nomapping['Gender'].fillna('9', inplace=True)\n",
    "nomapping['PatientID'].fillna('88', inplace=True)"
   ]
  },
  {
   "cell_type": "code",
   "execution_count": null,
   "metadata": {},
   "outputs": [],
   "source": [
    "#Make Names Uppercase to standardize\n",
    "nomapping['FirstName'] = nomapping['FirstName'].str.upper()\n",
    "nomapping['LastName'] = nomapping['LastName'].str.upper()"
   ]
  },
  {
   "cell_type": "code",
   "execution_count": null,
   "metadata": {},
   "outputs": [],
   "source": [
    "#Split out First Names that have Commas to capture the patients that have birth year in their name\n",
    "nomapping['FirstName_Split_1'] = nomapping['FirstName'].str.partition(\",\")[0].str.strip()\n",
    "nomapping['FirstName_Split_2'] = nomapping['FirstName'].str.partition(\",\")[2].str.strip()\n",
    "nomapping['DOB_year_from_first_name'] = '19' + nomapping['FirstName_Split_2']"
   ]
  },
  {
   "cell_type": "code",
   "execution_count": null,
   "metadata": {},
   "outputs": [],
   "source": [
    "#Change Gener to int value\n",
    "nomapping['Gender'] = nomapping['Gender'].astype(int)"
   ]
  },
  {
   "cell_type": "code",
   "execution_count": null,
   "metadata": {},
   "outputs": [],
   "source": [
    "nomapping.info()"
   ]
  },
  {
   "cell_type": "code",
   "execution_count": null,
   "metadata": {},
   "outputs": [],
   "source": [
    "nomapping.head()"
   ]
  },
  {
   "cell_type": "code",
   "execution_count": null,
   "metadata": {},
   "outputs": [],
   "source": [
    "nomapping.tail()"
   ]
  },
  {
   "cell_type": "code",
   "execution_count": null,
   "metadata": {},
   "outputs": [],
   "source": [
    "nomapping = musepatientlist"
   ]
  },
  {
   "cell_type": "code",
   "execution_count": null,
   "metadata": {},
   "outputs": [],
   "source": [
    "nomapping.info()"
   ]
  },
  {
   "cell_type": "code",
   "execution_count": null,
   "metadata": {},
   "outputs": [],
   "source": [
    "nomapping['dateofbirth_d'] = pd.to_datetime(nomapping['dateofbirth_d'])"
   ]
  },
  {
   "cell_type": "markdown",
   "metadata": {},
   "source": [
    "### Write Cleaned Patient List to DB for quick retrieval in future"
   ]
  },
  {
   "cell_type": "code",
   "execution_count": null,
   "metadata": {},
   "outputs": [],
   "source": [
    "nomapping.to_sql(\"musenomapping\",cnx,if_exists=\"replace\", index=False)"
   ]
  },
  {
   "cell_type": "markdown",
   "metadata": {},
   "source": [
    "## Alternative Epic List with uid Mapping"
   ]
  },
  {
   "cell_type": "markdown",
   "metadata": {},
   "source": [
    "Prosolv and CLMSA Xcelera migrations had crosswalks with uid. Importing all of these crosswalks to check against the MUSE no mapping list which appears to have uid for a number of patients."
   ]
  },
  {
   "cell_type": "markdown",
   "metadata": {},
   "source": [
    "### CLSMA Mapping"
   ]
  },
  {
   "cell_type": "code",
   "execution_count": null,
   "metadata": {},
   "outputs": [],
   "source": [
    "clsmapatientlist = pd.read_excel(\"clsmauid.xlsx\",\n",
    "                                dtype = {'uid':str, 'MRN':str, '_MRN':str},\n",
    "                                index_col=None,\n",
    "                                headers=0)\n",
    "clsmapatientlist.shape"
   ]
  },
  {
   "cell_type": "code",
   "execution_count": null,
   "metadata": {},
   "outputs": [],
   "source": [
    "clsmapatientlist.head()"
   ]
  },
  {
   "cell_type": "code",
   "execution_count": null,
   "metadata": {},
   "outputs": [],
   "source": [
    "clsmapatientlist.info()"
   ]
  },
  {
   "cell_type": "code",
   "execution_count": null,
   "metadata": {},
   "outputs": [],
   "source": [
    "clsmapatientlist.columns"
   ]
  },
  {
   "cell_type": "code",
   "execution_count": null,
   "metadata": {},
   "outputs": [],
   "source": [
    "clsmapatientlist['uid'] = '000' + clsmapatientlist['uid'].str.replace('-','')\n",
    "clsmapatientlist['First_Name'] = clsmapatientlist['PATIENT_NAME'].str.partition(',')[2]\n",
    "clsmapatientlist['Last_Name'] = clsmapatientlist['PATIENT_NAME'].str.partition(',')[0]\n",
    "clsmapatientlist['SEX'].replace('Female','1',inplace=True)\n",
    "clsmapatientlist['SEX'].replace('Male','0',inplace=True)"
   ]
  },
  {
   "cell_type": "markdown",
   "metadata": {},
   "source": [
    "### Prosolv Mappings"
   ]
  },
  {
   "cell_type": "code",
   "execution_count": null,
   "metadata": {},
   "outputs": [],
   "source": [
    "prosolvmrn1 = pd.read_excel('Prosolv_Mapping.xlsx'\n",
    "                            ,sheet_name = 'Current  MRN mapping'\n",
    "                            ,headers = 0\n",
    "                            ,usecols = ['Clarity_uid','Clarity_MRN','Clarity_PAT_NAME','Clarity_DOB','Clarity_SEX']\n",
    "                            ,dtype = {'Clarity_uid':str,'Clarity_MRN':str}\n",
    "                            )\n",
    "prosolvmrn1.shape"
   ]
  },
  {
   "cell_type": "code",
   "execution_count": null,
   "metadata": {},
   "outputs": [],
   "source": [
    "prosolvmrn1.head()"
   ]
  },
  {
   "cell_type": "code",
   "execution_count": null,
   "metadata": {},
   "outputs": [],
   "source": [
    "prosolvmrn1.info()"
   ]
  },
  {
   "cell_type": "code",
   "execution_count": null,
   "metadata": {},
   "outputs": [],
   "source": [
    "prosolvmrn1.columns"
   ]
  },
  {
   "cell_type": "code",
   "execution_count": null,
   "metadata": {},
   "outputs": [],
   "source": [
    "invaliduid = ['000-00-0000','111-11-1111','222-22-2222','333-33-3333','444-44-4444','555-55-5555',\n",
    "             '666-66-6666','777-77-7777','888-88-8888','999-99-9999']"
   ]
  },
  {
   "cell_type": "code",
   "execution_count": null,
   "metadata": {},
   "outputs": [],
   "source": [
    "prosolvmrn1.drop(index=prosolvmrn1[prosolvmrn1['Clarity_uid'].isin(invaliduid)].index.values, inplace=True)\n",
    "prosolvmrn1.dropna(subset=['Clarity_uid'], inplace=True)\n",
    "prosolvmrn1['First_Name'] = prosolvmrn1['Clarity_PAT_NAME'].str.partition(',')[2]\n",
    "prosolvmrn1['Last_Name'] = prosolvmrn1['Clarity_PAT_NAME'].str.partition(',')[0]\n",
    "prosolvmrn1['Clarity_SEX'].replace('M',0,inplace=True)\n",
    "prosolvmrn1['Clarity_SEX'].replace('F',1,inplace=True)\n",
    "prosolvmrn1['Clarity_uid'] = '000' + prosolvmrn1['Clarity_uid'].str.replace('-','')\n",
    "prosolvmrn1.drop_duplicates(subset='Clarity_MRN',inplace=True)"
   ]
  },
  {
   "cell_type": "code",
   "execution_count": null,
   "metadata": {},
   "outputs": [],
   "source": [
    "prosolvmrn2 = pd.read_excel('Prosolv_Mapping.xlsx'\n",
    "                            ,sheet_name = 'Historical  MRN Mapping'\n",
    "                            ,headers = 0\n",
    "                            ,usecols = ['Clarity_uid','Clarity_MRN','Clarity_PAT_NAME','Clarity_DOB','Clarity_SEX']\n",
    "                            ,dtype = {'Clarity_uid':str,'Clarity_MRN':str})\n",
    "prosolvmrn2.shape"
   ]
  },
  {
   "cell_type": "code",
   "execution_count": null,
   "metadata": {},
   "outputs": [],
   "source": [
    "prosolvmrn2.head()"
   ]
  },
  {
   "cell_type": "code",
   "execution_count": null,
   "metadata": {},
   "outputs": [],
   "source": [
    "prosolvmrn2.info()"
   ]
  },
  {
   "cell_type": "code",
   "execution_count": null,
   "metadata": {},
   "outputs": [],
   "source": [
    "prosolvmrn2.columns"
   ]
  },
  {
   "cell_type": "code",
   "execution_count": null,
   "metadata": {},
   "outputs": [],
   "source": [
    "prosolvmrn2.drop(index=prosolvmrn2[prosolvmrn2['Clarity_uid'].isin(invaliduid)].index.values, inplace=True)\n",
    "prosolvmrn2.dropna(subset=['Clarity_uid'], inplace=True)\n",
    "prosolvmrn2['First_Name'] = prosolvmrn2['Clarity_PAT_NAME'].str.partition(',')[2]\n",
    "prosolvmrn2['Last_Name'] = prosolvmrn2['Clarity_PAT_NAME'].str.partition(',')[0]\n",
    "prosolvmrn2['Clarity_SEX'].replace('M',0,inplace=True)\n",
    "prosolvmrn2['Clarity_SEX'].replace('F',1,inplace=True)\n",
    "prosolvmrn2['Clarity_uid'] = '000' + prosolvmrn2['Clarity_uid'].str.replace('-','')\n",
    "prosolvmrn2.drop_duplicates(subset='Clarity_MRN',inplace=True)"
   ]
  },
  {
   "cell_type": "code",
   "execution_count": null,
   "metadata": {},
   "outputs": [],
   "source": [
    "prosolvmrn3 = pd.read_excel('RemainingToBeMapped.xlsx'\n",
    "                            ,sheet_name = '5.20.2019 Mapping'\n",
    "                            ,headers = 0\n",
    "                            ,usecols = ['Clarity_uid','Clarity_MRN','Clarity_PAT_NAME','Clarity_DOB','Clarity_SEX']\n",
    "                            ,dtype = {'Clarity_uid':str,'Clarity_MRN':str}\n",
    "                            )\n",
    "prosolvmrn3.shape"
   ]
  },
  {
   "cell_type": "code",
   "execution_count": null,
   "metadata": {},
   "outputs": [],
   "source": [
    "prosolvmrn3.head()"
   ]
  },
  {
   "cell_type": "code",
   "execution_count": null,
   "metadata": {},
   "outputs": [],
   "source": [
    "prosolvmrn3.info()"
   ]
  },
  {
   "cell_type": "code",
   "execution_count": null,
   "metadata": {},
   "outputs": [],
   "source": [
    "prosolvmrn3.columns"
   ]
  },
  {
   "cell_type": "code",
   "execution_count": null,
   "metadata": {},
   "outputs": [],
   "source": [
    "prosolvmrn3.drop(index=prosolvmrn3[prosolvmrn3['Clarity_uid'].isin(invaliduid)].index.values, inplace=True)\n",
    "prosolvmrn3.dropna(subset=['Clarity_uid'], inplace=True)\n",
    "prosolvmrn3['First_Name'] = prosolvmrn3['Clarity_PAT_NAME'].str.partition(',')[2]\n",
    "prosolvmrn3['Last_Name'] = prosolvmrn3['Clarity_PAT_NAME'].str.partition(',')[0]\n",
    "prosolvmrn3['Clarity_SEX'].replace('M',0,inplace=True)\n",
    "prosolvmrn3['Clarity_SEX'].replace('F',1,inplace=True)\n",
    "prosolvmrn3['Clarity_uid'] = '000' + prosolvmrn3['Clarity_uid'].str.replace('-','')\n",
    "prosolvmrn3.drop_duplicates(subset='Clarity_MRN',inplace=True)"
   ]
  },
  {
   "cell_type": "code",
   "execution_count": null,
   "metadata": {},
   "outputs": [],
   "source": [
    "epicpatientlist.columns"
   ]
  },
  {
   "cell_type": "code",
   "execution_count": null,
   "metadata": {},
   "outputs": [],
   "source": [
    "prosolvmrn1.columns"
   ]
  },
  {
   "cell_type": "code",
   "execution_count": null,
   "metadata": {},
   "outputs": [],
   "source": [
    "clsmapatientlist.columns"
   ]
  },
  {
   "cell_type": "code",
   "execution_count": null,
   "metadata": {},
   "outputs": [],
   "source": [
    "epicpatientlist2 = epicpatientlist.copy()"
   ]
  },
  {
   "cell_type": "code",
   "execution_count": null,
   "metadata": {},
   "outputs": [],
   "source": [
    "epicpatientlist2 = epicpatientlist2.merge(clsmapatientlist[['MRN','uid']], left_on='new_mrn', right_on='MRN', how='left', sort=False)\n",
    "epicpatientlist2 = epicpatientlist2.merge(prosolvmrn1[['Clarity_MRN','Clarity_uid']], left_on = 'current_mrn', right_on='Clarity_MRN', how='left', sort=False)\n",
    "epicpatientlist2 = epicpatientlist2.merge(prosolvmrn1[['Clarity_MRN','Clarity_uid']], left_on = 'legacy_mrn', right_on='Clarity_MRN', how='left', sort=False, suffixes = ('1_current','1_legacy'))\n",
    "epicpatientlist2 = epicpatientlist2.merge(prosolvmrn2[['Clarity_MRN','Clarity_uid']], left_on = 'current_mrn', right_on='Clarity_MRN', how='left', sort=False, suffixes = ('1_current','2_current'))\n",
    "epicpatientlist2 = epicpatientlist2.merge(prosolvmrn2[['Clarity_MRN','Clarity_uid']], left_on = 'legacy_mrn', right_on='Clarity_MRN', how='left', sort=False, suffixes = ('2_current','2_legacy'))\n",
    "epicpatientlist2 = epicpatientlist2.merge(prosolvmrn3[['Clarity_MRN','Clarity_uid']], left_on = 'new_mrn', right_on='Clarity_MRN', how='left', sort=False)"
   ]
  },
  {
   "cell_type": "code",
   "execution_count": null,
   "metadata": {},
   "outputs": [],
   "source": [
    "epicpatientlist2.columns"
   ]
  },
  {
   "cell_type": "code",
   "execution_count": null,
   "metadata": {},
   "outputs": [],
   "source": [
    "epicpatientlist2['uid'] = 'MISSING'"
   ]
  },
  {
   "cell_type": "code",
   "execution_count": null,
   "metadata": {},
   "outputs": [],
   "source": [
    "epicpatientlist2.loc[epicpatientlist2['Clarity_uid'].notna(),'uid'] =\\\n",
    "    epicpatientlist2.loc[epicpatientlist2['Clarity_uid'].notna(),'Clarity_uid']\n",
    "\n",
    "epicpatientlist2.loc[(epicpatientlist2['Clarity_uid1_current'].notna()) & (epicpatientlist2['uid'] == 'MISSING'),'uid'] =\\\n",
    "    epicpatientlist2.loc[epicpatientlist2['Clarity_uid1_current'].notna() & (epicpatientlist2['uid'] == 'MISSING'),'Clarity_uid1_current']\n",
    "\n",
    "epicpatientlist2.loc[(epicpatientlist2['Clarity_uid2_legacy'].notna()) & (epicpatientlist2['uid'] == 'MISSING'),'uid'] =\\\n",
    "    epicpatientlist2.loc[epicpatientlist2['Clarity_uid2_legacy'].notna() & (epicpatientlist2['uid'] == 'MISSING'),'Clarity_uid2_legacy']\n",
    "\n",
    "epicpatientlist2.loc[(epicpatientlist2['Clarity_uid1_legacy'].notna()) & (epicpatientlist2['uid'] == 'MISSING'),'uid'] =\\\n",
    "    epicpatientlist2.loc[epicpatientlist2['Clarity_uid1_legacy'].notna() & (epicpatientlist2['uid'] == 'MISSING'),'Clarity_uid1_legacy']\n",
    "\n",
    "epicpatientlist2.loc[(epicpatientlist2['Clarity_uid2_current'].notna()) & (epicpatientlist2['uid'] == 'MISSING'),'uid'] =\\\n",
    "    epicpatientlist2.loc[epicpatientlist2['Clarity_uid2_current'].notna() & (epicpatientlist2['uid'] == 'MISSING'),'Clarity_uid2_current']\n",
    "\n",
    "epicpatientlist2.loc[(epicpatientlist2['uid'].notna()) & (epicpatientlist2['uid'] == 'MISSING'),'uid'] =\\\n",
    "    epicpatientlist2.loc[epicpatientlist2['uid'].notna() & (epicpatientlist2['uid'] == 'MISSING'),'uid']"
   ]
  },
  {
   "cell_type": "code",
   "execution_count": null,
   "metadata": {},
   "outputs": [],
   "source": [
    "epicpatientlist2.loc[:,'uid':'Clarity_uid'][epicpatientlist2['uid'] != 'MISSING']"
   ]
  },
  {
   "cell_type": "code",
   "execution_count": null,
   "metadata": {},
   "outputs": [],
   "source": [
    "epicpatientlist = epicpatientlist2.drop(columns=['MRN', 'uid',\n",
    "       'Clarity_MRN1_current', 'Clarity_uid1_current', 'Clarity_MRN1_legacy',\n",
    "       'Clarity_uid1_legacy', 'Clarity_MRN2_current', 'Clarity_uid2_current',\n",
    "       'Clarity_MRN2_legacy', 'Clarity_uid2_legacy', 'Clarity_MRN',\n",
    "       'Clarity_uid'])"
   ]
  },
  {
   "cell_type": "code",
   "execution_count": null,
   "metadata": {},
   "outputs": [],
   "source": [
    "epicpatientlist.shape"
   ]
  },
  {
   "cell_type": "markdown",
   "metadata": {},
   "source": [
    "Resulting epicpatientlist copied to masterpatientlist and written to DB as master copy which includes uid."
   ]
  },
  {
   "cell_type": "markdown",
   "metadata": {},
   "source": [
    "# Testing Code Below - Stop Here"
   ]
  },
  {
   "cell_type": "code",
   "execution_count": null,
   "metadata": {},
   "outputs": [],
   "source": [
    "test = pd.read_csv('MUSE_MRN_Patient_List.txt',\n",
    "                                sep='\\,',lineterminator='\\n',\n",
    "                                usecols=[0,1,2,3,4,5,6,7,8,9,10,11,12],\n",
    "                                converters={'current_mrn':str, 'new_mrn':str, 'legacy_mrn':str},\n",
    "                                engine = 'python' #nrows = 10000\n",
    ")"
   ]
  },
  {
   "cell_type": "code",
   "execution_count": null,
   "metadata": {},
   "outputs": [],
   "source": [
    "test.info()"
   ]
  },
  {
   "cell_type": "code",
   "execution_count": null,
   "metadata": {},
   "outputs": [],
   "source": [
    "test['current_mrn'].value_counts()"
   ]
  },
  {
   "cell_type": "code",
   "execution_count": null,
   "metadata": {},
   "outputs": [],
   "source": [
    "test['new_mrn'].value_counts()"
   ]
  },
  {
   "cell_type": "code",
   "execution_count": null,
   "metadata": {},
   "outputs": [],
   "source": [
    "test.columns"
   ]
  },
  {
   "cell_type": "code",
   "execution_count": null,
   "metadata": {},
   "outputs": [],
   "source": [
    "test['legacy_mrn'].value_counts(dropna=False)"
   ]
  },
  {
   "cell_type": "code",
   "execution_count": null,
   "metadata": {},
   "outputs": [],
   "source": [
    "test['legacy_mrn'].str.isalpha().value_counts(dropna=False)"
   ]
  },
  {
   "cell_type": "code",
   "execution_count": null,
   "metadata": {},
   "outputs": [],
   "source": [
    "test['new_mrn'].isna().any()"
   ]
  },
  {
   "cell_type": "code",
   "execution_count": null,
   "metadata": {},
   "outputs": [],
   "source": [
    "test['new_mrn'].str.isalpha().value_counts(dropna=False)"
   ]
  },
  {
   "cell_type": "code",
   "execution_count": null,
   "metadata": {},
   "outputs": [],
   "source": [
    "test.loc[(test['current_mrn'].str.isalpha()) & (test['birth_date'].isnull())]"
   ]
  },
  {
   "cell_type": "code",
   "execution_count": null,
   "metadata": {},
   "outputs": [],
   "source": [
    "test.loc[(test['current_mrn'].str.isalpha()) & (test['last_name'].str.strip().isin(commonsuffix)),'last_name':]"
   ]
  },
  {
   "cell_type": "code",
   "execution_count": null,
   "metadata": {},
   "outputs": [],
   "source": [
    "test.loc[(test['current_mrn'].str.isalpha()) & (test['birth_date'].str.strip().isin(commonsuffix)),'birth_date':]"
   ]
  },
  {
   "cell_type": "code",
   "execution_count": null,
   "metadata": {},
   "outputs": [],
   "source": [
    "test.loc[(test['current_mrn'].str.isalpha()) & (test['first_name'].isnull())]"
   ]
  },
  {
   "cell_type": "code",
   "execution_count": null,
   "metadata": {},
   "outputs": [],
   "source": [
    "commonsuffix = ['Jr','Jr.','JR','JR.''Sr','Sr.','SR','SR.','RN','MD','M.D.','MD.']"
   ]
  },
  {
   "cell_type": "code",
   "execution_count": null,
   "metadata": {},
   "outputs": [],
   "source": [
    "##****Shifts Columns for patients that had a comma at end of their first name\n",
    "test.loc[(test['current_mrn'].str.isalpha()) & (test['last_name'].isnull()),'last_name':] =\\\n",
    "    test.loc[(test['current_mrn'].str.isalpha()) & (test['last_name'].isnull()),'last_name':].shift(-1, axis =1) \n",
    "\n",
    "##****Shifts Columns for patients that had a comma at beginning of their first name\n",
    "test.loc[(test['current_mrn'].str.isalpha()) & (test['first_name'].isnull()),'first_name':] =\\\n",
    "    test.loc[(test['current_mrn'].str.isalpha()) & (test['first_name'].isnull()),'first_name':].shift(-1, axis =1) \n",
    "\n",
    "##****Shifts Columns for patients that had a comma at end of their last name\n",
    "test.loc[(test['current_mrn'].str.isalpha()) & (test['birth_date'].isnull()), 'birth_date':] =\\\n",
    "    test.loc[(test['current_mrn'].str.isalpha()) & (test['birth_date'].isnull()), 'birth_date':].shift(-1, axis=1)\n",
    "\n",
    "##***Shifts Columns for patients that had a common suffix in their first name with a comma. Removes the suffix as would be\n",
    "##***expected in downstream systems\n",
    "test.loc[(test['current_mrn'].str.isalpha()) & (test['last_name'].str.strip().isin(commonsuffix)),'last_name':] =\\\n",
    "    test.loc[(test['current_mrn'].str.isalpha()) & (test['last_name'].str.strip().isin(commonsuffix)),'last_name':].shift(-1,axis=1)\n",
    "\n",
    "##***Shifts Columns for patients that had a common suffix in their last name with a comma. Removes the suffix as would be\n",
    "##***expected in downstream systems\n",
    "test.loc[(test['current_mrn'].str.isalpha()) & (test['birth_date'].str.strip().isin(commonsuffix)),'birth_date':] =\\\n",
    "    test.loc[(test['current_mrn'].str.isalpha()) & (test['birth_date'].str.strip().isin(commonsuffix)),'birth_date':].shift(-1,axis=1)\n",
    "\n",
    "##***NEEDS TO BE DONE LAST. Shifts remaining patients that had comma in middle of first or last name\n",
    "##*** May lose some informatio but manual checks would catch what is occurring easily\n",
    "test.loc[test['current_mrn'].str.isalpha(),'birth_date':] =\\\n",
    "    test.loc[(test['current_mrn'].str.isalpha()),'birth_date':].shift(-1, axis = 1)"
   ]
  },
  {
   "cell_type": "code",
   "execution_count": null,
   "metadata": {
    "scrolled": true
   },
   "outputs": [],
   "source": [
    "test.loc[(test['current_mrn'].str.isalpha()) & (test['last_name'].isnull())] "
   ]
  },
  {
   "cell_type": "code",
   "execution_count": null,
   "metadata": {
    "scrolled": true
   },
   "outputs": [],
   "source": [
    "test.iloc[389067,:]"
   ]
  },
  {
   "cell_type": "code",
   "execution_count": null,
   "metadata": {
    "scrolled": true
   },
   "outputs": [],
   "source": [
    "test['legacy_pat_full_name'].fillna('NA').str.isdigit().value_counts(dropna=False)"
   ]
  },
  {
   "cell_type": "code",
   "execution_count": null,
   "metadata": {},
   "outputs": [],
   "source": [
    "test.loc[test['legacy_pat_full_name'].fillna('NA').str.isdigit()]"
   ]
  },
  {
   "cell_type": "code",
   "execution_count": null,
   "metadata": {},
   "outputs": [],
   "source": [
    "test.loc[test['legacy_mrn'].notnull()]"
   ]
  },
  {
   "cell_type": "code",
   "execution_count": null,
   "metadata": {},
   "outputs": [],
   "source": [
    "test.drop(columns='legacy_pat_last_name', inplace=True)"
   ]
  },
  {
   "cell_type": "code",
   "execution_count": null,
   "metadata": {},
   "outputs": [],
   "source": [
    "test.columns"
   ]
  },
  {
   "cell_type": "code",
   "execution_count": null,
   "metadata": {},
   "outputs": [],
   "source": [
    "test.rename(columns={'legacy_pat_full_name':'legacy_pat_last_name'}, inplace=True)"
   ]
  },
  {
   "cell_type": "code",
   "execution_count": null,
   "metadata": {},
   "outputs": [],
   "source": [
    "test['first_name'].str.strip().str.partition(\" \")[2].str.len()"
   ]
  },
  {
   "cell_type": "code",
   "execution_count": null,
   "metadata": {},
   "outputs": [],
   "source": [
    "test.loc[test['first_name'].str.strip().str.partition(\" \")[2].str.len()> 1]"
   ]
  },
  {
   "cell_type": "code",
   "execution_count": null,
   "metadata": {},
   "outputs": [],
   "source": [
    "test.new_mrn.isnull().any()"
   ]
  },
  {
   "cell_type": "code",
   "execution_count": null,
   "metadata": {},
   "outputs": [],
   "source": [
    "test.new_mrn.isnull().sum()"
   ]
  },
  {
   "cell_type": "code",
   "execution_count": null,
   "metadata": {},
   "outputs": [],
   "source": [
    "test.loc[test.new_mrn.isnull()]"
   ]
  },
  {
   "cell_type": "code",
   "execution_count": null,
   "metadata": {},
   "outputs": [],
   "source": [
    "test.dropna(subset=['new_mrn'],inplace=True)"
   ]
  },
  {
   "cell_type": "code",
   "execution_count": null,
   "metadata": {},
   "outputs": [],
   "source": [
    "test.shape"
   ]
  },
  {
   "cell_type": "code",
   "execution_count": null,
   "metadata": {},
   "outputs": [],
   "source": [
    "test.columns"
   ]
  },
  {
   "cell_type": "code",
   "execution_count": null,
   "metadata": {},
   "outputs": [],
   "source": [
    "test.info()"
   ]
  },
  {
   "cell_type": "code",
   "execution_count": null,
   "metadata": {},
   "outputs": [],
   "source": [
    "test.birth_date.replace('1111-01-01 00:00:00.00', '1889-01-01 00:00:00.00', inplace=True)"
   ]
  },
  {
   "cell_type": "code",
   "execution_count": null,
   "metadata": {},
   "outputs": [],
   "source": [
    "test['first_name'].fillna('MISSING', inplace=True)\n",
    "test['last_name'].fillna('MISSING', inplace=True)\n",
    "test['birth_date'].fillna('1889-01-01 00:00:00.00', inplace=True)\n",
    "test['gender'].fillna('U', inplace=True)\n",
    "test['current_mrn'].fillna('99', inplace=True)\n",
    "test['new_mrn'].fillna('99', inplace=True)\n",
    "test['legacy_mrn'].fillna('NA', inplace=True)\n",
    "test['legacy_pat_last_name'].fillna('NA', inplace=True)\n",
    "test['legacy_pat_first_name'].fillna('NA', inplace=True)"
   ]
  },
  {
   "cell_type": "code",
   "execution_count": null,
   "metadata": {},
   "outputs": [],
   "source": [
    "test['birth_date'] = pd.to_datetime(test['birth_date'])"
   ]
  },
  {
   "cell_type": "code",
   "execution_count": null,
   "metadata": {},
   "outputs": [],
   "source": [
    "test['first_name'] = test['first_name'].str.upper()\n",
    "test['last_name'] = test['last_name'].str.upper()\n",
    "test['legacy_pat_last_name'] = test['legacy_pat_last_name'].str.upper()\n",
    "test['legacy_pat_first_name'] = test['legacy_pat_first_name'].str.upper()"
   ]
  },
  {
   "cell_type": "code",
   "execution_count": null,
   "metadata": {},
   "outputs": [],
   "source": [
    "test.info()"
   ]
  },
  {
   "cell_type": "code",
   "execution_count": null,
   "metadata": {},
   "outputs": [],
   "source": [
    "test.head()"
   ]
  },
  {
   "cell_type": "code",
   "execution_count": null,
   "metadata": {},
   "outputs": [],
   "source": []
  },
  {
   "cell_type": "code",
   "execution_count": null,
   "metadata": {},
   "outputs": [],
   "source": [
    "test = epicpatientlist.merge(prosolvmrn1[['Clarity_MRN','Clarity_uid']], left_on = 'current_mrn', right_on='Clarity_MRN', how='left')"
   ]
  },
  {
   "cell_type": "code",
   "execution_count": null,
   "metadata": {},
   "outputs": [],
   "source": [
    "epicpatientlist.shape"
   ]
  },
  {
   "cell_type": "code",
   "execution_count": null,
   "metadata": {},
   "outputs": [],
   "source": [
    "test.columns"
   ]
  },
  {
   "cell_type": "code",
   "execution_count": null,
   "metadata": {},
   "outputs": [],
   "source": [
    "test.shape"
   ]
  },
  {
   "cell_type": "code",
   "execution_count": null,
   "metadata": {},
   "outputs": [],
   "source": [
    "test[~test['Clarity_MRN'].isna()]"
   ]
  },
  {
   "cell_type": "code",
   "execution_count": null,
   "metadata": {},
   "outputs": [],
   "source": [
    "test = pd.concat([epicpatientlist,prosolvmrn1[['Clarity_MRN','Clarity_uid']]], ignore_index=True, sort=False, join='outer')"
   ]
  },
  {
   "cell_type": "code",
   "execution_count": null,
   "metadata": {},
   "outputs": [],
   "source": []
  },
  {
   "cell_type": "code",
   "execution_count": null,
   "metadata": {},
   "outputs": [],
   "source": [
    "test['Clarity_uid'].isna().sum()"
   ]
  },
  {
   "cell_type": "code",
   "execution_count": null,
   "metadata": {},
   "outputs": [],
   "source": [
    "test['Clarity_uid'].isna().sum()"
   ]
  },
  {
   "cell_type": "code",
   "execution_count": null,
   "metadata": {},
   "outputs": [],
   "source": [
    "test = epicpatientlist.merge(prosolvmrn1[['Clarity_MRN','Clarity_uid']], left_on = 'current_mrn', right_on='Clarity_MRN', how='left', sort=False)"
   ]
  },
  {
   "cell_type": "code",
   "execution_count": null,
   "metadata": {},
   "outputs": [],
   "source": [
    "test = test.merge(prosolvmrn2[['Clarity_MRN','Clarity_uid']], left_on = ['legacy_mrn'], right_on=['Clarity_MRN'], how='left')"
   ]
  },
  {
   "cell_type": "code",
   "execution_count": null,
   "metadata": {},
   "outputs": [],
   "source": [
    "test = test.merge(prosolvmrn2[['Clarity_MRN','Clarity_uid']], left_on = ['current_mrn','Clarity_uid'], right_on=['Clarity_MRN','Clarity_uid'], how='left')"
   ]
  },
  {
   "cell_type": "code",
   "execution_count": null,
   "metadata": {},
   "outputs": [],
   "source": [
    "test = epicpatientlist.merge(prosolvmrn1[['Clarity_MRN','Clarity_uid']], left_on = 'current_mrn', right_on='Clarity_MRN', how='left')\n",
    "test = test.merge(prosolvmrn1[['Clarity_MRN','Clarity_uid']], left_on = ['legacy_mrn','Clarity_uid'], right_on=['Clarity_MRN','Clarity_uid'], how='left')"
   ]
  },
  {
   "cell_type": "code",
   "execution_count": null,
   "metadata": {},
   "outputs": [],
   "source": [
    "test.shape"
   ]
  },
  {
   "cell_type": "code",
   "execution_count": null,
   "metadata": {},
   "outputs": [],
   "source": [
    "test.columns"
   ]
  },
  {
   "cell_type": "code",
   "execution_count": null,
   "metadata": {},
   "outputs": [],
   "source": [
    "test.head()"
   ]
  },
  {
   "cell_type": "code",
   "execution_count": null,
   "metadata": {},
   "outputs": [],
   "source": [
    "test[~test['Clarity_uid_y'].isna()]"
   ]
  },
  {
   "cell_type": "code",
   "execution_count": null,
   "metadata": {},
   "outputs": [],
   "source": [
    "test[test['Last_Name'] != test['last_name']]"
   ]
  },
  {
   "cell_type": "code",
   "execution_count": null,
   "metadata": {},
   "outputs": [],
   "source": [
    "test.tail()"
   ]
  },
  {
   "cell_type": "code",
   "execution_count": null,
   "metadata": {},
   "outputs": [],
   "source": [
    "musepatientlist.loc[musepatientlist['PatientID'].duplicated(),'PatientID']"
   ]
  }
 ],
 "metadata": {
  "kernelspec": {
   "display_name": "Python 3",
   "language": "python",
   "name": "python3"
  },
  "language_info": {
   "codemirror_mode": {
    "name": "ipython",
    "version": 3
   },
   "file_extension": ".py",
   "mimetype": "text/x-python",
   "name": "python",
   "nbconvert_exporter": "python",
   "pygments_lexer": "ipython3",
   "version": "3.7.0"
  }
 },
 "nbformat": 4,
 "nbformat_minor": 2
}
