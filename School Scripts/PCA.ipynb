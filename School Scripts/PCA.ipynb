{
 "cells": [
  {
   "cell_type": "markdown",
   "metadata": {},
   "source": [
    "# \\setlength{\\parindent}{0pt}  "
   ]
  },
  {
   "cell_type": "markdown",
   "metadata": {},
   "source": [
    "Christopher Wilbar   \n",
    "MSDS_422-DL_SEC55    \n",
    "Assignment 5: Principal Components Analysis   \n",
    "Kaggle Display Name: Chris Wilbar\n",
    "Kaggle User Name: cwilbar \n",
    "Kaggle User ID: 538226"
   ]
  },
  {
   "cell_type": "markdown",
   "metadata": {},
   "source": [
    "## 1. Summary and Problem Definition  "
   ]
  },
  {
   "cell_type": "markdown",
   "metadata": {},
   "source": [
    "**Problem Definition:**   \n",
    "Explore Prinicipal Components Analysis and Random Forest Classification. Participate in Kaggle competition to generate multi-class classifier on the MNIST data set. Determine if you would reccommend using PCA as a preliminary to machine learning classification, considering the predictive accuracy of models must be weighed against the costs of model development and implementation"
   ]
  },
  {
   "cell_type": "markdown",
   "metadata": {},
   "source": [
    "    \n",
    "**Summary**:   \n",
    "In this specific application, Random Forest Classification performed best without any Prinicipal Components Analysis or standardization. PCA allows the user to understand complex data visually, but it was slower than the generic RFC and performed worse. This was a relatively small dataset, however, and other algortihms may not be as efficient as RCF in the future."
   ]
  },
  {
   "cell_type": "markdown",
   "metadata": {},
   "source": [
    "## 2. Results and Recommendations"
   ]
  },
  {
   "cell_type": "markdown",
   "metadata": {},
   "source": [
    "**Results and Recomendations** \n",
    "\n",
    "1. PCA helps idnetifiy the key components, but the full dataset with all features should be evaulated if possible.\n",
    "\n",
    "2. PCA is a great start to get a grasp on the data, but needs to be used with caution as there will be some performance degredation and it may even add time to analysis rather than save it.\n",
    "\n",
    "3. If fitting the entire model is not possible, PCA does perform reasonably well that it can be considered since there is not a huge drop in accuracy."
   ]
  },
  {
   "cell_type": "markdown",
   "metadata": {},
   "source": [
    "## 3. Research Design and Methods Used"
   ]
  },
  {
   "cell_type": "markdown",
   "metadata": {},
   "source": [
    "**Research Design**   \n",
    "\n",
    "The MNIST data-set is a well-known dataset with labeled classifications of hand-drawn numbers. "
   ]
  },
  {
   "cell_type": "markdown",
   "metadata": {},
   "source": [
    "**Methods Used**  \n",
    "Pyhton v.3 Jupyter Notebook was created to perform the analysis.\n",
    "The following packages were used:\n",
    "pandas, numpy, matplotlip.pyplot, seaborn, sklearn, math\n",
    "  \n",
    "Basic pyhton descriptive statisitcs were generated. \n",
    "Because the response variable was one of 10 classes, multi-class classification methods are appropriate.\n",
    "\n",
    "Sci-kit learn was the primary tool for analysis.\n",
    "\n",
    "Random Forest Classification was the primary tool, with Principal Components Analysis evaluated for pre-processing."
   ]
  },
  {
   "cell_type": "markdown",
   "metadata": {},
   "source": [
    "## 4. Programming Work"
   ]
  },
  {
   "cell_type": "markdown",
   "metadata": {},
   "source": [
    "## 4.1 | Initial Setup and Preliminary Exploration"
   ]
  },
  {
   "cell_type": "code",
   "execution_count": 1,
   "metadata": {},
   "outputs": [
    {
     "name": "stderr",
     "output_type": "stream",
     "text": [
      "C:\\Users\\nm179525\\AppData\\Local\\Continuum\\anaconda3\\lib\\site-packages\\sklearn\\ensemble\\weight_boosting.py:29: DeprecationWarning: numpy.core.umath_tests is an internal NumPy module and should not be imported. It will be removed in a future NumPy release.\n",
      "  from numpy.core.umath_tests import inner1d\n"
     ]
    }
   ],
   "source": [
    "# seed value for random number generators to obtain reproducible results\n",
    "RANDOM_SEED = 1\n",
    "\n",
    "# import base packages into the namespace for this program\n",
    "import numpy as np\n",
    "import pandas as pd\n",
    "\n",
    "# import seaborn as \n",
    "import matplotlib as mpl #image display\n",
    "from time import time #time tracking\n",
    "import matplotlib.pyplot as plt  #plots\n",
    "#from matplotlib import rc\n",
    "\n",
    "#import sklearn\n",
    "from sklearn.ensemble import RandomForestClassifier\n",
    "from sklearn.decomposition import PCA, SparsePCA\n",
    "from sklearn.metrics import accuracy_score\n",
    "from sklearn.metrics import confusion_matrix, roc_auc_score\n",
    "from sklearn.model_selection import cross_val_predict, cross_val_score\n",
    "from sklearn.metrics import precision_score, recall_score, f1_score"
   ]
  },
  {
   "cell_type": "code",
   "execution_count": 2,
   "metadata": {},
   "outputs": [
    {
     "name": "stdout",
     "output_type": "stream",
     "text": [
      "Train Data Shape :  (42000, 785)\n",
      "Test Data Shape :  (28000, 784)\n"
     ]
    }
   ],
   "source": [
    "#Import Test and Train Data\n",
    "dftrain = pd.read_csv(\"train.csv\")\n",
    "dftest = pd.read_csv(\"test.csv\")\n",
    "print(\"Train Data Shape : \", dftrain.shape)\n",
    "print(\"Test Data Shape : \", dftest.shape)"
   ]
  },
  {
   "cell_type": "code",
   "execution_count": 7,
   "metadata": {},
   "outputs": [
    {
     "name": "stdout",
     "output_type": "stream",
     "text": [
      "<class 'pandas.core.frame.DataFrame'>\n",
      "RangeIndex: 42000 entries, 0 to 41999\n",
      "Columns: 785 entries, label to pixel783\n",
      "dtypes: int64(785)\n",
      "memory usage: 251.5 MB\n"
     ]
    }
   ],
   "source": [
    "dftrain.info()"
   ]
  },
  {
   "cell_type": "code",
   "execution_count": 4,
   "metadata": {},
   "outputs": [
    {
     "name": "stdout",
     "output_type": "stream",
     "text": [
      "<class 'pandas.core.frame.DataFrame'>\n",
      "RangeIndex: 28000 entries, 0 to 27999\n",
      "Columns: 784 entries, pixel0 to pixel783\n",
      "dtypes: int64(784)\n",
      "memory usage: 167.5 MB\n"
     ]
    }
   ],
   "source": [
    "dftest.info()"
   ]
  },
  {
   "cell_type": "code",
   "execution_count": 3,
   "metadata": {
    "scrolled": true
   },
   "outputs": [
    {
     "data": {
      "text/html": [
       "<div>\n",
       "<style scoped>\n",
       "    .dataframe tbody tr th:only-of-type {\n",
       "        vertical-align: middle;\n",
       "    }\n",
       "\n",
       "    .dataframe tbody tr th {\n",
       "        vertical-align: top;\n",
       "    }\n",
       "\n",
       "    .dataframe thead th {\n",
       "        text-align: right;\n",
       "    }\n",
       "</style>\n",
       "<table border=\"1\" class=\"dataframe\">\n",
       "  <thead>\n",
       "    <tr style=\"text-align: right;\">\n",
       "      <th></th>\n",
       "      <th>label</th>\n",
       "      <th>pixel0</th>\n",
       "      <th>pixel1</th>\n",
       "      <th>pixel2</th>\n",
       "      <th>pixel3</th>\n",
       "      <th>pixel4</th>\n",
       "      <th>pixel5</th>\n",
       "      <th>pixel6</th>\n",
       "      <th>pixel7</th>\n",
       "      <th>pixel8</th>\n",
       "      <th>...</th>\n",
       "      <th>pixel774</th>\n",
       "      <th>pixel775</th>\n",
       "      <th>pixel776</th>\n",
       "      <th>pixel777</th>\n",
       "      <th>pixel778</th>\n",
       "      <th>pixel779</th>\n",
       "      <th>pixel780</th>\n",
       "      <th>pixel781</th>\n",
       "      <th>pixel782</th>\n",
       "      <th>pixel783</th>\n",
       "    </tr>\n",
       "  </thead>\n",
       "  <tbody>\n",
       "    <tr>\n",
       "      <th>0</th>\n",
       "      <td>1</td>\n",
       "      <td>0</td>\n",
       "      <td>0</td>\n",
       "      <td>0</td>\n",
       "      <td>0</td>\n",
       "      <td>0</td>\n",
       "      <td>0</td>\n",
       "      <td>0</td>\n",
       "      <td>0</td>\n",
       "      <td>0</td>\n",
       "      <td>...</td>\n",
       "      <td>0</td>\n",
       "      <td>0</td>\n",
       "      <td>0</td>\n",
       "      <td>0</td>\n",
       "      <td>0</td>\n",
       "      <td>0</td>\n",
       "      <td>0</td>\n",
       "      <td>0</td>\n",
       "      <td>0</td>\n",
       "      <td>0</td>\n",
       "    </tr>\n",
       "    <tr>\n",
       "      <th>1</th>\n",
       "      <td>0</td>\n",
       "      <td>0</td>\n",
       "      <td>0</td>\n",
       "      <td>0</td>\n",
       "      <td>0</td>\n",
       "      <td>0</td>\n",
       "      <td>0</td>\n",
       "      <td>0</td>\n",
       "      <td>0</td>\n",
       "      <td>0</td>\n",
       "      <td>...</td>\n",
       "      <td>0</td>\n",
       "      <td>0</td>\n",
       "      <td>0</td>\n",
       "      <td>0</td>\n",
       "      <td>0</td>\n",
       "      <td>0</td>\n",
       "      <td>0</td>\n",
       "      <td>0</td>\n",
       "      <td>0</td>\n",
       "      <td>0</td>\n",
       "    </tr>\n",
       "    <tr>\n",
       "      <th>2</th>\n",
       "      <td>1</td>\n",
       "      <td>0</td>\n",
       "      <td>0</td>\n",
       "      <td>0</td>\n",
       "      <td>0</td>\n",
       "      <td>0</td>\n",
       "      <td>0</td>\n",
       "      <td>0</td>\n",
       "      <td>0</td>\n",
       "      <td>0</td>\n",
       "      <td>...</td>\n",
       "      <td>0</td>\n",
       "      <td>0</td>\n",
       "      <td>0</td>\n",
       "      <td>0</td>\n",
       "      <td>0</td>\n",
       "      <td>0</td>\n",
       "      <td>0</td>\n",
       "      <td>0</td>\n",
       "      <td>0</td>\n",
       "      <td>0</td>\n",
       "    </tr>\n",
       "    <tr>\n",
       "      <th>3</th>\n",
       "      <td>4</td>\n",
       "      <td>0</td>\n",
       "      <td>0</td>\n",
       "      <td>0</td>\n",
       "      <td>0</td>\n",
       "      <td>0</td>\n",
       "      <td>0</td>\n",
       "      <td>0</td>\n",
       "      <td>0</td>\n",
       "      <td>0</td>\n",
       "      <td>...</td>\n",
       "      <td>0</td>\n",
       "      <td>0</td>\n",
       "      <td>0</td>\n",
       "      <td>0</td>\n",
       "      <td>0</td>\n",
       "      <td>0</td>\n",
       "      <td>0</td>\n",
       "      <td>0</td>\n",
       "      <td>0</td>\n",
       "      <td>0</td>\n",
       "    </tr>\n",
       "    <tr>\n",
       "      <th>4</th>\n",
       "      <td>0</td>\n",
       "      <td>0</td>\n",
       "      <td>0</td>\n",
       "      <td>0</td>\n",
       "      <td>0</td>\n",
       "      <td>0</td>\n",
       "      <td>0</td>\n",
       "      <td>0</td>\n",
       "      <td>0</td>\n",
       "      <td>0</td>\n",
       "      <td>...</td>\n",
       "      <td>0</td>\n",
       "      <td>0</td>\n",
       "      <td>0</td>\n",
       "      <td>0</td>\n",
       "      <td>0</td>\n",
       "      <td>0</td>\n",
       "      <td>0</td>\n",
       "      <td>0</td>\n",
       "      <td>0</td>\n",
       "      <td>0</td>\n",
       "    </tr>\n",
       "  </tbody>\n",
       "</table>\n",
       "<p>5 rows × 785 columns</p>\n",
       "</div>"
      ],
      "text/plain": [
       "   label  pixel0  pixel1  pixel2  pixel3  pixel4  pixel5  pixel6  pixel7  \\\n",
       "0      1       0       0       0       0       0       0       0       0   \n",
       "1      0       0       0       0       0       0       0       0       0   \n",
       "2      1       0       0       0       0       0       0       0       0   \n",
       "3      4       0       0       0       0       0       0       0       0   \n",
       "4      0       0       0       0       0       0       0       0       0   \n",
       "\n",
       "   pixel8  ...  pixel774  pixel775  pixel776  pixel777  pixel778  pixel779  \\\n",
       "0       0  ...         0         0         0         0         0         0   \n",
       "1       0  ...         0         0         0         0         0         0   \n",
       "2       0  ...         0         0         0         0         0         0   \n",
       "3       0  ...         0         0         0         0         0         0   \n",
       "4       0  ...         0         0         0         0         0         0   \n",
       "\n",
       "   pixel780  pixel781  pixel782  pixel783  \n",
       "0         0         0         0         0  \n",
       "1         0         0         0         0  \n",
       "2         0         0         0         0  \n",
       "3         0         0         0         0  \n",
       "4         0         0         0         0  \n",
       "\n",
       "[5 rows x 785 columns]"
      ]
     },
     "execution_count": 3,
     "metadata": {},
     "output_type": "execute_result"
    }
   ],
   "source": [
    "#Get Idea of first five rows\n",
    "dftrain.head()"
   ]
  },
  {
   "cell_type": "code",
   "execution_count": 4,
   "metadata": {
    "scrolled": true
   },
   "outputs": [
    {
     "data": {
      "text/html": [
       "<div>\n",
       "<style scoped>\n",
       "    .dataframe tbody tr th:only-of-type {\n",
       "        vertical-align: middle;\n",
       "    }\n",
       "\n",
       "    .dataframe tbody tr th {\n",
       "        vertical-align: top;\n",
       "    }\n",
       "\n",
       "    .dataframe thead th {\n",
       "        text-align: right;\n",
       "    }\n",
       "</style>\n",
       "<table border=\"1\" class=\"dataframe\">\n",
       "  <thead>\n",
       "    <tr style=\"text-align: right;\">\n",
       "      <th></th>\n",
       "      <th>pixel0</th>\n",
       "      <th>pixel1</th>\n",
       "      <th>pixel2</th>\n",
       "      <th>pixel3</th>\n",
       "      <th>pixel4</th>\n",
       "      <th>pixel5</th>\n",
       "      <th>pixel6</th>\n",
       "      <th>pixel7</th>\n",
       "      <th>pixel8</th>\n",
       "      <th>pixel9</th>\n",
       "      <th>...</th>\n",
       "      <th>pixel774</th>\n",
       "      <th>pixel775</th>\n",
       "      <th>pixel776</th>\n",
       "      <th>pixel777</th>\n",
       "      <th>pixel778</th>\n",
       "      <th>pixel779</th>\n",
       "      <th>pixel780</th>\n",
       "      <th>pixel781</th>\n",
       "      <th>pixel782</th>\n",
       "      <th>pixel783</th>\n",
       "    </tr>\n",
       "  </thead>\n",
       "  <tbody>\n",
       "    <tr>\n",
       "      <th>0</th>\n",
       "      <td>0</td>\n",
       "      <td>0</td>\n",
       "      <td>0</td>\n",
       "      <td>0</td>\n",
       "      <td>0</td>\n",
       "      <td>0</td>\n",
       "      <td>0</td>\n",
       "      <td>0</td>\n",
       "      <td>0</td>\n",
       "      <td>0</td>\n",
       "      <td>...</td>\n",
       "      <td>0</td>\n",
       "      <td>0</td>\n",
       "      <td>0</td>\n",
       "      <td>0</td>\n",
       "      <td>0</td>\n",
       "      <td>0</td>\n",
       "      <td>0</td>\n",
       "      <td>0</td>\n",
       "      <td>0</td>\n",
       "      <td>0</td>\n",
       "    </tr>\n",
       "    <tr>\n",
       "      <th>1</th>\n",
       "      <td>0</td>\n",
       "      <td>0</td>\n",
       "      <td>0</td>\n",
       "      <td>0</td>\n",
       "      <td>0</td>\n",
       "      <td>0</td>\n",
       "      <td>0</td>\n",
       "      <td>0</td>\n",
       "      <td>0</td>\n",
       "      <td>0</td>\n",
       "      <td>...</td>\n",
       "      <td>0</td>\n",
       "      <td>0</td>\n",
       "      <td>0</td>\n",
       "      <td>0</td>\n",
       "      <td>0</td>\n",
       "      <td>0</td>\n",
       "      <td>0</td>\n",
       "      <td>0</td>\n",
       "      <td>0</td>\n",
       "      <td>0</td>\n",
       "    </tr>\n",
       "    <tr>\n",
       "      <th>2</th>\n",
       "      <td>0</td>\n",
       "      <td>0</td>\n",
       "      <td>0</td>\n",
       "      <td>0</td>\n",
       "      <td>0</td>\n",
       "      <td>0</td>\n",
       "      <td>0</td>\n",
       "      <td>0</td>\n",
       "      <td>0</td>\n",
       "      <td>0</td>\n",
       "      <td>...</td>\n",
       "      <td>0</td>\n",
       "      <td>0</td>\n",
       "      <td>0</td>\n",
       "      <td>0</td>\n",
       "      <td>0</td>\n",
       "      <td>0</td>\n",
       "      <td>0</td>\n",
       "      <td>0</td>\n",
       "      <td>0</td>\n",
       "      <td>0</td>\n",
       "    </tr>\n",
       "    <tr>\n",
       "      <th>3</th>\n",
       "      <td>0</td>\n",
       "      <td>0</td>\n",
       "      <td>0</td>\n",
       "      <td>0</td>\n",
       "      <td>0</td>\n",
       "      <td>0</td>\n",
       "      <td>0</td>\n",
       "      <td>0</td>\n",
       "      <td>0</td>\n",
       "      <td>0</td>\n",
       "      <td>...</td>\n",
       "      <td>0</td>\n",
       "      <td>0</td>\n",
       "      <td>0</td>\n",
       "      <td>0</td>\n",
       "      <td>0</td>\n",
       "      <td>0</td>\n",
       "      <td>0</td>\n",
       "      <td>0</td>\n",
       "      <td>0</td>\n",
       "      <td>0</td>\n",
       "    </tr>\n",
       "    <tr>\n",
       "      <th>4</th>\n",
       "      <td>0</td>\n",
       "      <td>0</td>\n",
       "      <td>0</td>\n",
       "      <td>0</td>\n",
       "      <td>0</td>\n",
       "      <td>0</td>\n",
       "      <td>0</td>\n",
       "      <td>0</td>\n",
       "      <td>0</td>\n",
       "      <td>0</td>\n",
       "      <td>...</td>\n",
       "      <td>0</td>\n",
       "      <td>0</td>\n",
       "      <td>0</td>\n",
       "      <td>0</td>\n",
       "      <td>0</td>\n",
       "      <td>0</td>\n",
       "      <td>0</td>\n",
       "      <td>0</td>\n",
       "      <td>0</td>\n",
       "      <td>0</td>\n",
       "    </tr>\n",
       "  </tbody>\n",
       "</table>\n",
       "<p>5 rows × 784 columns</p>\n",
       "</div>"
      ],
      "text/plain": [
       "   pixel0  pixel1  pixel2  pixel3  pixel4  pixel5  pixel6  pixel7  pixel8  \\\n",
       "0       0       0       0       0       0       0       0       0       0   \n",
       "1       0       0       0       0       0       0       0       0       0   \n",
       "2       0       0       0       0       0       0       0       0       0   \n",
       "3       0       0       0       0       0       0       0       0       0   \n",
       "4       0       0       0       0       0       0       0       0       0   \n",
       "\n",
       "   pixel9  ...  pixel774  pixel775  pixel776  pixel777  pixel778  pixel779  \\\n",
       "0       0  ...         0         0         0         0         0         0   \n",
       "1       0  ...         0         0         0         0         0         0   \n",
       "2       0  ...         0         0         0         0         0         0   \n",
       "3       0  ...         0         0         0         0         0         0   \n",
       "4       0  ...         0         0         0         0         0         0   \n",
       "\n",
       "   pixel780  pixel781  pixel782  pixel783  \n",
       "0         0         0         0         0  \n",
       "1         0         0         0         0  \n",
       "2         0         0         0         0  \n",
       "3         0         0         0         0  \n",
       "4         0         0         0         0  \n",
       "\n",
       "[5 rows x 784 columns]"
      ]
     },
     "execution_count": 4,
     "metadata": {},
     "output_type": "execute_result"
    }
   ],
   "source": [
    "dftest.head()"
   ]
  },
  {
   "cell_type": "code",
   "execution_count": 3,
   "metadata": {},
   "outputs": [
    {
     "name": "stdout",
     "output_type": "stream",
     "text": [
      "X_train shape:  (42000, 784)\n",
      "y_train shape:  (42000,)\n",
      "X_test shape:  (28000, 784)\n"
     ]
    }
   ],
   "source": [
    "# We need to split off the explanatory from the response variable\n",
    "X_train, y_train, X_test = dftrain.iloc[:,1:], dftrain.iloc[:,0], dftest\n",
    "\n",
    "print(\"X_train shape: \", X_train.shape)\n",
    "print(\"y_train shape: \", y_train.shape)\n",
    "print(\"X_test shape: \", X_test.shape)"
   ]
  },
  {
   "cell_type": "code",
   "execution_count": 6,
   "metadata": {},
   "outputs": [],
   "source": [
    "#We will use this function from handson-ml hithun to display the images\n",
    "# https://github.com/cwilbar04/handson-ml/blob/master/03_classification.ipynb\n",
    "\n",
    "def plot_digits(instances, images_per_row=10, **options):\n",
    "    size = 28\n",
    "    images_per_row = min(len(instances), images_per_row)\n",
    "    images = [instance.reshape(size,size) for instance in instances]\n",
    "    n_rows = (len(instances) - 1) // images_per_row + 1\n",
    "    row_images = []\n",
    "    n_empty = n_rows * images_per_row - len(instances)\n",
    "    images.append(np.zeros((size, size * n_empty)))\n",
    "    for row in range(n_rows):\n",
    "        rimages = images[row * images_per_row : (row + 1) * images_per_row]\n",
    "        row_images.append(np.concatenate(rimages, axis=1))\n",
    "    image = np.concatenate(row_images, axis=0)\n",
    "    plt.imshow(image, cmap = mpl.cm.binary, **options)\n",
    "    plt.axis(\"off\")"
   ]
  },
  {
   "cell_type": "code",
   "execution_count": 7,
   "metadata": {
    "scrolled": true
   },
   "outputs": [
    {
     "data": {
      "image/png": "[encoded data removed]",
      "text/plain": [
       "<Figure size 648x648 with 1 Axes>"
      ]
     },
     "metadata": {
      "needs_background": "light"
     },
     "output_type": "display_data"
    }
   ],
   "source": [
    "#Plot subset of data to confirm that we are workign with images as expected\n",
    "plt.figure(figsize=(9,9))\n",
    "example_images = np.r_[X_train[:12000:600], X_train[13000:30600:600], X_train[30600:60000:590]]\n",
    "plot_digits(example_images, images_per_row=10)\n",
    "plt.show()"
   ]
  },
  {
   "cell_type": "code",
   "execution_count": 9,
   "metadata": {},
   "outputs": [
    {
     "data": {
      "image/png": "[encoded data removed]",
      "text/plain": [
       "<Figure size 648x648 with 1 Axes>"
      ]
     },
     "metadata": {
      "needs_background": "light"
     },
     "output_type": "display_data"
    }
   ],
   "source": [
    "#Plot subset of train data to get a feel for how the fit performmed\n",
    "plt.figure(figsize=(9,9))\n",
    "example_test_images = np.r_[X_test[:3000:300], X_test[3000:6000:300], X_test[6000:9000:300]]\n",
    "plot_digits(example_test_images, images_per_row=10)\n",
    "plt.show()"
   ]
  },
  {
   "cell_type": "code",
   "execution_count": 10,
   "metadata": {},
   "outputs": [
    {
     "data": {
      "text/plain": [
       "1    4684\n",
       "7    4401\n",
       "3    4351\n",
       "9    4188\n",
       "2    4177\n",
       "6    4137\n",
       "0    4132\n",
       "4    4072\n",
       "8    4063\n",
       "5    3795\n",
       "Name: label, dtype: int64"
      ]
     },
     "execution_count": 10,
     "metadata": {},
     "output_type": "execute_result"
    }
   ],
   "source": [
    "y_train.value_counts()"
   ]
  },
  {
   "cell_type": "markdown",
   "metadata": {},
   "source": [
    "## 4.2 |  Kaggle Submission #1\n",
    "\n",
    "Random Forest Classifer  \n",
    "\n",
    "    Model Fit Time Elaspsed :  1.896108 seconds\n",
    "    Kaggle Accuracy Score: 0.94242"
   ]
  },
  {
   "cell_type": "code",
   "execution_count": 4,
   "metadata": {},
   "outputs": [
    {
     "name": "stdout",
     "output_type": "stream",
     "text": [
      "<class 'pandas.core.frame.DataFrame'>\n",
      "RangeIndex: 42000 entries, 0 to 41999\n",
      "Columns: 784 entries, pixel0 to pixel783\n",
      "dtypes: int64(784)\n",
      "memory usage: 251.2 MB\n"
     ]
    }
   ],
   "source": [
    "X_train.info()"
   ]
  },
  {
   "cell_type": "code",
   "execution_count": 5,
   "metadata": {},
   "outputs": [
    {
     "data": {
      "text/plain": [
       "dtype('int64')"
      ]
     },
     "execution_count": 5,
     "metadata": {},
     "output_type": "execute_result"
    }
   ],
   "source": [
    "y_train.dtype"
   ]
  },
  {
   "cell_type": "code",
   "execution_count": 12,
   "metadata": {},
   "outputs": [],
   "source": [
    "from mnist import MNIST\n",
    "import numpy as np\n",
    "#mndata = MNIST('mnist/') #\n"
   ]
  },
  {
   "cell_type": "code",
   "execution_count": 16,
   "metadata": {},
   "outputs": [],
   "source": [
    "mndata = MNIST('./')"
   ]
  },
  {
   "cell_type": "code",
   "execution_count": 18,
   "metadata": {},
   "outputs": [],
   "source": [
    "mndata.gz = True"
   ]
  },
  {
   "cell_type": "code",
   "execution_count": 19,
   "metadata": {},
   "outputs": [],
   "source": [
    "images, labels = mndata.load_training()  #assigns training data\n",
    "images1, labels1=mndata.load_testing()   #assigns test data"
   ]
  },
  {
   "cell_type": "code",
   "execution_count": 20,
   "metadata": {},
   "outputs": [
    {
     "name": "stdout",
     "output_type": "stream",
     "text": [
      "\n",
      "............................\n",
      "............................\n",
      "............................\n",
      "............................\n",
      "............................\n",
      ".....................@@.....\n",
      ".............@@@@@@.@@......\n",
      "........@@@@@@@@@@..........\n",
      "........@@@@@@..@@..........\n",
      "...........@@@..............\n",
      "............@...............\n",
      "............@...............\n",
      ".............@..............\n",
      ".............@@.............\n",
      "..............@@@...........\n",
      "................@@..........\n",
      ".................@@.........\n",
      ".................@@@........\n",
      ".................@@@........\n",
      "..............@@@@@.........\n",
      "............@@@@@@..........\n",
      "..........@@@@@.............\n",
      "........@@@@@...............\n",
      "......@@@@@@................\n",
      ".....@@@@...................\n",
      "............................\n",
      "............................\n",
      "............................\n",
      "\n",
      "............................\n",
      "............................\n",
      "............................\n",
      "............................\n",
      ".................@..........\n",
      "...............@@@@@........\n",
      "..............@@@@@@........\n",
      ".............@@@@@.@@.......\n",
      "............@@@@@@..@.......\n",
      "...........@@@..@@..@.......\n",
      "..........@@@.......@@......\n",
      "..........@@@.......@@......\n",
      ".........@@.........@@......\n",
      "........@@..........@@......\n",
      "........@...........@@......\n",
      ".......@@...........@@......\n",
      ".......@@...........@.......\n",
      ".......@@..........@@.......\n",
      ".......@..........@.........\n",
      ".......@@.......@@..........\n",
      ".......@@.....@@@...........\n",
      ".......@@@@@@@@.............\n",
      "........@@@@@@..............\n",
      ".........@@@................\n",
      "............................\n",
      "............................\n",
      "............................\n",
      "............................\n",
      "\n",
      "............................\n",
      "............................\n",
      "............................\n",
      "............................\n",
      "............................\n",
      ".....................@......\n",
      "............................\n",
      ".....................@......\n",
      "....@...............@.......\n",
      "....@...............@.......\n",
      "....@...............@.......\n",
      "....@..............@@.......\n",
      "....@..............@@.......\n",
      "....@.............@@........\n",
      "....@.........@@@.@@........\n",
      "....@@@@@@@@@.....@@........\n",
      "..................@@........\n",
      "..................@.........\n",
      "..................@.........\n",
      "..................@.........\n",
      "..................@.........\n",
      "..................@.........\n",
      "..................@.........\n",
      "..................@.........\n",
      "..................@.........\n",
      "............................\n",
      "............................\n",
      "............................\n"
     ]
    }
   ],
   "source": [
    "for i in range(3):\n",
    "    print(mndata.display(images[i]))"
   ]
  },
  {
   "cell_type": "code",
   "execution_count": 21,
   "metadata": {},
   "outputs": [],
   "source": [
    "images=np.array(images) #coverts train images to arrays\n",
    "images1=np.array(images1) #converts test images to arrays\n",
    "labels=np.array(labels) #converts train label to vector\n",
    "labels1=np.array(labels1) #converts test lable to vector"
   ]
  },
  {
   "cell_type": "code",
   "execution_count": 29,
   "metadata": {},
   "outputs": [
    {
     "name": "stdout",
     "output_type": "stream",
     "text": [
      "Accuracy:  0.9707\n"
     ]
    }
   ],
   "source": [
    "from sklearn.ensemble import RandomForestClassifier as rfc\n",
    "rf = rfc(random_state=1234, n_jobs=-1, n_estimators=90) #expanding n_estimators improves performance.. until it doesn't\n",
    "rf.fit(images, labels)\n",
    "print(\"Accuracy: \",rf.score(images1,labels1))"
   ]
  },
  {
   "cell_type": "code",
   "execution_count": 31,
   "metadata": {},
   "outputs": [
    {
     "data": {
      "text/plain": [
       "dtype('int32')"
      ]
     },
     "execution_count": 31,
     "metadata": {},
     "output_type": "execute_result"
    }
   ],
   "source": [
    "images1.dtype"
   ]
  },
  {
   "cell_type": "code",
   "execution_count": 44,
   "metadata": {},
   "outputs": [],
   "source": [
    "X_train = np.array(X_train)\n",
    "X_test = np.array(X_test)"
   ]
  },
  {
   "cell_type": "code",
   "execution_count": 45,
   "metadata": {},
   "outputs": [],
   "source": [
    "y_train = np.array(y_train)"
   ]
  },
  {
   "cell_type": "code",
   "execution_count": 46,
   "metadata": {},
   "outputs": [
    {
     "name": "stdout",
     "output_type": "stream",
     "text": [
      "Experiment 1 Model Fit Time Elaspsed :  12.784731 seconds\n"
     ]
    }
   ],
   "source": [
    "#For the first experiment we fit a random forest classifier on the whole data set and time how long it takes to fit the model\n",
    "# We are given the parameters to use for this case:\n",
    "#n_features=10 okay because of large number of observations\n",
    "#max_features = 'sqrt' as reccommended by Müller and Guido (2017) \n",
    "#bootstrap = True\n",
    "#n_jobs = 1 to use all available processers\n",
    "\n",
    "rfc = RandomForestClassifier(n_estimators = 90, n_jobs=-1, random_state = 1234)\n",
    "\n",
    "#Intitialize beginning time for fit\n",
    "start_time = time()\n",
    "\n",
    "#Fit model\n",
    "rfc.fit(X_train,y_train)\n",
    "\n",
    "#Determine ending time for fit\n",
    "elapsed_time = time() - start_time\n",
    "\n",
    "#Display time elapsed\n",
    "print(\"Experiment 1 Model Fit Time Elaspsed : \", round(elapsed_time,6), \"seconds\")"
   ]
  },
  {
   "cell_type": "code",
   "execution_count": 42,
   "metadata": {},
   "outputs": [
    {
     "name": "stdout",
     "output_type": "stream",
     "text": [
      "Training accuracy =  100.0 %\n"
     ]
    }
   ],
   "source": [
    "#We first check the accuracy of the fit model on the training data:\n",
    "y_train_pred_rfc = rfc.predict(X_train)\n",
    "print(\"Training accuracy = \", round(100*accuracy_score(y_train, y_train_pred_rfc),2), \"%\")"
   ]
  },
  {
   "cell_type": "code",
   "execution_count": 28,
   "metadata": {},
   "outputs": [
    {
     "ename": "ValueError",
     "evalue": "Found input variables with inconsistent numbers of samples: [10000, 28000]",
     "output_type": "error",
     "traceback": [
      "\u001b[1;31m---------------------------------------------------------------------------\u001b[0m",
      "\u001b[1;31mValueError\u001b[0m                                Traceback (most recent call last)",
      "\u001b[1;32m<ipython-input-28-061c21664774>\u001b[0m in \u001b[0;36m<module>\u001b[1;34m()\u001b[0m\n\u001b[1;32m----> 1\u001b[1;33m \u001b[0mrf\u001b[0m\u001b[1;33m.\u001b[0m\u001b[0mscore\u001b[0m\u001b[1;33m(\u001b[0m\u001b[0mX_test\u001b[0m\u001b[1;33m,\u001b[0m\u001b[0mimages1\u001b[0m\u001b[1;33m)\u001b[0m\u001b[1;33m\u001b[0m\u001b[0m\n\u001b[0m",
      "\u001b[1;32m~\\AppData\\Local\\Continuum\\anaconda3\\lib\\site-packages\\sklearn\\base.py\u001b[0m in \u001b[0;36mscore\u001b[1;34m(self, X, y, sample_weight)\u001b[0m\n\u001b[0;32m    347\u001b[0m         \"\"\"\n\u001b[0;32m    348\u001b[0m         \u001b[1;32mfrom\u001b[0m \u001b[1;33m.\u001b[0m\u001b[0mmetrics\u001b[0m \u001b[1;32mimport\u001b[0m \u001b[0maccuracy_score\u001b[0m\u001b[1;33m\u001b[0m\u001b[0m\n\u001b[1;32m--> 349\u001b[1;33m         \u001b[1;32mreturn\u001b[0m \u001b[0maccuracy_score\u001b[0m\u001b[1;33m(\u001b[0m\u001b[0my\u001b[0m\u001b[1;33m,\u001b[0m \u001b[0mself\u001b[0m\u001b[1;33m.\u001b[0m\u001b[0mpredict\u001b[0m\u001b[1;33m(\u001b[0m\u001b[0mX\u001b[0m\u001b[1;33m)\u001b[0m\u001b[1;33m,\u001b[0m \u001b[0msample_weight\u001b[0m\u001b[1;33m=\u001b[0m\u001b[0msample_weight\u001b[0m\u001b[1;33m)\u001b[0m\u001b[1;33m\u001b[0m\u001b[0m\n\u001b[0m\u001b[0;32m    350\u001b[0m \u001b[1;33m\u001b[0m\u001b[0m\n\u001b[0;32m    351\u001b[0m \u001b[1;33m\u001b[0m\u001b[0m\n",
      "\u001b[1;32m~\\AppData\\Local\\Continuum\\anaconda3\\lib\\site-packages\\sklearn\\metrics\\classification.py\u001b[0m in \u001b[0;36maccuracy_score\u001b[1;34m(y_true, y_pred, normalize, sample_weight)\u001b[0m\n\u001b[0;32m    174\u001b[0m \u001b[1;33m\u001b[0m\u001b[0m\n\u001b[0;32m    175\u001b[0m     \u001b[1;31m# Compute accuracy for each possible representation\u001b[0m\u001b[1;33m\u001b[0m\u001b[1;33m\u001b[0m\u001b[0m\n\u001b[1;32m--> 176\u001b[1;33m     \u001b[0my_type\u001b[0m\u001b[1;33m,\u001b[0m \u001b[0my_true\u001b[0m\u001b[1;33m,\u001b[0m \u001b[0my_pred\u001b[0m \u001b[1;33m=\u001b[0m \u001b[0m_check_targets\u001b[0m\u001b[1;33m(\u001b[0m\u001b[0my_true\u001b[0m\u001b[1;33m,\u001b[0m \u001b[0my_pred\u001b[0m\u001b[1;33m)\u001b[0m\u001b[1;33m\u001b[0m\u001b[0m\n\u001b[0m\u001b[0;32m    177\u001b[0m     \u001b[1;32mif\u001b[0m \u001b[0my_type\u001b[0m\u001b[1;33m.\u001b[0m\u001b[0mstartswith\u001b[0m\u001b[1;33m(\u001b[0m\u001b[1;34m'multilabel'\u001b[0m\u001b[1;33m)\u001b[0m\u001b[1;33m:\u001b[0m\u001b[1;33m\u001b[0m\u001b[0m\n\u001b[0;32m    178\u001b[0m         \u001b[0mdiffering_labels\u001b[0m \u001b[1;33m=\u001b[0m \u001b[0mcount_nonzero\u001b[0m\u001b[1;33m(\u001b[0m\u001b[0my_true\u001b[0m \u001b[1;33m-\u001b[0m \u001b[0my_pred\u001b[0m\u001b[1;33m,\u001b[0m \u001b[0maxis\u001b[0m\u001b[1;33m=\u001b[0m\u001b[1;36m1\u001b[0m\u001b[1;33m)\u001b[0m\u001b[1;33m\u001b[0m\u001b[0m\n",
      "\u001b[1;32m~\\AppData\\Local\\Continuum\\anaconda3\\lib\\site-packages\\sklearn\\metrics\\classification.py\u001b[0m in \u001b[0;36m_check_targets\u001b[1;34m(y_true, y_pred)\u001b[0m\n\u001b[0;32m     69\u001b[0m     \u001b[0my_pred\u001b[0m \u001b[1;33m:\u001b[0m \u001b[0marray\u001b[0m \u001b[1;32mor\u001b[0m \u001b[0mindicator\u001b[0m \u001b[0mmatrix\u001b[0m\u001b[1;33m\u001b[0m\u001b[0m\n\u001b[0;32m     70\u001b[0m     \"\"\"\n\u001b[1;32m---> 71\u001b[1;33m     \u001b[0mcheck_consistent_length\u001b[0m\u001b[1;33m(\u001b[0m\u001b[0my_true\u001b[0m\u001b[1;33m,\u001b[0m \u001b[0my_pred\u001b[0m\u001b[1;33m)\u001b[0m\u001b[1;33m\u001b[0m\u001b[0m\n\u001b[0m\u001b[0;32m     72\u001b[0m     \u001b[0mtype_true\u001b[0m \u001b[1;33m=\u001b[0m \u001b[0mtype_of_target\u001b[0m\u001b[1;33m(\u001b[0m\u001b[0my_true\u001b[0m\u001b[1;33m)\u001b[0m\u001b[1;33m\u001b[0m\u001b[0m\n\u001b[0;32m     73\u001b[0m     \u001b[0mtype_pred\u001b[0m \u001b[1;33m=\u001b[0m \u001b[0mtype_of_target\u001b[0m\u001b[1;33m(\u001b[0m\u001b[0my_pred\u001b[0m\u001b[1;33m)\u001b[0m\u001b[1;33m\u001b[0m\u001b[0m\n",
      "\u001b[1;32m~\\AppData\\Local\\Continuum\\anaconda3\\lib\\site-packages\\sklearn\\utils\\validation.py\u001b[0m in \u001b[0;36mcheck_consistent_length\u001b[1;34m(*arrays)\u001b[0m\n\u001b[0;32m    202\u001b[0m     \u001b[1;32mif\u001b[0m \u001b[0mlen\u001b[0m\u001b[1;33m(\u001b[0m\u001b[0muniques\u001b[0m\u001b[1;33m)\u001b[0m \u001b[1;33m>\u001b[0m \u001b[1;36m1\u001b[0m\u001b[1;33m:\u001b[0m\u001b[1;33m\u001b[0m\u001b[0m\n\u001b[0;32m    203\u001b[0m         raise ValueError(\"Found input variables with inconsistent numbers of\"\n\u001b[1;32m--> 204\u001b[1;33m                          \" samples: %r\" % [int(l) for l in lengths])\n\u001b[0m\u001b[0;32m    205\u001b[0m \u001b[1;33m\u001b[0m\u001b[0m\n\u001b[0;32m    206\u001b[0m \u001b[1;33m\u001b[0m\u001b[0m\n",
      "\u001b[1;31mValueError\u001b[0m: Found input variables with inconsistent numbers of samples: [10000, 28000]"
     ]
    }
   ],
   "source": [
    "rf.score(X_test,images1)"
   ]
  },
  {
   "cell_type": "code",
   "execution_count": 13,
   "metadata": {},
   "outputs": [],
   "source": [
    "#We now use the fit model to predict the classification of the test data and create Kaggle submission # 1\n",
    "y_test_pred_rfc = rfc.predict(X_test)\n",
    "\n",
    "# output result\n",
    "dataframe = pd.DataFrame({\"ImageId\": list(range(1,len(y_test_pred_rfc)+1)), \"Label\": y_test_pred_rfc})\n",
    "dataframe.to_csv('output_rfc.csv', index=False, header=True)"
   ]
  },
  {
   "cell_type": "code",
   "execution_count": 14,
   "metadata": {},
   "outputs": [
    {
     "data": {
      "image/png": "[encoded data removed]",
      "text/plain": [
       "<Figure size 648x648 with 1 Axes>"
      ]
     },
     "metadata": {
      "needs_background": "light"
     },
     "output_type": "display_data"
    }
   ],
   "source": [
    "#Plot subset of train data to get a feel for how the fit performmed\n",
    "plt.figure(figsize=(9,9))\n",
    "example_test_images = np.r_[X_test[:3000:300], X_test[3000:6000:300], X_test[6000:9000:300]]\n",
    "plot_digits(example_test_images, images_per_row=10)\n",
    "plt.show()"
   ]
  },
  {
   "cell_type": "code",
   "execution_count": 15,
   "metadata": {},
   "outputs": [
    {
     "name": "stdout",
     "output_type": "stream",
     "text": [
      "[2 6 5 5 4 0 0 7 9 7]\n",
      "[6 1 8 1 3 3 0 9 0 6]\n",
      "[0 8 1 3 5 2 9 6 5 4]\n"
     ]
    }
   ],
   "source": [
    "# Predicted values for digits from First Model\n",
    "print(y_test_pred_rfc[:3000:300])\n",
    "print(y_test_pred_rfc[3000:6000:300])\n",
    "print(y_test_pred_rfc[6000:9000:300])"
   ]
  },
  {
   "cell_type": "markdown",
   "metadata": {},
   "source": [
    "## 4.2 Kaggle Submission #2\n",
    "\n",
    "    Kaggle Accuracy Score: 0.87071"
   ]
  },
  {
   "cell_type": "code",
   "execution_count": 32,
   "metadata": {},
   "outputs": [
    {
     "data": {
      "text/plain": [
       "(70000, 784)"
      ]
     },
     "execution_count": 32,
     "metadata": {},
     "output_type": "execute_result"
    }
   ],
   "source": [
    "X_combined = X_test.append(X_train)\n",
    "X_combined.shape"
   ]
  },
  {
   "cell_type": "code",
   "execution_count": null,
   "metadata": {},
   "outputs": [],
   "source": [
    "trainimages=trainimages.astype(int)\n",
    "testimages=testimages.astype(int)"
   ]
  },
  {
   "cell_type": "code",
   "execution_count": 47,
   "metadata": {},
   "outputs": [
    {
     "name": "stdout",
     "output_type": "stream",
     "text": [
      "Experiment 2 PCA Time Elapsed :  15.484886 seconds\n",
      "New number of dimensions post-PCA :  154\n",
      "Explained variance percentage :  95.03 %\n"
     ]
    }
   ],
   "source": [
    "#For the second experiment we first perfrom Dimensionality Reudction using Principal Component Analysis and time how long it takes\n",
    "# We are asked to perform PCA on the combined Train and Test together.\n",
    "# We then fit a random forest classifier to the dimensionality reduced  set and time how long it takes to fit the model\n",
    "\n",
    "X_combined = np.concatenate((X_train,X_test), axis=0)\n",
    "X_combined.shape\n",
    "\n",
    "#PCA\n",
    "#We seek to reduce the data by generating principal components \n",
    "#that represent 95 percent of the variability in the explanatory variable\n",
    "\n",
    "pca = PCA(n_components=0.95, random_state=RANDOM_SEED)\n",
    "\n",
    "\n",
    "##Intitialize beginning time for fit\n",
    "start_time = time()\n",
    "\n",
    "#Fit combined model\n",
    "pca.fit(X_combined)\n",
    "\n",
    "#Determine ending time for fit\n",
    "elapsed_time = time() - start_time\n",
    "\n",
    "#Display time elapsed\n",
    "print(\"Experiment 2 PCA Time Elapsed : \", round(elapsed_time,6), \"seconds\")\n",
    "\n",
    "#Check reduced dimensions and that criteria was met\n",
    "X_combined = pca.transform(X_combined)\n",
    "print(\"New number of dimensions post-PCA : \", pca.n_components_)\n",
    "print(\"Explained variance percentage : \", round(100*np.sum(pca.explained_variance_ratio_),2), \"%\")\n"
   ]
  },
  {
   "cell_type": "code",
   "execution_count": 49,
   "metadata": {},
   "outputs": [
    {
     "ename": "ValueError",
     "evalue": "operands could not be broadcast together with shapes (70000,154) (784,) ",
     "output_type": "error",
     "traceback": [
      "\u001b[1;31m---------------------------------------------------------------------------\u001b[0m",
      "\u001b[1;31mValueError\u001b[0m                                Traceback (most recent call last)",
      "\u001b[1;32m<ipython-input-49-cba4e4a4b837>\u001b[0m in \u001b[0;36m<module>\u001b[1;34m()\u001b[0m\n\u001b[1;32m----> 1\u001b[1;33m \u001b[0mX_combined\u001b[0m \u001b[1;33m=\u001b[0m \u001b[0mpca\u001b[0m\u001b[1;33m.\u001b[0m\u001b[0mtransform\u001b[0m\u001b[1;33m(\u001b[0m\u001b[0mX_combined\u001b[0m\u001b[1;33m)\u001b[0m\u001b[1;33m\u001b[0m\u001b[0m\n\u001b[0m",
      "\u001b[1;32m~\\AppData\\Local\\Continuum\\anaconda3\\lib\\site-packages\\sklearn\\decomposition\\base.py\u001b[0m in \u001b[0;36mtransform\u001b[1;34m(self, X)\u001b[0m\n\u001b[0;32m    128\u001b[0m         \u001b[0mX\u001b[0m \u001b[1;33m=\u001b[0m \u001b[0mcheck_array\u001b[0m\u001b[1;33m(\u001b[0m\u001b[0mX\u001b[0m\u001b[1;33m)\u001b[0m\u001b[1;33m\u001b[0m\u001b[0m\n\u001b[0;32m    129\u001b[0m         \u001b[1;32mif\u001b[0m \u001b[0mself\u001b[0m\u001b[1;33m.\u001b[0m\u001b[0mmean_\u001b[0m \u001b[1;32mis\u001b[0m \u001b[1;32mnot\u001b[0m \u001b[1;32mNone\u001b[0m\u001b[1;33m:\u001b[0m\u001b[1;33m\u001b[0m\u001b[0m\n\u001b[1;32m--> 130\u001b[1;33m             \u001b[0mX\u001b[0m \u001b[1;33m=\u001b[0m \u001b[0mX\u001b[0m \u001b[1;33m-\u001b[0m \u001b[0mself\u001b[0m\u001b[1;33m.\u001b[0m\u001b[0mmean_\u001b[0m\u001b[1;33m\u001b[0m\u001b[0m\n\u001b[0m\u001b[0;32m    131\u001b[0m         \u001b[0mX_transformed\u001b[0m \u001b[1;33m=\u001b[0m \u001b[0mnp\u001b[0m\u001b[1;33m.\u001b[0m\u001b[0mdot\u001b[0m\u001b[1;33m(\u001b[0m\u001b[0mX\u001b[0m\u001b[1;33m,\u001b[0m \u001b[0mself\u001b[0m\u001b[1;33m.\u001b[0m\u001b[0mcomponents_\u001b[0m\u001b[1;33m.\u001b[0m\u001b[0mT\u001b[0m\u001b[1;33m)\u001b[0m\u001b[1;33m\u001b[0m\u001b[0m\n\u001b[0;32m    132\u001b[0m         \u001b[1;32mif\u001b[0m \u001b[0mself\u001b[0m\u001b[1;33m.\u001b[0m\u001b[0mwhiten\u001b[0m\u001b[1;33m:\u001b[0m\u001b[1;33m\u001b[0m\u001b[0m\n",
      "\u001b[1;31mValueError\u001b[0m: operands could not be broadcast together with shapes (70000,154) (784,) "
     ]
    }
   ],
   "source": []
  },
  {
   "cell_type": "code",
   "execution_count": 48,
   "metadata": {},
   "outputs": [
    {
     "name": "stdout",
     "output_type": "stream",
     "text": [
      "X_train_reduced shape:  (42000, 154)\n",
      "X_test_reduced shape:  (28000, 154)\n"
     ]
    }
   ],
   "source": [
    "#First we need to split out the train and test data again\n",
    "X_train_reduced =  pca.transform(X_train)\n",
    "X_test_reduced = pca.transform(X_test)\n",
    "\n",
    "print(\"X_train_reduced shape: \", X_train_reduced.shape)\n",
    "print(\"X_test_reduced shape: \", X_test_reduced.shape)"
   ]
  },
  {
   "cell_type": "code",
   "execution_count": 63,
   "metadata": {},
   "outputs": [
    {
     "data": {
      "text/plain": [
       "array([[False, False, False, ..., False, False, False],\n",
       "       [False, False, False, ..., False, False, False],\n",
       "       [False, False, False, ..., False, False, False],\n",
       "       ...,\n",
       "       [False, False, False, ..., False, False, False],\n",
       "       [False, False, False, ..., False, False, False],\n",
       "       [False, False, False, ..., False, False, False]])"
      ]
     },
     "execution_count": 63,
     "metadata": {},
     "output_type": "execute_result"
    }
   ],
   "source": [
    "X_train_reduced == X_combined[:42000]"
   ]
  },
  {
   "cell_type": "code",
   "execution_count": 69,
   "metadata": {},
   "outputs": [],
   "source": [
    "X_train_reduced = X_train_reduced.astype('int64')"
   ]
  },
  {
   "cell_type": "code",
   "execution_count": 70,
   "metadata": {},
   "outputs": [
    {
     "data": {
      "text/plain": [
       "dtype('int64')"
      ]
     },
     "execution_count": 70,
     "metadata": {},
     "output_type": "execute_result"
    }
   ],
   "source": [
    "X_train_reduced.dtype"
   ]
  },
  {
   "cell_type": "code",
   "execution_count": 71,
   "metadata": {},
   "outputs": [
    {
     "data": {
      "text/plain": [
       "dtype('int64')"
      ]
     },
     "execution_count": 71,
     "metadata": {},
     "output_type": "execute_result"
    }
   ],
   "source": [
    "X_train.dtype"
   ]
  },
  {
   "cell_type": "code",
   "execution_count": 74,
   "metadata": {},
   "outputs": [
    {
     "data": {
      "text/plain": [
       "array([[0, 0, 0, ..., 0, 0, 0],\n",
       "       [0, 0, 0, ..., 0, 0, 0],\n",
       "       [0, 0, 0, ..., 0, 0, 0],\n",
       "       ...,\n",
       "       [0, 0, 0, ..., 0, 0, 0],\n",
       "       [0, 0, 0, ..., 0, 0, 0],\n",
       "       [0, 0, 0, ..., 0, 0, 0]], dtype=int64)"
      ]
     },
     "execution_count": 74,
     "metadata": {},
     "output_type": "execute_result"
    }
   ],
   "source": [
    "X_train"
   ]
  },
  {
   "cell_type": "code",
   "execution_count": 75,
   "metadata": {},
   "outputs": [
    {
     "data": {
      "text/plain": [
       "array([[-675, -682,  186, ...,  -10,  -16,   63],\n",
       "       [1690, -402, -488, ...,  -26,   -7,  -42],\n",
       "       [-890, -275,   79, ...,    0,  -18,   -9],\n",
       "       ...,\n",
       "       [ 359,  942, -154, ...,  -19,    6,  -13],\n",
       "       [ 334,   58,  692, ...,   30,  -24,   41],\n",
       "       [-351,  427,   51, ...,  -11,  -42,   64]], dtype=int64)"
      ]
     },
     "execution_count": 75,
     "metadata": {},
     "output_type": "execute_result"
    }
   ],
   "source": [
    "X_train_reduced"
   ]
  },
  {
   "cell_type": "code",
   "execution_count": 72,
   "metadata": {},
   "outputs": [
    {
     "name": "stdout",
     "output_type": "stream",
     "text": [
      "Experiment 2 Model Fit Time-Elaspsed :  18.053033 seconds\n"
     ]
    }
   ],
   "source": [
    "# We now fit the demensionality reduced data using the same classifier as before\n",
    "# We are given the parameters to use for the RFC fit:\n",
    "#n_features=10 okay because of large number of observations\n",
    "#max_features = 'sqrt' as reccommended by Müller and Guido (2017) \n",
    "#bootstrap = True\n",
    "#n_jobs = -1 to use all available processers\n",
    "\n",
    "#We set up the classifier \n",
    "rfc2 = RandomForestClassifier(n_estimators = 90, n_jobs=-1, random_state = 1234)\n",
    "\n",
    "#Intitialize beginning time for fit\n",
    "start_time = time()\n",
    "\n",
    "#Fit model\n",
    "rfc2.fit(X_train_reduced,y_train)\n",
    "\n",
    "#Determine ending time for fit\n",
    "elapsed_time = time() - start_time\n",
    "\n",
    "#Display time elapsed\n",
    "print(\"Experiment 2 Model Fit Time-Elaspsed : \", round(elapsed_time,6), \"seconds\")"
   ]
  },
  {
   "cell_type": "code",
   "execution_count": 20,
   "metadata": {},
   "outputs": [
    {
     "name": "stdout",
     "output_type": "stream",
     "text": [
      "Training accuracy =  99.86 %\n"
     ]
    }
   ],
   "source": [
    "#We first check the accuracy of the fit model on the training data:\n",
    "y_train_pred_pca_rfc = rfc2.predict(X_train_reduced)\n",
    "print(\"Training accuracy = \", round(100*accuracy_score(y_train, y_train_pred_pca_rfc),2), \"%\")"
   ]
  },
  {
   "cell_type": "code",
   "execution_count": 21,
   "metadata": {},
   "outputs": [],
   "source": [
    "#We now use the fit model to predict the classification of the test data and create Kaggle submission # 2\n",
    "y_test_pred_pca_rfc = rfc2.predict(X_test_reduced)\n",
    "\n",
    "# output result\n",
    "dataframe2 = pd.DataFrame({\"ImageId\": list(range(1,len(y_test_pred_pca_rfc)+1)), \"Label\": y_test_pred_pca_rfc})\n",
    "dataframe2.to_csv('output_pca_rfc.csv', index=False, header=True)"
   ]
  },
  {
   "cell_type": "code",
   "execution_count": 22,
   "metadata": {},
   "outputs": [
    {
     "data": {
      "image/png": "[encoded data removed]",
      "text/plain": [
       "<Figure size 648x648 with 1 Axes>"
      ]
     },
     "metadata": {
      "needs_background": "light"
     },
     "output_type": "display_data"
    }
   ],
   "source": [
    "#Plot subset of train data to get a feel for how the fit performmed\n",
    "plt.figure(figsize=(9,9))\n",
    "example_test_images = np.r_[X_test[:3000:300], X_test[3000:6000:300], X_test[6000:9000:300]]\n",
    "plot_digits(example_test_images, images_per_row=10)\n",
    "plt.show()"
   ]
  },
  {
   "cell_type": "code",
   "execution_count": 23,
   "metadata": {},
   "outputs": [
    {
     "name": "stdout",
     "output_type": "stream",
     "text": [
      "[2 6 0 5 4 0 0 7 7 7]\n",
      "[6 1 4 1 3 3 0 4 0 6]\n",
      "[1 3 1 3 5 3 9 6 5 4]\n"
     ]
    }
   ],
   "source": [
    "# Predicted values for digits from Second Model\n",
    "print(y_test_pred_pca_rfc[:3000:300])\n",
    "print(y_test_pred_pca_rfc[3000:6000:300])\n",
    "print(y_test_pred_pca_rfc[6000:9000:300])"
   ]
  },
  {
   "cell_type": "markdown",
   "metadata": {},
   "source": [
    "## 4.2 Kaggle Submission #3\n",
    "\n",
    "Revised full train-and-test regime\n",
    "Random Forest Classifer with Principal Component Analysis\n",
    "    \n",
    "    PCA Time Elapsed :  10.781617 seconds\n",
    "    Model Fit Time-Elaspsed :  3.525202 seconds \n",
    "    Kaggle Accuracy Score: 0.87885"
   ]
  },
  {
   "cell_type": "markdown",
   "metadata": {},
   "source": [
    "I picked my brain and I could not determine what the \"MAJOR\" flaw is. I will need to reach out for direction as to why this is something that I am missing here. Below is the code I tried to find something that made a difference, but I was unsuccesful to determine something that funtionally changed..."
   ]
  },
  {
   "cell_type": "markdown",
   "metadata": {},
   "source": [
    "Npw, we want to use a true train-and-test regime within a cross-validation design, evaluating different parameters and whether PCA is needed or not. We also wish to evaluate the models based on F1 score instead of pure accuracy to get a better understanding of what types of errors it is making. The predictions will also be cross validation predictions."
   ]
  },
  {
   "cell_type": "code",
   "execution_count": 39,
   "metadata": {},
   "outputs": [
    {
     "name": "stdout",
     "output_type": "stream",
     "text": [
      "(42000, 784)\n",
      "(42000,)\n",
      "(28000, 784)\n"
     ]
    }
   ],
   "source": [
    "#Start with same data\n",
    "print(X_train.shape)\n",
    "print(y_train.shape)\n",
    "print(X_test.shape)"
   ]
  },
  {
   "cell_type": "code",
   "execution_count": 40,
   "metadata": {},
   "outputs": [],
   "source": [
    "#Since we can't cross-validate on the test data-set, we will create a split of the test dataset that we can use as a holdout to test.\n",
    "X_train_holdout = X_train.iloc[32000:,:]\n",
    "X_train_train = X_train.iloc[:32000,:]\n",
    "\n",
    "y_train_holdout = y_train[32000:]\n",
    "y_train_train = y_train[:32000]"
   ]
  },
  {
   "cell_type": "code",
   "execution_count": 41,
   "metadata": {},
   "outputs": [
    {
     "name": "stdout",
     "output_type": "stream",
     "text": [
      "(32000, 784)\n",
      "(10000, 784)\n",
      "(32000,)\n",
      "(10000,)\n"
     ]
    }
   ],
   "source": [
    "#Start with same data\n",
    "print(X_train_train.shape)\n",
    "print(X_train_holdout.shape)\n",
    "print(y_train_train.shape)\n",
    "print(y_train_holdout.shape)"
   ]
  },
  {
   "cell_type": "code",
   "execution_count": 42,
   "metadata": {},
   "outputs": [
    {
     "name": "stdout",
     "output_type": "stream",
     "text": [
      "1    3545\n",
      "7    3343\n",
      "3    3302\n",
      "2    3214\n",
      "9    3192\n",
      "6    3146\n",
      "4    3140\n",
      "0    3121\n",
      "8    3094\n",
      "5    2903\n",
      "Name: label, dtype: int64\n",
      "1    1139\n",
      "7    1058\n",
      "3    1049\n",
      "0    1011\n",
      "9     996\n",
      "6     991\n",
      "8     969\n",
      "2     963\n",
      "4     932\n",
      "5     892\n",
      "Name: label, dtype: int64\n"
     ]
    }
   ],
   "source": [
    "print(y_train_train.value_counts())\n",
    "print(y_train_holdout.value_counts())"
   ]
  },
  {
   "cell_type": "markdown",
   "metadata": {},
   "source": [
    "Still representative so can use this split"
   ]
  },
  {
   "cell_type": "code",
   "execution_count": 43,
   "metadata": {},
   "outputs": [
    {
     "name": "stdout",
     "output_type": "stream",
     "text": [
      "Experiment 3 PCA Time Elapsed :  7.740443 seconds\n",
      "New number of dimensions post-PCA :  154\n",
      "Explained variance percentage :  95.03 %\n"
     ]
    }
   ],
   "source": [
    "# We will also create a reduced model using PCA that can be compared. This time we will fit the model on just the train data and\n",
    "# then apply the same transform to the train and test data\n",
    "\n",
    "#For the second experiment we first perfrom Dimensionality Reudction using Principal Component Analysis and time how long it takes\n",
    "# We are asked to perform PCA on the combined Train and Test together.\n",
    "# We then fit a random forest classifier to the dimensionality reduced  set and time how long it takes to fit the model\n",
    "\n",
    "\n",
    "#PCA\n",
    "#We seek to reduce the data by generating principal components \n",
    "#that represent 95 percent of the variability in the explanatory variable\n",
    "\n",
    "pca2 = PCA(n_components=0.95, random_state=RANDOM_SEED)\n",
    "\n",
    "\n",
    "##Intitialize beginning time for fit\n",
    "start_time = time()\n",
    "\n",
    "#Fit combined model\n",
    "pca2.fit(X_train_train)\n",
    "\n",
    "#Determine ending time for fit\n",
    "elapsed_time = time() - start_time\n",
    "\n",
    "#Display time elapsed\n",
    "print(\"Experiment 3 PCA Time Elapsed : \", round(elapsed_time,6), \"seconds\")\n",
    "\n",
    "#Check reduced dimensions and that criteria was met\n",
    "X_train_train_reduced = pca2.transform(X_train_train)\n",
    "X_test_reduced = pca2.transform(X_test)\n",
    "X_train_holdout_reduced = pca2.transform(X_train_holdout)\n",
    "print(\"New number of dimensions post-PCA : \", pca.n_components_)\n",
    "print(\"Explained variance percentage : \", round(100*np.sum(pca.explained_variance_ratio_),2), \"%\")\n"
   ]
  },
  {
   "cell_type": "code",
   "execution_count": 29,
   "metadata": {},
   "outputs": [
    {
     "name": "stdout",
     "output_type": "stream",
     "text": [
      "(32000, 153)\n",
      "(28000, 153)\n",
      "(10000, 153)\n"
     ]
    }
   ],
   "source": [
    "print(X_train_train_reduced.shape)\n",
    "print(X_test_reduced.shape)\n",
    "print(X_train_holdout_reduced.shape)"
   ]
  },
  {
   "cell_type": "code",
   "execution_count": 30,
   "metadata": {},
   "outputs": [],
   "source": [
    "#Finally we also want to test scaling the data \n",
    "from sklearn.preprocessing import MinMaxScaler\n",
    "scaler = MinMaxScaler()\n",
    "scaler.fit(X_train_train)\n",
    "X_train_train_scaled = scaler.transform(X_train_train)\n",
    "X_train_holdout_scaled = scaler.transform(X_train_holdout)\n",
    "X_test_scaled = scaler.transform(X_test)\n",
    "\n",
    "scaler.fit(X_train_train_reduced)\n",
    "X_train_train_reduced_scaled = scaler.transform(X_train_train_reduced)\n",
    "X_train_holdout_reduced_scaled = scaler.transform(X_train_holdout_reduced)\n",
    "X_test_reduced_scaled = scaler.transform(X_test_reduced)"
   ]
  },
  {
   "cell_type": "code",
   "execution_count": 31,
   "metadata": {},
   "outputs": [],
   "source": [
    "# We set-up our Random Forest Classifier again\n",
    "rfc3 = RandomForestClassifier(n_estimators = 10, max_features = 'sqrt', bootstrap = True, n_jobs=-1, random_state = RANDOM_SEED)"
   ]
  },
  {
   "cell_type": "code",
   "execution_count": 32,
   "metadata": {},
   "outputs": [
    {
     "name": "stdout",
     "output_type": "stream",
     "text": [
      "[0.9308406  0.92828349 0.92796849]\n",
      "[0.85971324 0.85591075 0.85678109]\n",
      "[0.9308406  0.92828349 0.92796849]\n",
      "[0.8601818  0.85544202 0.85678109]\n"
     ]
    }
   ],
   "source": [
    "#We now use cross validation score for each possible cobination of features\n",
    "print(cross_val_score(rfc3, X_train_train, y_train_train, cv=3, scoring=\"accuracy\"))\n",
    "print(cross_val_score(rfc3, X_train_train_reduced, y_train_train, cv=3, scoring=\"accuracy\"))\n",
    "print(cross_val_score(rfc3, X_train_train_scaled, y_train_train, cv=3, scoring=\"accuracy\"))\n",
    "print(cross_val_score(rfc3, X_train_train_reduced_scaled, y_train_train, cv=3, scoring=\"accuracy\"))"
   ]
  },
  {
   "cell_type": "markdown",
   "metadata": {},
   "source": [
    "Scaling and reducing appear to make the model perform worse or no better?"
   ]
  },
  {
   "cell_type": "code",
   "execution_count": 33,
   "metadata": {},
   "outputs": [
    {
     "name": "stdout",
     "output_type": "stream",
     "text": [
      "0.9372\n"
     ]
    }
   ],
   "source": [
    "rfc3.fit(X_train_train, y_train_train)\n",
    "y_predict_train_train = rfc3.predict(X_train_train)\n",
    "y_predict_train_holdout = rfc3.predict(X_train_holdout)\n",
    "print(accuracy_score(y_train_holdout,y_predict_train_holdout))"
   ]
  },
  {
   "cell_type": "code",
   "execution_count": 34,
   "metadata": {},
   "outputs": [
    {
     "name": "stdout",
     "output_type": "stream",
     "text": [
      "0.9372\n"
     ]
    }
   ],
   "source": [
    "rfc3.fit(X_train_train_reduced, y_train_train)\n",
    "y_predict_train_train_reduced = rfc3.predict(X_train_train_reduced)\n",
    "y_predict_train_holdout_reduced = rfc3.predict(X_train_holdout_reduced)\n",
    "print(accuracy_score(y_train_holdout,y_predict_train_holdout))"
   ]
  },
  {
   "cell_type": "code",
   "execution_count": 35,
   "metadata": {},
   "outputs": [
    {
     "name": "stdout",
     "output_type": "stream",
     "text": [
      "0.999124860253897\n",
      "0.9991296533744126\n",
      "0.9991270696461729\n"
     ]
    }
   ],
   "source": [
    "print(precision_score(y_train_train, y_predict_train_train, average='macro'))\n",
    "print(recall_score(y_train_train, y_predict_train_train, average='macro'))\n",
    "print(f1_score(y_train_train, y_predict_train_train, average='macro'))"
   ]
  },
  {
   "cell_type": "code",
   "execution_count": 50,
   "metadata": {},
   "outputs": [
    {
     "name": "stdout",
     "output_type": "stream",
     "text": [
      "0.8746\n"
     ]
    }
   ],
   "source": [
    "#I want to see if the reduced model on just the train data and then standarized actually does better in Kaggle?\n",
    "rfc3.fit(X_train_train_reduced_scaled, y_train_train)\n",
    "y_predict_train_holdout_reduced = rfc3.predict(X_train_holdout_reduced_scaled)\n",
    "y_pca_rfc_std = rfc3.predict(X_test_reduced_scaled)\n",
    "print(accuracy_score(y_train_holdout,y_predict_train_holdout_reduced))\n",
    "\n",
    "# output result\n",
    "dataframe3 = pd.DataFrame({\"ImageId\": list(range(1,len(y_pca_rfc_std)+1)), \"Label\": y_pca_rfc_std})\n",
    "dataframe3.to_csv('output_pca_rfc_std.csv', index=False, header=True)\n"
   ]
  },
  {
   "cell_type": "code",
   "execution_count": null,
   "metadata": {},
   "outputs": [],
   "source": [
    "I want to see if the reduced model on just the train data and then standarized actually does better in Kaggle"
   ]
  },
  {
   "cell_type": "code",
   "execution_count": 36,
   "metadata": {},
   "outputs": [
    {
     "data": {
      "text/plain": [
       "array([[3121,    0,    0,    0,    0,    0,    0,    0,    0,    0],\n",
       "       [   0, 3543,    2,    0,    0,    0,    0,    0,    0,    0],\n",
       "       [   0,    0, 3212,    0,    0,    0,    0,    1,    1,    0],\n",
       "       [   1,    0,    2, 3297,    0,    0,    0,    0,    1,    1],\n",
       "       [   0,    0,    0,    0, 3140,    0,    0,    0,    0,    0],\n",
       "       [   0,    0,    0,    2,    0, 2901,    0,    0,    0,    0],\n",
       "       [   2,    0,    0,    0,    0,    0, 3144,    0,    0,    0],\n",
       "       [   0,    0,    2,    1,    1,    0,    0, 3338,    0,    1],\n",
       "       [   0,    0,    1,    1,    2,    0,    0,    0, 3089,    1],\n",
       "       [   0,    0,    0,    1,    1,    1,    0,    2,    0, 3187]],\n",
       "      dtype=int64)"
      ]
     },
     "execution_count": 36,
     "metadata": {},
     "output_type": "execute_result"
    }
   ],
   "source": [
    "conf_mx = confusion_matrix(y_train_train, y_predict_train_train)\n",
    "conf_mx"
   ]
  },
  {
   "cell_type": "code",
   "execution_count": 37,
   "metadata": {},
   "outputs": [],
   "source": [
    "# from sklearn.linear_model import SGDClassifier\n",
    "# from sklearn.multiclass import OneVsOneClassifier\n",
    "# from sklearn.neighbors import KNeighborsClassifier\n",
    "\n",
    "# rfc3 = RandomForestClassifier(n_estimators = 10, max_features = 'sqrt', bootstrap = True, n_jobs=-1, random_state = RANDOM_SEED)\n",
    "# ovo_clf = OneVsOneClassifier(SGDClassifier(fit_intercept=True, max_iter=1000, tol=1e-3, n_jobs=-1 random_state=RANDOM_SEED))\n",
    "# knn_clf = KNeighborsClassifier(n_jobs=-1)\n",
    "\n",
    "# names = (\"Random Forest Classifier\", \"OneVsOne SGD Classifier\", \"KNeighborsClassifier\")\n",
    "# classifiers = (rfc3, ovo_clf, knn_clf)"
   ]
  },
  {
   "cell_type": "code",
   "execution_count": 38,
   "metadata": {},
   "outputs": [],
   "source": [
    "# # specify the k-fold cross-validation design\n",
    "# from sklearn.model_selection import KFold\n",
    "\n",
    "# # ten-fold cross-validation employed here\n",
    "\n",
    "# N_FOLDS = 10\n",
    "# print('\\nProgress with' + str(N_FOLDS) + '-fold cross-validation')\n",
    "\n",
    "# # set up numpy array for storing results\n",
    "# cv_results_roc = np.zeros((N_FOLDS, len(names)))\n",
    "# cv_results_accuracy = np.zeros((N_FOLDS, len(names)))\n",
    "\n",
    "# kf = KFold(n_splits = N_FOLDS, shuffle=False, random_state = RANDOM_SEED)\n",
    "# # check the splitting process by looking at fold observation counts\n",
    "# index_for_fold = 0  # fold count initialized \n",
    "# for train_index, test_index in kf.split(model_data):\n",
    "#     print('\\nFold index:', index_for_fold,\n",
    "#           '------------------------------------------')\n",
    "# #   the structure of modeling data for this study has the\n",
    "# #   response variable coming first and explanatory variables later          \n",
    "# #   so 1:model_data.shape[1] slices for explanatory variables\n",
    "# #   and 0 is the index for the response variable    \n",
    "#     X_train_kfold = model_data[train_index, 1:model_data.shape[1]]\n",
    "#     X_test_kfold = holdout_data[test_index, 1:model_data.shape[1]]\n",
    "#     y_train_kfold = model_data[train_index, 0]\n",
    "#     y_test_kfold = holdout_data[test_index, 0]   \n",
    "#     print('\\nShape of input data for this fold:',\n",
    "#           '\\nData Set: (Observations, Variables)')\n",
    "#     print('X_train:', X_train_kfold.shape)\n",
    "#     print('X_test:',X_test_kfold.shape)\n",
    "#     print('y_train:', y_train_kfold.shape)\n",
    "#     print('y_test:',y_test_kfold.shape)\n",
    "\n",
    "#     index_for_method = 0  # initialize\n",
    "#     for name, clf in zip(names, classifiers):\n",
    "#         print('\\nClassifier evaluation for:', name)\n",
    "#         print('  Scikit Learn method:', clf)\n",
    "#         clf.fit(X_train_kfold, y_train_kfold)  # fit on the train set for this fold\n",
    "#         # evaluate on the test set for this fold\n",
    "#         y_test_predict_kfold = clf.predict(X_test_kfold)\n",
    "#      #   fold_method_result_roc = roc_auc_score(y_test_kfold, y_test_predict_kfold[:,1]) \n",
    "#         fold_method_result_accuracy = accuracy_score(y_test_kfold, y_test_predict_kfold)\n",
    "#      #   print('Area under ROC curve:', fold_method_result_roc)\n",
    "#         print('Accuracy:', fold_method_result_accuracy)\n",
    "#     #    cv_results_roc[index_for_fold, index_for_method] = fold_method_result_roc\n",
    "#         cv_results_accuracy[index_for_fold, index_for_method] = fold_method_result_accuracy\n",
    "#         index_for_method += 1\n",
    "  \n",
    "#     index_for_fold += 1\n",
    "\n",
    "# cv_results_roc_df = pd.DataFrame(cv_results_roc)\n",
    "# cv_results_roc_df.columns = names\n",
    "\n",
    "# cv_results_accuracy_df = pd.DataFrame(cv_results_accuracy)\n",
    "# cv_results_accuracy_df.columns = names\n",
    "\n",
    "# print('\\n----------------------------------------------')\n",
    "# print('Average results from ', N_FOLDS, '-fold cross-validation\\n',\n",
    "#       '\\nMethod                 Area under ROC Curve                Accuracy', sep = '')     \n",
    "# print(cv_results_roc_df.mean(), '     ', cv_results_accuracy_df.mean())   \n"
   ]
  }
 ],
 "metadata": {
  "kernelspec": {
   "display_name": "Python 3",
   "language": "python",
   "name": "python3"
  },
  "language_info": {
   "codemirror_mode": {
    "name": "ipython",
    "version": 3
   },
   "file_extension": ".py",
   "mimetype": "text/x-python",
   "name": "python",
   "nbconvert_exporter": "python",
   "pygments_lexer": "ipython3",
   "version": "3.7.0"
  }
 },
 "nbformat": 4,
 "nbformat_minor": 2
}
