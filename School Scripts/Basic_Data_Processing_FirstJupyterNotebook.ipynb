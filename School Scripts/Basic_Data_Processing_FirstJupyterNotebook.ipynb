{
 "cells": [
  {
   "cell_type": "markdown",
   "metadata": {},
   "source": [
    "# **Christopher Wilbar** \n",
    "\n",
    "MSDS 420-DL_SEC57  \n",
    "Exercise 1  \n",
    "Using Pyhton for File and Data Processing  "
   ]
  },
  {
   "cell_type": "markdown",
   "metadata": {},
   "source": [
    "# Requirements :\n",
    "1. Produce a list of Zip values in xyzcust10 along with their frequencies. **HINT: First, we want to create a Series whose index are the 37 different zip codes in the ZIP column and whose values are the frequencies of the zip codes appearing in that column. Second, we want to do the same for either the ZIP9_Supercode or ZIP9_SUPERCODE columns. These two columns are duplicate columns so that we only need to consider one of them. How do you verify that they are duplicate columns?**\n",
    "2. How many records with missing ZIP values are there in xyzcust10? **Note: Typically, NaN values are used to denote missing data. How would you check that there are no NaN values in the ZIP/ZIP4/ZIP9 columns? Then we should check for 0 values. Why?**\n",
    "3. How many active and inactive buyers are in xyzcust10? **HINT: Check the values in the BUYER_STATUS column.**"
   ]
  },
  {
   "cell_type": "code",
   "execution_count": 1,
   "metadata": {},
   "outputs": [],
   "source": [
    "#Import pacakges for initial setup\n",
    "import pandas as pd\t# panda's nickname is pd\n",
    "\n",
    "import numpy as np\t# numpy as np\n",
    "\n",
    "from pandas import DataFrame, Series\t    # for convenience"
   ]
  },
  {
   "cell_type": "code",
   "execution_count": 2,
   "metadata": {},
   "outputs": [
    {
     "ename": "FileNotFoundError",
     "evalue": "File b'xyzcust10.csv' does not exist",
     "output_type": "error",
     "traceback": [
      "\u001b[1;31m---------------------------------------------------------------------------\u001b[0m",
      "\u001b[1;31mFileNotFoundError\u001b[0m                         Traceback (most recent call last)",
      "\u001b[1;32m<ipython-input-2-da7ff98aeda6>\u001b[0m in \u001b[0;36m<module>\u001b[1;34m()\u001b[0m\n\u001b[0;32m      1\u001b[0m \u001b[1;31m#Read data in to Python\u001b[0m\u001b[1;33m\u001b[0m\u001b[1;33m\u001b[0m\u001b[0m\n\u001b[1;32m----> 2\u001b[1;33m \u001b[0mxyzcust10\u001b[0m\u001b[1;33m=\u001b[0m\u001b[0mpd\u001b[0m\u001b[1;33m.\u001b[0m\u001b[0mread_csv\u001b[0m\u001b[1;33m(\u001b[0m\u001b[1;34m'xyzcust10.csv'\u001b[0m\u001b[1;33m)\u001b[0m\u001b[1;33m\u001b[0m\u001b[0m\n\u001b[0m",
      "\u001b[1;32m~\\AppData\\Local\\Continuum\\anaconda3\\lib\\site-packages\\pandas\\io\\parsers.py\u001b[0m in \u001b[0;36mparser_f\u001b[1;34m(filepath_or_buffer, sep, delimiter, header, names, index_col, usecols, squeeze, prefix, mangle_dupe_cols, dtype, engine, converters, true_values, false_values, skipinitialspace, skiprows, nrows, na_values, keep_default_na, na_filter, verbose, skip_blank_lines, parse_dates, infer_datetime_format, keep_date_col, date_parser, dayfirst, iterator, chunksize, compression, thousands, decimal, lineterminator, quotechar, quoting, escapechar, comment, encoding, dialect, tupleize_cols, error_bad_lines, warn_bad_lines, skipfooter, doublequote, delim_whitespace, low_memory, memory_map, float_precision)\u001b[0m\n\u001b[0;32m    676\u001b[0m                     skip_blank_lines=skip_blank_lines)\n\u001b[0;32m    677\u001b[0m \u001b[1;33m\u001b[0m\u001b[0m\n\u001b[1;32m--> 678\u001b[1;33m         \u001b[1;32mreturn\u001b[0m \u001b[0m_read\u001b[0m\u001b[1;33m(\u001b[0m\u001b[0mfilepath_or_buffer\u001b[0m\u001b[1;33m,\u001b[0m \u001b[0mkwds\u001b[0m\u001b[1;33m)\u001b[0m\u001b[1;33m\u001b[0m\u001b[0m\n\u001b[0m\u001b[0;32m    679\u001b[0m \u001b[1;33m\u001b[0m\u001b[0m\n\u001b[0;32m    680\u001b[0m     \u001b[0mparser_f\u001b[0m\u001b[1;33m.\u001b[0m\u001b[0m__name__\u001b[0m \u001b[1;33m=\u001b[0m \u001b[0mname\u001b[0m\u001b[1;33m\u001b[0m\u001b[0m\n",
      "\u001b[1;32m~\\AppData\\Local\\Continuum\\anaconda3\\lib\\site-packages\\pandas\\io\\parsers.py\u001b[0m in \u001b[0;36m_read\u001b[1;34m(filepath_or_buffer, kwds)\u001b[0m\n\u001b[0;32m    438\u001b[0m \u001b[1;33m\u001b[0m\u001b[0m\n\u001b[0;32m    439\u001b[0m     \u001b[1;31m# Create the parser.\u001b[0m\u001b[1;33m\u001b[0m\u001b[1;33m\u001b[0m\u001b[0m\n\u001b[1;32m--> 440\u001b[1;33m     \u001b[0mparser\u001b[0m \u001b[1;33m=\u001b[0m \u001b[0mTextFileReader\u001b[0m\u001b[1;33m(\u001b[0m\u001b[0mfilepath_or_buffer\u001b[0m\u001b[1;33m,\u001b[0m \u001b[1;33m**\u001b[0m\u001b[0mkwds\u001b[0m\u001b[1;33m)\u001b[0m\u001b[1;33m\u001b[0m\u001b[0m\n\u001b[0m\u001b[0;32m    441\u001b[0m \u001b[1;33m\u001b[0m\u001b[0m\n\u001b[0;32m    442\u001b[0m     \u001b[1;32mif\u001b[0m \u001b[0mchunksize\u001b[0m \u001b[1;32mor\u001b[0m \u001b[0miterator\u001b[0m\u001b[1;33m:\u001b[0m\u001b[1;33m\u001b[0m\u001b[0m\n",
      "\u001b[1;32m~\\AppData\\Local\\Continuum\\anaconda3\\lib\\site-packages\\pandas\\io\\parsers.py\u001b[0m in \u001b[0;36m__init__\u001b[1;34m(self, f, engine, **kwds)\u001b[0m\n\u001b[0;32m    785\u001b[0m             \u001b[0mself\u001b[0m\u001b[1;33m.\u001b[0m\u001b[0moptions\u001b[0m\u001b[1;33m[\u001b[0m\u001b[1;34m'has_index_names'\u001b[0m\u001b[1;33m]\u001b[0m \u001b[1;33m=\u001b[0m \u001b[0mkwds\u001b[0m\u001b[1;33m[\u001b[0m\u001b[1;34m'has_index_names'\u001b[0m\u001b[1;33m]\u001b[0m\u001b[1;33m\u001b[0m\u001b[0m\n\u001b[0;32m    786\u001b[0m \u001b[1;33m\u001b[0m\u001b[0m\n\u001b[1;32m--> 787\u001b[1;33m         \u001b[0mself\u001b[0m\u001b[1;33m.\u001b[0m\u001b[0m_make_engine\u001b[0m\u001b[1;33m(\u001b[0m\u001b[0mself\u001b[0m\u001b[1;33m.\u001b[0m\u001b[0mengine\u001b[0m\u001b[1;33m)\u001b[0m\u001b[1;33m\u001b[0m\u001b[0m\n\u001b[0m\u001b[0;32m    788\u001b[0m \u001b[1;33m\u001b[0m\u001b[0m\n\u001b[0;32m    789\u001b[0m     \u001b[1;32mdef\u001b[0m \u001b[0mclose\u001b[0m\u001b[1;33m(\u001b[0m\u001b[0mself\u001b[0m\u001b[1;33m)\u001b[0m\u001b[1;33m:\u001b[0m\u001b[1;33m\u001b[0m\u001b[0m\n",
      "\u001b[1;32m~\\AppData\\Local\\Continuum\\anaconda3\\lib\\site-packages\\pandas\\io\\parsers.py\u001b[0m in \u001b[0;36m_make_engine\u001b[1;34m(self, engine)\u001b[0m\n\u001b[0;32m   1012\u001b[0m     \u001b[1;32mdef\u001b[0m \u001b[0m_make_engine\u001b[0m\u001b[1;33m(\u001b[0m\u001b[0mself\u001b[0m\u001b[1;33m,\u001b[0m \u001b[0mengine\u001b[0m\u001b[1;33m=\u001b[0m\u001b[1;34m'c'\u001b[0m\u001b[1;33m)\u001b[0m\u001b[1;33m:\u001b[0m\u001b[1;33m\u001b[0m\u001b[0m\n\u001b[0;32m   1013\u001b[0m         \u001b[1;32mif\u001b[0m \u001b[0mengine\u001b[0m \u001b[1;33m==\u001b[0m \u001b[1;34m'c'\u001b[0m\u001b[1;33m:\u001b[0m\u001b[1;33m\u001b[0m\u001b[0m\n\u001b[1;32m-> 1014\u001b[1;33m             \u001b[0mself\u001b[0m\u001b[1;33m.\u001b[0m\u001b[0m_engine\u001b[0m \u001b[1;33m=\u001b[0m \u001b[0mCParserWrapper\u001b[0m\u001b[1;33m(\u001b[0m\u001b[0mself\u001b[0m\u001b[1;33m.\u001b[0m\u001b[0mf\u001b[0m\u001b[1;33m,\u001b[0m \u001b[1;33m**\u001b[0m\u001b[0mself\u001b[0m\u001b[1;33m.\u001b[0m\u001b[0moptions\u001b[0m\u001b[1;33m)\u001b[0m\u001b[1;33m\u001b[0m\u001b[0m\n\u001b[0m\u001b[0;32m   1015\u001b[0m         \u001b[1;32melse\u001b[0m\u001b[1;33m:\u001b[0m\u001b[1;33m\u001b[0m\u001b[0m\n\u001b[0;32m   1016\u001b[0m             \u001b[1;32mif\u001b[0m \u001b[0mengine\u001b[0m \u001b[1;33m==\u001b[0m \u001b[1;34m'python'\u001b[0m\u001b[1;33m:\u001b[0m\u001b[1;33m\u001b[0m\u001b[0m\n",
      "\u001b[1;32m~\\AppData\\Local\\Continuum\\anaconda3\\lib\\site-packages\\pandas\\io\\parsers.py\u001b[0m in \u001b[0;36m__init__\u001b[1;34m(self, src, **kwds)\u001b[0m\n\u001b[0;32m   1706\u001b[0m         \u001b[0mkwds\u001b[0m\u001b[1;33m[\u001b[0m\u001b[1;34m'usecols'\u001b[0m\u001b[1;33m]\u001b[0m \u001b[1;33m=\u001b[0m \u001b[0mself\u001b[0m\u001b[1;33m.\u001b[0m\u001b[0musecols\u001b[0m\u001b[1;33m\u001b[0m\u001b[0m\n\u001b[0;32m   1707\u001b[0m \u001b[1;33m\u001b[0m\u001b[0m\n\u001b[1;32m-> 1708\u001b[1;33m         \u001b[0mself\u001b[0m\u001b[1;33m.\u001b[0m\u001b[0m_reader\u001b[0m \u001b[1;33m=\u001b[0m \u001b[0mparsers\u001b[0m\u001b[1;33m.\u001b[0m\u001b[0mTextReader\u001b[0m\u001b[1;33m(\u001b[0m\u001b[0msrc\u001b[0m\u001b[1;33m,\u001b[0m \u001b[1;33m**\u001b[0m\u001b[0mkwds\u001b[0m\u001b[1;33m)\u001b[0m\u001b[1;33m\u001b[0m\u001b[0m\n\u001b[0m\u001b[0;32m   1709\u001b[0m \u001b[1;33m\u001b[0m\u001b[0m\n\u001b[0;32m   1710\u001b[0m         \u001b[0mpassed_names\u001b[0m \u001b[1;33m=\u001b[0m \u001b[0mself\u001b[0m\u001b[1;33m.\u001b[0m\u001b[0mnames\u001b[0m \u001b[1;32mis\u001b[0m \u001b[1;32mNone\u001b[0m\u001b[1;33m\u001b[0m\u001b[0m\n",
      "\u001b[1;32mpandas/_libs/parsers.pyx\u001b[0m in \u001b[0;36mpandas._libs.parsers.TextReader.__cinit__\u001b[1;34m()\u001b[0m\n",
      "\u001b[1;32mpandas/_libs/parsers.pyx\u001b[0m in \u001b[0;36mpandas._libs.parsers.TextReader._setup_parser_source\u001b[1;34m()\u001b[0m\n",
      "\u001b[1;31mFileNotFoundError\u001b[0m: File b'xyzcust10.csv' does not exist"
     ]
    }
   ],
   "source": [
    "#Read data in to Python\n",
    "xyzcust10=pd.read_csv('xyzcust10.csv')"
   ]
  },
  {
   "cell_type": "markdown",
   "metadata": {},
   "source": [
    "# **Question 1** \n",
    "Produce a list of Zip values in xyzcust10 along with their frequencies"
   ]
  },
  {
   "cell_type": "code",
   "execution_count": 3,
   "metadata": {
    "scrolled": true
   },
   "outputs": [
    {
     "data": {
      "text/plain": [
       "ZIP\n",
       "60091    3458\n",
       "60093    3178\n",
       "60062    3099\n",
       "60067    3050\n",
       "60068    2781\n",
       "60089    2007\n",
       "60056    1529\n",
       "60074    1313\n",
       "60060    1296\n",
       "60061    1207\n",
       "60076    1090\n",
       "60069     784\n",
       "60077     740\n",
       "60084     723\n",
       "60073     686\n",
       "60090     648\n",
       "60098     564\n",
       "60070     463\n",
       "60085     379\n",
       "60083     344\n",
       "60081     322\n",
       "60087     268\n",
       "60097     151\n",
       "60096     125\n",
       "60071      98\n",
       "60064      42\n",
       "60072      34\n",
       "60088      28\n",
       "60078      25\n",
       "60065      21\n",
       "60075       5\n",
       "60094       4\n",
       "60082       3\n",
       "60079       2\n",
       "60192       2\n",
       "60095       1\n",
       "0           1\n",
       "Name: Frequency, dtype: int64"
      ]
     },
     "execution_count": 3,
     "metadata": {},
     "output_type": "execute_result"
    }
   ],
   "source": [
    "#First we create and display series zipfrequency displaying the list of unique ZIP values and their corressponding frequencies\n",
    "zipfrequency = xyzcust10['ZIP'].value_counts()\n",
    "zipfrequency.name = 'Frequency'  #label for values\n",
    "zipfrequency.index.name = 'ZIP'  #label for index\n",
    "zipfrequency"
   ]
  },
  {
   "cell_type": "code",
   "execution_count": 4,
   "metadata": {},
   "outputs": [
    {
     "data": {
      "text/plain": [
       "array([ True])"
      ]
     },
     "execution_count": 4,
     "metadata": {},
     "output_type": "execute_result"
    }
   ],
   "source": [
    "#Next we verify ZIP9_Supercode is the same as ZIP9_SUPERCODE. \n",
    "\n",
    "#To validate this, we find the unique values in the array created from comparing the two columns row-by-row\n",
    "#using the == Boolean operator.\n",
    "\n",
    "#An output array with the only the value of True indicates all values are duplicates, i.e. the columns are the same.\n",
    "\n",
    "(xyzcust10['ZIP9_Supercode']==xyzcust10['ZIP9_SUPERCODE']).unique()"
   ]
  },
  {
   "cell_type": "code",
   "execution_count": 5,
   "metadata": {},
   "outputs": [
    {
     "data": {
      "text/plain": [
       "60062        31\n",
       "600933737    19\n",
       "600692905    16\n",
       "600674772    14\n",
       "600611243    14\n",
       "600674727    13\n",
       "600931003    13\n",
       "600677825    13\n",
       "600611235    13\n",
       "600934213    13\n",
       "600845006    13\n",
       "600911608    12\n",
       "600845024    12\n",
       "600912405    12\n",
       "600693319    12\n",
       "600932440    11\n",
       "600932441    11\n",
       "60093        11\n",
       "600693812    11\n",
       "600911547    11\n",
       "600674984    11\n",
       "600911625    11\n",
       "600694012    11\n",
       "600934051    10\n",
       "600911006    10\n",
       "600933939    10\n",
       "600611234    10\n",
       "600933708    10\n",
       "600931552    10\n",
       "600934301    10\n",
       "             ..\n",
       "600734679     1\n",
       "600933017     1\n",
       "600771224     1\n",
       "600978357     1\n",
       "600625811     1\n",
       "600904443     1\n",
       "600683734     1\n",
       "600562434     1\n",
       "600623904     1\n",
       "600674619     1\n",
       "600701243     1\n",
       "600896311     1\n",
       "600747112     1\n",
       "600912687     1\n",
       "600609579     1\n",
       "600933161     1\n",
       "600931110     1\n",
       "600986403     1\n",
       "600685342     1\n",
       "600894212     1\n",
       "600933145     1\n",
       "600771352     1\n",
       "600894228     1\n",
       "600625939     1\n",
       "600857362     1\n",
       "600841260     1\n",
       "600842404     1\n",
       "600845068     1\n",
       "600933129     1\n",
       "600692803     1\n",
       "Name: ZIP9_Supercode, Length: 16918, dtype: int64"
      ]
     },
     "execution_count": 5,
     "metadata": {},
     "output_type": "execute_result"
    }
   ],
   "source": [
    "#Finally, using the same method as for the ZIP column, we create the Series zip9frequency listing the unique 9 digit zip codes\n",
    "#and their corresponding frequencies\n",
    "\n",
    "zip9frequency = xyzcust10['ZIP9_Supercode'].value_counts()\n",
    "zipfrequency.name = 'Frequency'  #label for values\n",
    "zipfrequency.index.name = 'ZIP9_Supercode'  #label for index\n",
    "zip9frequency"
   ]
  },
  {
   "cell_type": "markdown",
   "metadata": {},
   "source": [
    "# **Question 2**: \n",
    "How many records with missing ZIP values are there in xyzcust10?\n",
    "\n",
    "# Answer : \n",
    "There are:  \n",
    "**1 missing ZIP value  \n",
    "3638 missing ZIP4 values  \n",
    "0 missing ZIP9_Supercode values.**\n",
    "\n",
    "Therefore, we actually have the five-digit ZIP for all customers because one missing ZIP does have their ZIP9_Supercode populated."
   ]
  },
  {
   "cell_type": "code",
   "execution_count": 6,
   "metadata": {},
   "outputs": [
    {
     "data": {
      "text/plain": [
       "False"
      ]
     },
     "execution_count": 6,
     "metadata": {},
     "output_type": "execute_result"
    }
   ],
   "source": [
    "##Question 2 Code\n",
    "#First we check for any NaN values in the ZIP column to confirm the data description is correct instead of blindly trusting.\n",
    "xyzcust10['ZIP'].isnull().any()"
   ]
  },
  {
   "cell_type": "code",
   "execution_count": 7,
   "metadata": {},
   "outputs": [
    {
     "data": {
      "text/plain": [
       "1"
      ]
     },
     "execution_count": 7,
     "metadata": {},
     "output_type": "execute_result"
    }
   ],
   "source": [
    "#Since we know there are no NaN values, we can slice the Data Frame to select only the values with a 0 value in ZIP and use the\n",
    "#count function to output how many rows have '0' for their Zip Code\n",
    "(xyzcust10[xyzcust10['ZIP']==0]).ZIP.count()"
   ]
  },
  {
   "cell_type": "code",
   "execution_count": 8,
   "metadata": {},
   "outputs": [
    {
     "data": {
      "text/plain": [
       "False"
      ]
     },
     "execution_count": 8,
     "metadata": {},
     "output_type": "execute_result"
    }
   ],
   "source": [
    "#Repeat the above for ZIP4 \n",
    "xyzcust10['ZIP4'].isnull().any() #No Nulls"
   ]
  },
  {
   "cell_type": "code",
   "execution_count": 9,
   "metadata": {},
   "outputs": [
    {
     "data": {
      "text/plain": [
       "3638"
      ]
     },
     "execution_count": 9,
     "metadata": {},
     "output_type": "execute_result"
    }
   ],
   "source": [
    "(xyzcust10[xyzcust10['ZIP4']==0]).ZIP4.count() #Count of Zeroes"
   ]
  },
  {
   "cell_type": "code",
   "execution_count": 10,
   "metadata": {},
   "outputs": [
    {
     "data": {
      "text/plain": [
       "False"
      ]
     },
     "execution_count": 10,
     "metadata": {},
     "output_type": "execute_result"
    }
   ],
   "source": [
    "#Repeat agaain for ZIP9_Supercode\n",
    "xyzcust10['ZIP9_Supercode'].isnull().any() #No Nulls"
   ]
  },
  {
   "cell_type": "code",
   "execution_count": 11,
   "metadata": {},
   "outputs": [
    {
     "data": {
      "text/plain": [
       "0"
      ]
     },
     "execution_count": 11,
     "metadata": {},
     "output_type": "execute_result"
    }
   ],
   "source": [
    "(xyzcust10[xyzcust10['ZIP9_Supercode']==0]).ZIP9_Supercode.count() #Count of Zeroes"
   ]
  },
  {
   "cell_type": "markdown",
   "metadata": {},
   "source": [
    "# **Question 3 :** \n",
    "How many active and inactive buyers are in xyzcust10?\n",
    "\n",
    "# **Answer :**\n",
    "There are:  \n",
    "**13,465 active buyers**  \n",
    "**9078 inactive buyers**\n",
    "\n",
    "The data description is unclear whether \"lapsed\" customers should be considered inactive or active so I have not included them in my answer because they have made the effort to separate them out."
   ]
  },
  {
   "cell_type": "code",
   "execution_count": 12,
   "metadata": {},
   "outputs": [
    {
     "data": {
      "text/plain": [
       "ACTIVE      13465\n",
       "INACTIVE     9078\n",
       "LAPSED       7928\n",
       "Name: BUYER_STATUS, dtype: int64"
      ]
     },
     "execution_count": 12,
     "metadata": {},
     "output_type": "execute_result"
    }
   ],
   "source": [
    "##Question 3 Code\n",
    "\n",
    "#We create a frequency table and extract the data from the output Series\n",
    "xyzcust10['BUYER_STATUS'].value_counts()"
   ]
  }
 ],
 "metadata": {
  "kernelspec": {
   "display_name": "Python 3",
   "language": "python",
   "name": "python3"
  },
  "language_info": {
   "codemirror_mode": {
    "name": "ipython",
    "version": 3
   },
   "file_extension": ".py",
   "mimetype": "text/x-python",
   "name": "python",
   "nbconvert_exporter": "python",
   "pygments_lexer": "ipython3",
   "version": "3.7.0"
  }
 },
 "nbformat": 4,
 "nbformat_minor": 2
}
