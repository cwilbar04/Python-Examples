{
 "cells": [
  {
   "cell_type": "markdown",
   "metadata": {},
   "source": [
    "\\setlength{\\parindent}{0pt}  "
   ]
  },
  {
   "cell_type": "markdown",
   "metadata": {},
   "source": [
    "**Christopher Wilbar**  \n",
    "**MSDS_422-DL_SEC55**  \n",
    "**Assignment 2: Evaluating Classification Models**"
   ]
  },
  {
   "cell_type": "markdown",
   "metadata": {},
   "source": [
    "## 1. Summary and Problem Definition  "
   ]
  },
  {
   "cell_type": "markdown",
   "metadata": {},
   "source": [
    "**Problem Definition:** \n",
    "I seek to determine the best machine learning model between Logistic Regression and Navie Bayes Bernoulli to determine which customers a bank should target with marketing to invest in lond term deposits. I also uncover what characteristics the customers have for if they have defaulted, have housing, and/or have a loan."
   ]
  },
  {
   "cell_type": "markdown",
   "metadata": {},
   "source": [
    "    \n",
    "**Summary**:\n",
    "The bank wants its clients to invest in term deposits.  A term deposit is aninvestment such as a certificate of deposit.  The interest rate and durationof the deposit are set in advance. A term deposit is distinct from a demanddeposit.The bank is interested in identifying factors that affect client responses to new  term  deposit  offerings,  which  are  the  focus  of  the  marketing  campaigns. In this analysis we seek to answer  What  kinds  of  clients  are  most  likely  to  subscribe  to  new  termdeposits?   What marketing approaches are most effective in encouragingclients to subscribe?"
   ]
  },
  {
   "cell_type": "markdown",
   "metadata": {},
   "source": [
    "## 2. Results and Recommendations"
   ]
  },
  {
   "cell_type": "markdown",
   "metadata": {},
   "source": [
    "**Results and Recomendations**  \n",
    "The two models are almost identical, with Naive-Bayes working slightly better using the AUC score as a metric along with the Recall rate. The Naive-bayes will scale better, but is less intuitive than than the logistic model so both can be used. Both models perforrmed as well on the test and train data and do not suffer from over-fitting. Although much more analysis could be done, initial findings suggest targeting customers that do not already have a housing or a personal finance loan as they are more likely to repond yes."
   ]
  },
  {
   "cell_type": "markdown",
   "metadata": {},
   "source": [
    "## 3. Research Design and Methods Used"
   ]
  },
  {
   "cell_type": "markdown",
   "metadata": {},
   "source": [
    "**Research Design**\n",
    "\n",
    "A Portuguese bank conducted seventeen telephone marketing campaignsbetween May 2008 and November 2010.  The bank recorded client contactinformation for each telephone call. "
   ]
  },
  {
   "cell_type": "markdown",
   "metadata": {},
   "source": [
    "**Methods Used**  \n",
    "Pyhton v.3 Jupyter Notebook was created to perform the analysis.\n",
    "The following packages were used:\n",
    "pandas, numpy, matplotlip.pyplot, seaborn  \n",
    "  \n",
    "Basic pyhton descriptive statisitcs were generated. \n",
    "\n",
    "Sci-kit learn was the primary tool for analysis to perfrom Logistic Regression and Naive Bayes models and perform standard classification model comparison techniques."
   ]
  },
  {
   "cell_type": "markdown",
   "metadata": {},
   "source": [
    "## 4. Programming Work"
   ]
  },
  {
   "cell_type": "markdown",
   "metadata": {},
   "source": [
    "### 4.1 | **Initial Setup**"
   ]
  },
  {
   "cell_type": "code",
   "execution_count": 1,
   "metadata": {},
   "outputs": [],
   "source": [
    "# First we set our seed value for random number generators to obtain reproducible results\n",
    "RANDOM_SEED = 1\n",
    "\n",
    "# Import base packages into the namespace for this program\n",
    "import pandas as pd  # data frame operations  \n",
    "import numpy as np  # arrays and math functions\n",
    "import matplotlib.pyplot as plt  # static plotting\n",
    "import seaborn as sns  # pretty plotting, including heat map\n",
    "from sklearn.model_selection import train_test_split # Create train/test set\n",
    "from statsmodels.graphics.mosaicplot import mosaic\n",
    "from sklearn.linear_model import LogisticRegression #Logistic Regression\n",
    "from sklearn.model_selection import cross_val_predict # Predictions\n",
    "from sklearn.metrics import confusion_matrix\n",
    "from sklearn.metrics import precision_recall_curve # Precision/Recall Curve\n",
    "from sklearn.metrics import roc_curve\n",
    "from sklearn.metrics import roc_auc_score\n",
    "from sklearn.model_selection import cross_val_score\n",
    "from sklearn.metrics import precision_score, recall_score, f1_score\n",
    "from sklearn.naive_bayes import BernoulliNB"
   ]
  },
  {
   "cell_type": "code",
   "execution_count": 2,
   "metadata": {},
   "outputs": [],
   "source": [
    "#We next Define any functions that will be needed\n",
    "#ROC Curve Plot\n",
    "def plot_roc_curve(fpr, tpr, label=None):\n",
    "    plt.plot(fpr, tpr, linewidth=2, label=label)\n",
    "    plt.plot([0, 1], [0, 1], 'k--')\n",
    "    plt.axis([0, 1, 0, 1])\n",
    "    plt.xlabel('False Positive Rate', fontsize=16)\n",
    "    plt.ylabel('True Positive Rate', fontsize=16)\n",
    "    \n",
    "#Precision vs. Recall Plot\n",
    "\n",
    "def plot_precision_vs_recall(precisions, recalls):\n",
    "    plt.plot(recalls, precisions, \"b-\", linewidth=2)\n",
    "    plt.xlabel(\"Recall\", fontsize=16)\n",
    "    plt.ylabel(\"Precision\", fontsize=16)\n",
    "    plt.axis([0, 1, 0, 1])\n",
    "\n",
    "#Precision and Recall as function of Threshold Plot\n",
    "def plot_precision_recall_vs_threshold(precisions, recalls, thresholds):\n",
    "    plt.plot(thresholds, precisions[:-1], \"b--\", label=\"Precision\", linewidth=2)\n",
    "    plt.plot(thresholds, recalls[:-1], \"g-\", label=\"Recall\", linewidth=2)\n",
    "    plt.xlabel(\"Threshold\", fontsize=16)\n",
    "    plt.legend(loc=\"upper left\", fontsize=16)\n",
    "    plt.ylim([0, 1])\n"
   ]
  },
  {
   "cell_type": "code",
   "execution_count": 3,
   "metadata": {},
   "outputs": [
    {
     "name": "stdout",
     "output_type": "stream",
     "text": [
      "(4521, 17)\n"
     ]
    }
   ],
   "source": [
    "# initial work with the smaller data set\n",
    "bank = pd.read_csv('bank.csv', sep = ';')  # start with smaller data set\n",
    "# examine the shape of original input data\n",
    "print(bank.shape)"
   ]
  },
  {
   "cell_type": "code",
   "execution_count": 4,
   "metadata": {},
   "outputs": [
    {
     "name": "stdout",
     "output_type": "stream",
     "text": [
      "(4521, 17)\n"
     ]
    }
   ],
   "source": [
    "# drop observations with missing data, if any\n",
    "bank.dropna()\n",
    "# examine the shape of input data after dropping missing data\n",
    "print(bank.shape)"
   ]
  },
  {
   "cell_type": "markdown",
   "metadata": {},
   "source": [
    "### 4.2 | **Initial Data Exploration**"
   ]
  },
  {
   "cell_type": "code",
   "execution_count": 5,
   "metadata": {},
   "outputs": [
    {
     "data": {
      "text/plain": [
       "['age',\n",
       " 'job',\n",
       " 'marital',\n",
       " 'education',\n",
       " 'default',\n",
       " 'balance',\n",
       " 'housing',\n",
       " 'loan',\n",
       " 'contact',\n",
       " 'day',\n",
       " 'month',\n",
       " 'duration',\n",
       " 'campaign',\n",
       " 'pdays',\n",
       " 'previous',\n",
       " 'poutcome',\n",
       " 'response']"
      ]
     },
     "execution_count": 5,
     "metadata": {},
     "output_type": "execute_result"
    }
   ],
   "source": [
    "# look at the list of column names, note that y is the response\n",
    "list(bank.columns.values)"
   ]
  },
  {
   "cell_type": "code",
   "execution_count": 6,
   "metadata": {},
   "outputs": [
    {
     "data": {
      "text/html": [
       "<div>\n",
       "<style scoped>\n",
       "    .dataframe tbody tr th:only-of-type {\n",
       "        vertical-align: middle;\n",
       "    }\n",
       "\n",
       "    .dataframe tbody tr th {\n",
       "        vertical-align: top;\n",
       "    }\n",
       "\n",
       "    .dataframe thead th {\n",
       "        text-align: right;\n",
       "    }\n",
       "</style>\n",
       "<table border=\"1\" class=\"dataframe\">\n",
       "  <thead>\n",
       "    <tr style=\"text-align: right;\">\n",
       "      <th></th>\n",
       "      <th>age</th>\n",
       "      <th>job</th>\n",
       "      <th>marital</th>\n",
       "      <th>education</th>\n",
       "      <th>default</th>\n",
       "      <th>balance</th>\n",
       "      <th>housing</th>\n",
       "      <th>loan</th>\n",
       "      <th>contact</th>\n",
       "      <th>day</th>\n",
       "      <th>month</th>\n",
       "      <th>duration</th>\n",
       "      <th>campaign</th>\n",
       "      <th>pdays</th>\n",
       "      <th>previous</th>\n",
       "      <th>poutcome</th>\n",
       "      <th>response</th>\n",
       "    </tr>\n",
       "  </thead>\n",
       "  <tbody>\n",
       "    <tr>\n",
       "      <th>0</th>\n",
       "      <td>30</td>\n",
       "      <td>unemployed</td>\n",
       "      <td>married</td>\n",
       "      <td>primary</td>\n",
       "      <td>no</td>\n",
       "      <td>1787</td>\n",
       "      <td>no</td>\n",
       "      <td>no</td>\n",
       "      <td>cellular</td>\n",
       "      <td>19</td>\n",
       "      <td>oct</td>\n",
       "      <td>79</td>\n",
       "      <td>1</td>\n",
       "      <td>-1</td>\n",
       "      <td>0</td>\n",
       "      <td>unknown</td>\n",
       "      <td>no</td>\n",
       "    </tr>\n",
       "    <tr>\n",
       "      <th>1</th>\n",
       "      <td>33</td>\n",
       "      <td>services</td>\n",
       "      <td>married</td>\n",
       "      <td>secondary</td>\n",
       "      <td>no</td>\n",
       "      <td>4789</td>\n",
       "      <td>yes</td>\n",
       "      <td>yes</td>\n",
       "      <td>cellular</td>\n",
       "      <td>11</td>\n",
       "      <td>may</td>\n",
       "      <td>220</td>\n",
       "      <td>1</td>\n",
       "      <td>339</td>\n",
       "      <td>4</td>\n",
       "      <td>failure</td>\n",
       "      <td>no</td>\n",
       "    </tr>\n",
       "    <tr>\n",
       "      <th>2</th>\n",
       "      <td>35</td>\n",
       "      <td>management</td>\n",
       "      <td>single</td>\n",
       "      <td>tertiary</td>\n",
       "      <td>no</td>\n",
       "      <td>1350</td>\n",
       "      <td>yes</td>\n",
       "      <td>no</td>\n",
       "      <td>cellular</td>\n",
       "      <td>16</td>\n",
       "      <td>apr</td>\n",
       "      <td>185</td>\n",
       "      <td>1</td>\n",
       "      <td>330</td>\n",
       "      <td>1</td>\n",
       "      <td>failure</td>\n",
       "      <td>no</td>\n",
       "    </tr>\n",
       "    <tr>\n",
       "      <th>3</th>\n",
       "      <td>30</td>\n",
       "      <td>management</td>\n",
       "      <td>married</td>\n",
       "      <td>tertiary</td>\n",
       "      <td>no</td>\n",
       "      <td>1476</td>\n",
       "      <td>yes</td>\n",
       "      <td>yes</td>\n",
       "      <td>unknown</td>\n",
       "      <td>3</td>\n",
       "      <td>jun</td>\n",
       "      <td>199</td>\n",
       "      <td>4</td>\n",
       "      <td>-1</td>\n",
       "      <td>0</td>\n",
       "      <td>unknown</td>\n",
       "      <td>no</td>\n",
       "    </tr>\n",
       "    <tr>\n",
       "      <th>4</th>\n",
       "      <td>59</td>\n",
       "      <td>blue-collar</td>\n",
       "      <td>married</td>\n",
       "      <td>secondary</td>\n",
       "      <td>no</td>\n",
       "      <td>0</td>\n",
       "      <td>yes</td>\n",
       "      <td>no</td>\n",
       "      <td>unknown</td>\n",
       "      <td>5</td>\n",
       "      <td>may</td>\n",
       "      <td>226</td>\n",
       "      <td>1</td>\n",
       "      <td>-1</td>\n",
       "      <td>0</td>\n",
       "      <td>unknown</td>\n",
       "      <td>no</td>\n",
       "    </tr>\n",
       "  </tbody>\n",
       "</table>\n",
       "</div>"
      ],
      "text/plain": [
       "   age          job  marital  education default  balance housing loan  \\\n",
       "0   30   unemployed  married    primary      no     1787      no   no   \n",
       "1   33     services  married  secondary      no     4789     yes  yes   \n",
       "2   35   management   single   tertiary      no     1350     yes   no   \n",
       "3   30   management  married   tertiary      no     1476     yes  yes   \n",
       "4   59  blue-collar  married  secondary      no        0     yes   no   \n",
       "\n",
       "    contact  day month  duration  campaign  pdays  previous poutcome response  \n",
       "0  cellular   19   oct        79         1     -1         0  unknown       no  \n",
       "1  cellular   11   may       220         1    339         4  failure       no  \n",
       "2  cellular   16   apr       185         1    330         1  failure       no  \n",
       "3   unknown    3   jun       199         4     -1         0  unknown       no  \n",
       "4   unknown    5   may       226         1     -1         0  unknown       no  "
      ]
     },
     "execution_count": 6,
     "metadata": {},
     "output_type": "execute_result"
    }
   ],
   "source": [
    "# look at the beginning of the DataFrame\n",
    "bank.head()"
   ]
  },
  {
   "cell_type": "code",
   "execution_count": 7,
   "metadata": {},
   "outputs": [
    {
     "data": {
      "text/html": [
       "<div>\n",
       "<style scoped>\n",
       "    .dataframe tbody tr th:only-of-type {\n",
       "        vertical-align: middle;\n",
       "    }\n",
       "\n",
       "    .dataframe tbody tr th {\n",
       "        vertical-align: top;\n",
       "    }\n",
       "\n",
       "    .dataframe thead th {\n",
       "        text-align: right;\n",
       "    }\n",
       "</style>\n",
       "<table border=\"1\" class=\"dataframe\">\n",
       "  <thead>\n",
       "    <tr style=\"text-align: right;\">\n",
       "      <th></th>\n",
       "      <th>age</th>\n",
       "      <th>balance</th>\n",
       "      <th>day</th>\n",
       "      <th>duration</th>\n",
       "      <th>campaign</th>\n",
       "      <th>pdays</th>\n",
       "      <th>previous</th>\n",
       "    </tr>\n",
       "  </thead>\n",
       "  <tbody>\n",
       "    <tr>\n",
       "      <th>count</th>\n",
       "      <td>4521.000000</td>\n",
       "      <td>4521.000000</td>\n",
       "      <td>4521.000000</td>\n",
       "      <td>4521.000000</td>\n",
       "      <td>4521.000000</td>\n",
       "      <td>4521.000000</td>\n",
       "      <td>4521.000000</td>\n",
       "    </tr>\n",
       "    <tr>\n",
       "      <th>mean</th>\n",
       "      <td>41.170095</td>\n",
       "      <td>1422.657819</td>\n",
       "      <td>15.915284</td>\n",
       "      <td>263.961292</td>\n",
       "      <td>2.793630</td>\n",
       "      <td>39.766645</td>\n",
       "      <td>0.542579</td>\n",
       "    </tr>\n",
       "    <tr>\n",
       "      <th>std</th>\n",
       "      <td>10.576211</td>\n",
       "      <td>3009.638142</td>\n",
       "      <td>8.247667</td>\n",
       "      <td>259.856633</td>\n",
       "      <td>3.109807</td>\n",
       "      <td>100.121124</td>\n",
       "      <td>1.693562</td>\n",
       "    </tr>\n",
       "    <tr>\n",
       "      <th>min</th>\n",
       "      <td>19.000000</td>\n",
       "      <td>-3313.000000</td>\n",
       "      <td>1.000000</td>\n",
       "      <td>4.000000</td>\n",
       "      <td>1.000000</td>\n",
       "      <td>-1.000000</td>\n",
       "      <td>0.000000</td>\n",
       "    </tr>\n",
       "    <tr>\n",
       "      <th>25%</th>\n",
       "      <td>33.000000</td>\n",
       "      <td>69.000000</td>\n",
       "      <td>9.000000</td>\n",
       "      <td>104.000000</td>\n",
       "      <td>1.000000</td>\n",
       "      <td>-1.000000</td>\n",
       "      <td>0.000000</td>\n",
       "    </tr>\n",
       "    <tr>\n",
       "      <th>50%</th>\n",
       "      <td>39.000000</td>\n",
       "      <td>444.000000</td>\n",
       "      <td>16.000000</td>\n",
       "      <td>185.000000</td>\n",
       "      <td>2.000000</td>\n",
       "      <td>-1.000000</td>\n",
       "      <td>0.000000</td>\n",
       "    </tr>\n",
       "    <tr>\n",
       "      <th>75%</th>\n",
       "      <td>49.000000</td>\n",
       "      <td>1480.000000</td>\n",
       "      <td>21.000000</td>\n",
       "      <td>329.000000</td>\n",
       "      <td>3.000000</td>\n",
       "      <td>-1.000000</td>\n",
       "      <td>0.000000</td>\n",
       "    </tr>\n",
       "    <tr>\n",
       "      <th>max</th>\n",
       "      <td>87.000000</td>\n",
       "      <td>71188.000000</td>\n",
       "      <td>31.000000</td>\n",
       "      <td>3025.000000</td>\n",
       "      <td>50.000000</td>\n",
       "      <td>871.000000</td>\n",
       "      <td>25.000000</td>\n",
       "    </tr>\n",
       "  </tbody>\n",
       "</table>\n",
       "</div>"
      ],
      "text/plain": [
       "               age       balance          day     duration     campaign  \\\n",
       "count  4521.000000   4521.000000  4521.000000  4521.000000  4521.000000   \n",
       "mean     41.170095   1422.657819    15.915284   263.961292     2.793630   \n",
       "std      10.576211   3009.638142     8.247667   259.856633     3.109807   \n",
       "min      19.000000  -3313.000000     1.000000     4.000000     1.000000   \n",
       "25%      33.000000     69.000000     9.000000   104.000000     1.000000   \n",
       "50%      39.000000    444.000000    16.000000   185.000000     2.000000   \n",
       "75%      49.000000   1480.000000    21.000000   329.000000     3.000000   \n",
       "max      87.000000  71188.000000    31.000000  3025.000000    50.000000   \n",
       "\n",
       "             pdays     previous  \n",
       "count  4521.000000  4521.000000  \n",
       "mean     39.766645     0.542579  \n",
       "std     100.121124     1.693562  \n",
       "min      -1.000000     0.000000  \n",
       "25%      -1.000000     0.000000  \n",
       "50%      -1.000000     0.000000  \n",
       "75%      -1.000000     0.000000  \n",
       "max     871.000000    25.000000  "
      ]
     },
     "execution_count": 7,
     "metadata": {},
     "output_type": "execute_result"
    }
   ],
   "source": [
    "#Simple descriptive statistics for numerical variables\n",
    "bank.describe()"
   ]
  },
  {
   "cell_type": "code",
   "execution_count": 8,
   "metadata": {},
   "outputs": [
    {
     "name": "stdout",
     "output_type": "stream",
     "text": [
      "\n",
      "Frequency table for response -----\n",
      " no     4000\n",
      "yes     521\n",
      "Name: response, dtype: int64\n",
      "\n",
      "Frequency table for job -----\n",
      " management       969\n",
      "blue-collar      946\n",
      "technician       768\n",
      "admin.           478\n",
      "services         417\n",
      "retired          230\n",
      "self-employed    183\n",
      "entrepreneur     168\n",
      "unemployed       128\n",
      "housemaid        112\n",
      "student           84\n",
      "unknown           38\n",
      "Name: job, dtype: int64\n"
     ]
    },
    {
     "data": {
      "image/png": "[encoded data removed]",
      "text/plain": [
       "<Figure size 432x288 with 3 Axes>"
      ]
     },
     "metadata": {
      "needs_background": "light"
     },
     "output_type": "display_data"
    },
    {
     "name": "stdout",
     "output_type": "stream",
     "text": [
      "\n",
      "Frequency table for marital status -----\n",
      " married     2797\n",
      "single      1196\n",
      "divorced     528\n",
      "Name: marital, dtype: int64\n"
     ]
    },
    {
     "data": {
      "image/png": "[encoded data removed]",
      "text/plain": [
       "<Figure size 432x288 with 3 Axes>"
      ]
     },
     "metadata": {
      "needs_background": "light"
     },
     "output_type": "display_data"
    },
    {
     "name": "stdout",
     "output_type": "stream",
     "text": [
      "\n",
      "Frequency table for education -----\n",
      " secondary    2306\n",
      "tertiary     1350\n",
      "primary       678\n",
      "unknown       187\n",
      "Name: education, dtype: int64\n"
     ]
    },
    {
     "data": {
      "image/png": "[encoded data removed]",
      "text/plain": [
       "<Figure size 432x288 with 3 Axes>"
      ]
     },
     "metadata": {
      "needs_background": "light"
     },
     "output_type": "display_data"
    },
    {
     "name": "stdout",
     "output_type": "stream",
     "text": [
      "\n",
      "Frequency table for default -----\n",
      " no     4445\n",
      "yes      76\n",
      "Name: default, dtype: int64\n"
     ]
    },
    {
     "data": {
      "image/png": "[encoded data removed]",
      "text/plain": [
       "<Figure size 432x288 with 3 Axes>"
      ]
     },
     "metadata": {
      "needs_background": "light"
     },
     "output_type": "display_data"
    },
    {
     "name": "stdout",
     "output_type": "stream",
     "text": [
      "\n",
      "Frequency table for housing -----\n",
      " yes    2559\n",
      "no     1962\n",
      "Name: housing, dtype: int64\n"
     ]
    },
    {
     "data": {
      "image/png": "[encoded data removed]",
      "text/plain": [
       "<Figure size 432x288 with 3 Axes>"
      ]
     },
     "metadata": {
      "needs_background": "light"
     },
     "output_type": "display_data"
    },
    {
     "name": "stdout",
     "output_type": "stream",
     "text": [
      "\n",
      "Frequency table for loan -----\n",
      " no     3830\n",
      "yes     691\n",
      "Name: loan, dtype: int64\n"
     ]
    },
    {
     "data": {
      "image/png": "[encoded data removed]",
      "text/plain": [
       "<Figure size 432x288 with 3 Axes>"
      ]
     },
     "metadata": {
      "needs_background": "light"
     },
     "output_type": "display_data"
    },
    {
     "name": "stdout",
     "output_type": "stream",
     "text": [
      "\n",
      "Frequency table for campaign -----\n",
      " 1     1734\n",
      "2     1264\n",
      "3      558\n",
      "4      325\n",
      "5      167\n",
      "6      155\n",
      "7       75\n",
      "8       56\n",
      "9       30\n",
      "10      27\n",
      "11      22\n",
      "12      21\n",
      "13      17\n",
      "14      10\n",
      "15       9\n",
      "16       8\n",
      "17       7\n",
      "18       7\n",
      "25       4\n",
      "28       3\n",
      "24       3\n",
      "20       3\n",
      "19       3\n",
      "21       2\n",
      "23       2\n",
      "22       2\n",
      "32       2\n",
      "29       1\n",
      "44       1\n",
      "30       1\n",
      "50       1\n",
      "31       1\n",
      "Name: campaign, dtype: int64\n"
     ]
    },
    {
     "data": {
      "image/png": "[encoded data removed]",
      "text/plain": [
       "<Figure size 432x288 with 3 Axes>"
      ]
     },
     "metadata": {
      "needs_background": "light"
     },
     "output_type": "display_data"
    },
    {
     "name": "stdout",
     "output_type": "stream",
     "text": [
      "\n",
      "Frequency table for contact -----\n",
      " cellular     2896\n",
      "unknown      1324\n",
      "telephone     301\n",
      "Name: contact, dtype: int64\n"
     ]
    },
    {
     "data": {
      "image/png": "[encoded data removed]",
      "text/plain": [
       "<Figure size 432x288 with 3 Axes>"
      ]
     },
     "metadata": {
      "needs_background": "light"
     },
     "output_type": "display_data"
    }
   ],
   "source": [
    "#Display frequency tables and mosaics for non-numeric variables\n",
    "print('\\nFrequency table for response -----\\n', bank.response.value_counts())\n",
    "\n",
    "print('\\nFrequency table for job -----\\n', bank.job.value_counts())\n",
    "mosaic(bank,['job','response'])\n",
    "plt.show()\n",
    "\n",
    "print('\\nFrequency table for marital status -----\\n', bank.marital.value_counts())\n",
    "mosaic(bank,['marital','response'])\n",
    "plt.show()\n",
    "\n",
    "print('\\nFrequency table for education -----\\n', bank.education.value_counts())\n",
    "mosaic(bank,['education','response'])\n",
    "plt.show()\n",
    "\n",
    "print('\\nFrequency table for default -----\\n', bank.default.value_counts())\n",
    "mosaic(bank,['default','response'])\n",
    "plt.show()\n",
    "\n",
    "print('\\nFrequency table for housing -----\\n', bank.housing.value_counts())\n",
    "mosaic(bank,['housing','response'])\n",
    "plt.show()\n",
    "\n",
    "print('\\nFrequency table for loan -----\\n', bank.loan.value_counts())\n",
    "mosaic(bank,['housing','response'])\n",
    "plt.show()\n",
    "\n",
    "print('\\nFrequency table for campaign -----\\n', bank.campaign.value_counts())\n",
    "mosaic(bank,['campaign','response'])\n",
    "plt.show()\n",
    "\n",
    "print('\\nFrequency table for contact -----\\n', bank.contact.value_counts())\n",
    "mosaic(bank,['contact','response'])\n",
    "plt.show()\n",
    "\n"
   ]
  },
  {
   "cell_type": "code",
   "execution_count": 9,
   "metadata": {},
   "outputs": [],
   "source": [
    "# We need to map the categorical variables to numerical values to use the Machine Learning Models\n",
    "\n",
    "#We need to separate job in to separate groups and assign numerical value\n",
    "#0 = \n",
    "\n",
    "# Replace all 'no' with 0 and 'yes' with '1'\n",
    "bank.replace('no',0,inplace=True)\n",
    "bank.replace('yes',1,inplace=True)\n",
    "\n",
    "#mapping function to convert marital status in to not married (single/divorced)/married to integer 0/1\n",
    "convert_to_binary2 = {'single' : 0, 'divorced' : 0, 'married' : 1}\n",
    "bank['marital'] = bank['marital'].map(convert_to_binary2)"
   ]
  },
  {
   "cell_type": "code",
   "execution_count": 10,
   "metadata": {},
   "outputs": [
    {
     "name": "stdout",
     "output_type": "stream",
     "text": [
      "Train set shape:  (3616, 17)\n",
      "Test set shape:  (905, 17)\n"
     ]
    }
   ],
   "source": [
    "#We want to set aside a random 20% of the data to avoid snooping bias and allow for model validation/testing.\n",
    "\n",
    "bank_train, bank_test = train_test_split(bank, test_size=0.2)\n",
    "\n",
    "print('Train set shape: ',bank_train.shape)\n",
    "print('Test set shape: ',bank_test.shape)"
   ]
  },
  {
   "cell_type": "code",
   "execution_count": 11,
   "metadata": {},
   "outputs": [
    {
     "data": {
      "text/html": [
       "<div>\n",
       "<style scoped>\n",
       "    .dataframe tbody tr th:only-of-type {\n",
       "        vertical-align: middle;\n",
       "    }\n",
       "\n",
       "    .dataframe tbody tr th {\n",
       "        vertical-align: top;\n",
       "    }\n",
       "\n",
       "    .dataframe thead th {\n",
       "        text-align: right;\n",
       "    }\n",
       "</style>\n",
       "<table border=\"1\" class=\"dataframe\">\n",
       "  <thead>\n",
       "    <tr style=\"text-align: right;\">\n",
       "      <th></th>\n",
       "      <th>age</th>\n",
       "      <th>job</th>\n",
       "      <th>marital</th>\n",
       "      <th>education</th>\n",
       "      <th>default</th>\n",
       "      <th>balance</th>\n",
       "      <th>housing</th>\n",
       "      <th>loan</th>\n",
       "      <th>contact</th>\n",
       "      <th>day</th>\n",
       "      <th>month</th>\n",
       "      <th>duration</th>\n",
       "      <th>campaign</th>\n",
       "      <th>pdays</th>\n",
       "      <th>previous</th>\n",
       "      <th>poutcome</th>\n",
       "      <th>response</th>\n",
       "    </tr>\n",
       "  </thead>\n",
       "  <tbody>\n",
       "    <tr>\n",
       "      <th>1209</th>\n",
       "      <td>58</td>\n",
       "      <td>retired</td>\n",
       "      <td>0</td>\n",
       "      <td>secondary</td>\n",
       "      <td>0</td>\n",
       "      <td>1640</td>\n",
       "      <td>0</td>\n",
       "      <td>1</td>\n",
       "      <td>cellular</td>\n",
       "      <td>4</td>\n",
       "      <td>feb</td>\n",
       "      <td>72</td>\n",
       "      <td>6</td>\n",
       "      <td>274</td>\n",
       "      <td>4</td>\n",
       "      <td>failure</td>\n",
       "      <td>0</td>\n",
       "    </tr>\n",
       "    <tr>\n",
       "      <th>3993</th>\n",
       "      <td>44</td>\n",
       "      <td>management</td>\n",
       "      <td>1</td>\n",
       "      <td>tertiary</td>\n",
       "      <td>0</td>\n",
       "      <td>17361</td>\n",
       "      <td>0</td>\n",
       "      <td>0</td>\n",
       "      <td>unknown</td>\n",
       "      <td>18</td>\n",
       "      <td>jun</td>\n",
       "      <td>476</td>\n",
       "      <td>1</td>\n",
       "      <td>-1</td>\n",
       "      <td>0</td>\n",
       "      <td>unknown</td>\n",
       "      <td>0</td>\n",
       "    </tr>\n",
       "    <tr>\n",
       "      <th>4389</th>\n",
       "      <td>34</td>\n",
       "      <td>management</td>\n",
       "      <td>1</td>\n",
       "      <td>tertiary</td>\n",
       "      <td>0</td>\n",
       "      <td>436</td>\n",
       "      <td>0</td>\n",
       "      <td>1</td>\n",
       "      <td>cellular</td>\n",
       "      <td>28</td>\n",
       "      <td>jul</td>\n",
       "      <td>118</td>\n",
       "      <td>4</td>\n",
       "      <td>-1</td>\n",
       "      <td>0</td>\n",
       "      <td>unknown</td>\n",
       "      <td>0</td>\n",
       "    </tr>\n",
       "    <tr>\n",
       "      <th>2540</th>\n",
       "      <td>31</td>\n",
       "      <td>management</td>\n",
       "      <td>1</td>\n",
       "      <td>tertiary</td>\n",
       "      <td>0</td>\n",
       "      <td>4148</td>\n",
       "      <td>1</td>\n",
       "      <td>0</td>\n",
       "      <td>cellular</td>\n",
       "      <td>21</td>\n",
       "      <td>nov</td>\n",
       "      <td>316</td>\n",
       "      <td>3</td>\n",
       "      <td>99</td>\n",
       "      <td>9</td>\n",
       "      <td>other</td>\n",
       "      <td>1</td>\n",
       "    </tr>\n",
       "    <tr>\n",
       "      <th>4514</th>\n",
       "      <td>38</td>\n",
       "      <td>blue-collar</td>\n",
       "      <td>1</td>\n",
       "      <td>secondary</td>\n",
       "      <td>0</td>\n",
       "      <td>1205</td>\n",
       "      <td>1</td>\n",
       "      <td>0</td>\n",
       "      <td>cellular</td>\n",
       "      <td>20</td>\n",
       "      <td>apr</td>\n",
       "      <td>45</td>\n",
       "      <td>4</td>\n",
       "      <td>153</td>\n",
       "      <td>1</td>\n",
       "      <td>failure</td>\n",
       "      <td>0</td>\n",
       "    </tr>\n",
       "  </tbody>\n",
       "</table>\n",
       "</div>"
      ],
      "text/plain": [
       "      age          job  marital  education  default  balance  housing  loan  \\\n",
       "1209   58      retired        0  secondary        0     1640        0     1   \n",
       "3993   44   management        1   tertiary        0    17361        0     0   \n",
       "4389   34   management        1   tertiary        0      436        0     1   \n",
       "2540   31   management        1   tertiary        0     4148        1     0   \n",
       "4514   38  blue-collar        1  secondary        0     1205        1     0   \n",
       "\n",
       "       contact  day month  duration  campaign  pdays  previous poutcome  \\\n",
       "1209  cellular    4   feb        72         6    274         4  failure   \n",
       "3993   unknown   18   jun       476         1     -1         0  unknown   \n",
       "4389  cellular   28   jul       118         4     -1         0  unknown   \n",
       "2540  cellular   21   nov       316         3     99         9    other   \n",
       "4514  cellular   20   apr        45         4    153         1  failure   \n",
       "\n",
       "      response  \n",
       "1209         0  \n",
       "3993         0  \n",
       "4389         0  \n",
       "2540         1  \n",
       "4514         0  "
      ]
     },
     "execution_count": 11,
     "metadata": {},
     "output_type": "execute_result"
    }
   ],
   "source": [
    "bank_train.head()"
   ]
  },
  {
   "cell_type": "code",
   "execution_count": 12,
   "metadata": {},
   "outputs": [
    {
     "name": "stdout",
     "output_type": "stream",
     "text": [
      "(3616, 4)\n"
     ]
    }
   ],
   "source": [
    "# gather three explanatory variables and response into a numpy array \n",
    "# here we use .T to obtain the transpose for the structure we want\n",
    "model_data = np.array([np.array(bank_train['default']), np.array(bank_train['housing']), np.array(bank_train['loan']), \n",
    "    np.array(bank_train['response'])]).T\n",
    "\n",
    "# examine the shape of model_data, which we will use in subsequent modeling\n",
    "print(model_data.shape)\n"
   ]
  },
  {
   "cell_type": "code",
   "execution_count": 13,
   "metadata": {},
   "outputs": [
    {
     "name": "stdout",
     "output_type": "stream",
     "text": [
      "\n",
      "Default value counts ---\n",
      "[[   0 3551]\n",
      " [   1   65]]\n",
      "\n",
      "Housing value counts ---\n",
      "[[   0 1571]\n",
      " [   1 2045]]\n",
      "\n",
      "Loan value counts ---\n",
      "[[   0 3052]\n",
      " [   1  564]]\n",
      "\n",
      "Response value counts ---\n",
      "[[   0 3198]\n",
      " [   1  418]]\n"
     ]
    },
    {
     "data": {
      "image/png": "[encoded data removed]",
      "text/plain": [
       "<Figure size 432x288 with 1 Axes>"
      ]
     },
     "metadata": {
      "needs_background": "light"
     },
     "output_type": "display_data"
    }
   ],
   "source": [
    "#Display value counts and plot histograms of the three explanotry variables and response variable\n",
    "\n",
    "#Default\n",
    "uniquedefault, countsdefault = np.unique(model_data[:,0], return_counts=True)\n",
    "print('\\nDefault value counts ---')\n",
    "print (np.asarray((uniquedefault, countsdefault)).T)\n",
    "#histdefault = \n",
    "\n",
    "#Housing\n",
    "uniquehousing, countshousing = np.unique(model_data[:,1], return_counts=True)\n",
    "print('\\nHousing value counts ---')\n",
    "print (np.asarray((uniquehousing, countshousing)).T)\n",
    "\n",
    "#Loan\n",
    "uniqueloan, countsloan = np.unique(model_data[:,2], return_counts=True)\n",
    "print('\\nLoan value counts ---')\n",
    "print (np.asarray((uniqueloan, countsloan)).T)\n",
    "\n",
    "#Response\n",
    "uniqueresponse, countsresponse = np.unique(model_data[:,3], return_counts=True)\n",
    "print('\\nResponse value counts ---')\n",
    "print (np.asarray((uniqueresponse, countsresponse)).T)\n",
    "\n",
    "# data to plot\n",
    "n_groups = 4\n",
    "counts_no = (countsdefault[0], countshousing[0], countsloan[0], countsresponse[0])\n",
    "counts_yes = (countsdefault[1], countshousing[1], countsloan[1], countsresponse[1])\n",
    " \n",
    "# create plot\n",
    "fig, ax = plt.subplots()\n",
    "index = np.arange(n_groups)\n",
    "bar_width = 0.35\n",
    "opacity = 0.8\n",
    " \n",
    "rects1 = plt.bar(index, counts_no, bar_width,\n",
    "alpha=opacity,\n",
    "color='b',\n",
    "label='No')\n",
    " \n",
    "rects2 = plt.bar(index + bar_width, counts_yes, bar_width,\n",
    "alpha=opacity,\n",
    "color='g',\n",
    "label='Yes')\n",
    " \n",
    "plt.xlabel('Variable')\n",
    "plt.ylabel('Count')\n",
    "plt.title('Yes/No Counts per Variable')\n",
    "plt.xticks(index + bar_width, ('Default', 'Housing', 'Loan', 'Response'))\n",
    "plt.legend()\n",
    " \n",
    "plt.tight_layout()\n",
    "plt.show()\n"
   ]
  },
  {
   "cell_type": "code",
   "execution_count": 14,
   "metadata": {},
   "outputs": [
    {
     "name": "stdout",
     "output_type": "stream",
     "text": [
      "0    410\n",
      "1      8\n",
      "Name: default, dtype: int64 \n",
      "\n",
      "0    242\n",
      "1    176\n",
      "Name: housing, dtype: int64 \n",
      "\n",
      "0    387\n",
      "1     31\n",
      "Name: loan, dtype: int64 \n",
      "\n"
     ]
    },
    {
     "data": {
      "image/png": "[encoded data removed]",
      "text/plain": [
       "<Figure size 432x288 with 1 Axes>"
      ]
     },
     "metadata": {
      "needs_background": "light"
     },
     "output_type": "display_data"
    }
   ],
   "source": [
    "#View Distribution of explanatory variables where the Response is yes\n",
    "\n",
    "bank_train_yes = bank_train[bank_train['response']==1]\n",
    "\n",
    "#Print counts\n",
    "print(bank_train_yes['default'].value_counts(),'\\n')\n",
    "print(bank_train_yes['housing'].value_counts(), '\\n')\n",
    "print(bank_train_yes['loan'].value_counts(), '\\n')\n",
    "\n",
    "# Data to plot\n",
    "n_groups = 3\n",
    "counts_no = (bank_train_yes['default'].value_counts()[0], bank_train_yes['housing'].value_counts()[0], bank_train_yes['loan'].value_counts()[0])\n",
    "counts_yes = (bank_train_yes['default'].value_counts()[1], bank_train_yes['housing'].value_counts()[1], bank_train_yes['loan'].value_counts()[1])\n",
    " \n",
    "# Create plot\n",
    "fig, ax = plt.subplots()\n",
    "index = np.arange(n_groups)\n",
    "bar_width = 0.35\n",
    "opacity = 0.8\n",
    " \n",
    "rects1 = plt.bar(index, counts_no, bar_width,\n",
    "alpha=opacity,\n",
    "color='b',\n",
    "label='No')\n",
    " \n",
    "rects2 = plt.bar(index + bar_width, counts_yes, bar_width,\n",
    "alpha=opacity,\n",
    "color='g',\n",
    "label='Yes')\n",
    " \n",
    "plt.xlabel('Variable')\n",
    "plt.ylabel('Count')\n",
    "plt.title('Yes/No Counts per Variable for Response = Yes')\n",
    "plt.xticks(index + bar_width, ('Default', 'Housing', 'Loan'))\n",
    "plt.legend()\n",
    " \n",
    "plt.tight_layout()\n",
    "plt.show()"
   ]
  },
  {
   "cell_type": "markdown",
   "metadata": {},
   "source": [
    "Of interest, Default and Loan distribution is similar to general population, but the housing distribution actually flips to more \"No\" than \"Yes\"."
   ]
  },
  {
   "cell_type": "code",
   "execution_count": 15,
   "metadata": {},
   "outputs": [
    {
     "name": "stdout",
     "output_type": "stream",
     "text": [
      "Test entry we will use where response is one index:  94\n",
      "\n",
      "Test entry values:  [1 1 0 1]\n"
     ]
    }
   ],
   "source": [
    "#To get an idea of how our models are doing, we see the actual value for a row with a response of yes\n",
    "\n",
    "model_data_response_yes_index = np.where(model_data[:,3]==1)[0]\n",
    "row_check = model_data_response_yes_index[4]\n",
    "data_check = model_data[row_check,0:3]\n",
    "print('Test entry we will use where response is one index: ', row_check)\n",
    "print('\\nTest entry values: ', model_data[row_check,:])"
   ]
  },
  {
   "cell_type": "markdown",
   "metadata": {},
   "source": [
    "### 4.3 | **Model Selection**"
   ]
  },
  {
   "cell_type": "markdown",
   "metadata": {},
   "source": [
    "#### 4.3a | Logistic Regression"
   ]
  },
  {
   "cell_type": "code",
   "execution_count": 16,
   "metadata": {},
   "outputs": [
    {
     "data": {
      "text/plain": [
       "LogisticRegression(C=1.0, class_weight=None, dual=False, fit_intercept=True,\n",
       "          intercept_scaling=1, max_iter=100, multi_class='ovr', n_jobs=1,\n",
       "          penalty='l2', random_state=None, solver='liblinear', tol=0.0001,\n",
       "          verbose=0, warm_start=False)"
      ]
     },
     "execution_count": 16,
     "metadata": {},
     "output_type": "execute_result"
    }
   ],
   "source": [
    "# We first explore a logistic regression model\n",
    "log_reg = LogisticRegression()\n",
    "\n",
    "#Define our three explanatory variables we are exploring as X, and our response variable as Y\n",
    "X_train = model_data[:,0:3]\n",
    "y_train = model_data[:,3]\n",
    "\n",
    "#Define our logistic regression varaibles\n",
    "log_reg.fit(X_train, y_train)"
   ]
  },
  {
   "cell_type": "code",
   "execution_count": 17,
   "metadata": {},
   "outputs": [
    {
     "name": "stdout",
     "output_type": "stream",
     "text": [
      "Input Data: =  [1 1 0]\n",
      "Actual Data: response =  1\n",
      "Logistic Regrssion Model Predicition: response =  [0]\n"
     ]
    }
   ],
   "source": [
    "#Check on single test point\n",
    "print('Input Data: = ',model_data[row_check,0:3])\n",
    "print('Actual Data: response = ',model_data[row_check,3])\n",
    "print('Logistic Regrssion Model Predicition: response = ', log_reg.predict([data_check]))\n",
    "\n",
    "#Model fails to correctly classify this data. Further analysis needed to check overall accuracy"
   ]
  },
  {
   "cell_type": "code",
   "execution_count": 18,
   "metadata": {},
   "outputs": [
    {
     "data": {
      "text/plain": [
       "array([0.88391376, 0.8846473 , 0.8846473 ])"
      ]
     },
     "execution_count": 18,
     "metadata": {},
     "output_type": "execute_result"
    }
   ],
   "source": [
    "#Check model accuracy\n",
    "cross_val_score(log_reg, X_train, y_train, cv=3, scoring=\"accuracy\")"
   ]
  },
  {
   "cell_type": "code",
   "execution_count": 19,
   "metadata": {},
   "outputs": [
    {
     "data": {
      "text/plain": [
       "array([[3198,    0],\n",
       "       [ 418,    0]], dtype=int64)"
      ]
     },
     "execution_count": 19,
     "metadata": {},
     "output_type": "execute_result"
    }
   ],
   "source": [
    "#Accuracy doesn't tell the whole picture, especially since the yes response is rare. Need better metrics\n",
    "#Confusion Matrix\n",
    "\n",
    "#Need set of predictions to compare to actual responses\n",
    "y_train_predictions = cross_val_predict(log_reg,X_train,y_train,cv=3)\n",
    "\n",
    "#Create confusion Matrix\n",
    "confusion_matrix(y_train, y_train_predictions)\n"
   ]
  },
  {
   "cell_type": "markdown",
   "metadata": {},
   "source": [
    "This model is useless with te default threshold of 0.5 because it classifies everything as no. Need to adjust the treshold in making predicitons."
   ]
  },
  {
   "cell_type": "code",
   "execution_count": 20,
   "metadata": {},
   "outputs": [
    {
     "data": {
      "image/png": "[encoded data removed]",
      "text/plain": [
       "<Figure size 576x288 with 1 Axes>"
      ]
     },
     "metadata": {
      "needs_background": "light"
     },
     "output_type": "display_data"
    },
    {
     "data": {
      "image/png": "[encoded data removed]",
      "text/plain": [
       "<Figure size 576x432 with 1 Axes>"
      ]
     },
     "metadata": {
      "needs_background": "light"
     },
     "output_type": "display_data"
    }
   ],
   "source": [
    "#We build a Precision-Recall Curve to get an idea of what is going on. It shows that these are only defined for a value lower\n",
    "#than 0.2, with no value resulting in very high precision.\n",
    "\n",
    "#Need to use threshold scores to evaluate precision, recall, and ROC.\n",
    "#We will calculate the score using the positive classe's probability as the score\n",
    "\n",
    "y_scores_log = cross_val_predict(log_reg, X_train, y_train, cv=3,method='predict_proba')[:,1]\n",
    "\n",
    "#We then cacluate the precision and recall across all possible thresholds\n",
    "precisions_log, recalls_log, thresholds_log = precision_recall_curve(y_train, y_scores_log)\n",
    "\n",
    "#First we plot Precision and Recall as Functions of the Threshold\n",
    "plt.figure(figsize=(8, 4))\n",
    "plot_precision_recall_vs_threshold(precisions_log, recalls_log, thresholds_log)\n",
    "plt.xlim([0, 1])\n",
    "plt.show()\n",
    "\n",
    "#And we plot the Precision-Recall curve\n",
    "plt.figure(figsize=(8, 6))\n",
    "plot_precision_vs_recall(precisions_log, recalls_log)\n",
    "plt.show()"
   ]
  },
  {
   "cell_type": "code",
   "execution_count": 21,
   "metadata": {},
   "outputs": [
    {
     "data": {
      "image/png": "[encoded data removed]",
      "text/plain": [
       "<Figure size 576x432 with 1 Axes>"
      ]
     },
     "metadata": {
      "needs_background": "light"
     },
     "output_type": "display_data"
    }
   ],
   "source": [
    "#We also plot the ROC curve to get an idea of the best we can do\n",
    "\n",
    "#First we compute TPR and FPR for various threshold values\n",
    "\n",
    "fpr_log, tpr_log, thresholds_log = roc_curve(y_train,y_scores_log)\n",
    "\n",
    "plt.figure(figsize=(8, 6))\n",
    "plot_roc_curve(fpr_log, tpr_log)\n",
    "plt.show()"
   ]
  },
  {
   "cell_type": "code",
   "execution_count": 22,
   "metadata": {},
   "outputs": [
    {
     "name": "stdout",
     "output_type": "stream",
     "text": [
      "[0.5, 0.5, 0.4996873045653533, 0.5007271290968339, 0.5030648641046588, 0.5339910410513748, 0.5662772187162431, 0.5994940019330262, 0.5995957401605668, 0.5993847829534608, 0.5979776534975508, 0.5975086103455809, 0.5809649272422058, 0.5609269848679348, 0.5457829504684447, 0.5466664272826018, 0.5467681655101424, 0.5400377329132143, 0.5339798199233372, 0.5284455595752129, 0.527976516423243, 0.5276638209885963, 0.5151485228507051, 0.5145231319814119, 0.505181916927745]\n",
      "\n",
      "The best threshold to maximize ROC (to 4 digits) AUC is:  0.1096 \n",
      "With an AUC of :  0.5996\n"
     ]
    }
   ],
   "source": [
    "# Need to create predictions based on a different threshold. Since we are using AUC to evalaute the models,\n",
    "# we want to find the threshold that maximizes this value.\n",
    "\n",
    "#To find best threshold we use this code to create a list of the AUC across the various thresholds from the ROC curve:\n",
    "roc_auc_log_ls = []\n",
    "for thres in thresholds_log:\n",
    "    y_pred_new_thresholds = np.where(y_scores_log>thres,1,0)\n",
    "    roc_auc_log_ls.append(roc_auc_score(y_train,y_pred_new_thresholds))\n",
    "    \n",
    "print(roc_auc_log_ls)\n",
    "\n",
    "#We then find the threshold with the max ROC AUC\n",
    "max_auc_log = np.max(roc_auc_log_ls) \n",
    "best_threshold_log = thresholds_log[np.argmax(roc_auc_log_ls)]\n",
    "\n",
    "print('\\nThe best threshold to maximize ROC (to 4 digits) AUC is: ', round(best_threshold_log,4),\n",
    "     '\\nWith an AUC of : ',round(max_auc_log,4))\n"
   ]
  },
  {
   "cell_type": "code",
   "execution_count": 23,
   "metadata": {},
   "outputs": [
    {
     "name": "stdout",
     "output_type": "stream",
     "text": [
      "Confusion Matrix :\n",
      " [[2083 1115]\n",
      " [ 189  229]]\n",
      "Precision score :  0.1704\n",
      "Recall score:  0.5478\n",
      "F1 score:  0.2599\n",
      "ROC AUC score:  0.5996\n"
     ]
    }
   ],
   "source": [
    "#Finally we, re-evalute the confusion Matrix and also calculate the Precision, Recall, AUC Score, and F1 Score\n",
    "#Using the threshold calculated above to get the predicted values for the training set\n",
    "\n",
    "y_train_pred_best_threshold_log = (y_scores_log > best_threshold_log)\n",
    "\n",
    "log_confusionmatrix = confusion_matrix(y_train, y_train_pred_best_threshold_log)\n",
    "log_precision = precision_score(y_train, y_train_pred_best_threshold_log)\n",
    "log_recall = recall_score(y_train, y_train_pred_best_threshold_log)\n",
    "log_f1 = f1_score(y_train, y_train_pred_best_threshold_log) \n",
    "log_auc = roc_auc_score(y_train, y_train_pred_best_threshold_log )\n",
    "\n",
    "print('Confusion Matrix :\\n', log_confusionmatrix)\n",
    "print('Precision score : ',round(log_precision,4))\n",
    "print('Recall score: ', round(log_recall,4))\n",
    "print('F1 score: ', round(log_f1,4))\n",
    "print('ROC AUC score: ', round(log_auc,4))"
   ]
  },
  {
   "cell_type": "markdown",
   "metadata": {},
   "source": [
    "### 4.3b | Naive Bayes"
   ]
  },
  {
   "cell_type": "code",
   "execution_count": 24,
   "metadata": {},
   "outputs": [
    {
     "data": {
      "text/plain": [
       "BernoulliNB(alpha=1.0, binarize=0.0, class_prior=None, fit_prior=True)"
      ]
     },
     "execution_count": 24,
     "metadata": {},
     "output_type": "execute_result"
    }
   ],
   "source": [
    "# We now explore a Bernoulli Naive Bayes model\n",
    "nb_bern = BernoulliNB()\n",
    "\n",
    "#Define our three explanatory variables we are exploring as X, and our response variable as Y\n",
    "X_train = model_data[:,0:3]\n",
    "y_train = model_data[:,3]\n",
    "\n",
    "#Define our logistic regression varaibles\n",
    "nb_bern.fit(X_train, y_train)"
   ]
  },
  {
   "cell_type": "code",
   "execution_count": 25,
   "metadata": {},
   "outputs": [
    {
     "name": "stdout",
     "output_type": "stream",
     "text": [
      "Input Data: =  [1 1 0]\n",
      "Actual Data: response =  1\n",
      "Logistic Regrssion Model Predicition: response =  [0]\n"
     ]
    }
   ],
   "source": [
    "#Check on single test point\n",
    "print('Input Data: = ',model_data[row_check,0:3])\n",
    "print('Actual Data: response = ',model_data[row_check,3])\n",
    "print('Logistic Regrssion Model Predicition: response = ', nb_bern.predict([data_check]))\n",
    "\n",
    "#Model fails to correctly classify this data. Further analysis needed to check overall accuracy"
   ]
  },
  {
   "cell_type": "code",
   "execution_count": 26,
   "metadata": {},
   "outputs": [
    {
     "data": {
      "text/plain": [
       "array([0.88391376, 0.8846473 , 0.8846473 ])"
      ]
     },
     "execution_count": 26,
     "metadata": {},
     "output_type": "execute_result"
    }
   ],
   "source": [
    "from sklearn.model_selection import cross_val_score\n",
    "\n",
    "cross_val_score(nb_bern, X_train, y_train, cv=3, scoring=\"accuracy\")"
   ]
  },
  {
   "cell_type": "code",
   "execution_count": 27,
   "metadata": {},
   "outputs": [
    {
     "data": {
      "text/plain": [
       "array([[3198,    0],\n",
       "       [ 418,    0]], dtype=int64)"
      ]
     },
     "execution_count": 27,
     "metadata": {},
     "output_type": "execute_result"
    }
   ],
   "source": [
    "#Accuracy doesn't tell the whole picture, especially since the yes response is rare. Need better metrics\n",
    "#Confusion Matrix\n",
    "\n",
    "from sklearn.model_selection import cross_val_predict\n",
    "\n",
    "#Need set of predictions to compare to actual responses\n",
    "y_train_predictions = cross_val_predict(nb_bern,X_train,y_train,cv=3)\n",
    "\n",
    "from sklearn.metrics import confusion_matrix\n",
    "\n",
    "#Create confusion Matrix\n",
    "confusion_matrix(y_train, y_train_predictions)\n"
   ]
  },
  {
   "cell_type": "code",
   "execution_count": 28,
   "metadata": {},
   "outputs": [
    {
     "data": {
      "image/png": "[encoded data removed]",
      "text/plain": [
       "<Figure size 576x288 with 1 Axes>"
      ]
     },
     "metadata": {
      "needs_background": "light"
     },
     "output_type": "display_data"
    },
    {
     "data": {
      "image/png": "[encoded data removed]",
      "text/plain": [
       "<Figure size 576x432 with 1 Axes>"
      ]
     },
     "metadata": {
      "needs_background": "light"
     },
     "output_type": "display_data"
    }
   ],
   "source": [
    "#We have the same problem as with the nbistic model and the threshold is too high\n",
    "\n",
    "#We build a Precision-Recall Curve to get an idea of what is going on. It shows that these are only defined for a value lower\n",
    "#than 0.2, with no value resulting in very high precision.\n",
    "\n",
    "#Need to use threshold scores to evaluate precision, recall, and ROC.\n",
    "#We will calculate the score using the positive classe's probability as the score\n",
    "\n",
    "y_scores_nb = cross_val_predict(nb_bern, X_train, y_train, cv=3,method='predict_proba')[:,1]\n",
    "\n",
    "#We then cacluate the precision and recall across all possible thresholds\n",
    "precisions_nb, recalls_nb, thresholds_nb = precision_recall_curve(y_train, y_scores_nb)\n",
    "\n",
    "#First we plot Precision and Recall as Functions of the Threshold\n",
    "plt.figure(figsize=(8, 4))\n",
    "plot_precision_recall_vs_threshold(precisions_nb, recalls_nb, thresholds_nb)\n",
    "plt.xlim([0, 1])\n",
    "plt.show()\n",
    "\n",
    "#And we plot the Precision-Recall curve\n",
    "plt.figure(figsize=(8, 6))\n",
    "plot_precision_vs_recall(precisions_nb, recalls_nb)\n",
    "plt.show()"
   ]
  },
  {
   "cell_type": "code",
   "execution_count": 29,
   "metadata": {},
   "outputs": [
    {
     "data": {
      "image/png": "[encoded data removed]",
      "text/plain": [
       "<Figure size 576x432 with 1 Axes>"
      ]
     },
     "metadata": {
      "needs_background": "light"
     },
     "output_type": "display_data"
    }
   ],
   "source": [
    "#We also plot the ROC curve to get an idea of the best we can do\n",
    "\n",
    "#First we ompute TPR and FPR for various threshold values\n",
    "\n",
    "fpr_nb, tpr_nb, thresholds_nb = roc_curve(y_train,y_scores_nb)\n",
    "\n",
    "plt.figure(figsize=(8, 6))\n",
    "plot_roc_curve(fpr_nb, tpr_nb)\n",
    "plt.show()"
   ]
  },
  {
   "cell_type": "code",
   "execution_count": 30,
   "metadata": {},
   "outputs": [
    {
     "name": "stdout",
     "output_type": "stream",
     "text": [
      "[0.5, 0.5, 0.4996873045653533, 0.5007271290968339, 0.5030648641046588, 0.535351041769527, 0.5662772187162431, 0.5994940019330262, 0.5995957401605668, 0.5993847829534608, 0.5989157398014908, 0.5975086103455809, 0.5809649272422058, 0.5609269848679348, 0.5457829504684447, 0.5458846886959852, 0.5467681655101424, 0.5400377329132143, 0.5339798199233372, 0.5284455595752129, 0.527976516423243, 0.5273511255539497, 0.527038430119303, 0.5145231319814119, 0.505181916927745]\n",
      "\n",
      "The best threshold to maximize ROC (to 4 digits) AUC is:  0.1149 \n",
      "With an AUC of :  0.5996\n"
     ]
    }
   ],
   "source": [
    "# Need to create predictions based on a different threshold. Since we are using AUC to evalaute the models,\n",
    "# we want to find the threshold that maximizes this value.\n",
    "\n",
    "#To find best threshold we use this code to create a list of the AUC across the various thresholds from the ROC curve:\n",
    "roc_auc_nb_ls = []\n",
    "for thres in thresholds_nb:\n",
    "    y_pred_new_thresholds = np.where(y_scores_nb>thres,1,0)\n",
    "    roc_auc_nb_ls.append(roc_auc_score(y_train,y_pred_new_thresholds))\n",
    "    \n",
    "print(roc_auc_nb_ls)\n",
    "\n",
    "#We then find the threshold with the max ROC AUC\n",
    "max_auc_nb = np.max(roc_auc_nb_ls) \n",
    "best_threshold_nb = thresholds_nb[np.argmax(roc_auc_nb_ls)]\n",
    "\n",
    "print('\\nThe best threshold to maximize ROC (to 4 digits) AUC is: ', round(best_threshold_nb,4),\n",
    "     '\\nWith an AUC of : ',round(max_auc_nb,4))\n"
   ]
  },
  {
   "cell_type": "code",
   "execution_count": 31,
   "metadata": {},
   "outputs": [
    {
     "name": "stdout",
     "output_type": "stream",
     "text": [
      "Confusion Matrix :\n",
      " [[2083 1115]\n",
      " [ 189  229]]\n",
      "Precision score :  0.1704\n",
      "Recall score:  0.5478\n",
      "F1 score:  0.2599\n",
      "ROC AUC score:  0.5996\n"
     ]
    }
   ],
   "source": [
    "#Finally we, re-evalute the confusion Matrix and also calculate the Precision, Recall, AUC Score, and F1 Score\n",
    "#Using the threshold calculated above to get the predicted values for the training set\n",
    "\n",
    "y_train_pred_best_threshold_nb = (y_scores_nb > best_threshold_nb)\n",
    "\n",
    "\n",
    "nb_confusionmatrix = confusion_matrix(y_train, y_train_pred_best_threshold_nb)\n",
    "nb_precision = precision_score(y_train, y_train_pred_best_threshold_nb)\n",
    "nb_recall = recall_score(y_train, y_train_pred_best_threshold_nb)\n",
    "nb_f1 = f1_score(y_train, y_train_pred_best_threshold_nb) \n",
    "nb_auc = roc_auc_score(y_train, y_train_pred_best_threshold_nb )\n",
    "\n",
    "print('Confusion Matrix :\\n', nb_confusionmatrix)\n",
    "print('Precision score : ',round(nb_precision,4))\n",
    "print('Recall score: ', round(nb_recall,4))\n",
    "print('F1 score: ', round(nb_f1,4))\n",
    "print('ROC AUC score: ', round(nb_auc,4))"
   ]
  },
  {
   "cell_type": "markdown",
   "metadata": {},
   "source": [
    "### 4.3c | Comparison and Selection"
   ]
  },
  {
   "cell_type": "code",
   "execution_count": 32,
   "metadata": {},
   "outputs": [
    {
     "name": "stdout",
     "output_type": "stream",
     "text": [
      "                    Model Type  ROC_AUC_SCORE   TNR   FPR  FNR  TPR  \\\n",
      "0    Logistic_Regression_Model       0.599596  2083  1115  189  229   \n",
      "1  Naive_Bayes_Bernoulli_Model       0.599596  2083  1115  189  229   \n",
      "\n",
      "   PRECISION_SCORE  RECALL_SCORE  F1_SCORE  \n",
      "0         0.170387      0.547847  0.259932  \n",
      "1         0.170387      0.547847  0.259932  \n"
     ]
    }
   ],
   "source": [
    "comparisondata = [\n",
    "    ['Logistic_Regression_Model',log_auc, log_confusionmatrix[0,0], log_confusionmatrix[0,1], log_confusionmatrix[1,0], \n",
    "    log_confusionmatrix[1,1], log_precision, log_recall, log_f1],\n",
    "     ['Naive_Bayes_Bernoulli_Model',nb_auc, nb_confusionmatrix[0,0], nb_confusionmatrix[0,1], nb_confusionmatrix[1,0], \n",
    "    nb_confusionmatrix[1,1], nb_precision, nb_recall, nb_f1]]\n",
    "\n",
    "comparisondf = pd.DataFrame(comparisondata, columns=['Model Type','ROC_AUC_SCORE','TNR','FPR','FNR','TPR','PRECISION_SCORE','RECALL_SCORE','F1_SCORE'])\n",
    "\n",
    "print(comparisondf)"
   ]
  },
  {
   "cell_type": "code",
   "execution_count": 33,
   "metadata": {},
   "outputs": [
    {
     "data": {
      "image/png": "[encoded data removed]",
      "text/plain": [
       "<Figure size 576x432 with 1 Axes>"
      ]
     },
     "metadata": {
      "needs_background": "light"
     },
     "output_type": "display_data"
    }
   ],
   "source": [
    "plt.figure(figsize=(8, 6))\n",
    "plt.plot(fpr_log, tpr_log, \"b:\", linewidth=2, label=\"Logistic Regression\")\n",
    "plot_roc_curve(fpr_nb, tpr_nb, \"Naive Bayes\")\n",
    "plt.legend(loc=\"lower right\", fontsize=16)\n",
    "plt.show()"
   ]
  },
  {
   "cell_type": "markdown",
   "metadata": {},
   "source": [
    "The two models, with their best threshold, are extremely similar in all evaluators using cross-validation on a training set. Both models have fairl low precision, but can do better than random. The Naive Bayes model performs slightly better, with a greater ROC_AUC score and greater Recall which are the two most important factors in identifying customers."
   ]
  },
  {
   "cell_type": "markdown",
   "metadata": {},
   "source": [
    "## 4.4 | Run Model on Test Data"
   ]
  },
  {
   "cell_type": "code",
   "execution_count": 34,
   "metadata": {},
   "outputs": [
    {
     "name": "stdout",
     "output_type": "stream",
     "text": [
      "Confusion Matrix :\n",
      " [[2065 1133]\n",
      " [ 188  230]]\n",
      "Precision score :  0.1687\n",
      "Recall score:  0.5502\n",
      "F1 score:  0.2583\n",
      "ROC AUC score:  0.598\n"
     ]
    }
   ],
   "source": [
    "#Finally, we see how well the two models perform on the Test Data to see if anything changes from the cross-validation analysis:\n",
    "model_data_test = np.array([np.array(bank_test['default']), np.array(bank_test['housing']), np.array(bank_test['loan']), \n",
    "    np.array(bank_test['response'])]).T\n",
    "\n",
    "X_test = model_data[:,0:3]\n",
    "y_test = model_data[:,3]\n",
    "\n",
    "y_scores_log_test = log_reg.predict_proba(X_test)[:,1]\n",
    "\n",
    "#Finally we, re-evalute the confusion Matrix and also calculate the Precision, Recall, AUC Score, and F1 Score\n",
    "#Using the threshold calculated above to get the predicted values for the test set\n",
    "\n",
    "y_test_pred_best_threshold_log = (y_scores_log_test > best_threshold_log)\n",
    "\n",
    "log_test_confusionmatrix = confusion_matrix(y_test, y_test_pred_best_threshold_log)\n",
    "log_test_precision = precision_score(y_test, y_test_pred_best_threshold_log)\n",
    "log_test_recall = recall_score(y_test, y_test_pred_best_threshold_log)\n",
    "log_test_f1 = f1_score(y_test, y_test_pred_best_threshold_log) \n",
    "log_test_auc = roc_auc_score(y_test, y_test_pred_best_threshold_log )\n",
    "\n",
    "print('Confusion Matrix :\\n', log_test_confusionmatrix)\n",
    "print('Precision score : ',round(log_test_precision,4))\n",
    "print('Recall score: ', round(log_test_recall,4))\n",
    "print('F1 score: ', round(log_test_f1,4))\n",
    "print('ROC AUC score: ', round(log_test_auc,4))"
   ]
  },
  {
   "cell_type": "code",
   "execution_count": 35,
   "metadata": {},
   "outputs": [
    {
     "name": "stdout",
     "output_type": "stream",
     "text": [
      "Confusion Matrix :\n",
      " [[2090 1108]\n",
      " [ 190  228]]\n",
      "Precision score :  0.1707\n",
      "Recall score:  0.5455\n",
      "F1 score:  0.26\n",
      "ROC AUC score:  0.5995\n"
     ]
    }
   ],
   "source": [
    "y_scores_nb_test = nb_bern.predict_proba(X_test)[:,1]\n",
    "\n",
    "#Finally we, re-evalute the confusion Matrix and also calculate the Precision, Recall, AUC Score, and F1 Score\n",
    "#Using the threshold calculated above to get the predicted values for the test set\n",
    "\n",
    "y_test_pred_best_threshold_nb = (y_scores_nb_test > best_threshold_nb)\n",
    "\n",
    "nb_test_confusionmatrix = confusion_matrix(y_test, y_test_pred_best_threshold_nb)\n",
    "nb_test_precision = precision_score(y_test, y_test_pred_best_threshold_nb)\n",
    "nb_test_recall = recall_score(y_test, y_test_pred_best_threshold_nb)\n",
    "nb_test_f1 = f1_score(y_test, y_test_pred_best_threshold_nb) \n",
    "nb_test_auc = roc_auc_score(y_test, y_test_pred_best_threshold_nb )\n",
    "\n",
    "print('Confusion Matrix :\\n', nb_test_confusionmatrix)\n",
    "print('Precision score : ',round(nb_test_precision,4))\n",
    "print('Recall score: ', round(nb_test_recall,4))\n",
    "print('F1 score: ', round(nb_test_f1,4))\n",
    "print('ROC AUC score: ', round(nb_test_auc,4))"
   ]
  },
  {
   "cell_type": "markdown",
   "metadata": {},
   "source": [
    "Both models perform about as well on the test data as on the training data so the results appear to be valid."
   ]
  },
  {
   "cell_type": "markdown",
   "metadata": {},
   "source": [
    "## 4.5 Summary of Customers to Target"
   ]
  },
  {
   "cell_type": "code",
   "execution_count": 37,
   "metadata": {},
   "outputs": [
    {
     "name": "stdout",
     "output_type": "stream",
     "text": [
      "\n",
      "Default value counts ---\n",
      "[[   0 1321]\n",
      " [   1   15]]\n",
      "\n",
      "Housing value counts ---\n",
      "[[   0 1336]]\n",
      "\n",
      "Loan value counts ---\n",
      "[[   0 1336]]\n"
     ]
    },
    {
     "data": {
      "image/png": "[encoded data removed]",
      "text/plain": [
       "<Figure size 432x288 with 1 Axes>"
      ]
     },
     "metadata": {
      "needs_background": "light"
     },
     "output_type": "display_data"
    }
   ],
   "source": [
    "#Using the test data, we graph what the customers look like for our three variables. In the future, the analysis should \n",
    "#be expanded to include mroe of teh available data\n",
    "\n",
    "target_customers = X_test[np.where(y_test_pred_best_threshold_nb==1)]\n",
    "\n",
    "#Display value counts and plot histograms of the three explanotry variables\n",
    "\n",
    "#Default\n",
    "uniquedefault, countsdefault = np.unique(target_customers[:,0], return_counts=True)\n",
    "print('\\nDefault value counts ---')\n",
    "print (np.asarray((uniquedefault, countsdefault)).T)\n",
    "\n",
    "\n",
    "#Housing\n",
    "uniquehousing, countshousing = np.unique(target_customers[:,1], return_counts=True)\n",
    "print('\\nHousing value counts ---')\n",
    "print (np.asarray((uniquehousing, countshousing)).T)\n",
    "\n",
    "#Loan\n",
    "uniqueloan, countsloan = np.unique(target_customers[:,2], return_counts=True)\n",
    "print('\\nLoan value counts ---')\n",
    "print (np.asarray((uniqueloan, countsloan)).T)\n",
    "\n",
    "# data to plot - no 1 values for housing and loan\n",
    "n_groups = 3\n",
    "counts_no = (countsdefault[0], countshousing[0], countsloan[0])\n",
    "counts_yes = (countsdefault[1], 0, 0)\n",
    " \n",
    "# create plot\n",
    "fig, ax = plt.subplots()\n",
    "index = np.arange(n_groups)\n",
    "bar_width = 0.35\n",
    "opacity = 0.8\n",
    " \n",
    "rects1 = plt.bar(index, counts_no, bar_width,\n",
    "alpha=opacity,\n",
    "color='b',\n",
    "label='No')\n",
    " \n",
    "rects2 = plt.bar(index + bar_width, counts_yes, bar_width,\n",
    "alpha=opacity,\n",
    "color='g',\n",
    "label='Yes')\n",
    " \n",
    "plt.xlabel('Variable')\n",
    "plt.ylabel('Count')\n",
    "plt.title('Yes/No Counts per Variable')\n",
    "plt.xticks(index + bar_width, ('Default', 'Housing', 'Loan', 'Response'))\n",
    "plt.legend()\n",
    " \n",
    "plt.tight_layout()\n",
    "plt.show()\n"
   ]
  },
  {
   "cell_type": "code",
   "execution_count": 38,
   "metadata": {},
   "outputs": [
    {
     "name": "stdout",
     "output_type": "stream",
     "text": [
      "\n",
      "Default value counts ---\n",
      "[[   0 2230]\n",
      " [   1   50]]\n",
      "\n",
      "Housing value counts ---\n",
      "[[   0  235]\n",
      " [   1 2045]]\n",
      "\n",
      "Loan value counts ---\n",
      "[[   0 1716]\n",
      " [   1  564]]\n"
     ]
    },
    {
     "data": {
      "image/png": "[encoded data removed]",
      "text/plain": [
       "<Figure size 432x288 with 1 Axes>"
      ]
     },
     "metadata": {
      "needs_background": "light"
     },
     "output_type": "display_data"
    }
   ],
   "source": [
    "#Using the test data, we graph what the customers look like for our three variables. In the future, the analysis should \n",
    "#be expanded to include mroe of teh available data\n",
    "\n",
    "not_target_customers = X_test[np.where(y_test_pred_best_threshold_nb==0)]\n",
    "\n",
    "#Display value counts and plot histograms of the three explanotry variables\n",
    "\n",
    "#Default\n",
    "uniquedefault, countsdefault = np.unique(not_target_customers[:,0], return_counts=True)\n",
    "print('\\nDefault value counts ---')\n",
    "print (np.asarray((uniquedefault, countsdefault)).T)\n",
    "#histdefault = \n",
    "\n",
    "#Housing\n",
    "uniquehousing, countshousing = np.unique(not_target_customers[:,1], return_counts=True)\n",
    "print('\\nHousing value counts ---')\n",
    "print (np.asarray((uniquehousing, countshousing)).T)\n",
    "\n",
    "#Loan\n",
    "uniqueloan, countsloan = np.unique(not_target_customers[:,2], return_counts=True)\n",
    "print('\\nLoan value counts ---')\n",
    "print (np.asarray((uniqueloan, countsloan)).T)\n",
    "\n",
    "# data to plot\n",
    "n_groups = 3\n",
    "counts_no = (countsdefault[0], countshousing[0], countsloan[0])\n",
    "counts_yes = (countsdefault[1], countshousing[1], countsloan[1])\n",
    " \n",
    "# create plot\n",
    "fig, ax = plt.subplots()\n",
    "index = np.arange(n_groups)\n",
    "bar_width = 0.35\n",
    "opacity = 0.8\n",
    " \n",
    "rects1 = plt.bar(index, counts_no, bar_width,\n",
    "alpha=opacity,\n",
    "color='b',\n",
    "label='No')\n",
    " \n",
    "rects2 = plt.bar(index + bar_width, counts_yes, bar_width,\n",
    "alpha=opacity,\n",
    "color='g',\n",
    "label='Yes')\n",
    " \n",
    "plt.xlabel('Variable')\n",
    "plt.ylabel('Count')\n",
    "plt.title('Yes/No Counts per Variable')\n",
    "plt.xticks(index + bar_width, ('Default', 'Housing', 'Loan', 'Response'))\n",
    "plt.legend()\n",
    " \n",
    "plt.tight_layout()\n",
    "plt.show()\n"
   ]
  },
  {
   "cell_type": "markdown",
   "metadata": {},
   "source": [
    "The biggest difference apepars that customers without a housing and personal loan are more likely to respond yes."
   ]
  }
 ],
 "metadata": {
  "kernelspec": {
   "display_name": "Python 3",
   "language": "python",
   "name": "python3"
  },
  "language_info": {
   "codemirror_mode": {
    "name": "ipython",
    "version": 3
   },
   "file_extension": ".py",
   "mimetype": "text/x-python",
   "name": "python",
   "nbconvert_exporter": "python",
   "pygments_lexer": "ipython3",
   "version": "3.7.0"
  }
 },
 "nbformat": 4,
 "nbformat_minor": 2
}
