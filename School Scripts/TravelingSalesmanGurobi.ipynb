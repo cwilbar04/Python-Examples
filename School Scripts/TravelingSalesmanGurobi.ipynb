{
 "cells": [
  {
   "cell_type": "markdown",
   "metadata": {},
   "source": [
    "Christopher Wilbar   \n",
    "MSDS_460-DL_SEC59   \n",
    "Homework #3"
   ]
  },
  {
   "cell_type": "code",
   "execution_count": 1,
   "metadata": {},
   "outputs": [],
   "source": [
    "#Import needed packages\n",
    "import numpy as np\n",
    "import pandas as pd\n",
    "import itertools\n",
    "from gurobipy import *"
   ]
  },
  {
   "cell_type": "markdown",
   "metadata": {},
   "source": [
    "# Problem 3"
   ]
  },
  {
   "cell_type": "markdown",
   "metadata": {},
   "source": [
    "I have modified the example tsp code found on gurobi examples here:   \n",
    "https://www.gurobi.com/documentation/8.1/examples/tsp_py.html\n",
    "\n",
    "#Copyright 2019, Gurobi Optimization, LLC\n",
    "\n",
    "The strucutre is the same. The code has been modified to reflect a non-symmetric tsp problem, requiring the following changes:   \n",
    "1. subtourelim function modified to create new lazy constratints based on permutations instead of combinations\n",
    "2. Created dictonary of fixed \"distances\" which here refelct surgery times instead of generating random distances between points\n",
    "3. constraints modified to sum each row and each column to 1 instead of edges for each node to 2\n",
    "4. added constraint to insure that each diagonal (i,i) is 0"
   ]
  },
  {
   "cell_type": "code",
   "execution_count": 2,
   "metadata": {},
   "outputs": [],
   "source": [
    "# Callback - use lazy constraints to eliminate sub-tours\n",
    "\n",
    "def subtourelim(model, where):\n",
    "    if where == GRB.Callback.MIPSOL:\n",
    "        # make a list of edges selected in the solution\n",
    "        vals = model.cbGetSolution(model._vars)\n",
    "        selected = tuplelist((i,j) for i,j in model._vars.keys() if vals[i,j] > 0.5)\n",
    "        # find the shortest cycle in the selected edge list\n",
    "        tour = subtour(selected)\n",
    "        if len(tour) < n:\n",
    "            # add subtour elimination constraint for every pair of cities in tour\n",
    "            model.cbLazy(quicksum(model._vars[i,j]\n",
    "                                  for i,j in itertools.permutations(tour, 2)) <= len(tour)-1)"
   ]
  },
  {
   "cell_type": "code",
   "execution_count": 3,
   "metadata": {},
   "outputs": [],
   "source": [
    "# Given a tuplelist of edges, find the shortest subtour\n",
    "\n",
    "def subtour(edges):\n",
    "    unvisited = list(range(n))\n",
    "    cycle = range(n+1) # initial length has 1 more city\n",
    "    while unvisited: # true if list is non-empty\n",
    "        thiscycle = []\n",
    "        neighbors = unvisited\n",
    "        while neighbors:\n",
    "            current = neighbors[0]\n",
    "            thiscycle.append(current)\n",
    "            unvisited.remove(current)\n",
    "            neighbors = [j for i,j in edges.select(current,'*') if j in unvisited]\n",
    "        if len(cycle) > len(thiscycle):\n",
    "            cycle = thiscycle\n",
    "    return cycle"
   ]
  },
  {
   "cell_type": "markdown",
   "metadata": {},
   "source": [
    "## 3.1 | 5 Patients"
   ]
  },
  {
   "cell_type": "code",
   "execution_count": 4,
   "metadata": {},
   "outputs": [],
   "source": [
    "#Define dictonary for surgery length times\n",
    "sijvalues = [[0,20,15,8,6],[15,0,18,9,28],[24,23,0,13,13],[15,27,8,0,14],[8,17,24,15,0]]\n",
    "\n",
    "sijvaluesdf = pd.DataFrame(sijvalues)\n",
    "\n",
    "n = sijvaluesdf.shape[1]\n",
    "\n",
    "sij = {(i,j) : sijvaluesdf.iloc[i,j]\n",
    "        for i in range(n) for j in range(n)}"
   ]
  },
  {
   "cell_type": "code",
   "execution_count": 5,
   "metadata": {},
   "outputs": [
    {
     "name": "stdout",
     "output_type": "stream",
     "text": [
      "Academic license - for non-commercial use only\n"
     ]
    }
   ],
   "source": [
    "#Initialize model\n",
    "m = Model(\"surgery\")"
   ]
  },
  {
   "cell_type": "code",
   "execution_count": 6,
   "metadata": {},
   "outputs": [],
   "source": [
    "#Create Variables. Define variables as binary\n",
    "vars = m.addVars(sij.keys(), obj=sij, vtype=GRB.BINARY, name='x')"
   ]
  },
  {
   "cell_type": "code",
   "execution_count": 7,
   "metadata": {},
   "outputs": [
    {
     "data": {
      "text/plain": [
       "{0: <gurobi.Constr *Awaiting Model Update*>,\n",
       " 1: <gurobi.Constr *Awaiting Model Update*>,\n",
       " 2: <gurobi.Constr *Awaiting Model Update*>,\n",
       " 3: <gurobi.Constr *Awaiting Model Update*>,\n",
       " 4: <gurobi.Constr *Awaiting Model Update*>}"
      ]
     },
     "execution_count": 7,
     "metadata": {},
     "output_type": "execute_result"
    }
   ],
   "source": [
    "#Define Constraints\n",
    "#For every surgery j only one unique surgery i can immediately proceed j.\n",
    "m.addConstrs(vars.sum(i,'*') == 1 for i in range(n))\n",
    "\n",
    "#For every surgery i only one unique surgery j can immediately follow i.\n",
    "m.addConstrs(vars.sum('*',j) == 1 for j in range(n))\n",
    "\n",
    "#Exclude the self-loop decision variables (xii) by fixing the diagonal elements of X to equal zero.\n",
    "m.addConstrs(vars.sum(i,i) == 0 for i in range(n))"
   ]
  },
  {
   "cell_type": "code",
   "execution_count": 8,
   "metadata": {},
   "outputs": [
    {
     "name": "stdout",
     "output_type": "stream",
     "text": [
      "Changed value of parameter lazyConstraints to 1\n",
      "   Prev: 0  Min: 0  Max: 1  Default: 0\n",
      "Optimize a model with 15 rows, 25 columns and 55 nonzeros\n",
      "Variable types: 0 continuous, 25 integer (25 binary)\n",
      "Coefficient statistics:\n",
      "  Matrix range     [1e+00, 1e+00]\n",
      "  Objective range  [6e+00, 3e+01]\n",
      "  Bounds range     [1e+00, 1e+00]\n",
      "  RHS range        [1e+00, 1e+00]\n",
      "Found heuristic solution: objective 91.0000000\n",
      "Presolve removed 5 rows and 5 columns\n",
      "Presolve time: 0.00s\n",
      "Presolved: 10 rows, 20 columns, 40 nonzeros\n",
      "Variable types: 0 continuous, 20 integer (20 binary)\n",
      "\n",
      "Root relaxation: objective 5.400000e+01, 8 iterations, 0.00 seconds\n",
      "\n",
      "    Nodes    |    Current Node    |     Objective Bounds      |     Work\n",
      " Expl Unexpl |  Obj  Depth IntInf | Incumbent    BestBd   Gap | It/Node Time\n",
      "\n",
      "     0     0   57.50000    0    8   91.00000   57.50000  36.8%     -    0s\n",
      "H    0     0                      61.0000000   57.50000  5.74%     -    0s\n",
      "*    0     0               0      58.0000000   58.00000  0.00%     -    0s\n",
      "\n",
      "Cutting planes:\n",
      "  Gomory: 1\n",
      "  Lazy constraints: 2\n",
      "\n",
      "Explored 1 nodes (11 simplex iterations) in 0.06 seconds\n",
      "Thread count was 4 (of 4 available processors)\n",
      "\n",
      "Solution count 3: 58 61 91 \n",
      "\n",
      "Optimal solution found (tolerance 1.00e-04)\n",
      "Best objective 5.800000000000e+01, best bound 5.800000000000e+01, gap 0.0000%\n"
     ]
    }
   ],
   "source": [
    "# Optimize model\n",
    "m._vars = vars\n",
    "m.Params.lazyConstraints = 1\n",
    "m.optimize(subtourelim)\n",
    "\n",
    "vals = m.getAttr('x', vars)\n",
    "selected = tuplelist((i,j) for i,j in vals.keys() if vals[i,j] > 0.5)\n",
    "\n",
    "tour = subtour(selected)\n",
    "assert len(tour) == n"
   ]
  },
  {
   "cell_type": "code",
   "execution_count": 9,
   "metadata": {},
   "outputs": [
    {
     "name": "stdout",
     "output_type": "stream",
     "text": [
      "\n",
      "Optimal Schedule: [1, 2, 4, 3, 5]\n",
      "Minimal Time: 58 minutes\n",
      "\n"
     ]
    }
   ],
   "source": [
    "# Store results for 5 patient version and output\n",
    "#\"Rename by adding One to get to the list in problem that starts at 1\"\n",
    "tour5 = [x+1 for x in tour]\n",
    "objVal5 = m.objVal\n",
    "\n",
    "print('')\n",
    "print('Optimal Schedule: %s' % str(tour5))\n",
    "print('Minimal Time: %g' % objVal5, 'minutes')\n",
    "print('')"
   ]
  },
  {
   "cell_type": "markdown",
   "metadata": {},
   "source": [
    "## 3.2 | 10 Patients "
   ]
  },
  {
   "cell_type": "code",
   "execution_count": 10,
   "metadata": {},
   "outputs": [],
   "source": [
    "#Define dictonary for surgery length times\n",
    "sijvalues = [\n",
    "[0,9,12,26,11,24,12,13,17,15],\n",
    "[24,0,28,23,22,5,7,18,9,23],\n",
    "[19,30,0,30,15,22,25,15,28,15],\n",
    "[18,10,27,0,28,12,16,19,22,7],\n",
    "[5,16,11,7,0,25,27,30,23,15],\n",
    "[7,26,6,17,6,0,28,20,13,28],\n",
    "[23,26,20,20,24,30,0,16,18,27],\n",
    "[23,20,22,8,18,10,14,0,14,12],\n",
    "[7,13,9,19,29,27,18,23,0,30],\n",
    "[16,10,11,11,28,26,6,11,12,0]\n",
    "]\n",
    "\n",
    "sijvaluesdf = pd.DataFrame(sijvalues)\n",
    "\n",
    "n = sijvaluesdf.shape[1]\n",
    "\n",
    "sij = {(i,j) : sijvaluesdf.iloc[i,j]\n",
    "        for i in range(n) for j in range(n)}"
   ]
  },
  {
   "cell_type": "code",
   "execution_count": 11,
   "metadata": {},
   "outputs": [],
   "source": [
    "#Initialize model\n",
    "m = Model(\"surgery\")"
   ]
  },
  {
   "cell_type": "code",
   "execution_count": 12,
   "metadata": {},
   "outputs": [],
   "source": [
    "#Create Variables. Define variables as binary\n",
    "vars = m.addVars(sij.keys(), obj=sij, vtype=GRB.BINARY, name='x')"
   ]
  },
  {
   "cell_type": "code",
   "execution_count": 13,
   "metadata": {},
   "outputs": [
    {
     "data": {
      "text/plain": [
       "{0: <gurobi.Constr *Awaiting Model Update*>,\n",
       " 1: <gurobi.Constr *Awaiting Model Update*>,\n",
       " 2: <gurobi.Constr *Awaiting Model Update*>,\n",
       " 3: <gurobi.Constr *Awaiting Model Update*>,\n",
       " 4: <gurobi.Constr *Awaiting Model Update*>,\n",
       " 5: <gurobi.Constr *Awaiting Model Update*>,\n",
       " 6: <gurobi.Constr *Awaiting Model Update*>,\n",
       " 7: <gurobi.Constr *Awaiting Model Update*>,\n",
       " 8: <gurobi.Constr *Awaiting Model Update*>,\n",
       " 9: <gurobi.Constr *Awaiting Model Update*>}"
      ]
     },
     "execution_count": 13,
     "metadata": {},
     "output_type": "execute_result"
    }
   ],
   "source": [
    "#Define Constraints\n",
    "#For every surgery j only one unique surgery i can immediately proceed j.\n",
    "m.addConstrs(vars.sum(i,'*') == 1 for i in range(n))\n",
    "\n",
    "#For every surgery i only one unique surgery j can immediately follow i.\n",
    "m.addConstrs(vars.sum('*',j) == 1 for j in range(n))\n",
    "\n",
    "#Exclude the self-loop decision variables (xii) by fixing the diagonal elements of X to equal zero.\n",
    "m.addConstrs(vars.sum(i,i) == 0 for i in range(n))"
   ]
  },
  {
   "cell_type": "code",
   "execution_count": 14,
   "metadata": {},
   "outputs": [
    {
     "name": "stdout",
     "output_type": "stream",
     "text": [
      "Changed value of parameter lazyConstraints to 1\n",
      "   Prev: 0  Min: 0  Max: 1  Default: 0\n",
      "Optimize a model with 30 rows, 100 columns and 210 nonzeros\n",
      "Variable types: 0 continuous, 100 integer (100 binary)\n",
      "Coefficient statistics:\n",
      "  Matrix range     [1e+00, 1e+00]\n",
      "  Objective range  [5e+00, 3e+01]\n",
      "  Bounds range     [1e+00, 1e+00]\n",
      "  RHS range        [1e+00, 1e+00]\n",
      "Presolve removed 10 rows and 10 columns\n",
      "Presolve time: 0.00s\n",
      "Presolved: 20 rows, 90 columns, 180 nonzeros\n",
      "Variable types: 0 continuous, 90 integer (90 binary)\n",
      "\n",
      "Root relaxation: objective 8.800000e+01, 15 iterations, 0.00 seconds\n",
      "\n",
      "    Nodes    |    Current Node    |     Objective Bounds      |     Work\n",
      " Expl Unexpl |  Obj  Depth IntInf | Incumbent    BestBd   Gap | It/Node Time\n",
      "\n",
      "     0     0   89.33333    0   14          -   89.33333      -     -    0s\n",
      "H    0     0                      95.0000000   89.33333  5.96%     -    0s\n",
      "H    0     0                      92.0000000   89.33333  2.90%     -    0s\n",
      "     0     0     cutoff    0        92.00000   92.00000  0.00%     -    0s\n",
      "\n",
      "Cutting planes:\n",
      "  Gomory: 1\n",
      "  Lazy constraints: 3\n",
      "\n",
      "Explored 1 nodes (25 simplex iterations) in 0.06 seconds\n",
      "Thread count was 4 (of 4 available processors)\n",
      "\n",
      "Solution count 2: 92 95 \n",
      "\n",
      "Optimal solution found (tolerance 1.00e-04)\n",
      "Best objective 9.200000000000e+01, best bound 9.200000000000e+01, gap 0.0000%\n"
     ]
    }
   ],
   "source": [
    "# Optimize model\n",
    "m._vars = vars\n",
    "m.Params.lazyConstraints = 1\n",
    "m.optimize(subtourelim)\n",
    "\n",
    "vals = m.getAttr('x', vars)\n",
    "selected = tuplelist((i,j) for i,j in vals.keys() if vals[i,j] > 0.5)\n",
    "\n",
    "tour = subtour(selected)\n",
    "assert len(tour) == n"
   ]
  },
  {
   "cell_type": "code",
   "execution_count": 15,
   "metadata": {},
   "outputs": [
    {
     "name": "stdout",
     "output_type": "stream",
     "text": [
      "\n",
      "Optimal Schedule: [1, 2, 6, 5, 3, 8, 4, 10, 7, 9]\n",
      "Minimal Time: 92 minutes\n",
      "\n"
     ]
    }
   ],
   "source": [
    "# Store results for 5 patient version and output\n",
    "#\"Rename by adding One to get to the list in problem that starts at 1\"\n",
    "tour10 = [x+1 for x in tour]\n",
    "objVal10 = m.objVal\n",
    "\n",
    "print('')\n",
    "print('Optimal Schedule: %s' % str(tour10))\n",
    "print('Minimal Time: %g' % objVal10, 'minutes')\n",
    "print('')"
   ]
  },
  {
   "cell_type": "markdown",
   "metadata": {},
   "source": [
    "## 3.3 | 15 Patients "
   ]
  },
  {
   "cell_type": "code",
   "execution_count": 16,
   "metadata": {},
   "outputs": [],
   "source": [
    "#Define dictonary for surgery length times\n",
    "sijvalues = [\n",
    "[0,15,27,7,19,7,22,26,29,6,5,18,30,11,25],\n",
    "[24,0,9,23,21,15,25,8,8,9,16,26,22,8,16],\n",
    "[22,5,0,28,14,22,30,7,22,26,8,5,25,22,14],\n",
    "[6,20,13,0,23,17,5,17,11,15,30,30,26,21,26],\n",
    "[27,18,19,17,0,29,18,26,12,22,16,17,14,24,10],\n",
    "[8,29,21,8,14,0,6,27,25,14,22,13,14,7,9],\n",
    "[24,24,5,25,16,27,0,24,8,24,12,15,26,29,28],\n",
    "[16,23,10,13,6,9,15,0,14,12,9,21,14,17,23],\n",
    "[5,23,26,18,21,12,28,29,0,8,6,27,23,11,10],\n",
    "[18,18,17,7,7,8,12,13,28,0,20,5,27,25,29],\n",
    "[10,18,28,26,24,15,17,21,25,25,0,30,16,15,20],\n",
    "[28,15,17,6,28,30,17,23,14,22,6,0,27,19,28],\n",
    "[10,19,27,25,17,28,18,25,8,25,13,17,0,7,28],\n",
    "[12,10,25,26,22,7,20,18,16,25,19,24,19,0,16],\n",
    "[11,28,13,22,10,21,23,24,19,23,19,16,19,19,0]\n",
    "]\n",
    "\n",
    "sijvaluesdf = pd.DataFrame(sijvalues)\n",
    "\n",
    "n = sijvaluesdf.shape[1]\n",
    "\n",
    "sij = {(i,j) : sijvaluesdf.iloc[i,j]\n",
    "        for i in range(n) for j in range(n)}"
   ]
  },
  {
   "cell_type": "code",
   "execution_count": 17,
   "metadata": {},
   "outputs": [],
   "source": [
    "#Initialize model\n",
    "m = Model(\"surgery\")"
   ]
  },
  {
   "cell_type": "code",
   "execution_count": 18,
   "metadata": {},
   "outputs": [],
   "source": [
    "#Create Variables. Define variables as binary\n",
    "vars = m.addVars(sij.keys(), obj=sij, vtype=GRB.BINARY, name='x')"
   ]
  },
  {
   "cell_type": "code",
   "execution_count": 19,
   "metadata": {},
   "outputs": [
    {
     "data": {
      "text/plain": [
       "{0: <gurobi.Constr *Awaiting Model Update*>,\n",
       " 1: <gurobi.Constr *Awaiting Model Update*>,\n",
       " 2: <gurobi.Constr *Awaiting Model Update*>,\n",
       " 3: <gurobi.Constr *Awaiting Model Update*>,\n",
       " 4: <gurobi.Constr *Awaiting Model Update*>,\n",
       " 5: <gurobi.Constr *Awaiting Model Update*>,\n",
       " 6: <gurobi.Constr *Awaiting Model Update*>,\n",
       " 7: <gurobi.Constr *Awaiting Model Update*>,\n",
       " 8: <gurobi.Constr *Awaiting Model Update*>,\n",
       " 9: <gurobi.Constr *Awaiting Model Update*>,\n",
       " 10: <gurobi.Constr *Awaiting Model Update*>,\n",
       " 11: <gurobi.Constr *Awaiting Model Update*>,\n",
       " 12: <gurobi.Constr *Awaiting Model Update*>,\n",
       " 13: <gurobi.Constr *Awaiting Model Update*>,\n",
       " 14: <gurobi.Constr *Awaiting Model Update*>}"
      ]
     },
     "execution_count": 19,
     "metadata": {},
     "output_type": "execute_result"
    }
   ],
   "source": [
    "#Define Constraints\n",
    "#For every surgery j only one unique surgery i can immediately proceed j.\n",
    "m.addConstrs(vars.sum(i,'*') == 1 for i in range(n))\n",
    "\n",
    "#For every surgery i only one unique surgery j can immediately follow i.\n",
    "m.addConstrs(vars.sum('*',j) == 1 for j in range(n))\n",
    "\n",
    "#Exclude the self-loop decision variables (xii) by fixing the diagonal elements of X to equal zero.\n",
    "m.addConstrs(vars.sum(i,i) == 0 for i in range(n))"
   ]
  },
  {
   "cell_type": "code",
   "execution_count": 20,
   "metadata": {},
   "outputs": [
    {
     "name": "stdout",
     "output_type": "stream",
     "text": [
      "Changed value of parameter lazyConstraints to 1\n",
      "   Prev: 0  Min: 0  Max: 1  Default: 0\n",
      "Optimize a model with 45 rows, 225 columns and 465 nonzeros\n",
      "Variable types: 0 continuous, 225 integer (225 binary)\n",
      "Coefficient statistics:\n",
      "  Matrix range     [1e+00, 1e+00]\n",
      "  Objective range  [5e+00, 3e+01]\n",
      "  Bounds range     [1e+00, 1e+00]\n",
      "  RHS range        [1e+00, 1e+00]\n",
      "Presolve removed 15 rows and 15 columns\n",
      "Presolve time: 0.00s\n",
      "Presolved: 30 rows, 210 columns, 420 nonzeros\n",
      "Variable types: 0 continuous, 210 integer (210 binary)\n",
      "\n",
      "Root relaxation: objective 1.110000e+02, 23 iterations, 0.00 seconds\n",
      "\n",
      "    Nodes    |    Current Node    |     Objective Bounds      |     Work\n",
      " Expl Unexpl |  Obj  Depth IntInf | Incumbent    BestBd   Gap | It/Node Time\n",
      "\n",
      "*    0     0               0     114.0000000  114.00000  0.00%     -    0s\n",
      "\n",
      "Cutting planes:\n",
      "  Lazy constraints: 3\n",
      "\n",
      "Explored 0 nodes (28 simplex iterations) in 0.05 seconds\n",
      "Thread count was 4 (of 4 available processors)\n",
      "\n",
      "Solution count 1: 114 \n",
      "\n",
      "Optimal solution found (tolerance 1.00e-04)\n",
      "Best objective 1.140000000000e+02, best bound 1.140000000000e+02, gap 0.0000%\n"
     ]
    }
   ],
   "source": [
    "# Optimize model\n",
    "m._vars = vars\n",
    "m.Params.lazyConstraints = 1\n",
    "m.optimize(subtourelim)\n",
    "\n",
    "vals = m.getAttr('x', vars)\n",
    "selected = tuplelist((i,j) for i,j in vals.keys() if vals[i,j] > 0.5)\n",
    "\n",
    "tour = subtour(selected)\n",
    "assert len(tour) == n"
   ]
  },
  {
   "cell_type": "code",
   "execution_count": 21,
   "metadata": {},
   "outputs": [
    {
     "name": "stdout",
     "output_type": "stream",
     "text": [
      "\n",
      "Optimal Schedule: [1, 10, 12, 4, 7, 3, 2, 8, 5, 9, 11, 13, 14, 6, 15]\n",
      "Minimal Time: 114 minutes\n",
      "\n"
     ]
    }
   ],
   "source": [
    "# Store results for 5 patient version and output\n",
    "#\"Rename\" by adding One to get to the list in problem that starts at 1\n",
    "tour15 = [x+1 for x in tour]\n",
    "objVal15 = m.objVal\n",
    "\n",
    "print('')\n",
    "print('Optimal Schedule: %s' % str(tour15))\n",
    "print('Minimal Time: %g' % objVal15, 'minutes')\n",
    "print('')"
   ]
  },
  {
   "cell_type": "markdown",
   "metadata": {},
   "source": [
    "# Extra Credit"
   ]
  },
  {
   "cell_type": "code",
   "execution_count": null,
   "metadata": {},
   "outputs": [],
   "source": [
    "# I know there must be a more elegant way but was struggling so decided to just type everything out explicitly"
   ]
  },
  {
   "cell_type": "code",
   "execution_count": 22,
   "metadata": {},
   "outputs": [],
   "source": [
    "#Demand for each type of board (5,4,3)\n",
    "Demand = [60,60,90]"
   ]
  },
  {
   "cell_type": "code",
   "execution_count": 23,
   "metadata": {},
   "outputs": [],
   "source": [
    "#Matrix for Cuts per arrangment\n",
    "Cuts5 = [2,1,1,0,0,0]\n",
    "Cuts4 = [0,1,0,2,1,0]\n",
    "Cuts3 = [0,0,2,0,2,3]"
   ]
  },
  {
   "cell_type": "code",
   "execution_count": 24,
   "metadata": {},
   "outputs": [],
   "source": [
    "# Initialize Model\n",
    "m = Model(\"Boards\")"
   ]
  },
  {
   "cell_type": "code",
   "execution_count": 25,
   "metadata": {},
   "outputs": [],
   "source": [
    "#Define Variables\n",
    "x1 = m.addVar(lb=0, vtype = 'I', name = \"arrangement1\")\n",
    "x2 = m.addVar(lb=0, vtype = 'I', name = \"arrangement2\")\n",
    "x3 = m.addVar(lb=0, vtype = 'I', name = \"arrangement3\")\n",
    "x4 = m.addVar(lb=0, vtype = 'I', name = \"arrangement4\")\n",
    "x5 = m.addVar(lb=0, vtype = 'I', name = \"arrangement5\")\n",
    "x6 = m.addVar(lb=0, vtype = 'I', name = \"arrangement6\")"
   ]
  },
  {
   "cell_type": "code",
   "execution_count": 26,
   "metadata": {},
   "outputs": [],
   "source": [
    "# Define Objective Function\n",
    "m.setObjective(x1+x2+x3+x4+x5+x6, GRB.MINIMIZE)"
   ]
  },
  {
   "cell_type": "code",
   "execution_count": 27,
   "metadata": {},
   "outputs": [
    {
     "data": {
      "text/plain": [
       "<gurobi.Constr *Awaiting Model Update*>"
      ]
     },
     "execution_count": 27,
     "metadata": {},
     "output_type": "execute_result"
    }
   ],
   "source": [
    "#Add Constraints\n",
    "m.addConstr(Cuts5[0]*x1 + Cuts5[1]*x2+ Cuts5[2]*x3+ Cuts5[3]*x4+ Cuts5[4]*x5+ Cuts5[5]*x6 >= Demand[0])\n",
    "m.addConstr(Cuts4[0]*x1 + Cuts4[1]*x2+ Cuts4[2]*x3+ Cuts4[3]*x4+ Cuts4[4]*x5+ Cuts4[5]*x6 >= Demand[1])\n",
    "m.addConstr(Cuts3[0]*x1 + Cuts3[1]*x2+ Cuts3[2]*x3+ Cuts3[3]*x4+ Cuts3[4]*x5+ Cuts3[5]*x6 >= Demand[2])"
   ]
  },
  {
   "cell_type": "code",
   "execution_count": 28,
   "metadata": {},
   "outputs": [
    {
     "name": "stdout",
     "output_type": "stream",
     "text": [
      "Optimize a model with 3 rows, 6 columns and 9 nonzeros\n",
      "Variable types: 0 continuous, 6 integer (0 binary)\n",
      "Coefficient statistics:\n",
      "  Matrix range     [1e+00, 3e+00]\n",
      "  Objective range  [1e+00, 1e+00]\n",
      "  Bounds range     [0e+00, 0e+00]\n",
      "  RHS range        [6e+01, 9e+01]\n",
      "Found heuristic solution: objective 120.0000000\n",
      "Presolve time: 0.00s\n",
      "Presolved: 3 rows, 6 columns, 9 nonzeros\n",
      "Variable types: 0 continuous, 6 integer (0 binary)\n",
      "\n",
      "Root relaxation: objective 8.250000e+01, 4 iterations, 0.00 seconds\n",
      "\n",
      "    Nodes    |    Current Node    |     Objective Bounds      |     Work\n",
      " Expl Unexpl |  Obj  Depth IntInf | Incumbent    BestBd   Gap | It/Node Time\n",
      "\n",
      "     0     0   82.50000    0    1  120.00000   82.50000  31.3%     -    0s\n",
      "H    0     0                      83.0000000   82.50000  0.60%     -    0s\n",
      "\n",
      "Explored 1 nodes (4 simplex iterations) in 0.04 seconds\n",
      "Thread count was 4 (of 4 available processors)\n",
      "\n",
      "Solution count 2: 83 120 \n",
      "\n",
      "Optimal solution found (tolerance 1.00e-04)\n",
      "Best objective 8.300000000000e+01, best bound 8.300000000000e+01, gap 0.0000%\n"
     ]
    }
   ],
   "source": [
    "#Solve\n",
    "m.optimize()"
   ]
  },
  {
   "cell_type": "code",
   "execution_count": 29,
   "metadata": {
    "scrolled": true
   },
   "outputs": [
    {
     "name": "stdout",
     "output_type": "stream",
     "text": [
      "arrangement1 30\n",
      "arrangement2 -0\n",
      "arrangement3 0\n",
      "arrangement4 8\n",
      "arrangement5 45\n",
      "arrangement6 -0\n",
      "Minimum Boards: 83\n"
     ]
    }
   ],
   "source": [
    "#Print Results\n",
    "for v in m.getVars():\n",
    "    print('%s %g' % (v.varName, v.x))\n",
    "\n",
    "print('Minimum Boards: %g' % m.objVal)"
   ]
  }
 ],
 "metadata": {
  "kernelspec": {
   "display_name": "Python 3",
   "language": "python",
   "name": "python3"
  },
  "language_info": {
   "codemirror_mode": {
    "name": "ipython",
    "version": 3
   },
   "file_extension": ".py",
   "mimetype": "text/x-python",
   "name": "python",
   "nbconvert_exporter": "python",
   "pygments_lexer": "ipython3",
   "version": "3.7.0"
  }
 },
 "nbformat": 4,
 "nbformat_minor": 2
}
